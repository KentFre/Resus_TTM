{
 "cells": [
  {
   "cell_type": "markdown",
   "metadata": {},
   "source": [
    "# Machine Learning Model with Combined Time-Series and Tabular Data\n",
    "\n",
    "## Introduction\n",
    "\n",
    "This notebook presents the development of a machine learning model that integrates two types of patient data: time-series data and static tabular data. Time-series data, such as Mean Heart Rate (Mean_HR), Heart Rate Variability (SDNN_HRV), and the HF/LF ratio, provides a sequence of values over time, capturing trends and temporal dependencies that can be indicative of patient health status. On the other hand, tabular data, which includes demographic and static health information such as age, gender, and other vital signs, provides crucial context and background for each patient.\n",
    "\n",
    "By combining these data types, we aim to create a robust model that leverages the temporal patterns in time-series data while simultaneously drawing insights from the static features in tabular data. This multi-input approach allows the model to better capture the nuances of patient health and potentially improve prediction accuracy for clinical outcomes.\n",
    "\n",
    "The steps outlined in this notebook include data loading and preprocessing, model architecture design, and model training and evaluation. The use of a unique patient identification (patient ID) enables the seamless linking of tabular and time-series data, ensuring that each patient's information is properly aligned across datasets. The resulting model is designed to predict patient outcomes by integrating the complementary insights provided by both data types.\n"
   ]
  },
  {
   "cell_type": "code",
   "execution_count": 1,
   "metadata": {},
   "outputs": [],
   "source": [
    "# Data manipulation\n",
    "import pandas as pd\n",
    "import numpy as np\n",
    "\n",
    "# Data visualization\n",
    "import matplotlib.pyplot as plt\n",
    "import seaborn as sns\n",
    "\n",
    "# Machine learning and time-series preprocessing\n",
    "from sklearn.model_selection import train_test_split\n",
    "from sklearn.preprocessing import StandardScaler, OneHotEncoder\n",
    "from sklearn.compose import ColumnTransformer\n",
    "from sklearn.pipeline import Pipeline\n",
    "from sklearn.impute import SimpleImputer\n",
    "\n",
    "# TensorFlow / Keras (for deep learning model)\n",
    "import tensorflow as tf\n",
    "from tensorflow.keras.models import Model\n",
    "from tensorflow.keras.layers import Input, Dense, LSTM, Masking, Concatenate\n",
    "\n",
    "# Metrics and evaluation\n",
    "from sklearn.metrics import accuracy_score, f1_score, roc_auc_score, classification_report\n",
    "\n",
    "# Other utilities\n",
    "import os  # For handling file paths\n",
    "from datetime import datetime  # For handling time data"
   ]
  }
 ],
 "metadata": {
  "kernelspec": {
   "display_name": "env_ttm",
   "language": "python",
   "name": "python3"
  },
  "language_info": {
   "codemirror_mode": {
    "name": "ipython",
    "version": 3
   },
   "file_extension": ".py",
   "mimetype": "text/x-python",
   "name": "python",
   "nbconvert_exporter": "python",
   "pygments_lexer": "ipython3",
   "version": "3.12.0"
  }
 },
 "nbformat": 4,
 "nbformat_minor": 2
}
