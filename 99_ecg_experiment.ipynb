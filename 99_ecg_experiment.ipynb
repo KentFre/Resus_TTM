{
 "cells": [
  {
   "cell_type": "code",
   "execution_count": 1,
   "metadata": {},
   "outputs": [],
   "source": [
    "# Use wfdb to access the PhysioNet Data\n",
    "import wfdb\n",
    "import wfdb.processing\n",
    "import plotly.graph_objs as go\n",
    "import plotly.offline as pyo\n",
    "import numpy as np\n",
    "\n",
    "# Use the signal for filters\n",
    "from scipy.signal import butter, filtfilt"
   ]
  },
  {
   "cell_type": "code",
   "execution_count": 16,
   "metadata": {},
   "outputs": [],
   "source": [
    "# Load both the header (.hea) and the signal data (.mat) using wfdb\n",
    "record = wfdb.rdrecord('0610_012_025_ECG')"
   ]
  },
  {
   "cell_type": "code",
   "execution_count": 17,
   "metadata": {},
   "outputs": [
    {
     "name": "stdout",
     "output_type": "stream",
     "text": [
      "Record Name: 0610_012_025_ECG\n",
      "Sampling Frequency: 250\n",
      "Signal Length (samples): 900000\n",
      "Number of Signals (channels): 1\n",
      "Signal Names: ['ECG']\n",
      "Signal Units: ['nu']\n",
      "Signal Data Shape: (900000,)\n"
     ]
    }
   ],
   "source": [
    "# Print the contents of the header file\n",
    "print(\"Record Name:\", record.record_name)\n",
    "print(\"Sampling Frequency:\", record.fs)\n",
    "print(\"Signal Length (samples):\", record.sig_len)\n",
    "print(\"Number of Signals (channels):\", record.n_sig)\n",
    "print(\"Signal Names:\", record.sig_name)\n",
    "print(\"Signal Units:\", record.units)\n",
    "\n",
    "# Access the signal data (numpy array)\n",
    "ecg_signal_data = record.p_signal.flatten()  # Assuming one channel and flatten to 1D\n",
    "\n",
    "# Check the shape of the signal data\n",
    "print(\"Signal Data Shape:\", ecg_signal_data.shape)\n"
   ]
  },
  {
   "cell_type": "code",
   "execution_count": 18,
   "metadata": {},
   "outputs": [],
   "source": [
    "# High-pass filter to remove baseline drift (cutoff frequency = 0.5 Hz)\n",
    "b_high, a_high = butter(1, 0.5 / (250 / 2), btype='high')\n",
    "filtered_signal = filtfilt(b_high, a_high, ecg_signal_data)\n",
    "\n",
    "# Low-pass filter to remove high-frequency noise (cutoff frequency = 50 Hz)\n",
    "b_low, a_low = butter(1, 50 / (250 / 2), btype='low')\n",
    "filtered_signal = filtfilt(b_low, a_low, filtered_signal)"
   ]
  },
  {
   "cell_type": "code",
   "execution_count": 19,
   "metadata": {},
   "outputs": [],
   "source": [
    "r_peaks_indices = wfdb.processing.gqrs_detect(filtered_signal, fs=250)"
   ]
  },
  {
   "cell_type": "code",
   "execution_count": 20,
   "metadata": {},
   "outputs": [],
   "source": [
    "rr_intervals = np.diff(r_peaks_indices) / 250  # Convert RR intervals to seconds\n",
    "heart_rate = 60 / rr_intervals  # Convert to beats per minute\n",
    "average_heart_rate = np.mean(heart_rate)"
   ]
  },
  {
   "cell_type": "code",
   "execution_count": 21,
   "metadata": {},
   "outputs": [
    {
     "data": {
      "text/plain": [
       "array([142.85714286, 131.57894737, 197.36842105, ..., 205.47945205,\n",
       "       118.11023622, 205.47945205])"
      ]
     },
     "execution_count": 21,
     "metadata": {},
     "output_type": "execute_result"
    }
   ],
   "source": [
    "heart_rate"
   ]
  },
  {
   "cell_type": "code",
   "execution_count": 22,
   "metadata": {},
   "outputs": [
    {
     "data": {
      "text/plain": [
       "'scrollable_ecg_with_r_peaks.html'"
      ]
     },
     "execution_count": 22,
     "metadata": {},
     "output_type": "execute_result"
    }
   ],
   "source": [
    "# Create the Plotly plot for the ECG Signal\n",
    "trace_signal = go.Scatter(\n",
    "    y=filtered_signal,\n",
    "    mode='lines',\n",
    "    name='ECG Signal'\n",
    ")\n",
    "\n",
    "# Create the Plotly plot for the R-Peaks\n",
    "r_peaks_y = [filtered_signal[i] for i in r_peaks_indices]  # Get the amplitudes of the R-peaks\n",
    "trace_r_peaks = go.Scatter(\n",
    "    x=r_peaks_indices,\n",
    "    y=r_peaks_y,\n",
    "    mode='markers',\n",
    "    name='R-Peaks',\n",
    "    marker=dict(color='red', size=8, symbol='x')  # Customize the appearance\n",
    ")\n",
    "\n",
    "# Define the layout\n",
    "layout = go.Layout(\n",
    "    title='Scrollable ECG Signal with R-Peaks',\n",
    "    xaxis=dict(\n",
    "        title='Time (samples)',\n",
    "        rangeslider=dict(visible=True),  # Add a range slider to make it scrollable\n",
    "    ),\n",
    "    yaxis=dict(\n",
    "        title='Amplitude',\n",
    "    ),\n",
    "    width=1200,  # Set a wider plot\n",
    "    height=500\n",
    ")\n",
    "\n",
    "# Create the figure and add both traces\n",
    "fig = go.Figure(data=[trace_signal, trace_r_peaks], layout=layout)\n",
    "\n",
    "# Show the plot in an interactive window\n",
    "pyo.plot(fig, filename='scrollable_ecg_with_r_peaks.html')"
   ]
  }
 ],
 "metadata": {
  "kernelspec": {
   "display_name": "env_ttm",
   "language": "python",
   "name": "python3"
  },
  "language_info": {
   "codemirror_mode": {
    "name": "ipython",
    "version": 3
   },
   "file_extension": ".py",
   "mimetype": "text/x-python",
   "name": "python",
   "nbconvert_exporter": "python",
   "pygments_lexer": "ipython3",
   "version": "3.12.0"
  }
 },
 "nbformat": 4,
 "nbformat_minor": 2
}
