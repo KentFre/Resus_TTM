{
 "cells": [
  {
   "cell_type": "code",
   "execution_count": 14,
   "metadata": {},
   "outputs": [],
   "source": [
    "# Use wfdb to access the PhysioNet Data\n",
    "import wfdb\n",
    "import plotly.graph_objs as go\n",
    "import plotly.offline as pyo"
   ]
  },
  {
   "cell_type": "code",
   "execution_count": 11,
   "metadata": {},
   "outputs": [],
   "source": [
    "# Load both the header (.hea) and the signal data (.mat) using wfdb\n",
    "record = wfdb.rdrecord('0284_001_004_ECG')"
   ]
  },
  {
   "cell_type": "code",
   "execution_count": 16,
   "metadata": {},
   "outputs": [
    {
     "name": "stdout",
     "output_type": "stream",
     "text": [
      "Record Name: 0284_001_004_ECG\n",
      "Sampling Frequency: 500\n",
      "Signal Length (samples): 1578500\n",
      "Number of Signals (channels): 1\n",
      "Signal Names: ['ECG']\n",
      "Signal Units: ['nu']\n",
      "Signal Data Shape: (1578500,)\n"
     ]
    }
   ],
   "source": [
    "# Print the contents of the header file\n",
    "print(\"Record Name:\", record.record_name)\n",
    "print(\"Sampling Frequency:\", record.fs)\n",
    "print(\"Signal Length (samples):\", record.sig_len)\n",
    "print(\"Number of Signals (channels):\", record.n_sig)\n",
    "print(\"Signal Names:\", record.sig_name)\n",
    "print(\"Signal Units:\", record.units)\n",
    "\n",
    "# Access the signal data (numpy array)\n",
    "signal_data = record.p_signal.flatten()  # Assuming one channel and flatten to 1D\n",
    "\n",
    "# Check the shape of the signal data\n",
    "print(\"Signal Data Shape:\", signal_data.shape)\n"
   ]
  },
  {
   "cell_type": "code",
   "execution_count": 17,
   "metadata": {},
   "outputs": [
    {
     "data": {
      "text/plain": [
       "'scrollable_ecg_plot.html'"
      ]
     },
     "execution_count": 17,
     "metadata": {},
     "output_type": "execute_result"
    }
   ],
   "source": [
    "# Create the Plotly plot\n",
    "trace = go.Scatter(\n",
    "    y=signal_data,\n",
    "    mode='lines',\n",
    "    name='ECG Signal'\n",
    ")\n",
    "\n",
    "layout = go.Layout(\n",
    "    title='Scrollable ECG Signal',\n",
    "    xaxis=dict(\n",
    "        title='Time (samples)',\n",
    "        rangeslider=dict(visible=True),  # Add a range slider to make it scrollable\n",
    "    ),\n",
    "    yaxis=dict(\n",
    "        title='Amplitude',\n",
    "    ),\n",
    "    width=1200,  # Set a wider plot\n",
    "    height=500\n",
    ")\n",
    "\n",
    "fig = go.Figure(data=[trace], layout=layout)\n",
    "\n",
    "# Show the plot in an interactive window\n",
    "pyo.plot(fig, filename='scrollable_ecg_plot.html')"
   ]
  }
 ],
 "metadata": {
  "kernelspec": {
   "display_name": "env_ttm",
   "language": "python",
   "name": "python3"
  },
  "language_info": {
   "codemirror_mode": {
    "name": "ipython",
    "version": 3
   },
   "file_extension": ".py",
   "mimetype": "text/x-python",
   "name": "python",
   "nbconvert_exporter": "python",
   "pygments_lexer": "ipython3",
   "version": "3.12.0"
  }
 },
 "nbformat": 4,
 "nbformat_minor": 2
}
