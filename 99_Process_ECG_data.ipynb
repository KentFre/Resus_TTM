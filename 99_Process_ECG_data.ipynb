{
 "cells": [
  {
   "cell_type": "code",
   "execution_count": 1,
   "metadata": {},
   "outputs": [],
   "source": [
    "import wfdb\n",
    "from wfdb import processing\n",
    "import pandas as pd\n",
    "import numpy as np\n",
    "import re\n",
    "import os\n",
    "from datetime import timedelta\n",
    "\n",
    "import requests\n",
    "from bs4 import BeautifulSoup\n",
    "\n",
    "import plotly.graph_objs as go\n",
    "import plotly.offline as pyo\n",
    "\n",
    "# Use the signal for filters\n",
    "from scipy.signal import butter, filtfilt, iirnotch\n",
    "\n",
    "\n",
    "import logging\n",
    "logging.basicConfig(level=logging.DEBUG)"
   ]
  },
  {
   "cell_type": "code",
   "execution_count": 2,
   "metadata": {},
   "outputs": [],
   "source": [
    "# Base path to download the patient overview\n",
    "base_url = \"https://physionet.org/content/i-care/2.1/training/\"\n",
    "records_url = base_url + \"RECORDS\"\n",
    "\n",
    "# Base directory path for the PhysioNet database\n",
    "physionet_db_path = \"i-care/2.1/training\"\n",
    "\n",
    "patient_numbers = []"
   ]
  },
  {
   "cell_type": "code",
   "execution_count": 3,
   "metadata": {},
   "outputs": [],
   "source": [
    "destination_folder = \"data\"\n",
    "if not os.path.exists(destination_folder):\n",
    "    os.makedirs(destination_folder)"
   ]
  },
  {
   "cell_type": "code",
   "execution_count": 4,
   "metadata": {},
   "outputs": [
    {
     "name": "stderr",
     "output_type": "stream",
     "text": [
      "DEBUG:urllib3.connectionpool:Starting new HTTPS connection (1): physionet.org:443\n",
      "DEBUG:urllib3.connectionpool:https://physionet.org:443 \"GET /content/i-care/2.1/training/RECORDS HTTP/11\" 200 None\n"
     ]
    }
   ],
   "source": [
    "# Download the RECORDS file to get the list of patient numbers\n",
    "response = requests.get(records_url)\n",
    "if response.status_code == 200:\n",
    "    # The RECORDS file is a plain text file, so split it by lines to get the patient numbers\n",
    "    patient_numbers_html = response.text\n",
    "else:\n",
    "    print(\"Failed to download the RECORDS file.\")"
   ]
  },
  {
   "cell_type": "code",
   "execution_count": 5,
   "metadata": {},
   "outputs": [
    {
     "name": "stdout",
     "output_type": "stream",
     "text": [
      "['0284', '0286', '0296', '0299', '0303', '0306', '0311', '0312', '0313', '0316', '0319', '0320', '0326', '0328', '0332', '0334', '0335', '0337', '0340', '0341', '0342', '0344', '0346', '0347', '0348', '0349', '0350', '0351', '0352', '0353', '0354', '0355', '0356', '0357', '0358', '0359', '0360', '0361', '0362', '0363', '0364', '0365', '0366', '0367', '0368', '0369', '0370', '0371', '0372', '0373', '0375', '0376', '0377', '0378', '0379', '0380', '0382', '0383', '0384', '0385', '0387', '0389', '0390', '0391', '0392', '0394', '0395', '0396', '0397', '0398', '0399', '0400', '0402', '0403', '0404', '0405', '0406', '0407', '0409', '0410', '0411', '0412', '0413', '0414', '0415', '0416', '0417', '0418', '0419', '0420', '0421', '0422', '0423', '0424', '0426', '0427', '0428', '0429', '0430', '0431', '0432', '0433', '0434', '0435', '0436', '0437', '0438', '0439', '0440', '0441', '0442', '0443', '0444', '0445', '0446', '0447', '0448', '0450', '0451', '0452', '0453', '0455', '0456', '0457', '0458', '0459', '0460', '0461', '0462', '0463', '0464', '0465', '0466', '0467', '0468', '0469', '0470', '0471', '0472', '0473', '0474', '0475', '0476', '0477', '0479', '0481', '0482', '0483', '0484', '0485', '0486', '0487', '0490', '0492', '0493', '0495', '0496', '0497', '0498', '0500', '0501', '0502', '0504', '0505', '0506', '0507', '0508', '0510', '0512', '0513', '0514', '0515', '0517', '0518', '0519', '0520', '0521', '0522', '0523', '0525', '0526', '0527', '0529', '0530', '0531', '0532', '0533', '0535', '0536', '0538', '0539', '0540', '0541', '0542', '0543', '0544', '0545', '0546', '0547', '0548', '0549', '0550', '0552', '0553', '0554', '0555', '0556', '0558', '0559', '0560', '0561', '0562', '0563', '0564', '0565', '0566', '0567', '0568', '0569', '0570', '0571', '0573', '0574', '0575', '0576', '0577', '0579', '0580', '0582', '0584', '0585', '0586', '0587', '0588', '0589', '0590', '0591', '0592', '0593', '0595', '0597', '0598', '0600', '0601', '0602', '0604', '0605', '0606', '0607', '0609', '0610', '0611', '0612', '0613', '0614', '0615', '0616', '0617', '0618', '0619', '0621', '0623', '0624', '0625', '0626', '0627', '0628', '0629', '0630', '0631', '0632', '0633', '0634', '0635', '0636', '0637', '0638', '0639', '0641', '0642', '0644', '0645', '0646', '0647', '0648', '0649', '0650', '0651', '0652', '0655', '0656', '0657', '0658', '0660', '0661', '0663', '0665', '0666', '0668', '0669', '0670', '0671', '0672', '0673', '0674', '0675', '0676', '0677', '0678', '0679', '0680', '0681', '0682', '0683', '0684', '0685', '0686', '0688', '0689', '0690', '0691', '0692', '0693', '0694', '0695', '0697', '0699', '0700', '0701', '0702', '0703', '0706', '0707', '0708', '0709', '0710', '0711', '0712', '0713', '0714', '0715', '0716', '0717', '0718', '0719', '0720', '0721', '0722', '0723', '0724', '0725', '0726', '0727', '0728', '0729', '0730', '0731', '0732', '0734', '0736', '0737', '0738', '0739', '0740', '0741', '0742', '0744', '0745', '0746', '0747', '0748', '0749', '0750', '0751', '0752', '0753', '0754', '0755', '0756', '0757', '0758', '0759', '0760', '0761', '0764', '0765', '0766', '0767', '0768', '0769', '0770', '0771', '0772', '0773', '0774', '0775', '0776', '0777', '0778', '0779', '0780', '0781', '0782', '0783', '0784', '0785', '0787', '0788', '0789', '0790', '0792', '0794', '0796', '0797', '0799', '0800', '0801', '0804', '0805', '0806', '0807', '0808', '0809', '0810', '0811', '0812', '0813', '0814', '0816', '0817', '0819', '0820', '0821', '0822', '0823', '0824', '0826', '0827', '0828', '0829', '0830', '0831', '0832', '0833', '0834', '0835', '0837', '0838', '0839', '0840', '0841', '0843', '0844', '0845', '0846', '0847', '0848', '0850', '0851', '0852', '0853', '0854', '0855', '0856', '0857', '0858', '0859', '0860', '0861', '0862', '0864', '0865', '0866', '0867', '0868', '0869', '0870', '0871', '0872', '0873', '0874', '0875', '0876', '0877', '0879', '0880', '0881', '0882', '0883', '0884', '0885', '0886', '0887', '0888', '0889', '0890', '0891', '0892', '0893', '0894', '0895', '0896', '0897', '0898', '0899', '0900', '0901', '0902', '0903', '0904', '0905', '0907', '0908', '0909', '0910', '0911', '0913', '0915', '0916', '0917', '0918', '0919', '0920', '0921', '0922', '0923', '0924', '0925', '0926', '0928', '0929', '0930', '0931', '0932', '0933', '0934', '0935', '0937', '0941', '0942', '0943', '0944', '0945', '0947', '0948', '0950', '0951', '0952', '0953', '0954', '0955', '0957', '0958', '0960', '0961', '0962', '0963', '0964', '0965', '0966', '0967', '0968', '0969', '0970', '0971', '0973', '0974', '0975', '0976', '0977', '0978', '0979', '0980', '0981', '0982', '0984', '0985', '0987', '0988', '0989', '0991', '0993', '0994', '0996', '0997', '0998', '0999', '1000', '1001', '1002', '1003', '1004', '1005', '1006', '1007', '1008', '1009', '1011', '1012', '1013', '1014', '1015', '1016', '1017', '1018', '1019', '1020']\n"
     ]
    }
   ],
   "source": [
    "# Parse the HTML content\n",
    "soup = BeautifulSoup(patient_numbers_html, 'html.parser')\n",
    "\n",
    "# Find the <pre> tag with class \"plain\" and the <code> tag within it\n",
    "code_tag = soup.find('pre', {'class': 'plain'}).find('code')\n",
    "\n",
    "# Extract the content of the <code> tag\n",
    "patient_records = code_tag.text if code_tag else ''\n",
    "\n",
    "# Split the content into individual records (one per line)\n",
    "patient_records_list = patient_records.splitlines()\n",
    "\n",
    "# Clean the list by removing any empty strings\n",
    "patient_records_list = [record.strip() for record in patient_records_list if record.strip()]\n",
    "\n",
    "# Clean up the patient numbers by removing 'training/' and the trailing '/'\n",
    "patient_numbers = [record.split('/')[1] for record in patient_records_list]\n",
    "\n",
    "# Print the cleaned patient numbers to verify\n",
    "print(patient_numbers)"
   ]
  },
  {
   "cell_type": "code",
   "execution_count": 6,
   "metadata": {},
   "outputs": [],
   "source": [
    "# Define the total number of segments (24 hours in 5-minute intervals)\n",
    "total_duration_hours = 24\n",
    "total_segments = (total_duration_hours * 60) // 5\n",
    "\n",
    "# Define the columns by interleaving `Mean_HR` and `HRV_SDNN` columns for each segment\n",
    "columns = [\"Patient_ID\"] + [f\"Segment_{i+1}_Mean_HR\" if j % 2 == 0 else f\"Segment_{i+1}_HRV_SDNN\" for i in range(total_segments) for j in range(2)]\n",
    "final_df = pd.DataFrame(columns=columns)\n",
    "\n"
   ]
  },
  {
   "cell_type": "code",
   "execution_count": 7,
   "metadata": {},
   "outputs": [],
   "source": [
    "def apply_high_low_filter(signal, sampling_rate, utility_freq):\n",
    "    # High-pass filter to remove baseline drift (cutoff frequency = 0.5 Hz)\n",
    "    b_high, a_high = butter(1, 0.5 / (sampling_rate / 2), btype='high')\n",
    "    filtered_signal = filtfilt(b_high, a_high, signal)\n",
    "\n",
    "    # Low-pass filter to remove high-frequency noise (cutoff frequency = 50 Hz)\n",
    "    b_low, a_low = butter(1, 50 / (250 / 2), btype='low')\n",
    "    filtered_signal = filtfilt(b_low, a_low, filtered_signal)\n",
    "\n",
    "    # Notch filter to remove utility frequency noise (e.g., 50 Hz or 60 Hz)\n",
    "    Q = 30.0\n",
    "    b_notch, a_notch = iirnotch(utility_freq, Q, sampling_rate)\n",
    "    filtered_signal = filtfilt(b_notch, a_notch, filtered_signal)\n",
    "\n",
    "    return filtered_signal"
   ]
  },
  {
   "cell_type": "code",
   "execution_count": 8,
   "metadata": {},
   "outputs": [],
   "source": [
    "# Define function to calculate HR and HRV for each 5-minute segment\n",
    "def calculate_hr_hrv(signal, sampling_rate, local_start_time, total_samples):\n",
    "    # Initialize the XQRS detector and detect QRS complexes\n",
    "    xqrs = processing.XQRS(sig=signal, fs=sampling_rate)\n",
    "    xqrs.detect(learn=True, verbose=False)\n",
    "    qrs_indices = np.array(xqrs.qrs_inds)  # Indices of detected R-peaks in sample points\n",
    "\n",
    "    # Convert QRS indices to local time in seconds (relative to recording start)\n",
    "    r_wave_times = qrs_indices / sampling_rate\n",
    "\n",
    "    # Calculate the duration to the next full 5-minute boundary from the local start time\n",
    "    first_segment_duration = timedelta(minutes=5) - timedelta(seconds=local_start_time.total_seconds() % 300)\n",
    "    first_segment_duration_seconds = first_segment_duration.total_seconds()\n",
    "    print(\"First Segment Duration (s):\", first_segment_duration_seconds)\n",
    "\n",
    "    # Calculate the total duration in seconds\n",
    "    total_duration = total_samples / sampling_rate  # in seconds\n",
    "\n",
    "    # Calculate remaining time for full 5-minute segments after the first segment\n",
    "    remaining_time = total_duration - first_segment_duration_seconds\n",
    "    num_segments = int(remaining_time // 300)  # Full 5-minute segments\n",
    "    print(f\"Remaining Time (s): {remaining_time}, Full 5-Minute Segments: {num_segments}\")\n",
    "\n",
    "    # Initialize lists to store HR and HRV values, and the start points for each segment\n",
    "    hr_values = []\n",
    "    hrv_values = []\n",
    "    segment_start_indices = []  # Store start points in sample indices\n",
    "\n",
    "    # Process the shortened first segment using first_segment_duration directly\n",
    "    first_segment_indices = r_wave_times < first_segment_duration_seconds\n",
    "    first_segment_rr_intervals = np.diff(r_wave_times[first_segment_indices]) * 1000  # Convert to milliseconds\n",
    "\n",
    "    # Calculate HR and HRV for the first segment\n",
    "    if len(first_segment_rr_intervals) > 0:\n",
    "        mean_hr = int(round(processing.calc_mean_hr(first_segment_rr_intervals / 1000, rr_units=\"seconds\")))\n",
    "        hrv = int(round(np.std(first_segment_rr_intervals)))\n",
    "    else:\n",
    "        mean_hr = np.nan\n",
    "        hrv = np.nan\n",
    "\n",
    "    # Append results for the first segment and its start index in sample points\n",
    "    hr_values.append(mean_hr)\n",
    "    hrv_values.append(hrv)\n",
    "    # First segment boundary should be the beginning of the recording in samples\n",
    "    first_segment_start_index = 0\n",
    "    segment_start_indices.append(first_segment_start_index)\n",
    "\n",
    "    # Update current_time to the end of the first segment for subsequent segments\n",
    "    current_time = first_segment_duration_seconds\n",
    "\n",
    "    # Process remaining full 5-minute segments based on the relative recording time\n",
    "    for _ in range(num_segments):\n",
    "        # Calculate the segment start index in data points (samples)\n",
    "        segment_start_index = int(current_time * sampling_rate)\n",
    "        segment_start_indices.append(segment_start_index)\n",
    "        \n",
    "        # Define the end of the current 5-minute segment in local recording time\n",
    "        segment_end = current_time + 300  # 5 minutes in seconds\n",
    "\n",
    "        # Select R-wave times within the current 5-minute segment\n",
    "        segment_indices = (r_wave_times >= current_time) & (r_wave_times < segment_end)\n",
    "        selected_r_wave_times = r_wave_times[segment_indices]\n",
    "        segment_rr_intervals = np.diff(selected_r_wave_times) * 1000  # Convert RR intervals to milliseconds\n",
    "\n",
    "        # Calculate HR and HRV if RR intervals are available\n",
    "        if len(segment_rr_intervals) > 0:\n",
    "            mean_hr = int(round(processing.calc_mean_hr(segment_rr_intervals / 1000, rr_units=\"seconds\")))\n",
    "            hrv = int(round(np.std(segment_rr_intervals)))\n",
    "        else:\n",
    "            mean_hr = np.nan\n",
    "            hrv = np.nan\n",
    "\n",
    "        # Append the HR and HRV results for each segment\n",
    "        hr_values.append(mean_hr)\n",
    "        hrv_values.append(hrv)\n",
    "\n",
    "        # Move to the next 5-minute segment\n",
    "        current_time = segment_end\n",
    "\n",
    "    # Return HR, HRV values, QRS indices, and segment start points in sample indices\n",
    "    return hr_values, hrv_values, qrs_indices, segment_start_indices\n"
   ]
  },
  {
   "cell_type": "code",
   "execution_count": 9,
   "metadata": {},
   "outputs": [],
   "source": [
    "def transfer_to_final_structure(patient_id, hr_hrv_df, final_df):\n",
    "    # Create a new row for the patient\n",
    "    row_data = {\"Patient_ID\": patient_id}\n",
    "    \n",
    "    # Populate the row with HR and HRV values for each segment\n",
    "    for i in range(len(hr_hrv_df)):\n",
    "        hr_column = f\"Segment_{i+1}_HR\"\n",
    "        hrv_column = f\"Segment_{i+1}_HRV\"\n",
    "        \n",
    "        row_data[hr_column] = hr_hrv_df.at[i, \"Mean HR (bpm)\"]\n",
    "        row_data[hrv_column] = hr_hrv_df.at[i, \"HRV (SDNN) (ms)\"]\n",
    "    \n",
    "    # Convert row_data dictionary to a DataFrame and concatenate with final_df\n",
    "    new_row_df = pd.DataFrame([row_data])\n",
    "    final_df = pd.concat([final_df, new_row_df], ignore_index=True)\n",
    "    return final_df"
   ]
  },
  {
   "cell_type": "code",
   "execution_count": 10,
   "metadata": {},
   "outputs": [],
   "source": [
    "def get_patient_records(patient_number):\n",
    "    # Construct the full URL to the RECORDS file\n",
    "    file_url = f\"{base_url}/{patient_number}/RECORDS\"\n",
    "\n",
    "    # Fetch the URL content\n",
    "    response = requests.get(file_url)\n",
    "    if response.status_code == 200:\n",
    "        # Parse the content with BeautifulSoup\n",
    "        soup = BeautifulSoup(response.text, 'html.parser')\n",
    "\n",
    "        # Extract the text content of the RECORDS file\n",
    "        patient_records = soup.text  # Plain text response for RECORDS\n",
    "\n",
    "        # Split the content into lines and filter for `_ECG` files with last 3 digits <= 023\n",
    "        ecg_files = [\n",
    "            line for line in patient_records.splitlines()\n",
    "            if line.endswith(\"_ECG\") and int(line.split(\"_\")[-2]) <= 23\n",
    "        ]\n",
    "\n",
    "        return ecg_files\n",
    "    else:\n",
    "        print(f\"Failed to retrieve the file. Status code: {response.status_code}\")"
   ]
  },
  {
   "cell_type": "code",
   "execution_count": null,
   "metadata": {},
   "outputs": [
    {
     "name": "stderr",
     "output_type": "stream",
     "text": [
      "DEBUG:urllib3.connectionpool:Starting new HTTPS connection (1): physionet.org:443\n",
      "DEBUG:urllib3.connectionpool:https://physionet.org:443 \"GET /files/i-care/2.1/training/0284/0284_001_004_ECG.hea HTTP/11\" 200 174\n",
      "INFO:wfdb.io._url:GET https://physionet.org/files/i-care/2.1/training/0284/0284_001_004_ECG.hea: 200 0-174/174\n",
      "DEBUG:urllib3.connectionpool:https://physionet.org:443 \"GET /files/i-care/2.1/training/0284/0284_001_004_ECG.mat HTTP/11\" 206 3157000\n",
      "INFO:wfdb.io._url:GET https://physionet.org/files/i-care/2.1/training/0284/0284_001_004_ECG.mat: 206 24-3157024/3157024\n",
      "DEBUG:urllib3.connectionpool:https://physionet.org:443 \"GET /files/i-care/2.1/training/0284/0284_002_005_ECG.hea HTTP/11\" 200 174\n",
      "INFO:wfdb.io._url:GET https://physionet.org/files/i-care/2.1/training/0284/0284_002_005_ECG.hea: 200 0-174/174\n"
     ]
    },
    {
     "name": "stdout",
     "output_type": "stream",
     "text": [
      "Successfully loaded: 0284_001_004_ECG\n",
      "500\n"
     ]
    },
    {
     "name": "stderr",
     "output_type": "stream",
     "text": [
      "DEBUG:urllib3.connectionpool:https://physionet.org:443 \"GET /files/i-care/2.1/training/0284/0284_002_005_ECG.mat HTTP/11\" 206 3600000\n",
      "INFO:wfdb.io._url:GET https://physionet.org/files/i-care/2.1/training/0284/0284_002_005_ECG.mat: 206 24-3600024/3600024\n"
     ]
    },
    {
     "name": "stdout",
     "output_type": "stream",
     "text": [
      "Successfully loaded: 0284_002_005_ECG\n",
      "500\n"
     ]
    }
   ],
   "source": [
    "# List of ECG files for this patient\n",
    "ecg_files = [\"0284_001_004_ECG\", \"0284_002_005_ECG\"]  # Adjust as needed\n",
    "\n",
    "# Base directory path for the PhysioNet database\n",
    "physionet_db_path = \"i-care/2.1/training\"\n",
    "\n",
    "# Example patient number\n",
    "patient_number = '0284'\n",
    "\n",
    "# Iterate over each ECG file\n",
    "for ecg_file in ecg_files:\n",
    "    # Construct the file's record name (without extension)\n",
    "    record_name = ecg_file\n",
    "    \n",
    "    try:\n",
    "        # Load the record using PhysioNet-specific directory\n",
    "        record = wfdb.rdrecord(record_name, pn_dir=f\"{physionet_db_path}/{patient_number}\")\n",
    "        print(f\"Successfully loaded: {ecg_file}\")\n",
    "    except Exception as e:\n",
    "        print(f\"Failed to load {ecg_file}: {e}\")"
   ]
  },
  {
   "cell_type": "code",
   "execution_count": 12,
   "metadata": {},
   "outputs": [
    {
     "name": "stderr",
     "output_type": "stream",
     "text": [
      "DEBUG:urllib3.connectionpool:Starting new HTTPS connection (1): physionet.org:443\n",
      "DEBUG:urllib3.connectionpool:https://physionet.org:443 \"GET /content/i-care/2.1/training//0284/RECORDS HTTP/11\" 200 None\n",
      "DEBUG:urllib3.connectionpool:https://physionet.org:443 \"GET /files/i-care/2.1/training/0284/0284_001_004_ECG.hea HTTP/11\" 200 174\n",
      "INFO:wfdb.io._url:GET https://physionet.org/files/i-care/2.1/training/0284/0284_001_004_ECG.hea: 200 0-174/174\n",
      "DEBUG:urllib3.connectionpool:https://physionet.org:443 \"GET /files/i-care/2.1/training/0284/0284_001_004_ECG.mat HTTP/11\" 206 3157000\n",
      "INFO:wfdb.io._url:GET https://physionet.org/files/i-care/2.1/training/0284/0284_001_004_ECG.mat: 206 24-3157024/3157024\n"
     ]
    },
    {
     "name": "stdout",
     "output_type": "stream",
     "text": [
      "Successfully loaded: 0284_001_004_ECG\n",
      "500\n"
     ]
    },
    {
     "name": "stderr",
     "output_type": "stream",
     "text": [
      "DEBUG:urllib3.connectionpool:https://physionet.org:443 \"GET /files/i-care/2.1/training/0284/0284_002_005_ECG.hea HTTP/11\" 200 174\n",
      "INFO:wfdb.io._url:GET https://physionet.org/files/i-care/2.1/training/0284/0284_002_005_ECG.hea: 200 0-174/174\n"
     ]
    },
    {
     "name": "stdout",
     "output_type": "stream",
     "text": [
      "First Segment Duration (s): 157.0\n",
      "Remaining Time (s): 3000.0, Full 5-Minute Segments: 10\n",
      "[100, 103, 104, 96, 96, 100, 101, 91, 92, 94, 102] [210, 36, 1, 98, 147, 72, 76, 110, 106, 98, 32]\n"
     ]
    },
    {
     "name": "stderr",
     "output_type": "stream",
     "text": [
      "DEBUG:urllib3.connectionpool:https://physionet.org:443 \"GET /files/i-care/2.1/training/0284/0284_002_005_ECG.mat HTTP/11\" 206 3600000\n",
      "INFO:wfdb.io._url:GET https://physionet.org/files/i-care/2.1/training/0284/0284_002_005_ECG.mat: 206 24-3600024/3600024\n"
     ]
    },
    {
     "name": "stdout",
     "output_type": "stream",
     "text": [
      "Successfully loaded: 0284_002_005_ECG\n",
      "500\n"
     ]
    },
    {
     "name": "stderr",
     "output_type": "stream",
     "text": [
      "DEBUG:urllib3.connectionpool:https://physionet.org:443 \"GET /files/i-care/2.1/training/0284/0284_003_006_ECG.hea HTTP/11\" 200 170\n",
      "INFO:wfdb.io._url:GET https://physionet.org/files/i-care/2.1/training/0284/0284_003_006_ECG.hea: 200 0-170/170\n"
     ]
    },
    {
     "name": "stdout",
     "output_type": "stream",
     "text": [
      "First Segment Duration (s): 300.0\n",
      "Remaining Time (s): 3300.0, Full 5-Minute Segments: 11\n",
      "[103, 103, 102, 102, 102, 102, 102, 102, 101, 101, 101, 101] [10, 22, 56, 26, 35, 18, 1, 31, 26, 2, 22, 10]\n"
     ]
    },
    {
     "name": "stderr",
     "output_type": "stream",
     "text": [
      "DEBUG:urllib3.connectionpool:https://physionet.org:443 \"GET /files/i-care/2.1/training/0284/0284_003_006_ECG.mat HTTP/11\" 206 3600000\n",
      "INFO:wfdb.io._url:GET https://physionet.org/files/i-care/2.1/training/0284/0284_003_006_ECG.mat: 206 24-3600024/3600024\n"
     ]
    },
    {
     "name": "stdout",
     "output_type": "stream",
     "text": [
      "Successfully loaded: 0284_003_006_ECG\n",
      "500\n"
     ]
    },
    {
     "name": "stderr",
     "output_type": "stream",
     "text": [
      "DEBUG:urllib3.connectionpool:https://physionet.org:443 \"GET /files/i-care/2.1/training/0284/0284_004_007_ECG.hea HTTP/11\" 200 171\n",
      "INFO:wfdb.io._url:GET https://physionet.org/files/i-care/2.1/training/0284/0284_004_007_ECG.hea: 200 0-171/171\n"
     ]
    },
    {
     "name": "stdout",
     "output_type": "stream",
     "text": [
      "First Segment Duration (s): 300.0\n",
      "Remaining Time (s): 3300.0, Full 5-Minute Segments: 11\n",
      "[101, 101, 101, 102, 101, 101, 101, 101, 100, 99, 99, 98] [39, 31, 1, 48, 1, 10, 2, 27, 2, 2, 7, 28]\n"
     ]
    },
    {
     "name": "stderr",
     "output_type": "stream",
     "text": [
      "DEBUG:urllib3.connectionpool:https://physionet.org:443 \"GET /files/i-care/2.1/training/0284/0284_004_007_ECG.mat HTTP/11\" 206 3600000\n",
      "INFO:wfdb.io._url:GET https://physionet.org/files/i-care/2.1/training/0284/0284_004_007_ECG.mat: 206 24-3600024/3600024\n"
     ]
    },
    {
     "name": "stdout",
     "output_type": "stream",
     "text": [
      "Successfully loaded: 0284_004_007_ECG\n",
      "500\n"
     ]
    },
    {
     "name": "stderr",
     "output_type": "stream",
     "text": [
      "DEBUG:urllib3.connectionpool:https://physionet.org:443 \"GET /files/i-care/2.1/training/0284/0284_005_008_ECG.hea HTTP/11\" 200 167\n",
      "INFO:wfdb.io._url:GET https://physionet.org/files/i-care/2.1/training/0284/0284_005_008_ECG.hea: 200 0-167/167\n"
     ]
    },
    {
     "name": "stdout",
     "output_type": "stream",
     "text": [
      "First Segment Duration (s): 300.0\n",
      "Remaining Time (s): 3300.0, Full 5-Minute Segments: 11\n",
      "[98, 98, 98, 98, 98, 98, 98, 98, 98, 98, 97, 97] [5, 2, 4, 28, 7, 2, 2, 2, 2, 2, 2, 2]\n"
     ]
    },
    {
     "name": "stderr",
     "output_type": "stream",
     "text": [
      "DEBUG:urllib3.connectionpool:https://physionet.org:443 \"GET /files/i-care/2.1/training/0284/0284_005_008_ECG.mat HTTP/11\" 206 443000\n",
      "INFO:wfdb.io._url:GET https://physionet.org/files/i-care/2.1/training/0284/0284_005_008_ECG.mat: 206 24-443024/443024\n"
     ]
    },
    {
     "name": "stdout",
     "output_type": "stream",
     "text": [
      "Successfully loaded: 0284_005_008_ECG\n",
      "500\n"
     ]
    },
    {
     "name": "stderr",
     "output_type": "stream",
     "text": [
      "DEBUG:urllib3.connectionpool:https://physionet.org:443 \"GET /files/i-care/2.1/training/0284/0284_006_008_ECG.hea HTTP/11\" 200 174\n",
      "INFO:wfdb.io._url:GET https://physionet.org/files/i-care/2.1/training/0284/0284_006_008_ECG.hea: 200 0-174/174\n"
     ]
    },
    {
     "name": "stdout",
     "output_type": "stream",
     "text": [
      "First Segment Duration (s): 300.0\n",
      "Remaining Time (s): 143.0, Full 5-Minute Segments: 0\n",
      "[97] [16]\n"
     ]
    },
    {
     "name": "stderr",
     "output_type": "stream",
     "text": [
      "DEBUG:urllib3.connectionpool:https://physionet.org:443 \"GET /files/i-care/2.1/training/0284/0284_006_008_ECG.mat HTTP/11\" 206 3153000\n",
      "INFO:wfdb.io._url:GET https://physionet.org/files/i-care/2.1/training/0284/0284_006_008_ECG.mat: 206 24-3153024/3153024\n"
     ]
    },
    {
     "name": "stdout",
     "output_type": "stream",
     "text": [
      "Successfully loaded: 0284_006_008_ECG\n",
      "500\n"
     ]
    },
    {
     "name": "stderr",
     "output_type": "stream",
     "text": [
      "DEBUG:urllib3.connectionpool:https://physionet.org:443 \"GET /files/i-care/2.1/training/0284/0284_007_009_ECG.hea HTTP/11\" 200 174\n",
      "INFO:wfdb.io._url:GET https://physionet.org/files/i-care/2.1/training/0284/0284_007_009_ECG.hea: 200 0-174/174\n"
     ]
    },
    {
     "name": "stdout",
     "output_type": "stream",
     "text": [
      "First Segment Duration (s): 153.0\n",
      "Remaining Time (s): 3000.0, Full 5-Minute Segments: 10\n",
      "[96, 97, 97, 97, 97, 97, 97, 97, 97, 97, 97] [119, 1, 2, 2, 2, 2, 2, 2, 2, 2, 2]\n"
     ]
    },
    {
     "name": "stderr",
     "output_type": "stream",
     "text": [
      "DEBUG:urllib3.connectionpool:https://physionet.org:443 \"GET /files/i-care/2.1/training/0284/0284_007_009_ECG.mat HTTP/11\" 206 3600000\n",
      "INFO:wfdb.io._url:GET https://physionet.org/files/i-care/2.1/training/0284/0284_007_009_ECG.mat: 206 24-3600024/3600024\n"
     ]
    },
    {
     "name": "stdout",
     "output_type": "stream",
     "text": [
      "Successfully loaded: 0284_007_009_ECG\n",
      "500\n"
     ]
    },
    {
     "name": "stderr",
     "output_type": "stream",
     "text": [
      "DEBUG:urllib3.connectionpool:https://physionet.org:443 \"GET /files/i-care/2.1/training/0284/0284_008_010_ECG.hea HTTP/11\" 200 173\n",
      "INFO:wfdb.io._url:GET https://physionet.org/files/i-care/2.1/training/0284/0284_008_010_ECG.hea: 200 0-173/173\n"
     ]
    },
    {
     "name": "stdout",
     "output_type": "stream",
     "text": [
      "First Segment Duration (s): 300.0\n",
      "Remaining Time (s): 3300.0, Full 5-Minute Segments: 11\n",
      "[97, 98, 98, 98, 99, 99, 99, 100, 100, 100, 100, 100] [15, 2, 2, 2, 2, 2, 2, 2, 6, 2, 2, 2]\n"
     ]
    },
    {
     "name": "stderr",
     "output_type": "stream",
     "text": [
      "DEBUG:urllib3.connectionpool:https://physionet.org:443 \"GET /files/i-care/2.1/training/0284/0284_008_010_ECG.mat HTTP/11\" 206 3600000\n",
      "INFO:wfdb.io._url:GET https://physionet.org/files/i-care/2.1/training/0284/0284_008_010_ECG.mat: 206 24-3600024/3600024\n"
     ]
    },
    {
     "name": "stdout",
     "output_type": "stream",
     "text": [
      "Successfully loaded: 0284_008_010_ECG\n",
      "500\n"
     ]
    },
    {
     "name": "stderr",
     "output_type": "stream",
     "text": [
      "DEBUG:urllib3.connectionpool:https://physionet.org:443 \"GET /files/i-care/2.1/training/0284/0284_009_011_ECG.hea HTTP/11\" 200 174\n",
      "INFO:wfdb.io._url:GET https://physionet.org/files/i-care/2.1/training/0284/0284_009_011_ECG.hea: 200 0-174/174\n"
     ]
    },
    {
     "name": "stdout",
     "output_type": "stream",
     "text": [
      "First Segment Duration (s): 300.0\n",
      "Remaining Time (s): 3300.0, Full 5-Minute Segments: 11\n",
      "[101, 101, 102, 102, 102, 102, 102, 100, 80, 77, 79, 77] [13, 3, 3, 3, 3, 9, 10, 69, 213, 226, 216, 223]\n"
     ]
    },
    {
     "name": "stderr",
     "output_type": "stream",
     "text": [
      "DEBUG:urllib3.connectionpool:https://physionet.org:443 \"GET /files/i-care/2.1/training/0284/0284_009_011_ECG.mat HTTP/11\" 206 3600000\n",
      "INFO:wfdb.io._url:GET https://physionet.org/files/i-care/2.1/training/0284/0284_009_011_ECG.mat: 206 24-3600024/3600024\n"
     ]
    },
    {
     "name": "stdout",
     "output_type": "stream",
     "text": [
      "Successfully loaded: 0284_009_011_ECG\n",
      "500\n"
     ]
    },
    {
     "name": "stderr",
     "output_type": "stream",
     "text": [
      "DEBUG:urllib3.connectionpool:https://physionet.org:443 \"GET /files/i-care/2.1/training/0284/0284_010_012_ECG.hea HTTP/11\" 200 173\n",
      "INFO:wfdb.io._url:GET https://physionet.org/files/i-care/2.1/training/0284/0284_010_012_ECG.hea: 200 0-173/173\n"
     ]
    },
    {
     "name": "stdout",
     "output_type": "stream",
     "text": [
      "First Segment Duration (s): 300.0\n",
      "Remaining Time (s): 3300.0, Full 5-Minute Segments: 11\n",
      "[77, 81, 63, 66, 66, 66, 65, 65, 66, 66, 66, 67] [224, 210, 253, 242, 234, 228, 225, 219, 223, 237, 245, 254]\n"
     ]
    },
    {
     "name": "stderr",
     "output_type": "stream",
     "text": [
      "DEBUG:urllib3.connectionpool:https://physionet.org:443 \"GET /files/i-care/2.1/training/0284/0284_010_012_ECG.mat HTTP/11\" 206 448000\n",
      "INFO:wfdb.io._url:GET https://physionet.org/files/i-care/2.1/training/0284/0284_010_012_ECG.mat: 206 24-448024/448024\n"
     ]
    },
    {
     "name": "stdout",
     "output_type": "stream",
     "text": [
      "Successfully loaded: 0284_010_012_ECG\n",
      "500\n"
     ]
    },
    {
     "name": "stderr",
     "output_type": "stream",
     "text": [
      "DEBUG:urllib3.connectionpool:https://physionet.org:443 \"GET /files/i-care/2.1/training/0284/0284_011_012_ECG.hea HTTP/11\" 200 172\n",
      "INFO:wfdb.io._url:GET https://physionet.org/files/i-care/2.1/training/0284/0284_011_012_ECG.hea: 200 0-172/172\n"
     ]
    },
    {
     "name": "stdout",
     "output_type": "stream",
     "text": [
      "First Segment Duration (s): 300.0\n",
      "Remaining Time (s): 148.0, Full 5-Minute Segments: 0\n",
      "[67] [255]\n"
     ]
    },
    {
     "name": "stderr",
     "output_type": "stream",
     "text": [
      "DEBUG:urllib3.connectionpool:https://physionet.org:443 \"GET /files/i-care/2.1/training/0284/0284_011_012_ECG.mat HTTP/11\" 206 3150000\n",
      "INFO:wfdb.io._url:GET https://physionet.org/files/i-care/2.1/training/0284/0284_011_012_ECG.mat: 206 24-3150024/3150024\n"
     ]
    },
    {
     "name": "stdout",
     "output_type": "stream",
     "text": [
      "Successfully loaded: 0284_011_012_ECG\n",
      "500\n"
     ]
    },
    {
     "name": "stderr",
     "output_type": "stream",
     "text": [
      "DEBUG:urllib3.connectionpool:https://physionet.org:443 \"GET /files/i-care/2.1/training/0284/0284_012_013_ECG.hea HTTP/11\" 200 171\n",
      "INFO:wfdb.io._url:GET https://physionet.org/files/i-care/2.1/training/0284/0284_012_013_ECG.hea: 200 0-171/171\n"
     ]
    },
    {
     "name": "stdout",
     "output_type": "stream",
     "text": [
      "First Segment Duration (s): 150.0\n",
      "Remaining Time (s): 3000.0, Full 5-Minute Segments: 10\n",
      "[67, 67, 67, 66, 66, 65, 65, 65, 65, 65, 66] [302, 253, 253, 257, 255, 257, 256, 255, 252, 256, 256]\n"
     ]
    },
    {
     "name": "stderr",
     "output_type": "stream",
     "text": [
      "DEBUG:urllib3.connectionpool:https://physionet.org:443 \"GET /files/i-care/2.1/training/0284/0284_012_013_ECG.mat HTTP/11\" 206 3600000\n",
      "INFO:wfdb.io._url:GET https://physionet.org/files/i-care/2.1/training/0284/0284_012_013_ECG.mat: 206 24-3600024/3600024\n"
     ]
    },
    {
     "name": "stdout",
     "output_type": "stream",
     "text": [
      "Successfully loaded: 0284_012_013_ECG\n",
      "500\n"
     ]
    },
    {
     "name": "stderr",
     "output_type": "stream",
     "text": [
      "DEBUG:urllib3.connectionpool:https://physionet.org:443 \"GET /files/i-care/2.1/training/0284/0284_013_014_ECG.hea HTTP/11\" 200 174\n",
      "INFO:wfdb.io._url:GET https://physionet.org/files/i-care/2.1/training/0284/0284_013_014_ECG.hea: 200 0-174/174\n"
     ]
    },
    {
     "name": "stdout",
     "output_type": "stream",
     "text": [
      "First Segment Duration (s): 300.0\n",
      "Remaining Time (s): 3300.0, Full 5-Minute Segments: 11\n",
      "[67, 72, 81, 91, 91, 93, 96, 97, 97, 97, 98, 98] [259, 242, 204, 138, 137, 111, 70, 3, 7, 3, 3, 3]\n"
     ]
    },
    {
     "name": "stderr",
     "output_type": "stream",
     "text": [
      "DEBUG:urllib3.connectionpool:https://physionet.org:443 \"GET /files/i-care/2.1/training/0284/0284_013_014_ECG.mat HTTP/11\" 206 3600000\n",
      "INFO:wfdb.io._url:GET https://physionet.org/files/i-care/2.1/training/0284/0284_013_014_ECG.mat: 206 24-3600024/3600024\n"
     ]
    },
    {
     "name": "stdout",
     "output_type": "stream",
     "text": [
      "Successfully loaded: 0284_013_014_ECG\n",
      "500\n"
     ]
    },
    {
     "name": "stderr",
     "output_type": "stream",
     "text": [
      "DEBUG:urllib3.connectionpool:https://physionet.org:443 \"GET /files/i-care/2.1/training/0284/0284_014_015_ECG.hea HTTP/11\" 200 174\n",
      "INFO:wfdb.io._url:GET https://physionet.org/files/i-care/2.1/training/0284/0284_014_015_ECG.hea: 200 0-174/174\n"
     ]
    },
    {
     "name": "stdout",
     "output_type": "stream",
     "text": [
      "First Segment Duration (s): 300.0\n",
      "Remaining Time (s): 3300.0, Full 5-Minute Segments: 11\n",
      "[98, 98, 99, 99, 100, 100, 101, 101, 102, 102, 102, 103] [8, 3, 3, 3, 21, 11, 15, 21, 25, 31, 33, 33]\n"
     ]
    },
    {
     "name": "stderr",
     "output_type": "stream",
     "text": [
      "DEBUG:urllib3.connectionpool:https://physionet.org:443 \"GET /files/i-care/2.1/training/0284/0284_014_015_ECG.mat HTTP/11\" 206 3600000\n",
      "INFO:wfdb.io._url:GET https://physionet.org/files/i-care/2.1/training/0284/0284_014_015_ECG.mat: 206 24-3600024/3600024\n"
     ]
    },
    {
     "name": "stdout",
     "output_type": "stream",
     "text": [
      "Successfully loaded: 0284_014_015_ECG\n",
      "500\n"
     ]
    },
    {
     "name": "stderr",
     "output_type": "stream",
     "text": [
      "DEBUG:urllib3.connectionpool:https://physionet.org:443 \"GET /files/i-care/2.1/training/0284/0284_015_016_ECG.hea HTTP/11\" 200 171\n",
      "INFO:wfdb.io._url:GET https://physionet.org/files/i-care/2.1/training/0284/0284_015_016_ECG.hea: 200 0-171/171\n"
     ]
    },
    {
     "name": "stdout",
     "output_type": "stream",
     "text": [
      "First Segment Duration (s): 300.0\n",
      "Remaining Time (s): 3300.0, Full 5-Minute Segments: 11\n",
      "[103, 103, 103, 104, 104, 104, 104, 105, 105, 105, 105, 106] [39, 35, 37, 41, 44, 45, 55, 54, 50, 51, 39, 42]\n"
     ]
    },
    {
     "name": "stderr",
     "output_type": "stream",
     "text": [
      "DEBUG:urllib3.connectionpool:https://physionet.org:443 \"GET /files/i-care/2.1/training/0284/0284_015_016_ECG.mat HTTP/11\" 206 451000\n",
      "INFO:wfdb.io._url:GET https://physionet.org/files/i-care/2.1/training/0284/0284_015_016_ECG.mat: 206 24-451024/451024\n"
     ]
    },
    {
     "name": "stdout",
     "output_type": "stream",
     "text": [
      "Successfully loaded: 0284_015_016_ECG\n",
      "500\n",
      "First Segment Duration (s): 300.0\n",
      "Remaining Time (s): 151.0, Full 5-Minute Segments: 0\n",
      "[106] [39]\n"
     ]
    },
    {
     "name": "stderr",
     "output_type": "stream",
     "text": [
      "DEBUG:urllib3.connectionpool:https://physionet.org:443 \"GET /files/i-care/2.1/training/0284/0284_016_016_ECG.hea HTTP/11\" 200 171\n",
      "INFO:wfdb.io._url:GET https://physionet.org/files/i-care/2.1/training/0284/0284_016_016_ECG.hea: 200 0-171/171\n",
      "DEBUG:urllib3.connectionpool:https://physionet.org:443 \"GET /files/i-care/2.1/training/0284/0284_016_016_ECG.mat HTTP/11\" 206 3146000\n",
      "INFO:wfdb.io._url:GET https://physionet.org/files/i-care/2.1/training/0284/0284_016_016_ECG.mat: 206 24-3146024/3146024\n"
     ]
    },
    {
     "name": "stdout",
     "output_type": "stream",
     "text": [
      "Successfully loaded: 0284_016_016_ECG\n",
      "500\n"
     ]
    },
    {
     "name": "stderr",
     "output_type": "stream",
     "text": [
      "DEBUG:urllib3.connectionpool:https://physionet.org:443 \"GET /files/i-care/2.1/training/0284/0284_017_017_ECG.hea HTTP/11\" 200 170\n",
      "INFO:wfdb.io._url:GET https://physionet.org/files/i-care/2.1/training/0284/0284_017_017_ECG.hea: 200 0-170/170\n"
     ]
    },
    {
     "name": "stdout",
     "output_type": "stream",
     "text": [
      "First Segment Duration (s): 146.0\n",
      "Remaining Time (s): 3000.0, Full 5-Minute Segments: 10\n",
      "[104, 105, 105, 105, 105, 105, 105, 105, 105, 105, 104] [142, 4, 9, 8, 4, 10, 4, 4, 5, 4, 3]\n"
     ]
    },
    {
     "name": "stderr",
     "output_type": "stream",
     "text": [
      "DEBUG:urllib3.connectionpool:https://physionet.org:443 \"GET /files/i-care/2.1/training/0284/0284_017_017_ECG.mat HTTP/11\" 206 3600000\n",
      "INFO:wfdb.io._url:GET https://physionet.org/files/i-care/2.1/training/0284/0284_017_017_ECG.mat: 206 24-3600024/3600024\n"
     ]
    },
    {
     "name": "stdout",
     "output_type": "stream",
     "text": [
      "Successfully loaded: 0284_017_017_ECG\n",
      "500\n"
     ]
    },
    {
     "name": "stderr",
     "output_type": "stream",
     "text": [
      "DEBUG:urllib3.connectionpool:https://physionet.org:443 \"GET /files/i-care/2.1/training/0284/0284_018_018_ECG.hea HTTP/11\" 200 172\n",
      "INFO:wfdb.io._url:GET https://physionet.org/files/i-care/2.1/training/0284/0284_018_018_ECG.hea: 200 0-172/172\n"
     ]
    },
    {
     "name": "stdout",
     "output_type": "stream",
     "text": [
      "First Segment Duration (s): 300.0\n",
      "Remaining Time (s): 3300.0, Full 5-Minute Segments: 11\n",
      "[104, 104, 104, 104, 103, 103, 103, 102, 102, 101, 101, 101] [8, 10, 9, 6, 3, 15, 22, 31, 39, 40, 40, 37]\n"
     ]
    },
    {
     "name": "stderr",
     "output_type": "stream",
     "text": [
      "DEBUG:urllib3.connectionpool:https://physionet.org:443 \"GET /files/i-care/2.1/training/0284/0284_018_018_ECG.mat HTTP/11\" 206 3600000\n",
      "INFO:wfdb.io._url:GET https://physionet.org/files/i-care/2.1/training/0284/0284_018_018_ECG.mat: 206 24-3600024/3600024\n"
     ]
    },
    {
     "name": "stdout",
     "output_type": "stream",
     "text": [
      "Successfully loaded: 0284_018_018_ECG\n",
      "500\n"
     ]
    },
    {
     "name": "stderr",
     "output_type": "stream",
     "text": [
      "DEBUG:urllib3.connectionpool:https://physionet.org:443 \"GET /files/i-care/2.1/training/0284/0284_019_019_ECG.hea HTTP/11\" 200 171\n",
      "INFO:wfdb.io._url:GET https://physionet.org/files/i-care/2.1/training/0284/0284_019_019_ECG.hea: 200 0-171/171\n"
     ]
    },
    {
     "name": "stdout",
     "output_type": "stream",
     "text": [
      "First Segment Duration (s): 300.0\n",
      "Remaining Time (s): 3300.0, Full 5-Minute Segments: 11\n",
      "[99, 99, 98, 98, 97, 97, 96, 97, 96, 96, 96, 95] [35, 24, 24, 19, 19, 31, 37, 30, 32, 46, 37, 27]\n"
     ]
    },
    {
     "name": "stderr",
     "output_type": "stream",
     "text": [
      "DEBUG:urllib3.connectionpool:https://physionet.org:443 \"GET /files/i-care/2.1/training/0284/0284_019_019_ECG.mat HTTP/11\" 206 3600000\n",
      "INFO:wfdb.io._url:GET https://physionet.org/files/i-care/2.1/training/0284/0284_019_019_ECG.mat: 206 24-3600024/3600024\n"
     ]
    },
    {
     "name": "stdout",
     "output_type": "stream",
     "text": [
      "Successfully loaded: 0284_019_019_ECG\n",
      "500\n"
     ]
    },
    {
     "name": "stderr",
     "output_type": "stream",
     "text": [
      "DEBUG:urllib3.connectionpool:https://physionet.org:443 \"GET /files/i-care/2.1/training/0284/0284_020_020_ECG.hea HTTP/11\" 200 173\n",
      "INFO:wfdb.io._url:GET https://physionet.org/files/i-care/2.1/training/0284/0284_020_020_ECG.hea: 200 0-173/173\n"
     ]
    },
    {
     "name": "stdout",
     "output_type": "stream",
     "text": [
      "First Segment Duration (s): 300.0\n",
      "Remaining Time (s): 3300.0, Full 5-Minute Segments: 11\n",
      "[96, 96, 62, 56, 56, 57, 57, 60, 62, 62, 61, 62] [28, 2, 383, 299, 312, 335, 306, 302, 248, 241, 267, 260]\n"
     ]
    },
    {
     "name": "stderr",
     "output_type": "stream",
     "text": [
      "DEBUG:urllib3.connectionpool:https://physionet.org:443 \"GET /files/i-care/2.1/training/0284/0284_020_020_ECG.mat HTTP/11\" 206 445000\n",
      "INFO:wfdb.io._url:GET https://physionet.org/files/i-care/2.1/training/0284/0284_020_020_ECG.mat: 206 24-445024/445024\n"
     ]
    },
    {
     "name": "stdout",
     "output_type": "stream",
     "text": [
      "Successfully loaded: 0284_020_020_ECG\n",
      "500\n"
     ]
    },
    {
     "name": "stderr",
     "output_type": "stream",
     "text": [
      "DEBUG:urllib3.connectionpool:https://physionet.org:443 \"GET /files/i-care/2.1/training/0284/0284_021_020_ECG.hea HTTP/11\" 200 174\n",
      "INFO:wfdb.io._url:GET https://physionet.org/files/i-care/2.1/training/0284/0284_021_020_ECG.hea: 200 0-174/174\n"
     ]
    },
    {
     "name": "stdout",
     "output_type": "stream",
     "text": [
      "First Segment Duration (s): 300.0\n",
      "Remaining Time (s): 145.0, Full 5-Minute Segments: 0\n",
      "[62] [257]\n"
     ]
    },
    {
     "name": "stderr",
     "output_type": "stream",
     "text": [
      "DEBUG:urllib3.connectionpool:https://physionet.org:443 \"GET /files/i-care/2.1/training/0284/0284_021_020_ECG.mat HTTP/11\" 206 3142000\n",
      "INFO:wfdb.io._url:GET https://physionet.org/files/i-care/2.1/training/0284/0284_021_020_ECG.mat: 206 24-3142024/3142024\n"
     ]
    },
    {
     "name": "stdout",
     "output_type": "stream",
     "text": [
      "Successfully loaded: 0284_021_020_ECG\n",
      "500\n"
     ]
    },
    {
     "name": "stderr",
     "output_type": "stream",
     "text": [
      "DEBUG:urllib3.connectionpool:https://physionet.org:443 \"GET /files/i-care/2.1/training/0284/0284_022_021_ECG.hea HTTP/11\" 200 178\n",
      "INFO:wfdb.io._url:GET https://physionet.org/files/i-care/2.1/training/0284/0284_022_021_ECG.hea: 200 0-178/178\n"
     ]
    },
    {
     "name": "stdout",
     "output_type": "stream",
     "text": [
      "First Segment Duration (s): 142.0\n",
      "Remaining Time (s): 3000.0, Full 5-Minute Segments: 10\n",
      "[63, 63, 62, 64, 64, 66, 65, 66, 66, 68, 67] [240, 239, 259, 237, 223, 231, 228, 219, 212, 195, 208]\n"
     ]
    },
    {
     "name": "stderr",
     "output_type": "stream",
     "text": [
      "DEBUG:urllib3.connectionpool:https://physionet.org:443 \"GET /files/i-care/2.1/training/0284/0284_022_021_ECG.mat HTTP/11\" 206 3600000\n",
      "INFO:wfdb.io._url:GET https://physionet.org/files/i-care/2.1/training/0284/0284_022_021_ECG.mat: 206 24-3600024/3600024\n"
     ]
    },
    {
     "name": "stdout",
     "output_type": "stream",
     "text": [
      "Successfully loaded: 0284_022_021_ECG\n",
      "500\n"
     ]
    },
    {
     "name": "stderr",
     "output_type": "stream",
     "text": [
      "DEBUG:urllib3.connectionpool:https://physionet.org:443 \"GET /files/i-care/2.1/training/0284/0284_023_022_ECG.hea HTTP/11\" 200 173\n",
      "INFO:wfdb.io._url:GET https://physionet.org/files/i-care/2.1/training/0284/0284_023_022_ECG.hea: 200 0-173/173\n"
     ]
    },
    {
     "name": "stdout",
     "output_type": "stream",
     "text": [
      "First Segment Duration (s): 300.0\n",
      "Remaining Time (s): 3300.0, Full 5-Minute Segments: 11\n",
      "[68, 68, 69, 67, 71, 70, 83, 97, 98, 98, 100, 99] [202, 182, 201, 164, 174, 160, 150, 137, 125, 148, 125, 138]\n"
     ]
    },
    {
     "name": "stderr",
     "output_type": "stream",
     "text": [
      "DEBUG:urllib3.connectionpool:https://physionet.org:443 \"GET /files/i-care/2.1/training/0284/0284_023_022_ECG.mat HTTP/11\" 206 3600000\n",
      "INFO:wfdb.io._url:GET https://physionet.org/files/i-care/2.1/training/0284/0284_023_022_ECG.mat: 206 24-3600024/3600024\n"
     ]
    },
    {
     "name": "stdout",
     "output_type": "stream",
     "text": [
      "Successfully loaded: 0284_023_022_ECG\n",
      "500\n"
     ]
    },
    {
     "name": "stderr",
     "output_type": "stream",
     "text": [
      "DEBUG:urllib3.connectionpool:https://physionet.org:443 \"GET /files/i-care/2.1/training/0284/0284_024_023_ECG.hea HTTP/11\" 200 172\n",
      "INFO:wfdb.io._url:GET https://physionet.org/files/i-care/2.1/training/0284/0284_024_023_ECG.hea: 200 0-172/172\n"
     ]
    },
    {
     "name": "stdout",
     "output_type": "stream",
     "text": [
      "First Segment Duration (s): 300.0\n",
      "Remaining Time (s): 3300.0, Full 5-Minute Segments: 11\n",
      "[98, 97, 97, 94, 95, 95, 93, 94, 90, 88, 89, 86] [144, 134, 141, 154, 153, 146, 151, 150, 164, 169, 177, 169]\n"
     ]
    },
    {
     "name": "stderr",
     "output_type": "stream",
     "text": [
      "DEBUG:urllib3.connectionpool:https://physionet.org:443 \"GET /files/i-care/2.1/training/0284/0284_024_023_ECG.mat HTTP/11\" 206 3600000\n",
      "INFO:wfdb.io._url:GET https://physionet.org/files/i-care/2.1/training/0284/0284_024_023_ECG.mat: 206 24-3600024/3600024\n"
     ]
    },
    {
     "name": "stdout",
     "output_type": "stream",
     "text": [
      "Successfully loaded: 0284_024_023_ECG\n",
      "500\n",
      "First Segment Duration (s): 300.0\n",
      "Remaining Time (s): 3300.0, Full 5-Minute Segments: 11\n",
      "[86, 83, 82, 82, 83, 83, 83, 82, 81, 84, 88, 89] [169, 171, 182, 182, 182, 176, 176, 188, 181, 174, 157, 168]\n"
     ]
    }
   ],
   "source": [
    "patient_numbers = ['0284']\n",
    "\n",
    "# Download each patient's .txt file\n",
    "for patient_number in patient_numbers:\n",
    "    ecg_files = get_patient_records(patient_number)\n",
    "\n",
    "    # Initialize a DataFrame for a full 24-hour period, with 5-minute segments\n",
    "    total_duration_hours = 24\n",
    "    segment_duration = timedelta(minutes=5)\n",
    "    total_segments = (total_duration_hours * 60) // 5\n",
    "\n",
    "    # Create the full DataFrame with NaN values initially\n",
    "    hr_hrv_df = pd.DataFrame({\n",
    "        \"Start Time\": [timedelta(minutes=5 * i) for i in range(total_segments)],\n",
    "        \"Mean HR (bpm)\": [np.nan] * total_segments,\n",
    "        \"HRV (SDNN) (ms)\": [np.nan] * total_segments\n",
    "    })\n",
    "\n",
    "    for ecg_file in ecg_files:\n",
    "\n",
    "        # Construct the file's record name (without extension)\n",
    "        record_name = ecg_file\n",
    "        \n",
    "        try:\n",
    "            # Load the record using PhysioNet-specific directory\n",
    "            record = wfdb.rdrecord(record_name, pn_dir=f\"{physionet_db_path}/{patient_number}\")\n",
    "            print(f\"Successfully loaded: {ecg_file}\")\n",
    "        except Exception as e:\n",
    "            print(f\"Failed to load {ecg_file}: {e}\")\n",
    "\n",
    "        # Get metadata of the signal\n",
    "        patient_number = record.record_name.split(\"_\")[0]\n",
    "        sampling_rate = record.fs\n",
    "        signal_len = record.sig_len\n",
    "        utility_freq = int(record.comments[0].split(\": \")[1])\n",
    "        start_time = pd.to_timedelta(record.comments[1].split(\": \")[1])\n",
    "        end_time = pd.to_timedelta(record.comments[2].split(\": \")[1])\n",
    "\n",
    "        # Access the signal data (numpy array)\n",
    "        ecg_signal_data = record.p_signal.flatten()\n",
    "\n",
    "        filtered_signal = apply_high_low_filter(ecg_signal_data, sampling_rate, utility_freq)\n",
    "        hr_values, hrv_values, qrs_indices, segment_start_points = calculate_hr_hrv(filtered_signal, sampling_rate, start_time, signal_len)\n",
    "\n",
    "        # Find the nearest 5-minute interval for `start_time`\n",
    "        start_index = hr_hrv_df[hr_hrv_df[\"Start Time\"] <= start_time].last_valid_index()\n",
    "\n",
    "        # Populate `hr_hrv_df` starting from `start_index`\n",
    "        for i, (hr, hrv) in enumerate(zip(hr_values, hrv_values)):\n",
    "            if start_index + i < len(hr_hrv_df):  # Ensure we don't go out of bounds\n",
    "                hr_hrv_df.at[start_index + i, \"Mean HR (bpm)\"] = hr\n",
    "                hr_hrv_df.at[start_index + i, \"HRV (SDNN) (ms)\"] = hrv\n",
    "\n",
    "\n",
    "    # After processing all files for a patient, call this function\n",
    "    final_df = transfer_to_final_structure(patient_number, hr_hrv_df, final_df)"
   ]
  },
  {
   "cell_type": "code",
   "execution_count": 13,
   "metadata": {},
   "outputs": [
    {
     "data": {
      "text/plain": [
       "'scrollable_ecg_with_r_peaks_segments.html'"
      ]
     },
     "execution_count": 13,
     "metadata": {},
     "output_type": "execute_result"
    }
   ],
   "source": [
    "import plotly.graph_objs as go\n",
    "import plotly.offline as pyo\n",
    "\n",
    "# Create the Plotly plot for the ECG Signal\n",
    "trace_signal = go.Scatter(\n",
    "    y=filtered_signal,\n",
    "    mode='lines',\n",
    "    name='ECG Signal'\n",
    ")\n",
    "\n",
    "# Create the Plotly plot for the R-Peaks\n",
    "r_peaks_y = [filtered_signal[i] for i in qrs_indices]  # Get the amplitudes of the R-peaks\n",
    "trace_r_peaks = go.Scatter(\n",
    "    x=qrs_indices,\n",
    "    y=r_peaks_y,\n",
    "    mode='markers',\n",
    "    name='R-Peaks',\n",
    "    marker=dict(color='red', size=8, symbol='x')  # Customize the appearance\n",
    ")\n",
    "\n",
    "# Create vertical line markers at the start of each 5-minute segment\n",
    "segment_lines = [\n",
    "    go.layout.Shape(\n",
    "        type=\"line\",\n",
    "        x0=boundary,\n",
    "        y0=min(filtered_signal),  # Start from minimum signal amplitude\n",
    "        x1=boundary,\n",
    "        y1=max(filtered_signal),  # End at maximum signal amplitude\n",
    "        line=dict(color=\"blue\", width=1, dash=\"dash\"),\n",
    "    ) for boundary in segment_start_points\n",
    "]\n",
    "\n",
    "# Define the layout with added shapes\n",
    "layout = go.Layout(\n",
    "    title='Scrollable ECG Signal with R-Peaks and 5-Minute Segment Lines',\n",
    "    xaxis=dict(\n",
    "        title='Time (samples)',\n",
    "        rangeslider=dict(visible=True),  # Add a range slider to make it scrollable\n",
    "    ),\n",
    "    yaxis=dict(\n",
    "        title='Amplitude',\n",
    "    ),\n",
    "    shapes=segment_lines,  # Use segment_lines instead of shapes\n",
    "    width=1200,  # Set a wider plot\n",
    "    height=500\n",
    ")\n",
    "\n",
    "# Create the figure and add both traces\n",
    "fig = go.Figure(data=[trace_signal, trace_r_peaks], layout=layout)\n",
    "\n",
    "# Show the plot in an interactive window\n",
    "pyo.plot(fig, filename='scrollable_ecg_with_r_peaks_segments.html')\n"
   ]
  },
  {
   "cell_type": "code",
   "execution_count": 14,
   "metadata": {},
   "outputs": [],
   "source": [
    "final_df.to_csv('data/hr_hrv_df.csv', index=False)"
   ]
  },
  {
   "cell_type": "code",
   "execution_count": 15,
   "metadata": {},
   "outputs": [
    {
     "name": "stdout",
     "output_type": "stream",
     "text": [
      "Segment boundaries (in samples): [0, 150000, 300000, 450000, 600000, 750000, 900000, 1050000, 1200000, 1350000, 1500000, 1650000]\n"
     ]
    }
   ],
   "source": [
    "print(\"Segment boundaries (in samples):\", segment_start_points)"
   ]
  }
 ],
 "metadata": {
  "kernelspec": {
   "display_name": "env_ttm",
   "language": "python",
   "name": "python3"
  },
  "language_info": {
   "codemirror_mode": {
    "name": "ipython",
    "version": 3
   },
   "file_extension": ".py",
   "mimetype": "text/x-python",
   "name": "python",
   "nbconvert_exporter": "python",
   "pygments_lexer": "ipython3",
   "version": "3.12.0"
  }
 },
 "nbformat": 4,
 "nbformat_minor": 2
}
