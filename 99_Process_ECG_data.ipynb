{
 "cells": [
  {
   "cell_type": "code",
   "execution_count": 1,
   "metadata": {},
   "outputs": [],
   "source": [
    "import wfdb\n",
    "from wfdb import processing\n",
    "import pandas as pd\n",
    "import numpy as np\n",
    "import re\n",
    "import os\n",
    "from datetime import timedelta\n",
    "\n",
    "import plotly.graph_objs as go\n",
    "import plotly.offline as pyo\n",
    "\n",
    "# Use the signal for filters\n",
    "from scipy.signal import butter, filtfilt, iirnotch\n",
    "\n",
    "\n",
    "import logging\n",
    "logging.basicConfig(level=logging.DEBUG)"
   ]
  },
  {
   "cell_type": "code",
   "execution_count": 2,
   "metadata": {},
   "outputs": [],
   "source": [
    "# Directory to save processed hourly results\n",
    "processed_results_dir = 'data'\n",
    "os.makedirs(processed_results_dir, exist_ok=True)"
   ]
  },
  {
   "cell_type": "code",
   "execution_count": 3,
   "metadata": {},
   "outputs": [],
   "source": [
    "# Initialize a DataFrame for a full 24-hour period, with 5-minute segments\n",
    "total_duration_hours = 24\n",
    "segment_duration = timedelta(minutes=5)\n",
    "total_segments = (total_duration_hours * 60) // 5\n",
    "\n",
    "# Create the full DataFrame with NaN values initially\n",
    "hr_hrv_df = pd.DataFrame({\n",
    "    \"Start Time\": [timedelta(minutes=5 * i) for i in range(total_segments)],\n",
    "    \"Mean HR (bpm)\": [np.nan] * total_segments,\n",
    "    \"HRV (SDNN) (ms)\": [np.nan] * total_segments\n",
    "})"
   ]
  },
  {
   "cell_type": "code",
   "execution_count": 4,
   "metadata": {},
   "outputs": [],
   "source": [
    "def apply_high_low_filter(signal, sampling_rate, utility_freq):\n",
    "    # High-pass filter to remove baseline drift (cutoff frequency = 0.5 Hz)\n",
    "    b_high, a_high = butter(1, 0.5 / (sampling_rate / 2), btype='high')\n",
    "    filtered_signal = filtfilt(b_high, a_high, signal)\n",
    "\n",
    "    # Low-pass filter to remove high-frequency noise (cutoff frequency = 50 Hz)\n",
    "    b_low, a_low = butter(1, 50 / (250 / 2), btype='low')\n",
    "    filtered_signal = filtfilt(b_low, a_low, filtered_signal)\n",
    "\n",
    "    # Notch filter to remove utility frequency noise (e.g., 50 Hz or 60 Hz)\n",
    "    Q = 30.0\n",
    "    b_notch, a_notch = iirnotch(utility_freq, Q, sampling_rate)\n",
    "    filtered_signal = filtfilt(b_notch, a_notch, filtered_signal)\n",
    "\n",
    "    return filtered_signal"
   ]
  },
  {
   "cell_type": "code",
   "execution_count": 5,
   "metadata": {},
   "outputs": [],
   "source": [
    "# Define function to calculate HR and HRV for each 5-minute segment\n",
    "def calculate_hr_hrv(signal, sampling_rate, local_start_time, total_samples):\n",
    "    # Initialize the XQRS detector and detect QRS complexes\n",
    "    xqrs = processing.XQRS(sig=signal, fs=sampling_rate)\n",
    "    xqrs.detect(learn=True, verbose=False)\n",
    "    qrs_indices = np.array(xqrs.qrs_inds)  # Indices of detected R-peaks in sample points\n",
    "\n",
    "    # Convert QRS indices to local time in seconds (relative to recording start)\n",
    "    r_wave_times = qrs_indices / sampling_rate\n",
    "\n",
    "    # Calculate the duration to the next full 5-minute boundary from the local start time\n",
    "    first_segment_duration = timedelta(minutes=5) - timedelta(seconds=local_start_time.total_seconds() % 300)\n",
    "    first_segment_duration_seconds = first_segment_duration.total_seconds()\n",
    "    print(\"First Segment Duration (s):\", first_segment_duration_seconds)\n",
    "\n",
    "    # Calculate the total duration in seconds\n",
    "    total_duration = total_samples / sampling_rate  # in seconds\n",
    "\n",
    "    # Calculate remaining time for full 5-minute segments after the first segment\n",
    "    remaining_time = total_duration - first_segment_duration_seconds\n",
    "    num_segments = int(remaining_time // 300)  # Full 5-minute segments\n",
    "    print(f\"Remaining Time (s): {remaining_time}, Full 5-Minute Segments: {num_segments}\")\n",
    "\n",
    "    # Initialize lists to store HR and HRV values, and the start points for each segment\n",
    "    hr_values = []\n",
    "    hrv_values = []\n",
    "    segment_start_indices = []  # Store start points in sample indices\n",
    "\n",
    "    # Process the shortened first segment using first_segment_duration directly\n",
    "    first_segment_indices = r_wave_times < first_segment_duration_seconds\n",
    "    first_segment_rr_intervals = np.diff(r_wave_times[first_segment_indices]) * 1000  # Convert to milliseconds\n",
    "\n",
    "    # Calculate HR and HRV for the first segment\n",
    "    if len(first_segment_rr_intervals) > 0:\n",
    "        mean_hr = int(round(processing.calc_mean_hr(first_segment_rr_intervals / 1000, rr_units=\"seconds\")))\n",
    "        hrv = int(round(np.std(first_segment_rr_intervals)))\n",
    "    else:\n",
    "        mean_hr = np.nan\n",
    "        hrv = np.nan\n",
    "\n",
    "    # Append results for the first segment and its start index in sample points\n",
    "    hr_values.append(mean_hr)\n",
    "    hrv_values.append(hrv)\n",
    "    # First segment boundary should be the beginning of the recording in samples\n",
    "    first_segment_start_index = 0\n",
    "    segment_start_indices.append(first_segment_start_index)\n",
    "\n",
    "    # Update current_time to the end of the first segment for subsequent segments\n",
    "    current_time = first_segment_duration_seconds\n",
    "\n",
    "    # Process remaining full 5-minute segments based on the relative recording time\n",
    "    for _ in range(num_segments):\n",
    "        # Calculate the segment start index in data points (samples)\n",
    "        segment_start_index = int(current_time * sampling_rate)\n",
    "        segment_start_indices.append(segment_start_index)\n",
    "        \n",
    "        # Define the end of the current 5-minute segment in local recording time\n",
    "        segment_end = current_time + 300  # 5 minutes in seconds\n",
    "\n",
    "        # Select R-wave times within the current 5-minute segment\n",
    "        segment_indices = (r_wave_times >= current_time) & (r_wave_times < segment_end)\n",
    "        selected_r_wave_times = r_wave_times[segment_indices]\n",
    "        segment_rr_intervals = np.diff(selected_r_wave_times) * 1000  # Convert RR intervals to milliseconds\n",
    "\n",
    "        # Calculate HR and HRV if RR intervals are available\n",
    "        if len(segment_rr_intervals) > 0:\n",
    "            mean_hr = int(round(processing.calc_mean_hr(segment_rr_intervals / 1000, rr_units=\"seconds\")))\n",
    "            hrv = int(round(np.std(segment_rr_intervals)))\n",
    "        else:\n",
    "            mean_hr = np.nan\n",
    "            hrv = np.nan\n",
    "\n",
    "        # Append the HR and HRV results for each segment\n",
    "        hr_values.append(mean_hr)\n",
    "        hrv_values.append(hrv)\n",
    "\n",
    "        # Move to the next 5-minute segment\n",
    "        current_time = segment_end\n",
    "\n",
    "    # Return HR, HRV values, QRS indices, and segment start points in sample indices\n",
    "    return hr_values, hrv_values, qrs_indices, segment_start_indices\n"
   ]
  },
  {
   "cell_type": "code",
   "execution_count": 6,
   "metadata": {},
   "outputs": [
    {
     "name": "stdout",
     "output_type": "stream",
     "text": [
      "First Segment Duration (s): 157.0\n",
      "Remaining Time (s): 3000.0, Full 5-Minute Segments: 10\n",
      "[100, 103, 104, 96, 96, 100, 101, 91, 92, 94, 102] [210, 36, 1, 98, 147, 72, 76, 110, 106, 98, 32]\n"
     ]
    }
   ],
   "source": [
    "# Load both the header (.hea) and the signal data (.mat) using wfdb\n",
    "record = wfdb.rdrecord('0284_001_004_ECG')\n",
    "\n",
    "# Get metadata of the signal\n",
    "patient_number = record.record_name.split(\"_\")[0]\n",
    "sampling_rate = record.fs\n",
    "signal_len = record.sig_len\n",
    "utility_freq = int(record.comments[0].split(\": \")[1])\n",
    "start_time = pd.to_timedelta(record.comments[1].split(\": \")[1])\n",
    "end_time = pd.to_timedelta(record.comments[2].split(\": \")[1])\n",
    "\n",
    "# Access the signal data (numpy array)\n",
    "ecg_signal_data = record.p_signal.flatten()\n",
    "\n",
    "filtered_signal = apply_high_low_filter(ecg_signal_data, sampling_rate, utility_freq)\n",
    "hr_values, hrv_values, qrs_indices, segment_start_points = calculate_hr_hrv(filtered_signal, sampling_rate, start_time, signal_len)\n",
    "\n",
    "print(hr_values, hrv_values)\n",
    "\n",
    "# Find the nearest 5-minute interval for `start_time`\n",
    "start_index = hr_hrv_df[hr_hrv_df[\"Start Time\"] <= start_time].last_valid_index()\n",
    "\n",
    "# Populate `hr_hrv_df` starting from `start_index`\n",
    "for i, (hr, hrv) in enumerate(zip(hr_values, hrv_values)):\n",
    "    if start_index + i < len(hr_hrv_df):  # Ensure we don't go out of bounds\n",
    "        hr_hrv_df.at[start_index + i, \"Mean HR (bpm)\"] = hr\n",
    "        hr_hrv_df.at[start_index + i, \"HRV (SDNN) (ms)\"] = hrv"
   ]
  },
  {
   "cell_type": "code",
   "execution_count": 7,
   "metadata": {},
   "outputs": [
    {
     "data": {
      "text/plain": [
       "'scrollable_ecg_with_r_peaks_segments.html'"
      ]
     },
     "execution_count": 7,
     "metadata": {},
     "output_type": "execute_result"
    }
   ],
   "source": [
    "import plotly.graph_objs as go\n",
    "import plotly.offline as pyo\n",
    "\n",
    "# Create the Plotly plot for the ECG Signal\n",
    "trace_signal = go.Scatter(\n",
    "    y=filtered_signal,\n",
    "    mode='lines',\n",
    "    name='ECG Signal'\n",
    ")\n",
    "\n",
    "# Create the Plotly plot for the R-Peaks\n",
    "r_peaks_y = [filtered_signal[i] for i in qrs_indices]  # Get the amplitudes of the R-peaks\n",
    "trace_r_peaks = go.Scatter(\n",
    "    x=qrs_indices,\n",
    "    y=r_peaks_y,\n",
    "    mode='markers',\n",
    "    name='R-Peaks',\n",
    "    marker=dict(color='red', size=8, symbol='x')  # Customize the appearance\n",
    ")\n",
    "\n",
    "# Create vertical line markers at the start of each 5-minute segment\n",
    "segment_lines = [\n",
    "    go.layout.Shape(\n",
    "        type=\"line\",\n",
    "        x0=boundary,\n",
    "        y0=min(filtered_signal),  # Start from minimum signal amplitude\n",
    "        x1=boundary,\n",
    "        y1=max(filtered_signal),  # End at maximum signal amplitude\n",
    "        line=dict(color=\"blue\", width=1, dash=\"dash\"),\n",
    "    ) for boundary in segment_start_points\n",
    "]\n",
    "\n",
    "# Define the layout with added shapes\n",
    "layout = go.Layout(\n",
    "    title='Scrollable ECG Signal with R-Peaks and 5-Minute Segment Lines',\n",
    "    xaxis=dict(\n",
    "        title='Time (samples)',\n",
    "        rangeslider=dict(visible=True),  # Add a range slider to make it scrollable\n",
    "    ),\n",
    "    yaxis=dict(\n",
    "        title='Amplitude',\n",
    "    ),\n",
    "    shapes=segment_lines,  # Use segment_lines instead of shapes\n",
    "    width=1200,  # Set a wider plot\n",
    "    height=500\n",
    ")\n",
    "\n",
    "# Create the figure and add both traces\n",
    "fig = go.Figure(data=[trace_signal, trace_r_peaks], layout=layout)\n",
    "\n",
    "# Show the plot in an interactive window\n",
    "pyo.plot(fig, filename='scrollable_ecg_with_r_peaks_segments.html')\n"
   ]
  },
  {
   "cell_type": "code",
   "execution_count": 8,
   "metadata": {},
   "outputs": [],
   "source": [
    "hr_hrv_df.to_csv('data/hr_hrv_df.csv', index=False)"
   ]
  },
  {
   "cell_type": "code",
   "execution_count": 9,
   "metadata": {},
   "outputs": [
    {
     "name": "stdout",
     "output_type": "stream",
     "text": [
      "Segment boundaries (in samples): [0, 78500, 228500, 378500, 528500, 678500, 828500, 978500, 1128500, 1278500, 1428500]\n"
     ]
    }
   ],
   "source": [
    "print(\"Segment boundaries (in samples):\", segment_start_points)"
   ]
  }
 ],
 "metadata": {
  "kernelspec": {
   "display_name": "env_ttm",
   "language": "python",
   "name": "python3"
  },
  "language_info": {
   "codemirror_mode": {
    "name": "ipython",
    "version": 3
   },
   "file_extension": ".py",
   "mimetype": "text/x-python",
   "name": "python",
   "nbconvert_exporter": "python",
   "pygments_lexer": "ipython3",
   "version": "3.12.0"
  }
 },
 "nbformat": 4,
 "nbformat_minor": 2
}
