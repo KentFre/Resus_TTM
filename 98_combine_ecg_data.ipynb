{
 "cells": [
  {
   "cell_type": "code",
   "execution_count": null,
   "metadata": {},
   "outputs": [],
   "source": [
    "import pandas as pd\n",
    "import glob"
   ]
  },
  {
   "cell_type": "code",
   "execution_count": null,
   "metadata": {},
   "outputs": [],
   "source": [
    "# Path where CSV files are stored\n",
    "path = 'data/ecg_data_parts/'\n",
    "\n",
    "# Load all CSV files in the directory\n",
    "csv_files = glob.glob(path + \"*.csv\")\n"
   ]
  },
  {
   "cell_type": "code",
   "execution_count": null,
   "metadata": {},
   "outputs": [],
   "source": [
    "# Initialize an empty list to store dataframes\n",
    "dataframes = []\n",
    "\n",
    "# Iterate over each file\n",
    "for file in csv_files:\n",
    "    df = pd.read_csv(file)\n",
    "    \n",
    "    # Check if the columns match the first file (if applicable)\n",
    "    if dataframes:\n",
    "        if not df.columns.equals(dataframes[0].columns):\n",
    "            print(f\"Column mismatch in file {file}. Skipping.\")\n",
    "            continue\n",
    "    \n",
    "    # Add DataFrame to the list\n",
    "    dataframes.append(df)\n",
    "\n",
    "# Concatenate all DataFrames into a single one\n",
    "final_df = pd.concat(dataframes, ignore_index=True)\n",
    "\n",
    "# Display the final DataFrame\n",
    "print(final_df)"
   ]
  }
 ],
 "metadata": {
  "language_info": {
   "name": "python"
  }
 },
 "nbformat": 4,
 "nbformat_minor": 2
}
