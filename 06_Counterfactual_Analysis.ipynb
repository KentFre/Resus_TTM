{
 "cells": [
  {
   "cell_type": "markdown",
   "metadata": {},
   "source": [
    "# Counterfactual Analysis of Target Temperature Management (TTM) Protocols\n",
    "\n",
    "## Introduction\n",
    "This notebook explores the impact of different Target Temperature Management (TTM) protocols on patient outcomes, with the aim of identifying optimal treatments for specific patient subpopulations. By evaluating counterfactual scenarios, we assess how changes in TTM protocols—specifically, TTM at 33°C, TTM at 36°C, and no TTM—affect the model's predictions for each patient. Through this analysis, we aim to:\n",
    "- Determine the best predicted outcome per patient under each TTM protocol.\n",
    "- Identify distinct patient groups that benefit most from TTM 33, TTM 36, or no TTM.\n",
    "- Evaluate if the changes are statistically significant between original and counterfactual groups.\n",
    "- Explore shared characteristics within each group to better understand optimal TTM conditions.\n",
    "\n",
    "## Table of Contents\n",
    "1. [Setup & Imports](#setup-imports)\n",
    "2. [Data Loading and Preparation](#data-loading-preparation)\n",
    "3. [Define Counterfactual Scenarios for TTM Protocols](#define-counterfactual-scenarios)\n",
    "4. [Generate and Compare Predictions for Each Protocol](#generate-and-compare-predictions)\n",
    "5. [Group Patients by Optimal Protocol](#group-patients-by-optimal-protocol)\n",
    "6. [Significance Testing of Prediction Changes](#significance-testing)\n",
    "7. [Analysis of Commonalities Within Each Group](#group-commonalities-analysis)\n",
    "\n",
    "---\n",
    "\n",
    "Each section provides a step-by-step approach to answer our main questions and assess the impact of different TTM protocols on patient outcomes. By the end of this notebook, we will gain insights into which TTM protocol is most beneficial for distinct patient groups and identify key characteristics that define these groups.\n"
   ]
  },
  {
   "cell_type": "markdown",
   "metadata": {},
   "source": [
    "## 1. Setup & Imports <a id=\"setup-imports\"></a>\n",
    "\n",
    "In this section, we import the necessary libraries for data manipulation, model prediction, statistical testing, and visualization. These libraries will enable us to efficiently load, process, and analyze data, as well as interpret model outputs.\n",
    "\n",
    "- **NumPy and Pandas**: Essential for data handling and manipulation.\n",
    "- **TensorFlow**: Used to load and work with the neural network model for generating predictions under different TTM protocols.\n",
    "- **sklearn**: Provides metrics for evaluating model performance.\n",
    "- **scipy.stats**: Useful for conducting statistical tests to evaluate the significance of prediction changes.\n",
    "- **SHAP**: Helps interpret model predictions, which is useful in analyzing the feature contributions for different TTM protocols.\n",
    "- **Matplotlib and Seaborn**: Visualization libraries for creating insightful plots.\n",
    "\n",
    "[Back to Table of Contents](#table-of-contents)"
   ]
  },
  {
   "cell_type": "code",
   "execution_count": 1,
   "metadata": {},
   "outputs": [
    {
     "name": "stdout",
     "output_type": "stream",
     "text": [
      "GPU is not available. Training will use the CPU.\n"
     ]
    }
   ],
   "source": [
    "# Setup & Imports\n",
    "import numpy as np\n",
    "import pandas as pd\n",
    "import tensorflow as tf\n",
    "from tensorflow.keras.models import load_model\n",
    "from sklearn.model_selection import train_test_split\n",
    "from sklearn.metrics import roc_auc_score, accuracy_score\n",
    "from scipy.stats import ttest_rel, wilcoxon\n",
    "import matplotlib.pyplot as plt\n",
    "import seaborn as sns\n",
    "import plotly.graph_objects as go\n",
    "from tensorflow.keras.models import load_model\n",
    "import pickle\n",
    "\n",
    "# Set up visualization settings\n",
    "sns.set_theme(style=\"whitegrid\")\n",
    "plt.rcParams[\"figure.figsize\"] = (10, 6)\n",
    "\n",
    "# Check if GPU is available\n",
    "if tf.config.list_physical_devices('GPU'):\n",
    "    print(\"GPU is available and will be used for training.\")\n",
    "else:\n",
    "    print(\"GPU is not available. Training will use the CPU.\")\n"
   ]
  },
  {
   "cell_type": "markdown",
   "metadata": {},
   "source": [
    "## 2. Data Loading and Preparation <a id=\"data-loading-preparation\"></a>\n",
    "\n",
    "Here, we load the preprocessed datasets required for counterfactual analysis. The data includes:\n",
    "- **machine_learning_patient_data**: Contains patient data already prepared for model predictions.\n",
    "- **ecg_data**: Features specific to ECG measurements.\n",
    "- **patient_data**: Contains target outcome values mapped as 1 for \"Good\" and 0 for \"Poor\".\n",
    "\n",
    "These datasets will be merged and combined to create a single DataFrame for analysis. Additionally, time-series features are reshaped to match the model's input format.\n",
    "\n",
    "[Back to Table of Contents](#table-of-contents)\n"
   ]
  },
  {
   "cell_type": "code",
   "execution_count": 2,
   "metadata": {},
   "outputs": [
    {
     "data": {
      "text/html": [
       "<div>\n",
       "<style scoped>\n",
       "    .dataframe tbody tr th:only-of-type {\n",
       "        vertical-align: middle;\n",
       "    }\n",
       "\n",
       "    .dataframe tbody tr th {\n",
       "        vertical-align: top;\n",
       "    }\n",
       "\n",
       "    .dataframe thead th {\n",
       "        text-align: right;\n",
       "    }\n",
       "</style>\n",
       "<table border=\"1\" class=\"dataframe\">\n",
       "  <thead>\n",
       "    <tr style=\"text-align: right;\">\n",
       "      <th></th>\n",
       "      <th>Patient</th>\n",
       "      <th>age</th>\n",
       "      <th>sex_Female</th>\n",
       "      <th>sex_Male</th>\n",
       "      <th>ohca_True</th>\n",
       "      <th>ohca_False</th>\n",
       "      <th>ohca_Unknown</th>\n",
       "      <th>ttm_33.0</th>\n",
       "      <th>ttm_36.0</th>\n",
       "      <th>ttm_No TTM</th>\n",
       "      <th>...</th>\n",
       "      <th>Segment_287_HRV_SDNN</th>\n",
       "      <th>Segment_287_LF_Power</th>\n",
       "      <th>Segment_287_HF_Power</th>\n",
       "      <th>Segment_287_LF_HF_Ratio</th>\n",
       "      <th>Segment_288_Mean_HR</th>\n",
       "      <th>Segment_288_HRV_SDNN</th>\n",
       "      <th>Segment_288_LF_Power</th>\n",
       "      <th>Segment_288_HF_Power</th>\n",
       "      <th>Segment_288_LF_HF_Ratio</th>\n",
       "      <th>outcome</th>\n",
       "    </tr>\n",
       "  </thead>\n",
       "  <tbody>\n",
       "    <tr>\n",
       "      <th>0</th>\n",
       "      <td>284</td>\n",
       "      <td>-0.522787</td>\n",
       "      <td>False</td>\n",
       "      <td>True</td>\n",
       "      <td>True</td>\n",
       "      <td>False</td>\n",
       "      <td>False</td>\n",
       "      <td>True</td>\n",
       "      <td>False</td>\n",
       "      <td>False</td>\n",
       "      <td>...</td>\n",
       "      <td>0.981133</td>\n",
       "      <td>-0.093946</td>\n",
       "      <td>-0.088465</td>\n",
       "      <td>-0.096152</td>\n",
       "      <td>0.344520</td>\n",
       "      <td>1.128406</td>\n",
       "      <td>-0.063206</td>\n",
       "      <td>-0.062188</td>\n",
       "      <td>-0.238693</td>\n",
       "      <td>1</td>\n",
       "    </tr>\n",
       "    <tr>\n",
       "      <th>1</th>\n",
       "      <td>286</td>\n",
       "      <td>1.525272</td>\n",
       "      <td>True</td>\n",
       "      <td>False</td>\n",
       "      <td>False</td>\n",
       "      <td>True</td>\n",
       "      <td>False</td>\n",
       "      <td>False</td>\n",
       "      <td>False</td>\n",
       "      <td>True</td>\n",
       "      <td>...</td>\n",
       "      <td>1.816490</td>\n",
       "      <td>-0.073634</td>\n",
       "      <td>-0.100386</td>\n",
       "      <td>-0.059189</td>\n",
       "      <td>0.482280</td>\n",
       "      <td>0.000000</td>\n",
       "      <td>-0.061845</td>\n",
       "      <td>-0.061378</td>\n",
       "      <td>-0.176915</td>\n",
       "      <td>1</td>\n",
       "    </tr>\n",
       "    <tr>\n",
       "      <th>2</th>\n",
       "      <td>296</td>\n",
       "      <td>-0.842797</td>\n",
       "      <td>False</td>\n",
       "      <td>True</td>\n",
       "      <td>True</td>\n",
       "      <td>False</td>\n",
       "      <td>False</td>\n",
       "      <td>False</td>\n",
       "      <td>True</td>\n",
       "      <td>False</td>\n",
       "      <td>...</td>\n",
       "      <td>0.000000</td>\n",
       "      <td>0.000000</td>\n",
       "      <td>0.000000</td>\n",
       "      <td>0.000000</td>\n",
       "      <td>0.000000</td>\n",
       "      <td>0.000000</td>\n",
       "      <td>0.000000</td>\n",
       "      <td>0.000000</td>\n",
       "      <td>0.000000</td>\n",
       "      <td>1</td>\n",
       "    </tr>\n",
       "    <tr>\n",
       "      <th>3</th>\n",
       "      <td>299</td>\n",
       "      <td>-1.034802</td>\n",
       "      <td>False</td>\n",
       "      <td>True</td>\n",
       "      <td>True</td>\n",
       "      <td>False</td>\n",
       "      <td>False</td>\n",
       "      <td>True</td>\n",
       "      <td>False</td>\n",
       "      <td>False</td>\n",
       "      <td>...</td>\n",
       "      <td>2.456931</td>\n",
       "      <td>-0.111831</td>\n",
       "      <td>-0.085917</td>\n",
       "      <td>-0.109046</td>\n",
       "      <td>-0.516477</td>\n",
       "      <td>0.501520</td>\n",
       "      <td>-0.063652</td>\n",
       "      <td>-0.062835</td>\n",
       "      <td>-0.192359</td>\n",
       "      <td>1</td>\n",
       "    </tr>\n",
       "    <tr>\n",
       "      <th>4</th>\n",
       "      <td>303</td>\n",
       "      <td>-0.650791</td>\n",
       "      <td>False</td>\n",
       "      <td>True</td>\n",
       "      <td>True</td>\n",
       "      <td>False</td>\n",
       "      <td>False</td>\n",
       "      <td>True</td>\n",
       "      <td>False</td>\n",
       "      <td>False</td>\n",
       "      <td>...</td>\n",
       "      <td>-0.759196</td>\n",
       "      <td>-0.182218</td>\n",
       "      <td>-0.129349</td>\n",
       "      <td>-0.121940</td>\n",
       "      <td>-1.170835</td>\n",
       "      <td>0.002860</td>\n",
       "      <td>-0.063798</td>\n",
       "      <td>-0.062743</td>\n",
       "      <td>-0.303560</td>\n",
       "      <td>1</td>\n",
       "    </tr>\n",
       "  </tbody>\n",
       "</table>\n",
       "<p>5 rows × 1456 columns</p>\n",
       "</div>"
      ],
      "text/plain": [
       "   Patient       age  sex_Female  sex_Male  ohca_True  ohca_False  \\\n",
       "0      284 -0.522787       False      True       True       False   \n",
       "1      286  1.525272        True     False      False        True   \n",
       "2      296 -0.842797       False      True       True       False   \n",
       "3      299 -1.034802       False      True       True       False   \n",
       "4      303 -0.650791       False      True       True       False   \n",
       "\n",
       "   ohca_Unknown  ttm_33.0  ttm_36.0  ttm_No TTM  ...  Segment_287_HRV_SDNN  \\\n",
       "0         False      True     False       False  ...              0.981133   \n",
       "1         False     False     False        True  ...              1.816490   \n",
       "2         False     False      True       False  ...              0.000000   \n",
       "3         False      True     False       False  ...              2.456931   \n",
       "4         False      True     False       False  ...             -0.759196   \n",
       "\n",
       "   Segment_287_LF_Power  Segment_287_HF_Power  Segment_287_LF_HF_Ratio  \\\n",
       "0             -0.093946             -0.088465                -0.096152   \n",
       "1             -0.073634             -0.100386                -0.059189   \n",
       "2              0.000000              0.000000                 0.000000   \n",
       "3             -0.111831             -0.085917                -0.109046   \n",
       "4             -0.182218             -0.129349                -0.121940   \n",
       "\n",
       "   Segment_288_Mean_HR  Segment_288_HRV_SDNN  Segment_288_LF_Power  \\\n",
       "0             0.344520              1.128406             -0.063206   \n",
       "1             0.482280              0.000000             -0.061845   \n",
       "2             0.000000              0.000000              0.000000   \n",
       "3            -0.516477              0.501520             -0.063652   \n",
       "4            -1.170835              0.002860             -0.063798   \n",
       "\n",
       "   Segment_288_HF_Power  Segment_288_LF_HF_Ratio  outcome  \n",
       "0             -0.062188                -0.238693        1  \n",
       "1             -0.061378                -0.176915        1  \n",
       "2              0.000000                 0.000000        1  \n",
       "3             -0.062835                -0.192359        1  \n",
       "4             -0.062743                -0.303560        1  \n",
       "\n",
       "[5 rows x 1456 columns]"
      ]
     },
     "execution_count": 2,
     "metadata": {},
     "output_type": "execute_result"
    }
   ],
   "source": [
    "# Loading the dataset that has been fully prepared for distance-based prediction\n",
    "with open('data/machine_learning_patient_data.pkl', 'rb') as f:\n",
    "    machine_learning_patient_data = pickle.load(f)\n",
    "\n",
    "# Load ECG data\n",
    "ecg_data = pd.read_csv('data/ecg_data.csv')\n",
    "\n",
    "# Loading the dataset that has the target value and original features and values\n",
    "with open('data/patient_data.pkl', 'rb') as f:\n",
    "    patient_data = pickle.load(f)\n",
    "\n",
    "# Map 'Good' to 1 and 'Poor' to 0 for target outcome\n",
    "patient_data['outcome'] = patient_data['outcome'].map({'Good': 1, 'Poor': 0}).astype(int)\n",
    "\n",
    "# Step 1: Merge machine_learning_patient_data and ecg_data on patient identifiers\n",
    "combined_data = pd.merge(\n",
    "    machine_learning_patient_data, ecg_data, \n",
    "    left_on='Patient', right_on='Patient_ID', \n",
    "    how='inner'\n",
    ")\n",
    "\n",
    "# Step 2: Merge the resulting combined_data with patient_data to add the 'outcome' column\n",
    "combined_data = pd.merge(\n",
    "    combined_data, patient_data[['Patient', 'outcome']], \n",
    "    on='Patient', \n",
    "    how='inner'\n",
    ")\n",
    "\n",
    "# Display the first few rows of the combined DataFrame to verify\n",
    "combined_data.head()\n"
   ]
  },
  {
   "cell_type": "code",
   "execution_count": 3,
   "metadata": {},
   "outputs": [
    {
     "data": {
      "text/html": [
       "<div>\n",
       "<style scoped>\n",
       "    .dataframe tbody tr th:only-of-type {\n",
       "        vertical-align: middle;\n",
       "    }\n",
       "\n",
       "    .dataframe tbody tr th {\n",
       "        vertical-align: top;\n",
       "    }\n",
       "\n",
       "    .dataframe thead th {\n",
       "        text-align: right;\n",
       "    }\n",
       "</style>\n",
       "<table border=\"1\" class=\"dataframe\">\n",
       "  <thead>\n",
       "    <tr style=\"text-align: right;\">\n",
       "      <th></th>\n",
       "      <th>Patient</th>\n",
       "      <th>age</th>\n",
       "      <th>sex_Female</th>\n",
       "      <th>sex_Male</th>\n",
       "      <th>ohca_True</th>\n",
       "      <th>ohca_False</th>\n",
       "      <th>ohca_Unknown</th>\n",
       "      <th>ttm_33.0</th>\n",
       "      <th>ttm_36.0</th>\n",
       "      <th>ttm_No TTM</th>\n",
       "      <th>shockable_rhythm_False</th>\n",
       "      <th>shockable_rhythm_True</th>\n",
       "      <th>shockable_rhythm_Unknown</th>\n",
       "      <th>rosc</th>\n",
       "    </tr>\n",
       "  </thead>\n",
       "  <tbody>\n",
       "    <tr>\n",
       "      <th>0</th>\n",
       "      <td>284</td>\n",
       "      <td>-0.522787</td>\n",
       "      <td>False</td>\n",
       "      <td>True</td>\n",
       "      <td>True</td>\n",
       "      <td>False</td>\n",
       "      <td>False</td>\n",
       "      <td>True</td>\n",
       "      <td>False</td>\n",
       "      <td>False</td>\n",
       "      <td>False</td>\n",
       "      <td>True</td>\n",
       "      <td>False</td>\n",
       "      <td>-0.215362</td>\n",
       "    </tr>\n",
       "    <tr>\n",
       "      <th>1</th>\n",
       "      <td>286</td>\n",
       "      <td>1.525272</td>\n",
       "      <td>True</td>\n",
       "      <td>False</td>\n",
       "      <td>False</td>\n",
       "      <td>True</td>\n",
       "      <td>False</td>\n",
       "      <td>False</td>\n",
       "      <td>False</td>\n",
       "      <td>True</td>\n",
       "      <td>True</td>\n",
       "      <td>False</td>\n",
       "      <td>False</td>\n",
       "      <td>-1.023892</td>\n",
       "    </tr>\n",
       "    <tr>\n",
       "      <th>2</th>\n",
       "      <td>296</td>\n",
       "      <td>-0.842797</td>\n",
       "      <td>False</td>\n",
       "      <td>True</td>\n",
       "      <td>True</td>\n",
       "      <td>False</td>\n",
       "      <td>False</td>\n",
       "      <td>False</td>\n",
       "      <td>True</td>\n",
       "      <td>False</td>\n",
       "      <td>False</td>\n",
       "      <td>True</td>\n",
       "      <td>False</td>\n",
       "      <td>-0.215362</td>\n",
       "    </tr>\n",
       "    <tr>\n",
       "      <th>3</th>\n",
       "      <td>299</td>\n",
       "      <td>-1.034802</td>\n",
       "      <td>False</td>\n",
       "      <td>True</td>\n",
       "      <td>True</td>\n",
       "      <td>False</td>\n",
       "      <td>False</td>\n",
       "      <td>True</td>\n",
       "      <td>False</td>\n",
       "      <td>False</td>\n",
       "      <td>False</td>\n",
       "      <td>True</td>\n",
       "      <td>False</td>\n",
       "      <td>-0.215362</td>\n",
       "    </tr>\n",
       "    <tr>\n",
       "      <th>4</th>\n",
       "      <td>303</td>\n",
       "      <td>-0.650791</td>\n",
       "      <td>False</td>\n",
       "      <td>True</td>\n",
       "      <td>True</td>\n",
       "      <td>False</td>\n",
       "      <td>False</td>\n",
       "      <td>True</td>\n",
       "      <td>False</td>\n",
       "      <td>False</td>\n",
       "      <td>False</td>\n",
       "      <td>True</td>\n",
       "      <td>False</td>\n",
       "      <td>0.225655</td>\n",
       "    </tr>\n",
       "    <tr>\n",
       "      <th>...</th>\n",
       "      <td>...</td>\n",
       "      <td>...</td>\n",
       "      <td>...</td>\n",
       "      <td>...</td>\n",
       "      <td>...</td>\n",
       "      <td>...</td>\n",
       "      <td>...</td>\n",
       "      <td>...</td>\n",
       "      <td>...</td>\n",
       "      <td>...</td>\n",
       "      <td>...</td>\n",
       "      <td>...</td>\n",
       "      <td>...</td>\n",
       "      <td>...</td>\n",
       "    </tr>\n",
       "    <tr>\n",
       "      <th>602</th>\n",
       "      <td>1016</td>\n",
       "      <td>1.653275</td>\n",
       "      <td>False</td>\n",
       "      <td>True</td>\n",
       "      <td>True</td>\n",
       "      <td>False</td>\n",
       "      <td>False</td>\n",
       "      <td>True</td>\n",
       "      <td>False</td>\n",
       "      <td>False</td>\n",
       "      <td>True</td>\n",
       "      <td>False</td>\n",
       "      <td>False</td>\n",
       "      <td>-1.023892</td>\n",
       "    </tr>\n",
       "    <tr>\n",
       "      <th>603</th>\n",
       "      <td>1017</td>\n",
       "      <td>-2.250837</td>\n",
       "      <td>False</td>\n",
       "      <td>True</td>\n",
       "      <td>True</td>\n",
       "      <td>False</td>\n",
       "      <td>False</td>\n",
       "      <td>False</td>\n",
       "      <td>False</td>\n",
       "      <td>True</td>\n",
       "      <td>True</td>\n",
       "      <td>False</td>\n",
       "      <td>False</td>\n",
       "      <td>2.283731</td>\n",
       "    </tr>\n",
       "    <tr>\n",
       "      <th>604</th>\n",
       "      <td>1018</td>\n",
       "      <td>0.117231</td>\n",
       "      <td>False</td>\n",
       "      <td>True</td>\n",
       "      <td>True</td>\n",
       "      <td>False</td>\n",
       "      <td>False</td>\n",
       "      <td>False</td>\n",
       "      <td>True</td>\n",
       "      <td>False</td>\n",
       "      <td>False</td>\n",
       "      <td>True</td>\n",
       "      <td>False</td>\n",
       "      <td>0.041898</td>\n",
       "    </tr>\n",
       "    <tr>\n",
       "      <th>605</th>\n",
       "      <td>1019</td>\n",
       "      <td>0.693248</td>\n",
       "      <td>False</td>\n",
       "      <td>True</td>\n",
       "      <td>True</td>\n",
       "      <td>False</td>\n",
       "      <td>False</td>\n",
       "      <td>False</td>\n",
       "      <td>True</td>\n",
       "      <td>False</td>\n",
       "      <td>False</td>\n",
       "      <td>True</td>\n",
       "      <td>False</td>\n",
       "      <td>-0.215362</td>\n",
       "    </tr>\n",
       "    <tr>\n",
       "      <th>606</th>\n",
       "      <td>1020</td>\n",
       "      <td>0.373238</td>\n",
       "      <td>False</td>\n",
       "      <td>True</td>\n",
       "      <td>True</td>\n",
       "      <td>False</td>\n",
       "      <td>False</td>\n",
       "      <td>False</td>\n",
       "      <td>True</td>\n",
       "      <td>False</td>\n",
       "      <td>False</td>\n",
       "      <td>True</td>\n",
       "      <td>False</td>\n",
       "      <td>-0.215362</td>\n",
       "    </tr>\n",
       "  </tbody>\n",
       "</table>\n",
       "<p>607 rows × 14 columns</p>\n",
       "</div>"
      ],
      "text/plain": [
       "     Patient       age  sex_Female  sex_Male  ohca_True  ohca_False  \\\n",
       "0        284 -0.522787       False      True       True       False   \n",
       "1        286  1.525272        True     False      False        True   \n",
       "2        296 -0.842797       False      True       True       False   \n",
       "3        299 -1.034802       False      True       True       False   \n",
       "4        303 -0.650791       False      True       True       False   \n",
       "..       ...       ...         ...       ...        ...         ...   \n",
       "602     1016  1.653275       False      True       True       False   \n",
       "603     1017 -2.250837       False      True       True       False   \n",
       "604     1018  0.117231       False      True       True       False   \n",
       "605     1019  0.693248       False      True       True       False   \n",
       "606     1020  0.373238       False      True       True       False   \n",
       "\n",
       "     ohca_Unknown  ttm_33.0  ttm_36.0  ttm_No TTM  shockable_rhythm_False  \\\n",
       "0           False      True     False       False                   False   \n",
       "1           False     False     False        True                    True   \n",
       "2           False     False      True       False                   False   \n",
       "3           False      True     False       False                   False   \n",
       "4           False      True     False       False                   False   \n",
       "..            ...       ...       ...         ...                     ...   \n",
       "602         False      True     False       False                    True   \n",
       "603         False     False     False        True                    True   \n",
       "604         False     False      True       False                   False   \n",
       "605         False     False      True       False                   False   \n",
       "606         False     False      True       False                   False   \n",
       "\n",
       "     shockable_rhythm_True  shockable_rhythm_Unknown      rosc  \n",
       "0                     True                     False -0.215362  \n",
       "1                    False                     False -1.023892  \n",
       "2                     True                     False -0.215362  \n",
       "3                     True                     False -0.215362  \n",
       "4                     True                     False  0.225655  \n",
       "..                     ...                       ...       ...  \n",
       "602                  False                     False -1.023892  \n",
       "603                  False                     False  2.283731  \n",
       "604                   True                     False  0.041898  \n",
       "605                   True                     False -0.215362  \n",
       "606                   True                     False -0.215362  \n",
       "\n",
       "[607 rows x 14 columns]"
      ]
     },
     "execution_count": 3,
     "metadata": {},
     "output_type": "execute_result"
    }
   ],
   "source": [
    "machine_learning_patient_data"
   ]
  },
  {
   "cell_type": "markdown",
   "metadata": {},
   "source": [
    "## 3. Define Counterfactual Scenarios for TTM Protocols <a id=\"define-counterfactual-scenarios\"></a>\n",
    "\n",
    "In this section, we define counterfactual scenarios to evaluate how each TTM protocol (TTM 33, TTM 36, and No TTM) affects patient outcomes. For each patient, we will create variations with each TTM protocol and then generate predictions based on these alternative treatments.\n",
    "\n",
    "Steps:\n",
    "1. **Set Up Counterfactual Treatments**: Define TTM 33, TTM 36, and No TTM variations for each patient.\n",
    "2. **Generate Predictions for Each Protocol**: Use the trained model to predict outcomes for each TTM scenario.\n",
    "3. **Prepare Data for Comparison**: Organize the predictions to allow easy comparison between the different TTM protocols.\n",
    "\n",
    "[Back to Table of Contents](#table-of-contents)\n"
   ]
  },
  {
   "cell_type": "code",
   "execution_count": 4,
   "metadata": {},
   "outputs": [
    {
     "data": {
      "text/plain": [
       "(607, 288, 3)"
      ]
     },
     "execution_count": 4,
     "metadata": {},
     "output_type": "execute_result"
    }
   ],
   "source": [
    "tabular_cols = [\n",
    "    'age', 'rosc', 'sex_Female', 'sex_Male', 'ohca_True', 'ohca_False', 'ohca_Unknown',\n",
    "    'ttm_33.0', 'ttm_36.0', 'ttm_No TTM', 'shockable_rhythm_False',\n",
    "    'shockable_rhythm_True', 'shockable_rhythm_Unknown'\n",
    "]\n",
    "\n",
    "# Identify time-series columns for the selected features\n",
    "selected_time_series_cols = [col for col in combined_data.columns if \n",
    "                             any(feature in col for feature in [\"Mean_HR\", \"HRV_SDNN\", \"LF_HF_Ratio\"])]\n",
    "\n",
    "# Reshape the time-series data into (samples, time steps, features)\n",
    "X_time_series = combined_data[selected_time_series_cols].values.reshape(\n",
    "    len(combined_data),  # samples (number of patients)\n",
    "    -1,                  # time steps (number of segments per patient)\n",
    "    3                    # features (3 values per time point: Mean_HR, HRV_SDNN, LF_HF_Ratio)\n",
    ")\n",
    "\n",
    "X_time_series.shape"
   ]
  },
  {
   "cell_type": "code",
   "execution_count": 11,
   "metadata": {},
   "outputs": [
    {
     "name": "stderr",
     "output_type": "stream",
     "text": [
      "c:\\Users\\kentf\\OneDrive\\Studium\\M.Sc.Med. Health Informatics\\01 Modules\\5HI024 - Research\\00_Project\\Resus_TTM\\env_ttm\\Lib\\site-packages\\keras\\src\\saving\\saving_lib.py:719: UserWarning: Skipping variable loading for optimizer 'adam', because it has 20 variables whereas the saved optimizer has 2 variables. \n",
      "  saveable.load_own_variables(weights_store.get(inner_path))\n",
      "c:\\Users\\kentf\\OneDrive\\Studium\\M.Sc.Med. Health Informatics\\01 Modules\\5HI024 - Research\\00_Project\\Resus_TTM\\env_ttm\\Lib\\site-packages\\keras\\src\\models\\functional.py:225: UserWarning: The structure of `inputs` doesn't match the expected structure: ['tabular_input', 'time_series_input']. Received: the structure of inputs=('*', '*')\n",
      "  warnings.warn(\n"
     ]
    },
    {
     "name": "stdout",
     "output_type": "stream",
     "text": [
      "\u001b[1m19/19\u001b[0m \u001b[32m━━━━━━━━━━━━━━━━━━━━\u001b[0m\u001b[37m\u001b[0m \u001b[1m1s\u001b[0m 55ms/step\n",
      "\u001b[1m19/19\u001b[0m \u001b[32m━━━━━━━━━━━━━━━━━━━━\u001b[0m\u001b[37m\u001b[0m \u001b[1m1s\u001b[0m 42ms/step\n",
      "\u001b[1m19/19\u001b[0m \u001b[32m━━━━━━━━━━━━━━━━━━━━\u001b[0m\u001b[37m\u001b[0m \u001b[1m1s\u001b[0m 47ms/step\n"
     ]
    }
   ],
   "source": [
    "# Load the model from models/neural_network.keras\n",
    "neural_network = load_model('models/neural_network.keras')\n",
    "\n",
    "# Load the XGBoost model fro models/XGBoost_best_model.pkl\n",
    "with open('models/XGBoost_best_model.pkl', 'rb') as f:\n",
    "    xgboost = pickle.load(f)\n",
    "\n",
    "# Helper function to set TTM protocol and generate predictions\n",
    "def nn_generate_predictions_for_ttm(ttm_value, combined_data, model):\n",
    "    # Make a copy of the data to avoid altering the original DataFrame\n",
    "    data_copy = combined_data.copy()\n",
    "    \n",
    "    # Set TTM protocol columns based on the specified ttm_value\n",
    "    if ttm_value == '33':\n",
    "        data_copy['ttm_33.0'] = 1\n",
    "        data_copy['ttm_36.0'] = 0\n",
    "        data_copy['ttm_No TTM'] = 0\n",
    "    elif ttm_value == '36':\n",
    "        data_copy['ttm_33.0'] = 0\n",
    "        data_copy['ttm_36.0'] = 1\n",
    "        data_copy['ttm_No TTM'] = 0\n",
    "    elif ttm_value == 'No TTM':\n",
    "        data_copy['ttm_33.0'] = 0\n",
    "        data_copy['ttm_36.0'] = 0\n",
    "        data_copy['ttm_No TTM'] = 1\n",
    "    \n",
    "    # Extract tabular and time-series data with proper shape\n",
    "    tabular_input = data_copy[tabular_cols].values.astype('float32')\n",
    "    time_series_input = data_copy[selected_time_series_cols].values.astype('float32').reshape(len(data_copy), 288, 3)\n",
    "    \n",
    "    # Generate predictions\n",
    "    predictions = model.predict([tabular_input, time_series_input])\n",
    "    return predictions\n",
    "\n",
    "# Helper function to set TTM protocol and generate predictions\n",
    "def xgboost_generate_predictions_for_ttm(ttm_value, machine_learning_data, model):\n",
    "    # Make a copy of the data to avoid altering the original DataFrame\n",
    "    data_copy = machine_learning_data.copy()\n",
    "    data_copy = data_copy.drop('Patient', axis=1)\n",
    "    \n",
    "    # Set TTM protocol columns based on the specified ttm_value\n",
    "    if ttm_value == '33':\n",
    "        data_copy['ttm_33.0'] = 1\n",
    "        data_copy['ttm_36.0'] = 0\n",
    "        data_copy['ttm_No TTM'] = 0\n",
    "    elif ttm_value == '36':\n",
    "        data_copy['ttm_33.0'] = 0\n",
    "        data_copy['ttm_36.0'] = 1\n",
    "        data_copy['ttm_No TTM'] = 0\n",
    "    elif ttm_value == 'No TTM':\n",
    "        data_copy['ttm_33.0'] = 0\n",
    "        data_copy['ttm_36.0'] = 0\n",
    "        data_copy['ttm_No TTM'] = 1\n",
    "    \n",
    "    # Generate predictions\n",
    "    predictions = model.predict_proba(data_copy)[:, 1]\n",
    "    return predictions\n",
    "\n",
    "# Function to determine the original TTM protocol based on the columns\n",
    "def get_original_ttm_protocol(row):\n",
    "    if row['ttm_33.0'] == 1:\n",
    "        return '33'\n",
    "    elif row['ttm_36.0'] == 1:\n",
    "        return '36'\n",
    "    elif row['ttm_No TTM'] == 1:\n",
    "        return 'No TTM'\n",
    "    return 'Unknown'\n",
    "\n",
    "# Add original TTM protocol column to the combined_data DataFrame\n",
    "combined_data['Original_TTM'] = combined_data.apply(get_original_ttm_protocol, axis=1)\n",
    "\n",
    "# Generate predictions for each TTM protocol for Neural Network\n",
    "nn_predictions_ttm_33 = nn_generate_predictions_for_ttm('33', combined_data, neural_network)\n",
    "nn_predictions_ttm_36 = nn_generate_predictions_for_ttm('36', combined_data, neural_network)\n",
    "nn_predictions_no_ttm = nn_generate_predictions_for_ttm('No TTM', combined_data, neural_network)\n",
    "\n",
    "# Combine neural network predictions into a DataFrame for easy comparison\n",
    "nn_ttm_predictions_df = pd.DataFrame({\n",
    "    'Patient': combined_data['Patient'],\n",
    "    'Original_TTM': combined_data['Original_TTM'],\n",
    "    'Outcome': combined_data['outcome'],\n",
    "    'Pred_TTM_33': nn_predictions_ttm_33.flatten(),\n",
    "    'Pred_TTM_36': nn_predictions_ttm_36.flatten(),\n",
    "    'Pred_No_TTM': nn_predictions_no_ttm.flatten()\n",
    "})\n",
    "\n",
    "# Generate predictions for each TTM protocol for XGBoost\n",
    "xgboost_predictions_ttm_33 = xgboost_generate_predictions_for_ttm('33', machine_learning_patient_data, xgboost)\n",
    "xgboost_predictions_ttm_36 = xgboost_generate_predictions_for_ttm('36', machine_learning_patient_data, xgboost)\n",
    "xgboost_predictions_no_ttm = xgboost_generate_predictions_for_ttm('No TTM', machine_learning_patient_data, xgboost)\n",
    "\n",
    "# Combine neural network predictions into a DataFrame for easy comparison\n",
    "xgboost_ttm_predictions_df = pd.DataFrame({\n",
    "    'Patient': combined_data['Patient'],\n",
    "    'Original_TTM': combined_data['Original_TTM'],\n",
    "    'Outcome': combined_data['outcome'],\n",
    "    'Pred_TTM_33': xgboost_predictions_ttm_33.flatten(),\n",
    "    'Pred_TTM_36': xgboost_predictions_ttm_36.flatten(),\n",
    "    'Pred_No_TTM': xgboost_predictions_no_ttm.flatten()\n",
    "})"
   ]
  },
  {
   "cell_type": "code",
   "execution_count": 12,
   "metadata": {},
   "outputs": [],
   "source": [
    "# Rename columns with prefixes for NN and XGBoost\n",
    "nn_ttm_predictions_df = nn_ttm_predictions_df.rename(columns={\n",
    "    'Pred_TTM_33': 'NN_Pred_TTM_33',\n",
    "    'Pred_TTM_36': 'NN_Pred_TTM_36',\n",
    "    'Pred_No_TTM': 'NN_Pred_No_TTM'\n",
    "})\n",
    "\n",
    "xgboost_ttm_predictions_df = xgboost_ttm_predictions_df.rename(columns={\n",
    "    'Pred_TTM_33': 'xgb_Pred_TTM_33',\n",
    "    'Pred_TTM_36': 'xgb_Pred_TTM_36',\n",
    "    'Pred_No_TTM': 'xgb_Pred_No_TTM'\n",
    "})\n",
    "\n",
    "# Merge the dataframes to have NN and XGBoost predictions in the same DataFrame\n",
    "combined_predictions_df = nn_ttm_predictions_df.merge(\n",
    "    xgboost_ttm_predictions_df[['Patient', 'xgb_Pred_TTM_33', 'xgb_Pred_TTM_36', 'xgb_Pred_No_TTM']],\n",
    "    on='Patient'\n",
    ")\n"
   ]
  },
  {
   "cell_type": "code",
   "execution_count": 34,
   "metadata": {},
   "outputs": [],
   "source": [
    "# Define the threshold for considering predictions as \"Same\"\n",
    "threshold = 0.025\n",
    "\n",
    "# Updated assess_prediction function to handle model prefix and \"No TTM\" naming\n",
    "def assess_prediction(row, original_protocol, protocol_prediction, protocol_name, model_prefix):\n",
    "    # Determine the correct column name based on the protocol\n",
    "    if protocol_name == \"No TTM\":\n",
    "        original_prediction = row[f'{model_prefix}_Pred_No_TTM']\n",
    "    else:\n",
    "        original_prediction = row[f'{model_prefix}_Pred_TTM_{protocol_name}']\n",
    "    \n",
    "    # If the current protocol is the original one, label it as \"Original TTM\"\n",
    "    if original_protocol == protocol_name:\n",
    "        return \"Original TTM\"\n",
    "    \n",
    "    # Calculate the difference and apply threshold logic\n",
    "    diff = protocol_prediction - original_prediction\n",
    "    if abs(diff) <= threshold:\n",
    "        return \"Same\"\n",
    "    elif diff > 0:\n",
    "        return \"Higher\"\n",
    "    else:\n",
    "        return \"Lower\"\n",
    "\n"
   ]
  },
  {
   "cell_type": "code",
   "execution_count": 35,
   "metadata": {},
   "outputs": [],
   "source": [
    "# Assess predictions for Neural Network\n",
    "combined_predictions_df['NN_TTM_33_Asses'] = combined_predictions_df.apply(\n",
    "    lambda row: assess_prediction(row, row['Original_TTM'], row['NN_Pred_TTM_33'], '33', 'NN'), axis=1\n",
    ")\n",
    "combined_predictions_df['NN_TTM_36_Asses'] = combined_predictions_df.apply(\n",
    "    lambda row: assess_prediction(row, row['Original_TTM'], row['NN_Pred_TTM_36'], '36', 'NN'), axis=1\n",
    ")\n",
    "combined_predictions_df['NN_No_TTM_Asses'] = combined_predictions_df.apply(\n",
    "    lambda row: assess_prediction(row, row['Original_TTM'], row['NN_Pred_No_TTM'], 'No TTM', 'NN'), axis=1\n",
    ")\n",
    "\n",
    "# Assess predictions for XGBoost\n",
    "combined_predictions_df['xgb_TTM_33_Asses'] = combined_predictions_df.apply(\n",
    "    lambda row: assess_prediction(row, row['Original_TTM'], row['xgb_Pred_TTM_33'], '33', 'xgb'), axis=1\n",
    ")\n",
    "combined_predictions_df['xgb_TTM_36_Asses'] = combined_predictions_df.apply(\n",
    "    lambda row: assess_prediction(row, row['Original_TTM'], row['xgb_Pred_TTM_36'], '36', 'xgb'), axis=1\n",
    ")\n",
    "combined_predictions_df['xgb_No_TTM_Asses'] = combined_predictions_df.apply(\n",
    "    lambda row: assess_prediction(row, row['Original_TTM'], row['xgb_Pred_No_TTM'], 'No TTM', 'xgb'), axis=1\n",
    ")\n"
   ]
  },
  {
   "cell_type": "code",
   "execution_count": 36,
   "metadata": {},
   "outputs": [],
   "source": [
    "# Function to determine the best protocol for each model, considering only significant changes\n",
    "def determine_best_prediction(row, model_prefix):\n",
    "    # Extract the predictions for each protocol for the specified model\n",
    "    ttm_predictions = {\n",
    "        '33': row[f'{model_prefix}_Pred_TTM_33'],\n",
    "        '36': row[f'{model_prefix}_Pred_TTM_36'],\n",
    "        'No TTM': row[f'{model_prefix}_Pred_No_TTM']\n",
    "    }\n",
    "    \n",
    "    # Get the baseline prediction value based on the Original_TTM\n",
    "    original_protocol = row['Original_TTM']\n",
    "    baseline_prediction = ttm_predictions[original_protocol]\n",
    "    \n",
    "    # Initialize the best protocol as the original\n",
    "    best_protocol = original_protocol\n",
    "    best_prediction = baseline_prediction\n",
    "    \n",
    "    # Check if any other protocol exceeds the baseline by the threshold\n",
    "    for protocol, prediction in ttm_predictions.items():\n",
    "        if protocol != original_protocol and prediction > baseline_prediction + threshold:\n",
    "            best_protocol = protocol\n",
    "            best_prediction = prediction\n",
    "    \n",
    "    return best_protocol\n",
    "\n",
    "# Apply the function to determine the best TTM protocol for each patient for both NN and XGBoost\n",
    "combined_predictions_df['Best_Prediction_NN'] = combined_predictions_df.apply(\n",
    "    determine_best_prediction, axis=1, model_prefix='NN'\n",
    ")\n",
    "combined_predictions_df['Best_Prediction_XGB'] = combined_predictions_df.apply(\n",
    "    determine_best_prediction, axis=1, model_prefix='xgb'\n",
    ")\n"
   ]
  },
  {
   "cell_type": "code",
   "execution_count": 37,
   "metadata": {},
   "outputs": [
    {
     "data": {
      "text/html": [
       "<style type=\"text/css\">\n",
       "#T_06517_row0_col9, #T_06517_row0_col12, #T_06517_row1_col9, #T_06517_row1_col12, #T_06517_row2_col10, #T_06517_row2_col13, #T_06517_row3_col9, #T_06517_row3_col12, #T_06517_row4_col10, #T_06517_row4_col13, #T_06517_row5_col9, #T_06517_row5_col12, #T_06517_row6_col9, #T_06517_row6_col12, #T_06517_row7_col11, #T_06517_row7_col14, #T_06517_row8_col9, #T_06517_row8_col12, #T_06517_row9_col9, #T_06517_row9_col12, #T_06517_row10_col9, #T_06517_row10_col12, #T_06517_row11_col9, #T_06517_row11_col12, #T_06517_row12_col10, #T_06517_row12_col13, #T_06517_row13_col9, #T_06517_row13_col12, #T_06517_row14_col11, #T_06517_row14_col14, #T_06517_row15_col9, #T_06517_row15_col12, #T_06517_row16_col9, #T_06517_row16_col12, #T_06517_row17_col9, #T_06517_row17_col12, #T_06517_row18_col9, #T_06517_row18_col12, #T_06517_row19_col11, #T_06517_row19_col14 {\n",
       "  background-color: lightblue;\n",
       "}\n",
       "#T_06517_row0_col10, #T_06517_row0_col11, #T_06517_row0_col13, #T_06517_row0_col14, #T_06517_row1_col10, #T_06517_row1_col11, #T_06517_row1_col13, #T_06517_row1_col14, #T_06517_row2_col9, #T_06517_row2_col11, #T_06517_row2_col12, #T_06517_row2_col14, #T_06517_row3_col10, #T_06517_row3_col11, #T_06517_row3_col13, #T_06517_row3_col14, #T_06517_row4_col9, #T_06517_row4_col11, #T_06517_row4_col12, #T_06517_row4_col14, #T_06517_row5_col10, #T_06517_row5_col11, #T_06517_row5_col13, #T_06517_row5_col14, #T_06517_row6_col10, #T_06517_row6_col11, #T_06517_row6_col13, #T_06517_row6_col14, #T_06517_row7_col9, #T_06517_row7_col10, #T_06517_row7_col12, #T_06517_row7_col13, #T_06517_row8_col10, #T_06517_row8_col11, #T_06517_row8_col13, #T_06517_row8_col14, #T_06517_row9_col10, #T_06517_row9_col11, #T_06517_row9_col13, #T_06517_row9_col14, #T_06517_row10_col10, #T_06517_row10_col11, #T_06517_row10_col13, #T_06517_row10_col14, #T_06517_row11_col10, #T_06517_row11_col11, #T_06517_row11_col13, #T_06517_row11_col14, #T_06517_row12_col9, #T_06517_row12_col11, #T_06517_row12_col12, #T_06517_row12_col14, #T_06517_row13_col10, #T_06517_row13_col11, #T_06517_row13_col13, #T_06517_row13_col14, #T_06517_row14_col9, #T_06517_row14_col10, #T_06517_row14_col12, #T_06517_row14_col13, #T_06517_row15_col10, #T_06517_row15_col11, #T_06517_row15_col13, #T_06517_row15_col14, #T_06517_row16_col10, #T_06517_row16_col11, #T_06517_row16_col13, #T_06517_row16_col14, #T_06517_row17_col10, #T_06517_row17_col11, #T_06517_row17_col13, #T_06517_row17_col14, #T_06517_row18_col10, #T_06517_row18_col11, #T_06517_row18_col13, #T_06517_row18_col14, #T_06517_row19_col9, #T_06517_row19_col10, #T_06517_row19_col12, #T_06517_row19_col13 {\n",
       "  background-color: lightyellow;\n",
       "}\n",
       "</style>\n",
       "<table id=\"T_06517\">\n",
       "  <thead>\n",
       "    <tr>\n",
       "      <th class=\"blank level0\" >&nbsp;</th>\n",
       "      <th id=\"T_06517_level0_col0\" class=\"col_heading level0 col0\" >Patient</th>\n",
       "      <th id=\"T_06517_level0_col1\" class=\"col_heading level0 col1\" >Original_TTM</th>\n",
       "      <th id=\"T_06517_level0_col2\" class=\"col_heading level0 col2\" >Outcome</th>\n",
       "      <th id=\"T_06517_level0_col3\" class=\"col_heading level0 col3\" >NN_Pred_TTM_33</th>\n",
       "      <th id=\"T_06517_level0_col4\" class=\"col_heading level0 col4\" >NN_Pred_TTM_36</th>\n",
       "      <th id=\"T_06517_level0_col5\" class=\"col_heading level0 col5\" >NN_Pred_No_TTM</th>\n",
       "      <th id=\"T_06517_level0_col6\" class=\"col_heading level0 col6\" >xgb_Pred_TTM_33</th>\n",
       "      <th id=\"T_06517_level0_col7\" class=\"col_heading level0 col7\" >xgb_Pred_TTM_36</th>\n",
       "      <th id=\"T_06517_level0_col8\" class=\"col_heading level0 col8\" >xgb_Pred_No_TTM</th>\n",
       "      <th id=\"T_06517_level0_col9\" class=\"col_heading level0 col9\" >NN_TTM_33_Asses</th>\n",
       "      <th id=\"T_06517_level0_col10\" class=\"col_heading level0 col10\" >NN_TTM_36_Asses</th>\n",
       "      <th id=\"T_06517_level0_col11\" class=\"col_heading level0 col11\" >NN_No_TTM_Asses</th>\n",
       "      <th id=\"T_06517_level0_col12\" class=\"col_heading level0 col12\" >xgb_TTM_33_Asses</th>\n",
       "      <th id=\"T_06517_level0_col13\" class=\"col_heading level0 col13\" >xgb_TTM_36_Asses</th>\n",
       "      <th id=\"T_06517_level0_col14\" class=\"col_heading level0 col14\" >xgb_No_TTM_Asses</th>\n",
       "      <th id=\"T_06517_level0_col15\" class=\"col_heading level0 col15\" >Best_Prediction_NN</th>\n",
       "      <th id=\"T_06517_level0_col16\" class=\"col_heading level0 col16\" >Best_Prediction_XGB</th>\n",
       "    </tr>\n",
       "  </thead>\n",
       "  <tbody>\n",
       "    <tr>\n",
       "      <th id=\"T_06517_level0_row0\" class=\"row_heading level0 row0\" >563</th>\n",
       "      <td id=\"T_06517_row0_col0\" class=\"data row0 col0\" >970</td>\n",
       "      <td id=\"T_06517_row0_col1\" class=\"data row0 col1\" >33</td>\n",
       "      <td id=\"T_06517_row0_col2\" class=\"data row0 col2\" >0</td>\n",
       "      <td id=\"T_06517_row0_col3\" class=\"data row0 col3\" >0.461069</td>\n",
       "      <td id=\"T_06517_row0_col4\" class=\"data row0 col4\" >0.509146</td>\n",
       "      <td id=\"T_06517_row0_col5\" class=\"data row0 col5\" >0.525896</td>\n",
       "      <td id=\"T_06517_row0_col6\" class=\"data row0 col6\" >0.271893</td>\n",
       "      <td id=\"T_06517_row0_col7\" class=\"data row0 col7\" >0.271893</td>\n",
       "      <td id=\"T_06517_row0_col8\" class=\"data row0 col8\" >0.317351</td>\n",
       "      <td id=\"T_06517_row0_col9\" class=\"data row0 col9\" >Original TTM</td>\n",
       "      <td id=\"T_06517_row0_col10\" class=\"data row0 col10\" >Same</td>\n",
       "      <td id=\"T_06517_row0_col11\" class=\"data row0 col11\" >Same</td>\n",
       "      <td id=\"T_06517_row0_col12\" class=\"data row0 col12\" >Original TTM</td>\n",
       "      <td id=\"T_06517_row0_col13\" class=\"data row0 col13\" >Same</td>\n",
       "      <td id=\"T_06517_row0_col14\" class=\"data row0 col14\" >Same</td>\n",
       "      <td id=\"T_06517_row0_col15\" class=\"data row0 col15\" >No TTM</td>\n",
       "      <td id=\"T_06517_row0_col16\" class=\"data row0 col16\" >No TTM</td>\n",
       "    </tr>\n",
       "    <tr>\n",
       "      <th id=\"T_06517_level0_row1\" class=\"row_heading level0 row1\" >289</th>\n",
       "      <td id=\"T_06517_row1_col0\" class=\"data row1 col0\" >655</td>\n",
       "      <td id=\"T_06517_row1_col1\" class=\"data row1 col1\" >33</td>\n",
       "      <td id=\"T_06517_row1_col2\" class=\"data row1 col2\" >0</td>\n",
       "      <td id=\"T_06517_row1_col3\" class=\"data row1 col3\" >0.490336</td>\n",
       "      <td id=\"T_06517_row1_col4\" class=\"data row1 col4\" >0.503647</td>\n",
       "      <td id=\"T_06517_row1_col5\" class=\"data row1 col5\" >0.532789</td>\n",
       "      <td id=\"T_06517_row1_col6\" class=\"data row1 col6\" >0.335131</td>\n",
       "      <td id=\"T_06517_row1_col7\" class=\"data row1 col7\" >0.335131</td>\n",
       "      <td id=\"T_06517_row1_col8\" class=\"data row1 col8\" >0.337733</td>\n",
       "      <td id=\"T_06517_row1_col9\" class=\"data row1 col9\" >Original TTM</td>\n",
       "      <td id=\"T_06517_row1_col10\" class=\"data row1 col10\" >Same</td>\n",
       "      <td id=\"T_06517_row1_col11\" class=\"data row1 col11\" >Same</td>\n",
       "      <td id=\"T_06517_row1_col12\" class=\"data row1 col12\" >Original TTM</td>\n",
       "      <td id=\"T_06517_row1_col13\" class=\"data row1 col13\" >Same</td>\n",
       "      <td id=\"T_06517_row1_col14\" class=\"data row1 col14\" >Same</td>\n",
       "      <td id=\"T_06517_row1_col15\" class=\"data row1 col15\" >No TTM</td>\n",
       "      <td id=\"T_06517_row1_col16\" class=\"data row1 col16\" >33</td>\n",
       "    </tr>\n",
       "    <tr>\n",
       "      <th id=\"T_06517_level0_row2\" class=\"row_heading level0 row2\" >76</th>\n",
       "      <td id=\"T_06517_row2_col0\" class=\"data row2 col0\" >406</td>\n",
       "      <td id=\"T_06517_row2_col1\" class=\"data row2 col1\" >36</td>\n",
       "      <td id=\"T_06517_row2_col2\" class=\"data row2 col2\" >0</td>\n",
       "      <td id=\"T_06517_row2_col3\" class=\"data row2 col3\" >0.476467</td>\n",
       "      <td id=\"T_06517_row2_col4\" class=\"data row2 col4\" >0.506723</td>\n",
       "      <td id=\"T_06517_row2_col5\" class=\"data row2 col5\" >0.478419</td>\n",
       "      <td id=\"T_06517_row2_col6\" class=\"data row2 col6\" >0.319527</td>\n",
       "      <td id=\"T_06517_row2_col7\" class=\"data row2 col7\" >0.318010</td>\n",
       "      <td id=\"T_06517_row2_col8\" class=\"data row2 col8\" >0.318010</td>\n",
       "      <td id=\"T_06517_row2_col9\" class=\"data row2 col9\" >Same</td>\n",
       "      <td id=\"T_06517_row2_col10\" class=\"data row2 col10\" >Original TTM</td>\n",
       "      <td id=\"T_06517_row2_col11\" class=\"data row2 col11\" >Same</td>\n",
       "      <td id=\"T_06517_row2_col12\" class=\"data row2 col12\" >Same</td>\n",
       "      <td id=\"T_06517_row2_col13\" class=\"data row2 col13\" >Original TTM</td>\n",
       "      <td id=\"T_06517_row2_col14\" class=\"data row2 col14\" >Same</td>\n",
       "      <td id=\"T_06517_row2_col15\" class=\"data row2 col15\" >36</td>\n",
       "      <td id=\"T_06517_row2_col16\" class=\"data row2 col16\" >36</td>\n",
       "    </tr>\n",
       "    <tr>\n",
       "      <th id=\"T_06517_level0_row3\" class=\"row_heading level0 row3\" >78</th>\n",
       "      <td id=\"T_06517_row3_col0\" class=\"data row3 col0\" >409</td>\n",
       "      <td id=\"T_06517_row3_col1\" class=\"data row3 col1\" >33</td>\n",
       "      <td id=\"T_06517_row3_col2\" class=\"data row3 col2\" >0</td>\n",
       "      <td id=\"T_06517_row3_col3\" class=\"data row3 col3\" >0.482083</td>\n",
       "      <td id=\"T_06517_row3_col4\" class=\"data row3 col4\" >0.539196</td>\n",
       "      <td id=\"T_06517_row3_col5\" class=\"data row3 col5\" >0.499245</td>\n",
       "      <td id=\"T_06517_row3_col6\" class=\"data row3 col6\" >0.353814</td>\n",
       "      <td id=\"T_06517_row3_col7\" class=\"data row3 col7\" >0.353814</td>\n",
       "      <td id=\"T_06517_row3_col8\" class=\"data row3 col8\" >0.418114</td>\n",
       "      <td id=\"T_06517_row3_col9\" class=\"data row3 col9\" >Original TTM</td>\n",
       "      <td id=\"T_06517_row3_col10\" class=\"data row3 col10\" >Same</td>\n",
       "      <td id=\"T_06517_row3_col11\" class=\"data row3 col11\" >Same</td>\n",
       "      <td id=\"T_06517_row3_col12\" class=\"data row3 col12\" >Original TTM</td>\n",
       "      <td id=\"T_06517_row3_col13\" class=\"data row3 col13\" >Same</td>\n",
       "      <td id=\"T_06517_row3_col14\" class=\"data row3 col14\" >Same</td>\n",
       "      <td id=\"T_06517_row3_col15\" class=\"data row3 col15\" >36</td>\n",
       "      <td id=\"T_06517_row3_col16\" class=\"data row3 col16\" >No TTM</td>\n",
       "    </tr>\n",
       "    <tr>\n",
       "      <th id=\"T_06517_level0_row4\" class=\"row_heading level0 row4\" >182</th>\n",
       "      <td id=\"T_06517_row4_col0\" class=\"data row4 col0\" >529</td>\n",
       "      <td id=\"T_06517_row4_col1\" class=\"data row4 col1\" >36</td>\n",
       "      <td id=\"T_06517_row4_col2\" class=\"data row4 col2\" >0</td>\n",
       "      <td id=\"T_06517_row4_col3\" class=\"data row4 col3\" >0.534055</td>\n",
       "      <td id=\"T_06517_row4_col4\" class=\"data row4 col4\" >0.540822</td>\n",
       "      <td id=\"T_06517_row4_col5\" class=\"data row4 col5\" >0.566322</td>\n",
       "      <td id=\"T_06517_row4_col6\" class=\"data row4 col6\" >0.353444</td>\n",
       "      <td id=\"T_06517_row4_col7\" class=\"data row4 col7\" >0.353444</td>\n",
       "      <td id=\"T_06517_row4_col8\" class=\"data row4 col8\" >0.417908</td>\n",
       "      <td id=\"T_06517_row4_col9\" class=\"data row4 col9\" >Same</td>\n",
       "      <td id=\"T_06517_row4_col10\" class=\"data row4 col10\" >Original TTM</td>\n",
       "      <td id=\"T_06517_row4_col11\" class=\"data row4 col11\" >Same</td>\n",
       "      <td id=\"T_06517_row4_col12\" class=\"data row4 col12\" >Same</td>\n",
       "      <td id=\"T_06517_row4_col13\" class=\"data row4 col13\" >Original TTM</td>\n",
       "      <td id=\"T_06517_row4_col14\" class=\"data row4 col14\" >Same</td>\n",
       "      <td id=\"T_06517_row4_col15\" class=\"data row4 col15\" >No TTM</td>\n",
       "      <td id=\"T_06517_row4_col16\" class=\"data row4 col16\" >No TTM</td>\n",
       "    </tr>\n",
       "    <tr>\n",
       "      <th id=\"T_06517_level0_row5\" class=\"row_heading level0 row5\" >495</th>\n",
       "      <td id=\"T_06517_row5_col0\" class=\"data row5 col0\" >890</td>\n",
       "      <td id=\"T_06517_row5_col1\" class=\"data row5 col1\" >33</td>\n",
       "      <td id=\"T_06517_row5_col2\" class=\"data row5 col2\" >0</td>\n",
       "      <td id=\"T_06517_row5_col3\" class=\"data row5 col3\" >0.568359</td>\n",
       "      <td id=\"T_06517_row5_col4\" class=\"data row5 col4\" >0.618112</td>\n",
       "      <td id=\"T_06517_row5_col5\" class=\"data row5 col5\" >0.572347</td>\n",
       "      <td id=\"T_06517_row5_col6\" class=\"data row5 col6\" >0.341290</td>\n",
       "      <td id=\"T_06517_row5_col7\" class=\"data row5 col7\" >0.341290</td>\n",
       "      <td id=\"T_06517_row5_col8\" class=\"data row5 col8\" >0.362664</td>\n",
       "      <td id=\"T_06517_row5_col9\" class=\"data row5 col9\" >Original TTM</td>\n",
       "      <td id=\"T_06517_row5_col10\" class=\"data row5 col10\" >Same</td>\n",
       "      <td id=\"T_06517_row5_col11\" class=\"data row5 col11\" >Same</td>\n",
       "      <td id=\"T_06517_row5_col12\" class=\"data row5 col12\" >Original TTM</td>\n",
       "      <td id=\"T_06517_row5_col13\" class=\"data row5 col13\" >Same</td>\n",
       "      <td id=\"T_06517_row5_col14\" class=\"data row5 col14\" >Same</td>\n",
       "      <td id=\"T_06517_row5_col15\" class=\"data row5 col15\" >36</td>\n",
       "      <td id=\"T_06517_row5_col16\" class=\"data row5 col16\" >33</td>\n",
       "    </tr>\n",
       "    <tr>\n",
       "      <th id=\"T_06517_level0_row6\" class=\"row_heading level0 row6\" >10</th>\n",
       "      <td id=\"T_06517_row6_col0\" class=\"data row6 col0\" >319</td>\n",
       "      <td id=\"T_06517_row6_col1\" class=\"data row6 col1\" >33</td>\n",
       "      <td id=\"T_06517_row6_col2\" class=\"data row6 col2\" >1</td>\n",
       "      <td id=\"T_06517_row6_col3\" class=\"data row6 col3\" >0.465720</td>\n",
       "      <td id=\"T_06517_row6_col4\" class=\"data row6 col4\" >0.477650</td>\n",
       "      <td id=\"T_06517_row6_col5\" class=\"data row6 col5\" >0.452713</td>\n",
       "      <td id=\"T_06517_row6_col6\" class=\"data row6 col6\" >0.484518</td>\n",
       "      <td id=\"T_06517_row6_col7\" class=\"data row6 col7\" >0.442586</td>\n",
       "      <td id=\"T_06517_row6_col8\" class=\"data row6 col8\" >0.442586</td>\n",
       "      <td id=\"T_06517_row6_col9\" class=\"data row6 col9\" >Original TTM</td>\n",
       "      <td id=\"T_06517_row6_col10\" class=\"data row6 col10\" >Same</td>\n",
       "      <td id=\"T_06517_row6_col11\" class=\"data row6 col11\" >Same</td>\n",
       "      <td id=\"T_06517_row6_col12\" class=\"data row6 col12\" >Original TTM</td>\n",
       "      <td id=\"T_06517_row6_col13\" class=\"data row6 col13\" >Same</td>\n",
       "      <td id=\"T_06517_row6_col14\" class=\"data row6 col14\" >Same</td>\n",
       "      <td id=\"T_06517_row6_col15\" class=\"data row6 col15\" >33</td>\n",
       "      <td id=\"T_06517_row6_col16\" class=\"data row6 col16\" >33</td>\n",
       "    </tr>\n",
       "    <tr>\n",
       "      <th id=\"T_06517_level0_row7\" class=\"row_heading level0 row7\" >131</th>\n",
       "      <td id=\"T_06517_row7_col0\" class=\"data row7 col0\" >465</td>\n",
       "      <td id=\"T_06517_row7_col1\" class=\"data row7 col1\" >No TTM</td>\n",
       "      <td id=\"T_06517_row7_col2\" class=\"data row7 col2\" >0</td>\n",
       "      <td id=\"T_06517_row7_col3\" class=\"data row7 col3\" >0.558678</td>\n",
       "      <td id=\"T_06517_row7_col4\" class=\"data row7 col4\" >0.592276</td>\n",
       "      <td id=\"T_06517_row7_col5\" class=\"data row7 col5\" >0.546167</td>\n",
       "      <td id=\"T_06517_row7_col6\" class=\"data row7 col6\" >0.283959</td>\n",
       "      <td id=\"T_06517_row7_col7\" class=\"data row7 col7\" >0.286463</td>\n",
       "      <td id=\"T_06517_row7_col8\" class=\"data row7 col8\" >0.307169</td>\n",
       "      <td id=\"T_06517_row7_col9\" class=\"data row7 col9\" >Same</td>\n",
       "      <td id=\"T_06517_row7_col10\" class=\"data row7 col10\" >Same</td>\n",
       "      <td id=\"T_06517_row7_col11\" class=\"data row7 col11\" >Original TTM</td>\n",
       "      <td id=\"T_06517_row7_col12\" class=\"data row7 col12\" >Same</td>\n",
       "      <td id=\"T_06517_row7_col13\" class=\"data row7 col13\" >Same</td>\n",
       "      <td id=\"T_06517_row7_col14\" class=\"data row7 col14\" >Original TTM</td>\n",
       "      <td id=\"T_06517_row7_col15\" class=\"data row7 col15\" >36</td>\n",
       "      <td id=\"T_06517_row7_col16\" class=\"data row7 col16\" >No TTM</td>\n",
       "    </tr>\n",
       "    <tr>\n",
       "      <th id=\"T_06517_level0_row8\" class=\"row_heading level0 row8\" >445</th>\n",
       "      <td id=\"T_06517_row8_col0\" class=\"data row8 col0\" >835</td>\n",
       "      <td id=\"T_06517_row8_col1\" class=\"data row8 col1\" >33</td>\n",
       "      <td id=\"T_06517_row8_col2\" class=\"data row8 col2\" >1</td>\n",
       "      <td id=\"T_06517_row8_col3\" class=\"data row8 col3\" >0.483777</td>\n",
       "      <td id=\"T_06517_row8_col4\" class=\"data row8 col4\" >0.544577</td>\n",
       "      <td id=\"T_06517_row8_col5\" class=\"data row8 col5\" >0.500375</td>\n",
       "      <td id=\"T_06517_row8_col6\" class=\"data row8 col6\" >0.603810</td>\n",
       "      <td id=\"T_06517_row8_col7\" class=\"data row8 col7\" >0.603810</td>\n",
       "      <td id=\"T_06517_row8_col8\" class=\"data row8 col8\" >0.603810</td>\n",
       "      <td id=\"T_06517_row8_col9\" class=\"data row8 col9\" >Original TTM</td>\n",
       "      <td id=\"T_06517_row8_col10\" class=\"data row8 col10\" >Same</td>\n",
       "      <td id=\"T_06517_row8_col11\" class=\"data row8 col11\" >Same</td>\n",
       "      <td id=\"T_06517_row8_col12\" class=\"data row8 col12\" >Original TTM</td>\n",
       "      <td id=\"T_06517_row8_col13\" class=\"data row8 col13\" >Same</td>\n",
       "      <td id=\"T_06517_row8_col14\" class=\"data row8 col14\" >Same</td>\n",
       "      <td id=\"T_06517_row8_col15\" class=\"data row8 col15\" >36</td>\n",
       "      <td id=\"T_06517_row8_col16\" class=\"data row8 col16\" >33</td>\n",
       "    </tr>\n",
       "    <tr>\n",
       "      <th id=\"T_06517_level0_row9\" class=\"row_heading level0 row9\" >86</th>\n",
       "      <td id=\"T_06517_row9_col0\" class=\"data row9 col0\" >417</td>\n",
       "      <td id=\"T_06517_row9_col1\" class=\"data row9 col1\" >33</td>\n",
       "      <td id=\"T_06517_row9_col2\" class=\"data row9 col2\" >0</td>\n",
       "      <td id=\"T_06517_row9_col3\" class=\"data row9 col3\" >0.503097</td>\n",
       "      <td id=\"T_06517_row9_col4\" class=\"data row9 col4\" >0.500719</td>\n",
       "      <td id=\"T_06517_row9_col5\" class=\"data row9 col5\" >0.507100</td>\n",
       "      <td id=\"T_06517_row9_col6\" class=\"data row9 col6\" >0.249554</td>\n",
       "      <td id=\"T_06517_row9_col7\" class=\"data row9 col7\" >0.249554</td>\n",
       "      <td id=\"T_06517_row9_col8\" class=\"data row9 col8\" >0.273313</td>\n",
       "      <td id=\"T_06517_row9_col9\" class=\"data row9 col9\" >Original TTM</td>\n",
       "      <td id=\"T_06517_row9_col10\" class=\"data row9 col10\" >Same</td>\n",
       "      <td id=\"T_06517_row9_col11\" class=\"data row9 col11\" >Same</td>\n",
       "      <td id=\"T_06517_row9_col12\" class=\"data row9 col12\" >Original TTM</td>\n",
       "      <td id=\"T_06517_row9_col13\" class=\"data row9 col13\" >Same</td>\n",
       "      <td id=\"T_06517_row9_col14\" class=\"data row9 col14\" >Same</td>\n",
       "      <td id=\"T_06517_row9_col15\" class=\"data row9 col15\" >33</td>\n",
       "      <td id=\"T_06517_row9_col16\" class=\"data row9 col16\" >33</td>\n",
       "    </tr>\n",
       "    <tr>\n",
       "      <th id=\"T_06517_level0_row10\" class=\"row_heading level0 row10\" >70</th>\n",
       "      <td id=\"T_06517_row10_col0\" class=\"data row10 col0\" >399</td>\n",
       "      <td id=\"T_06517_row10_col1\" class=\"data row10 col1\" >33</td>\n",
       "      <td id=\"T_06517_row10_col2\" class=\"data row10 col2\" >0</td>\n",
       "      <td id=\"T_06517_row10_col3\" class=\"data row10 col3\" >0.477605</td>\n",
       "      <td id=\"T_06517_row10_col4\" class=\"data row10 col4\" >0.523124</td>\n",
       "      <td id=\"T_06517_row10_col5\" class=\"data row10 col5\" >0.509667</td>\n",
       "      <td id=\"T_06517_row10_col6\" class=\"data row10 col6\" >0.238944</td>\n",
       "      <td id=\"T_06517_row10_col7\" class=\"data row10 col7\" >0.238944</td>\n",
       "      <td id=\"T_06517_row10_col8\" class=\"data row10 col8\" >0.259072</td>\n",
       "      <td id=\"T_06517_row10_col9\" class=\"data row10 col9\" >Original TTM</td>\n",
       "      <td id=\"T_06517_row10_col10\" class=\"data row10 col10\" >Same</td>\n",
       "      <td id=\"T_06517_row10_col11\" class=\"data row10 col11\" >Same</td>\n",
       "      <td id=\"T_06517_row10_col12\" class=\"data row10 col12\" >Original TTM</td>\n",
       "      <td id=\"T_06517_row10_col13\" class=\"data row10 col13\" >Same</td>\n",
       "      <td id=\"T_06517_row10_col14\" class=\"data row10 col14\" >Same</td>\n",
       "      <td id=\"T_06517_row10_col15\" class=\"data row10 col15\" >No TTM</td>\n",
       "      <td id=\"T_06517_row10_col16\" class=\"data row10 col16\" >33</td>\n",
       "    </tr>\n",
       "    <tr>\n",
       "      <th id=\"T_06517_level0_row11\" class=\"row_heading level0 row11\" >546</th>\n",
       "      <td id=\"T_06517_row11_col0\" class=\"data row11 col0\" >951</td>\n",
       "      <td id=\"T_06517_row11_col1\" class=\"data row11 col1\" >33</td>\n",
       "      <td id=\"T_06517_row11_col2\" class=\"data row11 col2\" >1</td>\n",
       "      <td id=\"T_06517_row11_col3\" class=\"data row11 col3\" >0.511718</td>\n",
       "      <td id=\"T_06517_row11_col4\" class=\"data row11 col4\" >0.577227</td>\n",
       "      <td id=\"T_06517_row11_col5\" class=\"data row11 col5\" >0.530987</td>\n",
       "      <td id=\"T_06517_row11_col6\" class=\"data row11 col6\" >0.603810</td>\n",
       "      <td id=\"T_06517_row11_col7\" class=\"data row11 col7\" >0.603810</td>\n",
       "      <td id=\"T_06517_row11_col8\" class=\"data row11 col8\" >0.603810</td>\n",
       "      <td id=\"T_06517_row11_col9\" class=\"data row11 col9\" >Original TTM</td>\n",
       "      <td id=\"T_06517_row11_col10\" class=\"data row11 col10\" >Same</td>\n",
       "      <td id=\"T_06517_row11_col11\" class=\"data row11 col11\" >Same</td>\n",
       "      <td id=\"T_06517_row11_col12\" class=\"data row11 col12\" >Original TTM</td>\n",
       "      <td id=\"T_06517_row11_col13\" class=\"data row11 col13\" >Same</td>\n",
       "      <td id=\"T_06517_row11_col14\" class=\"data row11 col14\" >Same</td>\n",
       "      <td id=\"T_06517_row11_col15\" class=\"data row11 col15\" >36</td>\n",
       "      <td id=\"T_06517_row11_col16\" class=\"data row11 col16\" >33</td>\n",
       "    </tr>\n",
       "    <tr>\n",
       "      <th id=\"T_06517_level0_row12\" class=\"row_heading level0 row12\" >380</th>\n",
       "      <td id=\"T_06517_row12_col0\" class=\"data row12 col0\" >758</td>\n",
       "      <td id=\"T_06517_row12_col1\" class=\"data row12 col1\" >36</td>\n",
       "      <td id=\"T_06517_row12_col2\" class=\"data row12 col2\" >0</td>\n",
       "      <td id=\"T_06517_row12_col3\" class=\"data row12 col3\" >0.504020</td>\n",
       "      <td id=\"T_06517_row12_col4\" class=\"data row12 col4\" >0.545900</td>\n",
       "      <td id=\"T_06517_row12_col5\" class=\"data row12 col5\" >0.520835</td>\n",
       "      <td id=\"T_06517_row12_col6\" class=\"data row12 col6\" >0.239490</td>\n",
       "      <td id=\"T_06517_row12_col7\" class=\"data row12 col7\" >0.239490</td>\n",
       "      <td id=\"T_06517_row12_col8\" class=\"data row12 col8\" >0.260584</td>\n",
       "      <td id=\"T_06517_row12_col9\" class=\"data row12 col9\" >Same</td>\n",
       "      <td id=\"T_06517_row12_col10\" class=\"data row12 col10\" >Original TTM</td>\n",
       "      <td id=\"T_06517_row12_col11\" class=\"data row12 col11\" >Same</td>\n",
       "      <td id=\"T_06517_row12_col12\" class=\"data row12 col12\" >Same</td>\n",
       "      <td id=\"T_06517_row12_col13\" class=\"data row12 col13\" >Original TTM</td>\n",
       "      <td id=\"T_06517_row12_col14\" class=\"data row12 col14\" >Same</td>\n",
       "      <td id=\"T_06517_row12_col15\" class=\"data row12 col15\" >36</td>\n",
       "      <td id=\"T_06517_row12_col16\" class=\"data row12 col16\" >36</td>\n",
       "    </tr>\n",
       "    <tr>\n",
       "      <th id=\"T_06517_level0_row13\" class=\"row_heading level0 row13\" >210</th>\n",
       "      <td id=\"T_06517_row13_col0\" class=\"data row13 col0\" >561</td>\n",
       "      <td id=\"T_06517_row13_col1\" class=\"data row13 col1\" >33</td>\n",
       "      <td id=\"T_06517_row13_col2\" class=\"data row13 col2\" >0</td>\n",
       "      <td id=\"T_06517_row13_col3\" class=\"data row13 col3\" >0.534400</td>\n",
       "      <td id=\"T_06517_row13_col4\" class=\"data row13 col4\" >0.568600</td>\n",
       "      <td id=\"T_06517_row13_col5\" class=\"data row13 col5\" >0.535740</td>\n",
       "      <td id=\"T_06517_row13_col6\" class=\"data row13 col6\" >0.253731</td>\n",
       "      <td id=\"T_06517_row13_col7\" class=\"data row13 col7\" >0.256672</td>\n",
       "      <td id=\"T_06517_row13_col8\" class=\"data row13 col8\" >0.304804</td>\n",
       "      <td id=\"T_06517_row13_col9\" class=\"data row13 col9\" >Original TTM</td>\n",
       "      <td id=\"T_06517_row13_col10\" class=\"data row13 col10\" >Same</td>\n",
       "      <td id=\"T_06517_row13_col11\" class=\"data row13 col11\" >Same</td>\n",
       "      <td id=\"T_06517_row13_col12\" class=\"data row13 col12\" >Original TTM</td>\n",
       "      <td id=\"T_06517_row13_col13\" class=\"data row13 col13\" >Same</td>\n",
       "      <td id=\"T_06517_row13_col14\" class=\"data row13 col14\" >Same</td>\n",
       "      <td id=\"T_06517_row13_col15\" class=\"data row13 col15\" >36</td>\n",
       "      <td id=\"T_06517_row13_col16\" class=\"data row13 col16\" >No TTM</td>\n",
       "    </tr>\n",
       "    <tr>\n",
       "      <th id=\"T_06517_level0_row14\" class=\"row_heading level0 row14\" >55</th>\n",
       "      <td id=\"T_06517_row14_col0\" class=\"data row14 col0\" >380</td>\n",
       "      <td id=\"T_06517_row14_col1\" class=\"data row14 col1\" >No TTM</td>\n",
       "      <td id=\"T_06517_row14_col2\" class=\"data row14 col2\" >0</td>\n",
       "      <td id=\"T_06517_row14_col3\" class=\"data row14 col3\" >0.516139</td>\n",
       "      <td id=\"T_06517_row14_col4\" class=\"data row14 col4\" >0.575905</td>\n",
       "      <td id=\"T_06517_row14_col5\" class=\"data row14 col5\" >0.512367</td>\n",
       "      <td id=\"T_06517_row14_col6\" class=\"data row14 col6\" >0.331399</td>\n",
       "      <td id=\"T_06517_row14_col7\" class=\"data row14 col7\" >0.329090</td>\n",
       "      <td id=\"T_06517_row14_col8\" class=\"data row14 col8\" >0.331359</td>\n",
       "      <td id=\"T_06517_row14_col9\" class=\"data row14 col9\" >Same</td>\n",
       "      <td id=\"T_06517_row14_col10\" class=\"data row14 col10\" >Same</td>\n",
       "      <td id=\"T_06517_row14_col11\" class=\"data row14 col11\" >Original TTM</td>\n",
       "      <td id=\"T_06517_row14_col12\" class=\"data row14 col12\" >Same</td>\n",
       "      <td id=\"T_06517_row14_col13\" class=\"data row14 col13\" >Same</td>\n",
       "      <td id=\"T_06517_row14_col14\" class=\"data row14 col14\" >Original TTM</td>\n",
       "      <td id=\"T_06517_row14_col15\" class=\"data row14 col15\" >36</td>\n",
       "      <td id=\"T_06517_row14_col16\" class=\"data row14 col16\" >No TTM</td>\n",
       "    </tr>\n",
       "    <tr>\n",
       "      <th id=\"T_06517_level0_row15\" class=\"row_heading level0 row15\" >404</th>\n",
       "      <td id=\"T_06517_row15_col0\" class=\"data row15 col0\" >784</td>\n",
       "      <td id=\"T_06517_row15_col1\" class=\"data row15 col1\" >33</td>\n",
       "      <td id=\"T_06517_row15_col2\" class=\"data row15 col2\" >0</td>\n",
       "      <td id=\"T_06517_row15_col3\" class=\"data row15 col3\" >0.496618</td>\n",
       "      <td id=\"T_06517_row15_col4\" class=\"data row15 col4\" >0.561420</td>\n",
       "      <td id=\"T_06517_row15_col5\" class=\"data row15 col5\" >0.524028</td>\n",
       "      <td id=\"T_06517_row15_col6\" class=\"data row15 col6\" >0.353814</td>\n",
       "      <td id=\"T_06517_row15_col7\" class=\"data row15 col7\" >0.353814</td>\n",
       "      <td id=\"T_06517_row15_col8\" class=\"data row15 col8\" >0.426334</td>\n",
       "      <td id=\"T_06517_row15_col9\" class=\"data row15 col9\" >Original TTM</td>\n",
       "      <td id=\"T_06517_row15_col10\" class=\"data row15 col10\" >Same</td>\n",
       "      <td id=\"T_06517_row15_col11\" class=\"data row15 col11\" >Same</td>\n",
       "      <td id=\"T_06517_row15_col12\" class=\"data row15 col12\" >Original TTM</td>\n",
       "      <td id=\"T_06517_row15_col13\" class=\"data row15 col13\" >Same</td>\n",
       "      <td id=\"T_06517_row15_col14\" class=\"data row15 col14\" >Same</td>\n",
       "      <td id=\"T_06517_row15_col15\" class=\"data row15 col15\" >No TTM</td>\n",
       "      <td id=\"T_06517_row15_col16\" class=\"data row15 col16\" >No TTM</td>\n",
       "    </tr>\n",
       "    <tr>\n",
       "      <th id=\"T_06517_level0_row16\" class=\"row_heading level0 row16\" >30</th>\n",
       "      <td id=\"T_06517_row16_col0\" class=\"data row16 col0\" >354</td>\n",
       "      <td id=\"T_06517_row16_col1\" class=\"data row16 col1\" >33</td>\n",
       "      <td id=\"T_06517_row16_col2\" class=\"data row16 col2\" >1</td>\n",
       "      <td id=\"T_06517_row16_col3\" class=\"data row16 col3\" >0.510030</td>\n",
       "      <td id=\"T_06517_row16_col4\" class=\"data row16 col4\" >0.565360</td>\n",
       "      <td id=\"T_06517_row16_col5\" class=\"data row16 col5\" >0.512049</td>\n",
       "      <td id=\"T_06517_row16_col6\" class=\"data row16 col6\" >0.545848</td>\n",
       "      <td id=\"T_06517_row16_col7\" class=\"data row16 col7\" >0.505960</td>\n",
       "      <td id=\"T_06517_row16_col8\" class=\"data row16 col8\" >0.505960</td>\n",
       "      <td id=\"T_06517_row16_col9\" class=\"data row16 col9\" >Original TTM</td>\n",
       "      <td id=\"T_06517_row16_col10\" class=\"data row16 col10\" >Same</td>\n",
       "      <td id=\"T_06517_row16_col11\" class=\"data row16 col11\" >Same</td>\n",
       "      <td id=\"T_06517_row16_col12\" class=\"data row16 col12\" >Original TTM</td>\n",
       "      <td id=\"T_06517_row16_col13\" class=\"data row16 col13\" >Same</td>\n",
       "      <td id=\"T_06517_row16_col14\" class=\"data row16 col14\" >Same</td>\n",
       "      <td id=\"T_06517_row16_col15\" class=\"data row16 col15\" >36</td>\n",
       "      <td id=\"T_06517_row16_col16\" class=\"data row16 col16\" >33</td>\n",
       "    </tr>\n",
       "    <tr>\n",
       "      <th id=\"T_06517_level0_row17\" class=\"row_heading level0 row17\" >280</th>\n",
       "      <td id=\"T_06517_row17_col0\" class=\"data row17 col0\" >644</td>\n",
       "      <td id=\"T_06517_row17_col1\" class=\"data row17 col1\" >33</td>\n",
       "      <td id=\"T_06517_row17_col2\" class=\"data row17 col2\" >1</td>\n",
       "      <td id=\"T_06517_row17_col3\" class=\"data row17 col3\" >0.514010</td>\n",
       "      <td id=\"T_06517_row17_col4\" class=\"data row17 col4\" >0.587230</td>\n",
       "      <td id=\"T_06517_row17_col5\" class=\"data row17 col5\" >0.535101</td>\n",
       "      <td id=\"T_06517_row17_col6\" class=\"data row17 col6\" >0.603810</td>\n",
       "      <td id=\"T_06517_row17_col7\" class=\"data row17 col7\" >0.603810</td>\n",
       "      <td id=\"T_06517_row17_col8\" class=\"data row17 col8\" >0.603810</td>\n",
       "      <td id=\"T_06517_row17_col9\" class=\"data row17 col9\" >Original TTM</td>\n",
       "      <td id=\"T_06517_row17_col10\" class=\"data row17 col10\" >Same</td>\n",
       "      <td id=\"T_06517_row17_col11\" class=\"data row17 col11\" >Same</td>\n",
       "      <td id=\"T_06517_row17_col12\" class=\"data row17 col12\" >Original TTM</td>\n",
       "      <td id=\"T_06517_row17_col13\" class=\"data row17 col13\" >Same</td>\n",
       "      <td id=\"T_06517_row17_col14\" class=\"data row17 col14\" >Same</td>\n",
       "      <td id=\"T_06517_row17_col15\" class=\"data row17 col15\" >36</td>\n",
       "      <td id=\"T_06517_row17_col16\" class=\"data row17 col16\" >33</td>\n",
       "    </tr>\n",
       "    <tr>\n",
       "      <th id=\"T_06517_level0_row18\" class=\"row_heading level0 row18\" >109</th>\n",
       "      <td id=\"T_06517_row18_col0\" class=\"data row18 col0\" >441</td>\n",
       "      <td id=\"T_06517_row18_col1\" class=\"data row18 col1\" >33</td>\n",
       "      <td id=\"T_06517_row18_col2\" class=\"data row18 col2\" >0</td>\n",
       "      <td id=\"T_06517_row18_col3\" class=\"data row18 col3\" >0.484289</td>\n",
       "      <td id=\"T_06517_row18_col4\" class=\"data row18 col4\" >0.509435</td>\n",
       "      <td id=\"T_06517_row18_col5\" class=\"data row18 col5\" >0.506278</td>\n",
       "      <td id=\"T_06517_row18_col6\" class=\"data row18 col6\" >0.240703</td>\n",
       "      <td id=\"T_06517_row18_col7\" class=\"data row18 col7\" >0.240703</td>\n",
       "      <td id=\"T_06517_row18_col8\" class=\"data row18 col8\" >0.277625</td>\n",
       "      <td id=\"T_06517_row18_col9\" class=\"data row18 col9\" >Original TTM</td>\n",
       "      <td id=\"T_06517_row18_col10\" class=\"data row18 col10\" >Same</td>\n",
       "      <td id=\"T_06517_row18_col11\" class=\"data row18 col11\" >Same</td>\n",
       "      <td id=\"T_06517_row18_col12\" class=\"data row18 col12\" >Original TTM</td>\n",
       "      <td id=\"T_06517_row18_col13\" class=\"data row18 col13\" >Same</td>\n",
       "      <td id=\"T_06517_row18_col14\" class=\"data row18 col14\" >Same</td>\n",
       "      <td id=\"T_06517_row18_col15\" class=\"data row18 col15\" >36</td>\n",
       "      <td id=\"T_06517_row18_col16\" class=\"data row18 col16\" >No TTM</td>\n",
       "    </tr>\n",
       "    <tr>\n",
       "      <th id=\"T_06517_level0_row19\" class=\"row_heading level0 row19\" >595</th>\n",
       "      <td id=\"T_06517_row19_col0\" class=\"data row19 col0\" >1008</td>\n",
       "      <td id=\"T_06517_row19_col1\" class=\"data row19 col1\" >No TTM</td>\n",
       "      <td id=\"T_06517_row19_col2\" class=\"data row19 col2\" >0</td>\n",
       "      <td id=\"T_06517_row19_col3\" class=\"data row19 col3\" >0.489822</td>\n",
       "      <td id=\"T_06517_row19_col4\" class=\"data row19 col4\" >0.515557</td>\n",
       "      <td id=\"T_06517_row19_col5\" class=\"data row19 col5\" >0.526009</td>\n",
       "      <td id=\"T_06517_row19_col6\" class=\"data row19 col6\" >0.246472</td>\n",
       "      <td id=\"T_06517_row19_col7\" class=\"data row19 col7\" >0.246472</td>\n",
       "      <td id=\"T_06517_row19_col8\" class=\"data row19 col8\" >0.286133</td>\n",
       "      <td id=\"T_06517_row19_col9\" class=\"data row19 col9\" >Same</td>\n",
       "      <td id=\"T_06517_row19_col10\" class=\"data row19 col10\" >Same</td>\n",
       "      <td id=\"T_06517_row19_col11\" class=\"data row19 col11\" >Original TTM</td>\n",
       "      <td id=\"T_06517_row19_col12\" class=\"data row19 col12\" >Same</td>\n",
       "      <td id=\"T_06517_row19_col13\" class=\"data row19 col13\" >Same</td>\n",
       "      <td id=\"T_06517_row19_col14\" class=\"data row19 col14\" >Original TTM</td>\n",
       "      <td id=\"T_06517_row19_col15\" class=\"data row19 col15\" >No TTM</td>\n",
       "      <td id=\"T_06517_row19_col16\" class=\"data row19 col16\" >No TTM</td>\n",
       "    </tr>\n",
       "  </tbody>\n",
       "</table>\n"
      ],
      "text/plain": [
       "<pandas.io.formats.style.Styler at 0x19cd77dab70>"
      ]
     },
     "execution_count": 37,
     "metadata": {},
     "output_type": "execute_result"
    }
   ],
   "source": [
    "# Define color mapping function for assessments\n",
    "def color_assessment(val):\n",
    "    if val == \"Lower\":\n",
    "        return \"background-color: lightcoral\"\n",
    "    elif val == \"Higher\":\n",
    "        return \"background-color: lightgreen\"\n",
    "    elif val == \"Same\":\n",
    "        return \"background-color: lightyellow\"\n",
    "    elif val == \"Original TTM\":\n",
    "        return \"background-color: lightblue\"\n",
    "    return \"\"\n",
    "\n",
    "combined_predictions_df.sample(20, random_state=42)\\\n",
    "    .style.map(color_assessment, subset=['NN_TTM_33_Asses', 'NN_TTM_36_Asses', 'NN_No_TTM_Asses', 'xgb_TTM_33_Asses', 'xgb_TTM_36_Asses', 'xgb_No_TTM_Asses'])"
   ]
  },
  {
   "cell_type": "code",
   "execution_count": 38,
   "metadata": {},
   "outputs": [
    {
     "name": "stdout",
     "output_type": "stream",
     "text": [
      "Transition Table for NN\n"
     ]
    },
    {
     "data": {
      "text/html": [
       "<div>\n",
       "<style scoped>\n",
       "    .dataframe tbody tr th:only-of-type {\n",
       "        vertical-align: middle;\n",
       "    }\n",
       "\n",
       "    .dataframe tbody tr th {\n",
       "        vertical-align: top;\n",
       "    }\n",
       "\n",
       "    .dataframe thead th {\n",
       "        text-align: right;\n",
       "    }\n",
       "</style>\n",
       "<table border=\"1\" class=\"dataframe\">\n",
       "  <thead>\n",
       "    <tr style=\"text-align: right;\">\n",
       "      <th>Best_Prediction_NN</th>\n",
       "      <th>33</th>\n",
       "      <th>36</th>\n",
       "      <th>No TTM</th>\n",
       "    </tr>\n",
       "    <tr>\n",
       "      <th>Original_TTM</th>\n",
       "      <th></th>\n",
       "      <th></th>\n",
       "      <th></th>\n",
       "    </tr>\n",
       "  </thead>\n",
       "  <tbody>\n",
       "    <tr>\n",
       "      <th>33</th>\n",
       "      <td>15.0%</td>\n",
       "      <td>45.1%</td>\n",
       "      <td>40.0%</td>\n",
       "    </tr>\n",
       "    <tr>\n",
       "      <th>36</th>\n",
       "      <td>0.0%</td>\n",
       "      <td>98.4%</td>\n",
       "      <td>1.6%</td>\n",
       "    </tr>\n",
       "    <tr>\n",
       "      <th>No TTM</th>\n",
       "      <td>0.0%</td>\n",
       "      <td>45.9%</td>\n",
       "      <td>54.1%</td>\n",
       "    </tr>\n",
       "  </tbody>\n",
       "</table>\n",
       "</div>"
      ],
      "text/plain": [
       "Best_Prediction_NN     33     36 No TTM\n",
       "Original_TTM                           \n",
       "33                  15.0%  45.1%  40.0%\n",
       "36                   0.0%  98.4%   1.6%\n",
       "No TTM               0.0%  45.9%  54.1%"
      ]
     },
     "metadata": {},
     "output_type": "display_data"
    },
    {
     "name": "stdout",
     "output_type": "stream",
     "text": [
      "Transition Table for XGB\n"
     ]
    },
    {
     "data": {
      "text/html": [
       "<div>\n",
       "<style scoped>\n",
       "    .dataframe tbody tr th:only-of-type {\n",
       "        vertical-align: middle;\n",
       "    }\n",
       "\n",
       "    .dataframe tbody tr th {\n",
       "        vertical-align: top;\n",
       "    }\n",
       "\n",
       "    .dataframe thead th {\n",
       "        text-align: right;\n",
       "    }\n",
       "</style>\n",
       "<table border=\"1\" class=\"dataframe\">\n",
       "  <thead>\n",
       "    <tr style=\"text-align: right;\">\n",
       "      <th>Best_Prediction_XGB</th>\n",
       "      <th>33</th>\n",
       "      <th>36</th>\n",
       "      <th>No TTM</th>\n",
       "    </tr>\n",
       "    <tr>\n",
       "      <th>Original_TTM</th>\n",
       "      <th></th>\n",
       "      <th></th>\n",
       "      <th></th>\n",
       "    </tr>\n",
       "  </thead>\n",
       "  <tbody>\n",
       "    <tr>\n",
       "      <th>33</th>\n",
       "      <td>67.0%</td>\n",
       "      <td>0.0%</td>\n",
       "      <td>33.0%</td>\n",
       "    </tr>\n",
       "    <tr>\n",
       "      <th>36</th>\n",
       "      <td>32.8%</td>\n",
       "      <td>47.5%</td>\n",
       "      <td>19.7%</td>\n",
       "    </tr>\n",
       "    <tr>\n",
       "      <th>No TTM</th>\n",
       "      <td>8.2%</td>\n",
       "      <td>0.0%</td>\n",
       "      <td>91.8%</td>\n",
       "    </tr>\n",
       "  </tbody>\n",
       "</table>\n",
       "</div>"
      ],
      "text/plain": [
       "Best_Prediction_XGB     33     36 No TTM\n",
       "Original_TTM                            \n",
       "33                   67.0%   0.0%  33.0%\n",
       "36                   32.8%  47.5%  19.7%\n",
       "No TTM                8.2%   0.0%  91.8%"
      ]
     },
     "metadata": {},
     "output_type": "display_data"
    }
   ],
   "source": [
    "# Function to create a pivot table showing transitions from Original_TTM to Best_Prediction for a given model\n",
    "def create_transition_table(data, model_name):\n",
    "    # Count the transitions from Original_TTM to Best_Prediction for the model\n",
    "    sankey_data = data.groupby(['Original_TTM', f'Best_Prediction_{model_name}']).size().reset_index(name='count')\n",
    "    \n",
    "    # Create a pivot table to show counts of transitions from Original_TTM to Best_Prediction\n",
    "    sankey_matrix = sankey_data.pivot(index='Original_TTM', columns=f'Best_Prediction_{model_name}', values='count').fillna(0)\n",
    "    \n",
    "    # Calculate row-wise percentages to get the percentage of each original protocol going to each best protocol\n",
    "    sankey_percentage_matrix = sankey_matrix.div(sankey_matrix.sum(axis=1), axis=0) * 100\n",
    "    \n",
    "    # Format as percentage with one decimal place\n",
    "    sankey_percentage_matrix = sankey_percentage_matrix.round(1).astype(str) + '%'\n",
    "    \n",
    "    # Display the percentage matrix\n",
    "    print(f\"Transition Table for {model_name}\")\n",
    "    display(sankey_percentage_matrix)\n",
    "\n",
    "# Create and display transition tables for Neural Network and XGBoost\n",
    "create_transition_table(combined_predictions_df, \"NN\")\n",
    "create_transition_table(combined_predictions_df, \"XGB\")\n"
   ]
  },
  {
   "cell_type": "code",
   "execution_count": 39,
   "metadata": {},
   "outputs": [
    {
     "data": {
      "application/vnd.plotly.v1+json": {
       "config": {
        "plotlyServerURL": "https://plot.ly"
       },
       "data": [
        {
         "link": {
          "label": [
           "15.0%",
           "45.1%",
           "40.0%",
           "98.4%",
           "1.6%",
           "45.9%",
           "54.1%"
          ],
          "source": [
           0,
           0,
           0,
           1,
           1,
           2,
           2
          ],
          "target": [
           3,
           4,
           5,
           4,
           5,
           4,
           5
          ],
          "value": [
           67,
           202,
           179,
           60,
           1,
           45,
           53
          ]
         },
         "node": {
          "label": [
           "Original 33",
           "Original 36",
           "Original No TTM",
           "Best 33",
           "Best 36",
           "Best No TTM"
          ],
          "line": {
           "color": "black",
           "width": 0.5
          },
          "pad": 15,
          "thickness": 20
         },
         "type": "sankey"
        }
       ],
       "layout": {
        "font": {
         "size": 12
        },
        "template": {
         "data": {
          "bar": [
           {
            "error_x": {
             "color": "#2a3f5f"
            },
            "error_y": {
             "color": "#2a3f5f"
            },
            "marker": {
             "line": {
              "color": "#E5ECF6",
              "width": 0.5
             },
             "pattern": {
              "fillmode": "overlay",
              "size": 10,
              "solidity": 0.2
             }
            },
            "type": "bar"
           }
          ],
          "barpolar": [
           {
            "marker": {
             "line": {
              "color": "#E5ECF6",
              "width": 0.5
             },
             "pattern": {
              "fillmode": "overlay",
              "size": 10,
              "solidity": 0.2
             }
            },
            "type": "barpolar"
           }
          ],
          "carpet": [
           {
            "aaxis": {
             "endlinecolor": "#2a3f5f",
             "gridcolor": "white",
             "linecolor": "white",
             "minorgridcolor": "white",
             "startlinecolor": "#2a3f5f"
            },
            "baxis": {
             "endlinecolor": "#2a3f5f",
             "gridcolor": "white",
             "linecolor": "white",
             "minorgridcolor": "white",
             "startlinecolor": "#2a3f5f"
            },
            "type": "carpet"
           }
          ],
          "choropleth": [
           {
            "colorbar": {
             "outlinewidth": 0,
             "ticks": ""
            },
            "type": "choropleth"
           }
          ],
          "contour": [
           {
            "colorbar": {
             "outlinewidth": 0,
             "ticks": ""
            },
            "colorscale": [
             [
              0,
              "#0d0887"
             ],
             [
              0.1111111111111111,
              "#46039f"
             ],
             [
              0.2222222222222222,
              "#7201a8"
             ],
             [
              0.3333333333333333,
              "#9c179e"
             ],
             [
              0.4444444444444444,
              "#bd3786"
             ],
             [
              0.5555555555555556,
              "#d8576b"
             ],
             [
              0.6666666666666666,
              "#ed7953"
             ],
             [
              0.7777777777777778,
              "#fb9f3a"
             ],
             [
              0.8888888888888888,
              "#fdca26"
             ],
             [
              1,
              "#f0f921"
             ]
            ],
            "type": "contour"
           }
          ],
          "contourcarpet": [
           {
            "colorbar": {
             "outlinewidth": 0,
             "ticks": ""
            },
            "type": "contourcarpet"
           }
          ],
          "heatmap": [
           {
            "colorbar": {
             "outlinewidth": 0,
             "ticks": ""
            },
            "colorscale": [
             [
              0,
              "#0d0887"
             ],
             [
              0.1111111111111111,
              "#46039f"
             ],
             [
              0.2222222222222222,
              "#7201a8"
             ],
             [
              0.3333333333333333,
              "#9c179e"
             ],
             [
              0.4444444444444444,
              "#bd3786"
             ],
             [
              0.5555555555555556,
              "#d8576b"
             ],
             [
              0.6666666666666666,
              "#ed7953"
             ],
             [
              0.7777777777777778,
              "#fb9f3a"
             ],
             [
              0.8888888888888888,
              "#fdca26"
             ],
             [
              1,
              "#f0f921"
             ]
            ],
            "type": "heatmap"
           }
          ],
          "heatmapgl": [
           {
            "colorbar": {
             "outlinewidth": 0,
             "ticks": ""
            },
            "colorscale": [
             [
              0,
              "#0d0887"
             ],
             [
              0.1111111111111111,
              "#46039f"
             ],
             [
              0.2222222222222222,
              "#7201a8"
             ],
             [
              0.3333333333333333,
              "#9c179e"
             ],
             [
              0.4444444444444444,
              "#bd3786"
             ],
             [
              0.5555555555555556,
              "#d8576b"
             ],
             [
              0.6666666666666666,
              "#ed7953"
             ],
             [
              0.7777777777777778,
              "#fb9f3a"
             ],
             [
              0.8888888888888888,
              "#fdca26"
             ],
             [
              1,
              "#f0f921"
             ]
            ],
            "type": "heatmapgl"
           }
          ],
          "histogram": [
           {
            "marker": {
             "pattern": {
              "fillmode": "overlay",
              "size": 10,
              "solidity": 0.2
             }
            },
            "type": "histogram"
           }
          ],
          "histogram2d": [
           {
            "colorbar": {
             "outlinewidth": 0,
             "ticks": ""
            },
            "colorscale": [
             [
              0,
              "#0d0887"
             ],
             [
              0.1111111111111111,
              "#46039f"
             ],
             [
              0.2222222222222222,
              "#7201a8"
             ],
             [
              0.3333333333333333,
              "#9c179e"
             ],
             [
              0.4444444444444444,
              "#bd3786"
             ],
             [
              0.5555555555555556,
              "#d8576b"
             ],
             [
              0.6666666666666666,
              "#ed7953"
             ],
             [
              0.7777777777777778,
              "#fb9f3a"
             ],
             [
              0.8888888888888888,
              "#fdca26"
             ],
             [
              1,
              "#f0f921"
             ]
            ],
            "type": "histogram2d"
           }
          ],
          "histogram2dcontour": [
           {
            "colorbar": {
             "outlinewidth": 0,
             "ticks": ""
            },
            "colorscale": [
             [
              0,
              "#0d0887"
             ],
             [
              0.1111111111111111,
              "#46039f"
             ],
             [
              0.2222222222222222,
              "#7201a8"
             ],
             [
              0.3333333333333333,
              "#9c179e"
             ],
             [
              0.4444444444444444,
              "#bd3786"
             ],
             [
              0.5555555555555556,
              "#d8576b"
             ],
             [
              0.6666666666666666,
              "#ed7953"
             ],
             [
              0.7777777777777778,
              "#fb9f3a"
             ],
             [
              0.8888888888888888,
              "#fdca26"
             ],
             [
              1,
              "#f0f921"
             ]
            ],
            "type": "histogram2dcontour"
           }
          ],
          "mesh3d": [
           {
            "colorbar": {
             "outlinewidth": 0,
             "ticks": ""
            },
            "type": "mesh3d"
           }
          ],
          "parcoords": [
           {
            "line": {
             "colorbar": {
              "outlinewidth": 0,
              "ticks": ""
             }
            },
            "type": "parcoords"
           }
          ],
          "pie": [
           {
            "automargin": true,
            "type": "pie"
           }
          ],
          "scatter": [
           {
            "fillpattern": {
             "fillmode": "overlay",
             "size": 10,
             "solidity": 0.2
            },
            "type": "scatter"
           }
          ],
          "scatter3d": [
           {
            "line": {
             "colorbar": {
              "outlinewidth": 0,
              "ticks": ""
             }
            },
            "marker": {
             "colorbar": {
              "outlinewidth": 0,
              "ticks": ""
             }
            },
            "type": "scatter3d"
           }
          ],
          "scattercarpet": [
           {
            "marker": {
             "colorbar": {
              "outlinewidth": 0,
              "ticks": ""
             }
            },
            "type": "scattercarpet"
           }
          ],
          "scattergeo": [
           {
            "marker": {
             "colorbar": {
              "outlinewidth": 0,
              "ticks": ""
             }
            },
            "type": "scattergeo"
           }
          ],
          "scattergl": [
           {
            "marker": {
             "colorbar": {
              "outlinewidth": 0,
              "ticks": ""
             }
            },
            "type": "scattergl"
           }
          ],
          "scattermapbox": [
           {
            "marker": {
             "colorbar": {
              "outlinewidth": 0,
              "ticks": ""
             }
            },
            "type": "scattermapbox"
           }
          ],
          "scatterpolar": [
           {
            "marker": {
             "colorbar": {
              "outlinewidth": 0,
              "ticks": ""
             }
            },
            "type": "scatterpolar"
           }
          ],
          "scatterpolargl": [
           {
            "marker": {
             "colorbar": {
              "outlinewidth": 0,
              "ticks": ""
             }
            },
            "type": "scatterpolargl"
           }
          ],
          "scatterternary": [
           {
            "marker": {
             "colorbar": {
              "outlinewidth": 0,
              "ticks": ""
             }
            },
            "type": "scatterternary"
           }
          ],
          "surface": [
           {
            "colorbar": {
             "outlinewidth": 0,
             "ticks": ""
            },
            "colorscale": [
             [
              0,
              "#0d0887"
             ],
             [
              0.1111111111111111,
              "#46039f"
             ],
             [
              0.2222222222222222,
              "#7201a8"
             ],
             [
              0.3333333333333333,
              "#9c179e"
             ],
             [
              0.4444444444444444,
              "#bd3786"
             ],
             [
              0.5555555555555556,
              "#d8576b"
             ],
             [
              0.6666666666666666,
              "#ed7953"
             ],
             [
              0.7777777777777778,
              "#fb9f3a"
             ],
             [
              0.8888888888888888,
              "#fdca26"
             ],
             [
              1,
              "#f0f921"
             ]
            ],
            "type": "surface"
           }
          ],
          "table": [
           {
            "cells": {
             "fill": {
              "color": "#EBF0F8"
             },
             "line": {
              "color": "white"
             }
            },
            "header": {
             "fill": {
              "color": "#C8D4E3"
             },
             "line": {
              "color": "white"
             }
            },
            "type": "table"
           }
          ]
         },
         "layout": {
          "annotationdefaults": {
           "arrowcolor": "#2a3f5f",
           "arrowhead": 0,
           "arrowwidth": 1
          },
          "autotypenumbers": "strict",
          "coloraxis": {
           "colorbar": {
            "outlinewidth": 0,
            "ticks": ""
           }
          },
          "colorscale": {
           "diverging": [
            [
             0,
             "#8e0152"
            ],
            [
             0.1,
             "#c51b7d"
            ],
            [
             0.2,
             "#de77ae"
            ],
            [
             0.3,
             "#f1b6da"
            ],
            [
             0.4,
             "#fde0ef"
            ],
            [
             0.5,
             "#f7f7f7"
            ],
            [
             0.6,
             "#e6f5d0"
            ],
            [
             0.7,
             "#b8e186"
            ],
            [
             0.8,
             "#7fbc41"
            ],
            [
             0.9,
             "#4d9221"
            ],
            [
             1,
             "#276419"
            ]
           ],
           "sequential": [
            [
             0,
             "#0d0887"
            ],
            [
             0.1111111111111111,
             "#46039f"
            ],
            [
             0.2222222222222222,
             "#7201a8"
            ],
            [
             0.3333333333333333,
             "#9c179e"
            ],
            [
             0.4444444444444444,
             "#bd3786"
            ],
            [
             0.5555555555555556,
             "#d8576b"
            ],
            [
             0.6666666666666666,
             "#ed7953"
            ],
            [
             0.7777777777777778,
             "#fb9f3a"
            ],
            [
             0.8888888888888888,
             "#fdca26"
            ],
            [
             1,
             "#f0f921"
            ]
           ],
           "sequentialminus": [
            [
             0,
             "#0d0887"
            ],
            [
             0.1111111111111111,
             "#46039f"
            ],
            [
             0.2222222222222222,
             "#7201a8"
            ],
            [
             0.3333333333333333,
             "#9c179e"
            ],
            [
             0.4444444444444444,
             "#bd3786"
            ],
            [
             0.5555555555555556,
             "#d8576b"
            ],
            [
             0.6666666666666666,
             "#ed7953"
            ],
            [
             0.7777777777777778,
             "#fb9f3a"
            ],
            [
             0.8888888888888888,
             "#fdca26"
            ],
            [
             1,
             "#f0f921"
            ]
           ]
          },
          "colorway": [
           "#636efa",
           "#EF553B",
           "#00cc96",
           "#ab63fa",
           "#FFA15A",
           "#19d3f3",
           "#FF6692",
           "#B6E880",
           "#FF97FF",
           "#FECB52"
          ],
          "font": {
           "color": "#2a3f5f"
          },
          "geo": {
           "bgcolor": "white",
           "lakecolor": "white",
           "landcolor": "#E5ECF6",
           "showlakes": true,
           "showland": true,
           "subunitcolor": "white"
          },
          "hoverlabel": {
           "align": "left"
          },
          "hovermode": "closest",
          "mapbox": {
           "style": "light"
          },
          "paper_bgcolor": "white",
          "plot_bgcolor": "#E5ECF6",
          "polar": {
           "angularaxis": {
            "gridcolor": "white",
            "linecolor": "white",
            "ticks": ""
           },
           "bgcolor": "#E5ECF6",
           "radialaxis": {
            "gridcolor": "white",
            "linecolor": "white",
            "ticks": ""
           }
          },
          "scene": {
           "xaxis": {
            "backgroundcolor": "#E5ECF6",
            "gridcolor": "white",
            "gridwidth": 2,
            "linecolor": "white",
            "showbackground": true,
            "ticks": "",
            "zerolinecolor": "white"
           },
           "yaxis": {
            "backgroundcolor": "#E5ECF6",
            "gridcolor": "white",
            "gridwidth": 2,
            "linecolor": "white",
            "showbackground": true,
            "ticks": "",
            "zerolinecolor": "white"
           },
           "zaxis": {
            "backgroundcolor": "#E5ECF6",
            "gridcolor": "white",
            "gridwidth": 2,
            "linecolor": "white",
            "showbackground": true,
            "ticks": "",
            "zerolinecolor": "white"
           }
          },
          "shapedefaults": {
           "line": {
            "color": "#2a3f5f"
           }
          },
          "ternary": {
           "aaxis": {
            "gridcolor": "white",
            "linecolor": "white",
            "ticks": ""
           },
           "baxis": {
            "gridcolor": "white",
            "linecolor": "white",
            "ticks": ""
           },
           "bgcolor": "#E5ECF6",
           "caxis": {
            "gridcolor": "white",
            "linecolor": "white",
            "ticks": ""
           }
          },
          "title": {
           "x": 0.05
          },
          "xaxis": {
           "automargin": true,
           "gridcolor": "white",
           "linecolor": "white",
           "ticks": "",
           "title": {
            "standoff": 15
           },
           "zerolinecolor": "white",
           "zerolinewidth": 2
          },
          "yaxis": {
           "automargin": true,
           "gridcolor": "white",
           "linecolor": "white",
           "ticks": "",
           "title": {
            "standoff": 15
           },
           "zerolinecolor": "white",
           "zerolinewidth": 2
          }
         }
        },
        "title": {
         "text": "Sankey Diagram of TTM Protocol Changes (Original to Best Prediction - NN)"
        }
       }
      }
     },
     "metadata": {},
     "output_type": "display_data"
    },
    {
     "data": {
      "application/vnd.plotly.v1+json": {
       "config": {
        "plotlyServerURL": "https://plot.ly"
       },
       "data": [
        {
         "link": {
          "label": [
           "67.0%",
           "33.0%",
           "32.8%",
           "47.5%",
           "19.7%",
           "8.2%",
           "91.8%"
          ],
          "source": [
           0,
           0,
           1,
           1,
           1,
           2,
           2
          ],
          "target": [
           3,
           4,
           3,
           5,
           4,
           3,
           4
          ],
          "value": [
           300,
           148,
           20,
           29,
           12,
           8,
           90
          ]
         },
         "node": {
          "label": [
           "Original 33",
           "Original 36",
           "Original No TTM",
           "Best 33",
           "Best No TTM",
           "Best 36"
          ],
          "line": {
           "color": "black",
           "width": 0.5
          },
          "pad": 15,
          "thickness": 20
         },
         "type": "sankey"
        }
       ],
       "layout": {
        "font": {
         "size": 12
        },
        "template": {
         "data": {
          "bar": [
           {
            "error_x": {
             "color": "#2a3f5f"
            },
            "error_y": {
             "color": "#2a3f5f"
            },
            "marker": {
             "line": {
              "color": "#E5ECF6",
              "width": 0.5
             },
             "pattern": {
              "fillmode": "overlay",
              "size": 10,
              "solidity": 0.2
             }
            },
            "type": "bar"
           }
          ],
          "barpolar": [
           {
            "marker": {
             "line": {
              "color": "#E5ECF6",
              "width": 0.5
             },
             "pattern": {
              "fillmode": "overlay",
              "size": 10,
              "solidity": 0.2
             }
            },
            "type": "barpolar"
           }
          ],
          "carpet": [
           {
            "aaxis": {
             "endlinecolor": "#2a3f5f",
             "gridcolor": "white",
             "linecolor": "white",
             "minorgridcolor": "white",
             "startlinecolor": "#2a3f5f"
            },
            "baxis": {
             "endlinecolor": "#2a3f5f",
             "gridcolor": "white",
             "linecolor": "white",
             "minorgridcolor": "white",
             "startlinecolor": "#2a3f5f"
            },
            "type": "carpet"
           }
          ],
          "choropleth": [
           {
            "colorbar": {
             "outlinewidth": 0,
             "ticks": ""
            },
            "type": "choropleth"
           }
          ],
          "contour": [
           {
            "colorbar": {
             "outlinewidth": 0,
             "ticks": ""
            },
            "colorscale": [
             [
              0,
              "#0d0887"
             ],
             [
              0.1111111111111111,
              "#46039f"
             ],
             [
              0.2222222222222222,
              "#7201a8"
             ],
             [
              0.3333333333333333,
              "#9c179e"
             ],
             [
              0.4444444444444444,
              "#bd3786"
             ],
             [
              0.5555555555555556,
              "#d8576b"
             ],
             [
              0.6666666666666666,
              "#ed7953"
             ],
             [
              0.7777777777777778,
              "#fb9f3a"
             ],
             [
              0.8888888888888888,
              "#fdca26"
             ],
             [
              1,
              "#f0f921"
             ]
            ],
            "type": "contour"
           }
          ],
          "contourcarpet": [
           {
            "colorbar": {
             "outlinewidth": 0,
             "ticks": ""
            },
            "type": "contourcarpet"
           }
          ],
          "heatmap": [
           {
            "colorbar": {
             "outlinewidth": 0,
             "ticks": ""
            },
            "colorscale": [
             [
              0,
              "#0d0887"
             ],
             [
              0.1111111111111111,
              "#46039f"
             ],
             [
              0.2222222222222222,
              "#7201a8"
             ],
             [
              0.3333333333333333,
              "#9c179e"
             ],
             [
              0.4444444444444444,
              "#bd3786"
             ],
             [
              0.5555555555555556,
              "#d8576b"
             ],
             [
              0.6666666666666666,
              "#ed7953"
             ],
             [
              0.7777777777777778,
              "#fb9f3a"
             ],
             [
              0.8888888888888888,
              "#fdca26"
             ],
             [
              1,
              "#f0f921"
             ]
            ],
            "type": "heatmap"
           }
          ],
          "heatmapgl": [
           {
            "colorbar": {
             "outlinewidth": 0,
             "ticks": ""
            },
            "colorscale": [
             [
              0,
              "#0d0887"
             ],
             [
              0.1111111111111111,
              "#46039f"
             ],
             [
              0.2222222222222222,
              "#7201a8"
             ],
             [
              0.3333333333333333,
              "#9c179e"
             ],
             [
              0.4444444444444444,
              "#bd3786"
             ],
             [
              0.5555555555555556,
              "#d8576b"
             ],
             [
              0.6666666666666666,
              "#ed7953"
             ],
             [
              0.7777777777777778,
              "#fb9f3a"
             ],
             [
              0.8888888888888888,
              "#fdca26"
             ],
             [
              1,
              "#f0f921"
             ]
            ],
            "type": "heatmapgl"
           }
          ],
          "histogram": [
           {
            "marker": {
             "pattern": {
              "fillmode": "overlay",
              "size": 10,
              "solidity": 0.2
             }
            },
            "type": "histogram"
           }
          ],
          "histogram2d": [
           {
            "colorbar": {
             "outlinewidth": 0,
             "ticks": ""
            },
            "colorscale": [
             [
              0,
              "#0d0887"
             ],
             [
              0.1111111111111111,
              "#46039f"
             ],
             [
              0.2222222222222222,
              "#7201a8"
             ],
             [
              0.3333333333333333,
              "#9c179e"
             ],
             [
              0.4444444444444444,
              "#bd3786"
             ],
             [
              0.5555555555555556,
              "#d8576b"
             ],
             [
              0.6666666666666666,
              "#ed7953"
             ],
             [
              0.7777777777777778,
              "#fb9f3a"
             ],
             [
              0.8888888888888888,
              "#fdca26"
             ],
             [
              1,
              "#f0f921"
             ]
            ],
            "type": "histogram2d"
           }
          ],
          "histogram2dcontour": [
           {
            "colorbar": {
             "outlinewidth": 0,
             "ticks": ""
            },
            "colorscale": [
             [
              0,
              "#0d0887"
             ],
             [
              0.1111111111111111,
              "#46039f"
             ],
             [
              0.2222222222222222,
              "#7201a8"
             ],
             [
              0.3333333333333333,
              "#9c179e"
             ],
             [
              0.4444444444444444,
              "#bd3786"
             ],
             [
              0.5555555555555556,
              "#d8576b"
             ],
             [
              0.6666666666666666,
              "#ed7953"
             ],
             [
              0.7777777777777778,
              "#fb9f3a"
             ],
             [
              0.8888888888888888,
              "#fdca26"
             ],
             [
              1,
              "#f0f921"
             ]
            ],
            "type": "histogram2dcontour"
           }
          ],
          "mesh3d": [
           {
            "colorbar": {
             "outlinewidth": 0,
             "ticks": ""
            },
            "type": "mesh3d"
           }
          ],
          "parcoords": [
           {
            "line": {
             "colorbar": {
              "outlinewidth": 0,
              "ticks": ""
             }
            },
            "type": "parcoords"
           }
          ],
          "pie": [
           {
            "automargin": true,
            "type": "pie"
           }
          ],
          "scatter": [
           {
            "fillpattern": {
             "fillmode": "overlay",
             "size": 10,
             "solidity": 0.2
            },
            "type": "scatter"
           }
          ],
          "scatter3d": [
           {
            "line": {
             "colorbar": {
              "outlinewidth": 0,
              "ticks": ""
             }
            },
            "marker": {
             "colorbar": {
              "outlinewidth": 0,
              "ticks": ""
             }
            },
            "type": "scatter3d"
           }
          ],
          "scattercarpet": [
           {
            "marker": {
             "colorbar": {
              "outlinewidth": 0,
              "ticks": ""
             }
            },
            "type": "scattercarpet"
           }
          ],
          "scattergeo": [
           {
            "marker": {
             "colorbar": {
              "outlinewidth": 0,
              "ticks": ""
             }
            },
            "type": "scattergeo"
           }
          ],
          "scattergl": [
           {
            "marker": {
             "colorbar": {
              "outlinewidth": 0,
              "ticks": ""
             }
            },
            "type": "scattergl"
           }
          ],
          "scattermapbox": [
           {
            "marker": {
             "colorbar": {
              "outlinewidth": 0,
              "ticks": ""
             }
            },
            "type": "scattermapbox"
           }
          ],
          "scatterpolar": [
           {
            "marker": {
             "colorbar": {
              "outlinewidth": 0,
              "ticks": ""
             }
            },
            "type": "scatterpolar"
           }
          ],
          "scatterpolargl": [
           {
            "marker": {
             "colorbar": {
              "outlinewidth": 0,
              "ticks": ""
             }
            },
            "type": "scatterpolargl"
           }
          ],
          "scatterternary": [
           {
            "marker": {
             "colorbar": {
              "outlinewidth": 0,
              "ticks": ""
             }
            },
            "type": "scatterternary"
           }
          ],
          "surface": [
           {
            "colorbar": {
             "outlinewidth": 0,
             "ticks": ""
            },
            "colorscale": [
             [
              0,
              "#0d0887"
             ],
             [
              0.1111111111111111,
              "#46039f"
             ],
             [
              0.2222222222222222,
              "#7201a8"
             ],
             [
              0.3333333333333333,
              "#9c179e"
             ],
             [
              0.4444444444444444,
              "#bd3786"
             ],
             [
              0.5555555555555556,
              "#d8576b"
             ],
             [
              0.6666666666666666,
              "#ed7953"
             ],
             [
              0.7777777777777778,
              "#fb9f3a"
             ],
             [
              0.8888888888888888,
              "#fdca26"
             ],
             [
              1,
              "#f0f921"
             ]
            ],
            "type": "surface"
           }
          ],
          "table": [
           {
            "cells": {
             "fill": {
              "color": "#EBF0F8"
             },
             "line": {
              "color": "white"
             }
            },
            "header": {
             "fill": {
              "color": "#C8D4E3"
             },
             "line": {
              "color": "white"
             }
            },
            "type": "table"
           }
          ]
         },
         "layout": {
          "annotationdefaults": {
           "arrowcolor": "#2a3f5f",
           "arrowhead": 0,
           "arrowwidth": 1
          },
          "autotypenumbers": "strict",
          "coloraxis": {
           "colorbar": {
            "outlinewidth": 0,
            "ticks": ""
           }
          },
          "colorscale": {
           "diverging": [
            [
             0,
             "#8e0152"
            ],
            [
             0.1,
             "#c51b7d"
            ],
            [
             0.2,
             "#de77ae"
            ],
            [
             0.3,
             "#f1b6da"
            ],
            [
             0.4,
             "#fde0ef"
            ],
            [
             0.5,
             "#f7f7f7"
            ],
            [
             0.6,
             "#e6f5d0"
            ],
            [
             0.7,
             "#b8e186"
            ],
            [
             0.8,
             "#7fbc41"
            ],
            [
             0.9,
             "#4d9221"
            ],
            [
             1,
             "#276419"
            ]
           ],
           "sequential": [
            [
             0,
             "#0d0887"
            ],
            [
             0.1111111111111111,
             "#46039f"
            ],
            [
             0.2222222222222222,
             "#7201a8"
            ],
            [
             0.3333333333333333,
             "#9c179e"
            ],
            [
             0.4444444444444444,
             "#bd3786"
            ],
            [
             0.5555555555555556,
             "#d8576b"
            ],
            [
             0.6666666666666666,
             "#ed7953"
            ],
            [
             0.7777777777777778,
             "#fb9f3a"
            ],
            [
             0.8888888888888888,
             "#fdca26"
            ],
            [
             1,
             "#f0f921"
            ]
           ],
           "sequentialminus": [
            [
             0,
             "#0d0887"
            ],
            [
             0.1111111111111111,
             "#46039f"
            ],
            [
             0.2222222222222222,
             "#7201a8"
            ],
            [
             0.3333333333333333,
             "#9c179e"
            ],
            [
             0.4444444444444444,
             "#bd3786"
            ],
            [
             0.5555555555555556,
             "#d8576b"
            ],
            [
             0.6666666666666666,
             "#ed7953"
            ],
            [
             0.7777777777777778,
             "#fb9f3a"
            ],
            [
             0.8888888888888888,
             "#fdca26"
            ],
            [
             1,
             "#f0f921"
            ]
           ]
          },
          "colorway": [
           "#636efa",
           "#EF553B",
           "#00cc96",
           "#ab63fa",
           "#FFA15A",
           "#19d3f3",
           "#FF6692",
           "#B6E880",
           "#FF97FF",
           "#FECB52"
          ],
          "font": {
           "color": "#2a3f5f"
          },
          "geo": {
           "bgcolor": "white",
           "lakecolor": "white",
           "landcolor": "#E5ECF6",
           "showlakes": true,
           "showland": true,
           "subunitcolor": "white"
          },
          "hoverlabel": {
           "align": "left"
          },
          "hovermode": "closest",
          "mapbox": {
           "style": "light"
          },
          "paper_bgcolor": "white",
          "plot_bgcolor": "#E5ECF6",
          "polar": {
           "angularaxis": {
            "gridcolor": "white",
            "linecolor": "white",
            "ticks": ""
           },
           "bgcolor": "#E5ECF6",
           "radialaxis": {
            "gridcolor": "white",
            "linecolor": "white",
            "ticks": ""
           }
          },
          "scene": {
           "xaxis": {
            "backgroundcolor": "#E5ECF6",
            "gridcolor": "white",
            "gridwidth": 2,
            "linecolor": "white",
            "showbackground": true,
            "ticks": "",
            "zerolinecolor": "white"
           },
           "yaxis": {
            "backgroundcolor": "#E5ECF6",
            "gridcolor": "white",
            "gridwidth": 2,
            "linecolor": "white",
            "showbackground": true,
            "ticks": "",
            "zerolinecolor": "white"
           },
           "zaxis": {
            "backgroundcolor": "#E5ECF6",
            "gridcolor": "white",
            "gridwidth": 2,
            "linecolor": "white",
            "showbackground": true,
            "ticks": "",
            "zerolinecolor": "white"
           }
          },
          "shapedefaults": {
           "line": {
            "color": "#2a3f5f"
           }
          },
          "ternary": {
           "aaxis": {
            "gridcolor": "white",
            "linecolor": "white",
            "ticks": ""
           },
           "baxis": {
            "gridcolor": "white",
            "linecolor": "white",
            "ticks": ""
           },
           "bgcolor": "#E5ECF6",
           "caxis": {
            "gridcolor": "white",
            "linecolor": "white",
            "ticks": ""
           }
          },
          "title": {
           "x": 0.05
          },
          "xaxis": {
           "automargin": true,
           "gridcolor": "white",
           "linecolor": "white",
           "ticks": "",
           "title": {
            "standoff": 15
           },
           "zerolinecolor": "white",
           "zerolinewidth": 2
          },
          "yaxis": {
           "automargin": true,
           "gridcolor": "white",
           "linecolor": "white",
           "ticks": "",
           "title": {
            "standoff": 15
           },
           "zerolinecolor": "white",
           "zerolinewidth": 2
          }
         }
        },
        "title": {
         "text": "Sankey Diagram of TTM Protocol Changes (Original to Best Prediction - XGB)"
        }
       }
      }
     },
     "metadata": {},
     "output_type": "display_data"
    }
   ],
   "source": [
    "import plotly.graph_objects as go\n",
    "\n",
    "# Define a function to create a Sankey diagram for a given DataFrame and model name\n",
    "def create_sankey(data, model_name):\n",
    "    # Count the transitions from Original_TTM to Best_Prediction\n",
    "    sankey_data = data.groupby(['Original_TTM', f'Best_Prediction_{model_name}']).size().reset_index(name='count')\n",
    "    \n",
    "    # Calculate total patients in each Original_TTM group\n",
    "    group_totals = sankey_data.groupby('Original_TTM')['count'].transform('sum')\n",
    "    \n",
    "    # Calculate percentage within each Original_TTM group\n",
    "    sankey_data['percentage'] = (sankey_data['count'] / group_totals * 100).round(1)\n",
    "    \n",
    "    # Define unique nodes for original and best protocols\n",
    "    original_nodes = [f\"Original {protocol}\" for protocol in sankey_data['Original_TTM'].unique()]\n",
    "    best_nodes = [f\"Best {protocol}\" for protocol in sankey_data[f'Best_Prediction_{model_name}'].unique()]\n",
    "    nodes = original_nodes + best_nodes\n",
    "    \n",
    "    # Map each node to a unique index for Sankey\n",
    "    node_map = {node: i for i, node in enumerate(nodes)}\n",
    "    \n",
    "    # Define the sources, targets, values, and labels for the Sankey diagram\n",
    "    sankey_data['source'] = sankey_data['Original_TTM'].map(lambda x: node_map[f\"Original {x}\"])\n",
    "    sankey_data['target'] = sankey_data[f'Best_Prediction_{model_name}'].map(lambda x: node_map[f\"Best {x}\"])\n",
    "    sources = sankey_data['source'].tolist()\n",
    "    targets = sankey_data['target'].tolist()\n",
    "    values = sankey_data['count'].tolist()\n",
    "    \n",
    "    # Use the group percentage labels for each link\n",
    "    labels = [f\"{percentage}%\" for percentage in sankey_data['percentage']]\n",
    "    \n",
    "    # Create the Sankey diagram\n",
    "    fig = go.Figure(go.Sankey(\n",
    "        node=dict(\n",
    "            pad=15,\n",
    "            thickness=20,\n",
    "            line=dict(color=\"black\", width=0.5),\n",
    "            label=nodes,\n",
    "        ),\n",
    "        link=dict(\n",
    "            source=sources,  # Indices of source nodes\n",
    "            target=targets,  # Indices of target nodes\n",
    "            value=values,    # Flow values between nodes\n",
    "            label=labels     # Group percentage labels on each link\n",
    "        )\n",
    "    ))\n",
    "    \n",
    "    # Add title and display\n",
    "    fig.update_layout(title_text=f\"Sankey Diagram of TTM Protocol Changes (Original to Best Prediction - {model_name})\", font_size=12)\n",
    "    fig.show()\n",
    "\n",
    "# Create and display Sankey diagram for Neural Network\n",
    "create_sankey(combined_predictions_df, \"NN\")\n",
    "\n",
    "# Create and display Sankey diagram for XGBoost\n",
    "create_sankey(combined_predictions_df, \"XGB\")\n"
   ]
  },
  {
   "cell_type": "code",
   "execution_count": 40,
   "metadata": {},
   "outputs": [
    {
     "data": {
      "image/png": "[encoded data removed]",
      "text/plain": [
       "<Figure size 1000x600 with 1 Axes>"
      ]
     },
     "metadata": {},
     "output_type": "display_data"
    },
    {
     "data": {
      "image/png": "[encoded data removed]",
      "text/plain": [
       "<Figure size 1000x600 with 1 Axes>"
      ]
     },
     "metadata": {},
     "output_type": "display_data"
    },
    {
     "name": "stdout",
     "output_type": "stream",
     "text": [
      "Neural Network Predictions - Number of data points for TTM 33: 607\n",
      "Neural Network Predictions - Number of data points for TTM 36: 607\n",
      "Neural Network Predictions - Number of data points for No TTM: 607\n",
      "XGBoost Predictions - Number of data points for TTM 33: 607\n",
      "XGBoost Predictions - Number of data points for TTM 36: 607\n",
      "XGBoost Predictions - Number of data points for No TTM: 607\n"
     ]
    }
   ],
   "source": [
    "import matplotlib.pyplot as plt\n",
    "import seaborn as sns\n",
    "\n",
    "# Set up the figure for Neural Network predictions\n",
    "plt.figure(figsize=(10, 6))\n",
    "sns.histplot(combined_predictions_df['NN_Pred_TTM_33'], color=\"blue\", label=\"NN TTM 33\", kde=True)\n",
    "sns.histplot(combined_predictions_df['NN_Pred_TTM_36'], color=\"green\", label=\"NN TTM 36\", kde=True)\n",
    "sns.histplot(combined_predictions_df['NN_Pred_No_TTM'], color=\"red\", label=\"NN No TTM\", kde=True)\n",
    "plt.title(\"Distribution of Predicted Values for Each TTM Protocol - Neural Network\")\n",
    "plt.xlabel(\"Predicted Value\")\n",
    "plt.ylabel(\"Frequency\")\n",
    "plt.legend()\n",
    "plt.show()\n",
    "\n",
    "# Set up the figure for XGBoost predictions\n",
    "plt.figure(figsize=(10, 6))\n",
    "sns.histplot(combined_predictions_df['xgb_Pred_TTM_33'], color=\"blue\", label=\"XGBoost TTM 33\", kde=True)\n",
    "sns.histplot(combined_predictions_df['xgb_Pred_TTM_36'], color=\"green\", label=\"XGBoost TTM 36\", kde=True)\n",
    "sns.histplot(combined_predictions_df['xgb_Pred_No_TTM'], color=\"red\", label=\"XGBoost No TTM\", kde=True)\n",
    "plt.title(\"Distribution of Predicted Values for Each TTM Protocol - XGBoost\")\n",
    "plt.xlabel(\"Predicted Value\")\n",
    "plt.ylabel(\"Frequency\")\n",
    "plt.legend()\n",
    "plt.show()\n",
    "\n",
    "# Calculate the number of data points for each TTM protocol in NN predictions\n",
    "num_points_nn_ttm_33 = combined_predictions_df['NN_Pred_TTM_33'].notnull().sum()\n",
    "num_points_nn_ttm_36 = combined_predictions_df['NN_Pred_TTM_36'].notnull().sum()\n",
    "num_points_nn_no_ttm = combined_predictions_df['NN_Pred_No_TTM'].notnull().sum()\n",
    "\n",
    "# Calculate the number of data points for each TTM protocol in XGBoost predictions\n",
    "num_points_xgb_ttm_33 = combined_predictions_df['xgb_Pred_TTM_33'].notnull().sum()\n",
    "num_points_xgb_ttm_36 = combined_predictions_df['xgb_Pred_TTM_36'].notnull().sum()\n",
    "num_points_xgb_no_ttm = combined_predictions_df['xgb_Pred_No_TTM'].notnull().sum()\n",
    "\n",
    "# Display the counts\n",
    "print(f\"Neural Network Predictions - Number of data points for TTM 33: {num_points_nn_ttm_33}\")\n",
    "print(f\"Neural Network Predictions - Number of data points for TTM 36: {num_points_nn_ttm_36}\")\n",
    "print(f\"Neural Network Predictions - Number of data points for No TTM: {num_points_nn_no_ttm}\")\n",
    "\n",
    "print(f\"XGBoost Predictions - Number of data points for TTM 33: {num_points_xgb_ttm_33}\")\n",
    "print(f\"XGBoost Predictions - Number of data points for TTM 36: {num_points_xgb_ttm_36}\")\n",
    "print(f\"XGBoost Predictions - Number of data points for No TTM: {num_points_xgb_no_ttm}\")\n"
   ]
  },
  {
   "cell_type": "markdown",
   "metadata": {},
   "source": [
    "# Let them vote"
   ]
  },
  {
   "cell_type": "code",
   "execution_count": 54,
   "metadata": {},
   "outputs": [
    {
     "data": {
      "text/html": [
       "<div>\n",
       "<style scoped>\n",
       "    .dataframe tbody tr th:only-of-type {\n",
       "        vertical-align: middle;\n",
       "    }\n",
       "\n",
       "    .dataframe tbody tr th {\n",
       "        vertical-align: top;\n",
       "    }\n",
       "\n",
       "    .dataframe thead th {\n",
       "        text-align: right;\n",
       "    }\n",
       "</style>\n",
       "<table border=\"1\" class=\"dataframe\">\n",
       "  <thead>\n",
       "    <tr style=\"text-align: right;\">\n",
       "      <th></th>\n",
       "      <th>Patient</th>\n",
       "      <th>Original_TTM</th>\n",
       "      <th>Outcome</th>\n",
       "      <th>NN_Pred_TTM_33</th>\n",
       "      <th>NN_Pred_TTM_36</th>\n",
       "      <th>NN_Pred_No_TTM</th>\n",
       "      <th>xgb_Pred_TTM_33</th>\n",
       "      <th>xgb_Pred_TTM_36</th>\n",
       "      <th>xgb_Pred_No_TTM</th>\n",
       "      <th>NN_TTM_33_Asses</th>\n",
       "      <th>NN_TTM_36_Asses</th>\n",
       "      <th>NN_No_TTM_Asses</th>\n",
       "      <th>xgb_TTM_33_Asses</th>\n",
       "      <th>xgb_TTM_36_Asses</th>\n",
       "      <th>xgb_No_TTM_Asses</th>\n",
       "      <th>Best_Prediction_NN</th>\n",
       "      <th>Best_Prediction_XGB</th>\n",
       "      <th>Overall_Best_TTM</th>\n",
       "    </tr>\n",
       "  </thead>\n",
       "  <tbody>\n",
       "    <tr>\n",
       "      <th>18</th>\n",
       "      <td>340</td>\n",
       "      <td>33</td>\n",
       "      <td>1</td>\n",
       "      <td>0.490968</td>\n",
       "      <td>0.523681</td>\n",
       "      <td>0.531338</td>\n",
       "      <td>0.408141</td>\n",
       "      <td>0.408141</td>\n",
       "      <td>0.471180</td>\n",
       "      <td>Original TTM</td>\n",
       "      <td>Same</td>\n",
       "      <td>Same</td>\n",
       "      <td>Original TTM</td>\n",
       "      <td>Same</td>\n",
       "      <td>Same</td>\n",
       "      <td>No TTM</td>\n",
       "      <td>No TTM</td>\n",
       "      <td>No TTM</td>\n",
       "    </tr>\n",
       "    <tr>\n",
       "      <th>35</th>\n",
       "      <td>359</td>\n",
       "      <td>33</td>\n",
       "      <td>0</td>\n",
       "      <td>0.458443</td>\n",
       "      <td>0.493900</td>\n",
       "      <td>0.502121</td>\n",
       "      <td>0.238660</td>\n",
       "      <td>0.238660</td>\n",
       "      <td>0.272403</td>\n",
       "      <td>Original TTM</td>\n",
       "      <td>Same</td>\n",
       "      <td>Same</td>\n",
       "      <td>Original TTM</td>\n",
       "      <td>Same</td>\n",
       "      <td>Same</td>\n",
       "      <td>No TTM</td>\n",
       "      <td>No TTM</td>\n",
       "      <td>No TTM</td>\n",
       "    </tr>\n",
       "    <tr>\n",
       "      <th>40</th>\n",
       "      <td>364</td>\n",
       "      <td>33</td>\n",
       "      <td>0</td>\n",
       "      <td>0.457540</td>\n",
       "      <td>0.480897</td>\n",
       "      <td>0.485833</td>\n",
       "      <td>0.245695</td>\n",
       "      <td>0.245695</td>\n",
       "      <td>0.287944</td>\n",
       "      <td>Original TTM</td>\n",
       "      <td>Same</td>\n",
       "      <td>Same</td>\n",
       "      <td>Original TTM</td>\n",
       "      <td>Same</td>\n",
       "      <td>Same</td>\n",
       "      <td>No TTM</td>\n",
       "      <td>No TTM</td>\n",
       "      <td>No TTM</td>\n",
       "    </tr>\n",
       "    <tr>\n",
       "      <th>42</th>\n",
       "      <td>366</td>\n",
       "      <td>33</td>\n",
       "      <td>0</td>\n",
       "      <td>0.476233</td>\n",
       "      <td>0.525195</td>\n",
       "      <td>0.515470</td>\n",
       "      <td>0.251013</td>\n",
       "      <td>0.251013</td>\n",
       "      <td>0.298936</td>\n",
       "      <td>Original TTM</td>\n",
       "      <td>Same</td>\n",
       "      <td>Same</td>\n",
       "      <td>Original TTM</td>\n",
       "      <td>Same</td>\n",
       "      <td>Same</td>\n",
       "      <td>No TTM</td>\n",
       "      <td>No TTM</td>\n",
       "      <td>No TTM</td>\n",
       "    </tr>\n",
       "    <tr>\n",
       "      <th>53</th>\n",
       "      <td>378</td>\n",
       "      <td>33</td>\n",
       "      <td>0</td>\n",
       "      <td>0.479616</td>\n",
       "      <td>0.524898</td>\n",
       "      <td>0.506779</td>\n",
       "      <td>0.240703</td>\n",
       "      <td>0.240703</td>\n",
       "      <td>0.277625</td>\n",
       "      <td>Original TTM</td>\n",
       "      <td>Same</td>\n",
       "      <td>Same</td>\n",
       "      <td>Original TTM</td>\n",
       "      <td>Same</td>\n",
       "      <td>Same</td>\n",
       "      <td>No TTM</td>\n",
       "      <td>No TTM</td>\n",
       "      <td>No TTM</td>\n",
       "    </tr>\n",
       "    <tr>\n",
       "      <th>...</th>\n",
       "      <td>...</td>\n",
       "      <td>...</td>\n",
       "      <td>...</td>\n",
       "      <td>...</td>\n",
       "      <td>...</td>\n",
       "      <td>...</td>\n",
       "      <td>...</td>\n",
       "      <td>...</td>\n",
       "      <td>...</td>\n",
       "      <td>...</td>\n",
       "      <td>...</td>\n",
       "      <td>...</td>\n",
       "      <td>...</td>\n",
       "      <td>...</td>\n",
       "      <td>...</td>\n",
       "      <td>...</td>\n",
       "      <td>...</td>\n",
       "      <td>...</td>\n",
       "    </tr>\n",
       "    <tr>\n",
       "      <th>575</th>\n",
       "      <td>984</td>\n",
       "      <td>33</td>\n",
       "      <td>0</td>\n",
       "      <td>0.478078</td>\n",
       "      <td>0.512714</td>\n",
       "      <td>0.510532</td>\n",
       "      <td>0.240703</td>\n",
       "      <td>0.240703</td>\n",
       "      <td>0.277625</td>\n",
       "      <td>Original TTM</td>\n",
       "      <td>Same</td>\n",
       "      <td>Same</td>\n",
       "      <td>Original TTM</td>\n",
       "      <td>Same</td>\n",
       "      <td>Same</td>\n",
       "      <td>No TTM</td>\n",
       "      <td>No TTM</td>\n",
       "      <td>No TTM</td>\n",
       "    </tr>\n",
       "    <tr>\n",
       "      <th>581</th>\n",
       "      <td>993</td>\n",
       "      <td>33</td>\n",
       "      <td>0</td>\n",
       "      <td>0.457043</td>\n",
       "      <td>0.515316</td>\n",
       "      <td>0.497954</td>\n",
       "      <td>0.240155</td>\n",
       "      <td>0.240155</td>\n",
       "      <td>0.275830</td>\n",
       "      <td>Original TTM</td>\n",
       "      <td>Same</td>\n",
       "      <td>Same</td>\n",
       "      <td>Original TTM</td>\n",
       "      <td>Same</td>\n",
       "      <td>Same</td>\n",
       "      <td>No TTM</td>\n",
       "      <td>No TTM</td>\n",
       "      <td>No TTM</td>\n",
       "    </tr>\n",
       "    <tr>\n",
       "      <th>585</th>\n",
       "      <td>998</td>\n",
       "      <td>33</td>\n",
       "      <td>0</td>\n",
       "      <td>0.496554</td>\n",
       "      <td>0.521547</td>\n",
       "      <td>0.532015</td>\n",
       "      <td>0.245642</td>\n",
       "      <td>0.245642</td>\n",
       "      <td>0.285957</td>\n",
       "      <td>Original TTM</td>\n",
       "      <td>Same</td>\n",
       "      <td>Same</td>\n",
       "      <td>Original TTM</td>\n",
       "      <td>Same</td>\n",
       "      <td>Same</td>\n",
       "      <td>No TTM</td>\n",
       "      <td>No TTM</td>\n",
       "      <td>No TTM</td>\n",
       "    </tr>\n",
       "    <tr>\n",
       "      <th>593</th>\n",
       "      <td>1006</td>\n",
       "      <td>33</td>\n",
       "      <td>0</td>\n",
       "      <td>0.469086</td>\n",
       "      <td>0.501948</td>\n",
       "      <td>0.505276</td>\n",
       "      <td>0.240155</td>\n",
       "      <td>0.240155</td>\n",
       "      <td>0.276051</td>\n",
       "      <td>Original TTM</td>\n",
       "      <td>Same</td>\n",
       "      <td>Same</td>\n",
       "      <td>Original TTM</td>\n",
       "      <td>Same</td>\n",
       "      <td>Same</td>\n",
       "      <td>No TTM</td>\n",
       "      <td>No TTM</td>\n",
       "      <td>No TTM</td>\n",
       "    </tr>\n",
       "    <tr>\n",
       "      <th>594</th>\n",
       "      <td>1007</td>\n",
       "      <td>33</td>\n",
       "      <td>0</td>\n",
       "      <td>0.445920</td>\n",
       "      <td>0.498621</td>\n",
       "      <td>0.483342</td>\n",
       "      <td>0.240155</td>\n",
       "      <td>0.240155</td>\n",
       "      <td>0.275830</td>\n",
       "      <td>Original TTM</td>\n",
       "      <td>Same</td>\n",
       "      <td>Same</td>\n",
       "      <td>Original TTM</td>\n",
       "      <td>Same</td>\n",
       "      <td>Same</td>\n",
       "      <td>No TTM</td>\n",
       "      <td>No TTM</td>\n",
       "      <td>No TTM</td>\n",
       "    </tr>\n",
       "  </tbody>\n",
       "</table>\n",
       "<p>93 rows × 18 columns</p>\n",
       "</div>"
      ],
      "text/plain": [
       "     Patient Original_TTM  Outcome  NN_Pred_TTM_33  NN_Pred_TTM_36  \\\n",
       "18       340           33        1        0.490968        0.523681   \n",
       "35       359           33        0        0.458443        0.493900   \n",
       "40       364           33        0        0.457540        0.480897   \n",
       "42       366           33        0        0.476233        0.525195   \n",
       "53       378           33        0        0.479616        0.524898   \n",
       "..       ...          ...      ...             ...             ...   \n",
       "575      984           33        0        0.478078        0.512714   \n",
       "581      993           33        0        0.457043        0.515316   \n",
       "585      998           33        0        0.496554        0.521547   \n",
       "593     1006           33        0        0.469086        0.501948   \n",
       "594     1007           33        0        0.445920        0.498621   \n",
       "\n",
       "     NN_Pred_No_TTM  xgb_Pred_TTM_33  xgb_Pred_TTM_36  xgb_Pred_No_TTM  \\\n",
       "18         0.531338         0.408141         0.408141         0.471180   \n",
       "35         0.502121         0.238660         0.238660         0.272403   \n",
       "40         0.485833         0.245695         0.245695         0.287944   \n",
       "42         0.515470         0.251013         0.251013         0.298936   \n",
       "53         0.506779         0.240703         0.240703         0.277625   \n",
       "..              ...              ...              ...              ...   \n",
       "575        0.510532         0.240703         0.240703         0.277625   \n",
       "581        0.497954         0.240155         0.240155         0.275830   \n",
       "585        0.532015         0.245642         0.245642         0.285957   \n",
       "593        0.505276         0.240155         0.240155         0.276051   \n",
       "594        0.483342         0.240155         0.240155         0.275830   \n",
       "\n",
       "    NN_TTM_33_Asses NN_TTM_36_Asses NN_No_TTM_Asses xgb_TTM_33_Asses  \\\n",
       "18     Original TTM            Same            Same     Original TTM   \n",
       "35     Original TTM            Same            Same     Original TTM   \n",
       "40     Original TTM            Same            Same     Original TTM   \n",
       "42     Original TTM            Same            Same     Original TTM   \n",
       "53     Original TTM            Same            Same     Original TTM   \n",
       "..              ...             ...             ...              ...   \n",
       "575    Original TTM            Same            Same     Original TTM   \n",
       "581    Original TTM            Same            Same     Original TTM   \n",
       "585    Original TTM            Same            Same     Original TTM   \n",
       "593    Original TTM            Same            Same     Original TTM   \n",
       "594    Original TTM            Same            Same     Original TTM   \n",
       "\n",
       "    xgb_TTM_36_Asses xgb_No_TTM_Asses Best_Prediction_NN Best_Prediction_XGB  \\\n",
       "18              Same             Same             No TTM              No TTM   \n",
       "35              Same             Same             No TTM              No TTM   \n",
       "40              Same             Same             No TTM              No TTM   \n",
       "42              Same             Same             No TTM              No TTM   \n",
       "53              Same             Same             No TTM              No TTM   \n",
       "..               ...              ...                ...                 ...   \n",
       "575             Same             Same             No TTM              No TTM   \n",
       "581             Same             Same             No TTM              No TTM   \n",
       "585             Same             Same             No TTM              No TTM   \n",
       "593             Same             Same             No TTM              No TTM   \n",
       "594             Same             Same             No TTM              No TTM   \n",
       "\n",
       "    Overall_Best_TTM  \n",
       "18            No TTM  \n",
       "35            No TTM  \n",
       "40            No TTM  \n",
       "42            No TTM  \n",
       "53            No TTM  \n",
       "..               ...  \n",
       "575           No TTM  \n",
       "581           No TTM  \n",
       "585           No TTM  \n",
       "593           No TTM  \n",
       "594           No TTM  \n",
       "\n",
       "[93 rows x 18 columns]"
      ]
     },
     "execution_count": 54,
     "metadata": {},
     "output_type": "execute_result"
    }
   ],
   "source": [
    "# Filter rows where both NN and XGBoost Best_Prediction match and differ from Original_TTM\n",
    "changed_protocol_df = combined_predictions_df[\n",
    "    (combined_predictions_df['Best_Prediction_NN'] == combined_predictions_df['Best_Prediction_XGB']) &  # NN and XGBoost best predictions are the same\n",
    "    (combined_predictions_df['Best_Prediction_NN'] != combined_predictions_df['Original_TTM'])           # They differ from the original TTM\n",
    "]\n",
    "\n",
    "# Display the filtered DataFrame\n",
    "changed_protocol_df\n"
   ]
  },
  {
   "cell_type": "code",
   "execution_count": 53,
   "metadata": {},
   "outputs": [
    {
     "data": {
      "application/vnd.plotly.v1+json": {
       "config": {
        "plotlyServerURL": "https://plot.ly"
       },
       "data": [
        {
         "link": {
          "label": [
           "79.5%",
           "20.5%",
           "98.4%",
           "1.6%",
           "100.0%"
          ],
          "source": [
           0,
           0,
           1,
           1,
           2
          ],
          "target": [
           3,
           4,
           5,
           4,
           4
          ],
          "value": [
           356,
           92,
           60,
           1,
           98
          ]
         },
         "node": {
          "label": [
           "Original 33",
           "Original 36",
           "Original No TTM",
           "Overall Best 33",
           "Overall Best No TTM",
           "Overall Best 36"
          ],
          "line": {
           "color": "black",
           "width": 0.5
          },
          "pad": 15,
          "thickness": 20
         },
         "type": "sankey"
        }
       ],
       "layout": {
        "font": {
         "size": 12
        },
        "template": {
         "data": {
          "bar": [
           {
            "error_x": {
             "color": "#2a3f5f"
            },
            "error_y": {
             "color": "#2a3f5f"
            },
            "marker": {
             "line": {
              "color": "#E5ECF6",
              "width": 0.5
             },
             "pattern": {
              "fillmode": "overlay",
              "size": 10,
              "solidity": 0.2
             }
            },
            "type": "bar"
           }
          ],
          "barpolar": [
           {
            "marker": {
             "line": {
              "color": "#E5ECF6",
              "width": 0.5
             },
             "pattern": {
              "fillmode": "overlay",
              "size": 10,
              "solidity": 0.2
             }
            },
            "type": "barpolar"
           }
          ],
          "carpet": [
           {
            "aaxis": {
             "endlinecolor": "#2a3f5f",
             "gridcolor": "white",
             "linecolor": "white",
             "minorgridcolor": "white",
             "startlinecolor": "#2a3f5f"
            },
            "baxis": {
             "endlinecolor": "#2a3f5f",
             "gridcolor": "white",
             "linecolor": "white",
             "minorgridcolor": "white",
             "startlinecolor": "#2a3f5f"
            },
            "type": "carpet"
           }
          ],
          "choropleth": [
           {
            "colorbar": {
             "outlinewidth": 0,
             "ticks": ""
            },
            "type": "choropleth"
           }
          ],
          "contour": [
           {
            "colorbar": {
             "outlinewidth": 0,
             "ticks": ""
            },
            "colorscale": [
             [
              0,
              "#0d0887"
             ],
             [
              0.1111111111111111,
              "#46039f"
             ],
             [
              0.2222222222222222,
              "#7201a8"
             ],
             [
              0.3333333333333333,
              "#9c179e"
             ],
             [
              0.4444444444444444,
              "#bd3786"
             ],
             [
              0.5555555555555556,
              "#d8576b"
             ],
             [
              0.6666666666666666,
              "#ed7953"
             ],
             [
              0.7777777777777778,
              "#fb9f3a"
             ],
             [
              0.8888888888888888,
              "#fdca26"
             ],
             [
              1,
              "#f0f921"
             ]
            ],
            "type": "contour"
           }
          ],
          "contourcarpet": [
           {
            "colorbar": {
             "outlinewidth": 0,
             "ticks": ""
            },
            "type": "contourcarpet"
           }
          ],
          "heatmap": [
           {
            "colorbar": {
             "outlinewidth": 0,
             "ticks": ""
            },
            "colorscale": [
             [
              0,
              "#0d0887"
             ],
             [
              0.1111111111111111,
              "#46039f"
             ],
             [
              0.2222222222222222,
              "#7201a8"
             ],
             [
              0.3333333333333333,
              "#9c179e"
             ],
             [
              0.4444444444444444,
              "#bd3786"
             ],
             [
              0.5555555555555556,
              "#d8576b"
             ],
             [
              0.6666666666666666,
              "#ed7953"
             ],
             [
              0.7777777777777778,
              "#fb9f3a"
             ],
             [
              0.8888888888888888,
              "#fdca26"
             ],
             [
              1,
              "#f0f921"
             ]
            ],
            "type": "heatmap"
           }
          ],
          "heatmapgl": [
           {
            "colorbar": {
             "outlinewidth": 0,
             "ticks": ""
            },
            "colorscale": [
             [
              0,
              "#0d0887"
             ],
             [
              0.1111111111111111,
              "#46039f"
             ],
             [
              0.2222222222222222,
              "#7201a8"
             ],
             [
              0.3333333333333333,
              "#9c179e"
             ],
             [
              0.4444444444444444,
              "#bd3786"
             ],
             [
              0.5555555555555556,
              "#d8576b"
             ],
             [
              0.6666666666666666,
              "#ed7953"
             ],
             [
              0.7777777777777778,
              "#fb9f3a"
             ],
             [
              0.8888888888888888,
              "#fdca26"
             ],
             [
              1,
              "#f0f921"
             ]
            ],
            "type": "heatmapgl"
           }
          ],
          "histogram": [
           {
            "marker": {
             "pattern": {
              "fillmode": "overlay",
              "size": 10,
              "solidity": 0.2
             }
            },
            "type": "histogram"
           }
          ],
          "histogram2d": [
           {
            "colorbar": {
             "outlinewidth": 0,
             "ticks": ""
            },
            "colorscale": [
             [
              0,
              "#0d0887"
             ],
             [
              0.1111111111111111,
              "#46039f"
             ],
             [
              0.2222222222222222,
              "#7201a8"
             ],
             [
              0.3333333333333333,
              "#9c179e"
             ],
             [
              0.4444444444444444,
              "#bd3786"
             ],
             [
              0.5555555555555556,
              "#d8576b"
             ],
             [
              0.6666666666666666,
              "#ed7953"
             ],
             [
              0.7777777777777778,
              "#fb9f3a"
             ],
             [
              0.8888888888888888,
              "#fdca26"
             ],
             [
              1,
              "#f0f921"
             ]
            ],
            "type": "histogram2d"
           }
          ],
          "histogram2dcontour": [
           {
            "colorbar": {
             "outlinewidth": 0,
             "ticks": ""
            },
            "colorscale": [
             [
              0,
              "#0d0887"
             ],
             [
              0.1111111111111111,
              "#46039f"
             ],
             [
              0.2222222222222222,
              "#7201a8"
             ],
             [
              0.3333333333333333,
              "#9c179e"
             ],
             [
              0.4444444444444444,
              "#bd3786"
             ],
             [
              0.5555555555555556,
              "#d8576b"
             ],
             [
              0.6666666666666666,
              "#ed7953"
             ],
             [
              0.7777777777777778,
              "#fb9f3a"
             ],
             [
              0.8888888888888888,
              "#fdca26"
             ],
             [
              1,
              "#f0f921"
             ]
            ],
            "type": "histogram2dcontour"
           }
          ],
          "mesh3d": [
           {
            "colorbar": {
             "outlinewidth": 0,
             "ticks": ""
            },
            "type": "mesh3d"
           }
          ],
          "parcoords": [
           {
            "line": {
             "colorbar": {
              "outlinewidth": 0,
              "ticks": ""
             }
            },
            "type": "parcoords"
           }
          ],
          "pie": [
           {
            "automargin": true,
            "type": "pie"
           }
          ],
          "scatter": [
           {
            "fillpattern": {
             "fillmode": "overlay",
             "size": 10,
             "solidity": 0.2
            },
            "type": "scatter"
           }
          ],
          "scatter3d": [
           {
            "line": {
             "colorbar": {
              "outlinewidth": 0,
              "ticks": ""
             }
            },
            "marker": {
             "colorbar": {
              "outlinewidth": 0,
              "ticks": ""
             }
            },
            "type": "scatter3d"
           }
          ],
          "scattercarpet": [
           {
            "marker": {
             "colorbar": {
              "outlinewidth": 0,
              "ticks": ""
             }
            },
            "type": "scattercarpet"
           }
          ],
          "scattergeo": [
           {
            "marker": {
             "colorbar": {
              "outlinewidth": 0,
              "ticks": ""
             }
            },
            "type": "scattergeo"
           }
          ],
          "scattergl": [
           {
            "marker": {
             "colorbar": {
              "outlinewidth": 0,
              "ticks": ""
             }
            },
            "type": "scattergl"
           }
          ],
          "scattermapbox": [
           {
            "marker": {
             "colorbar": {
              "outlinewidth": 0,
              "ticks": ""
             }
            },
            "type": "scattermapbox"
           }
          ],
          "scatterpolar": [
           {
            "marker": {
             "colorbar": {
              "outlinewidth": 0,
              "ticks": ""
             }
            },
            "type": "scatterpolar"
           }
          ],
          "scatterpolargl": [
           {
            "marker": {
             "colorbar": {
              "outlinewidth": 0,
              "ticks": ""
             }
            },
            "type": "scatterpolargl"
           }
          ],
          "scatterternary": [
           {
            "marker": {
             "colorbar": {
              "outlinewidth": 0,
              "ticks": ""
             }
            },
            "type": "scatterternary"
           }
          ],
          "surface": [
           {
            "colorbar": {
             "outlinewidth": 0,
             "ticks": ""
            },
            "colorscale": [
             [
              0,
              "#0d0887"
             ],
             [
              0.1111111111111111,
              "#46039f"
             ],
             [
              0.2222222222222222,
              "#7201a8"
             ],
             [
              0.3333333333333333,
              "#9c179e"
             ],
             [
              0.4444444444444444,
              "#bd3786"
             ],
             [
              0.5555555555555556,
              "#d8576b"
             ],
             [
              0.6666666666666666,
              "#ed7953"
             ],
             [
              0.7777777777777778,
              "#fb9f3a"
             ],
             [
              0.8888888888888888,
              "#fdca26"
             ],
             [
              1,
              "#f0f921"
             ]
            ],
            "type": "surface"
           }
          ],
          "table": [
           {
            "cells": {
             "fill": {
              "color": "#EBF0F8"
             },
             "line": {
              "color": "white"
             }
            },
            "header": {
             "fill": {
              "color": "#C8D4E3"
             },
             "line": {
              "color": "white"
             }
            },
            "type": "table"
           }
          ]
         },
         "layout": {
          "annotationdefaults": {
           "arrowcolor": "#2a3f5f",
           "arrowhead": 0,
           "arrowwidth": 1
          },
          "autotypenumbers": "strict",
          "coloraxis": {
           "colorbar": {
            "outlinewidth": 0,
            "ticks": ""
           }
          },
          "colorscale": {
           "diverging": [
            [
             0,
             "#8e0152"
            ],
            [
             0.1,
             "#c51b7d"
            ],
            [
             0.2,
             "#de77ae"
            ],
            [
             0.3,
             "#f1b6da"
            ],
            [
             0.4,
             "#fde0ef"
            ],
            [
             0.5,
             "#f7f7f7"
            ],
            [
             0.6,
             "#e6f5d0"
            ],
            [
             0.7,
             "#b8e186"
            ],
            [
             0.8,
             "#7fbc41"
            ],
            [
             0.9,
             "#4d9221"
            ],
            [
             1,
             "#276419"
            ]
           ],
           "sequential": [
            [
             0,
             "#0d0887"
            ],
            [
             0.1111111111111111,
             "#46039f"
            ],
            [
             0.2222222222222222,
             "#7201a8"
            ],
            [
             0.3333333333333333,
             "#9c179e"
            ],
            [
             0.4444444444444444,
             "#bd3786"
            ],
            [
             0.5555555555555556,
             "#d8576b"
            ],
            [
             0.6666666666666666,
             "#ed7953"
            ],
            [
             0.7777777777777778,
             "#fb9f3a"
            ],
            [
             0.8888888888888888,
             "#fdca26"
            ],
            [
             1,
             "#f0f921"
            ]
           ],
           "sequentialminus": [
            [
             0,
             "#0d0887"
            ],
            [
             0.1111111111111111,
             "#46039f"
            ],
            [
             0.2222222222222222,
             "#7201a8"
            ],
            [
             0.3333333333333333,
             "#9c179e"
            ],
            [
             0.4444444444444444,
             "#bd3786"
            ],
            [
             0.5555555555555556,
             "#d8576b"
            ],
            [
             0.6666666666666666,
             "#ed7953"
            ],
            [
             0.7777777777777778,
             "#fb9f3a"
            ],
            [
             0.8888888888888888,
             "#fdca26"
            ],
            [
             1,
             "#f0f921"
            ]
           ]
          },
          "colorway": [
           "#636efa",
           "#EF553B",
           "#00cc96",
           "#ab63fa",
           "#FFA15A",
           "#19d3f3",
           "#FF6692",
           "#B6E880",
           "#FF97FF",
           "#FECB52"
          ],
          "font": {
           "color": "#2a3f5f"
          },
          "geo": {
           "bgcolor": "white",
           "lakecolor": "white",
           "landcolor": "#E5ECF6",
           "showlakes": true,
           "showland": true,
           "subunitcolor": "white"
          },
          "hoverlabel": {
           "align": "left"
          },
          "hovermode": "closest",
          "mapbox": {
           "style": "light"
          },
          "paper_bgcolor": "white",
          "plot_bgcolor": "#E5ECF6",
          "polar": {
           "angularaxis": {
            "gridcolor": "white",
            "linecolor": "white",
            "ticks": ""
           },
           "bgcolor": "#E5ECF6",
           "radialaxis": {
            "gridcolor": "white",
            "linecolor": "white",
            "ticks": ""
           }
          },
          "scene": {
           "xaxis": {
            "backgroundcolor": "#E5ECF6",
            "gridcolor": "white",
            "gridwidth": 2,
            "linecolor": "white",
            "showbackground": true,
            "ticks": "",
            "zerolinecolor": "white"
           },
           "yaxis": {
            "backgroundcolor": "#E5ECF6",
            "gridcolor": "white",
            "gridwidth": 2,
            "linecolor": "white",
            "showbackground": true,
            "ticks": "",
            "zerolinecolor": "white"
           },
           "zaxis": {
            "backgroundcolor": "#E5ECF6",
            "gridcolor": "white",
            "gridwidth": 2,
            "linecolor": "white",
            "showbackground": true,
            "ticks": "",
            "zerolinecolor": "white"
           }
          },
          "shapedefaults": {
           "line": {
            "color": "#2a3f5f"
           }
          },
          "ternary": {
           "aaxis": {
            "gridcolor": "white",
            "linecolor": "white",
            "ticks": ""
           },
           "baxis": {
            "gridcolor": "white",
            "linecolor": "white",
            "ticks": ""
           },
           "bgcolor": "#E5ECF6",
           "caxis": {
            "gridcolor": "white",
            "linecolor": "white",
            "ticks": ""
           }
          },
          "title": {
           "x": 0.05
          },
          "xaxis": {
           "automargin": true,
           "gridcolor": "white",
           "linecolor": "white",
           "ticks": "",
           "title": {
            "standoff": 15
           },
           "zerolinecolor": "white",
           "zerolinewidth": 2
          },
          "yaxis": {
           "automargin": true,
           "gridcolor": "white",
           "linecolor": "white",
           "ticks": "",
           "title": {
            "standoff": 15
           },
           "zerolinecolor": "white",
           "zerolinewidth": 2
          }
         }
        },
        "title": {
         "text": "Sankey Diagram of TTM Protocol Changes (Original to Overall Best Prediction)"
        }
       }
      }
     },
     "metadata": {},
     "output_type": "display_data"
    }
   ],
   "source": [
    "import pandas as pd\n",
    "import plotly.graph_objects as go\n",
    "\n",
    "# Step 1: Create a new column 'Overall_Best_TTM' in combined_predictions_df\n",
    "combined_predictions_df['Overall_Best_TTM'] = combined_predictions_df.apply(\n",
    "    lambda row: row['Best_Prediction_NN'] if row['Best_Prediction_NN'] == row['Best_Prediction_XGB'] else row['Original_TTM'],\n",
    "    axis=1\n",
    ")\n",
    "\n",
    "# Step 2: Define a function to create the Sankey diagram based on 'Overall_Best_TTM'\n",
    "def create_sankey_with_overall_best(data):\n",
    "    # Count the transitions from Original_TTM to Overall_Best_TTM\n",
    "    sankey_data = data.groupby(['Original_TTM', 'Overall_Best_TTM']).size().reset_index(name='count')\n",
    "    \n",
    "    # Calculate total patients in each Original_TTM group\n",
    "    group_totals = sankey_data.groupby('Original_TTM')['count'].transform('sum')\n",
    "    \n",
    "    # Calculate percentage within each Original_TTM group\n",
    "    sankey_data['percentage'] = (sankey_data['count'] / group_totals * 100).round(1)\n",
    "    \n",
    "    # Define unique nodes for original and best protocols\n",
    "    original_nodes = [f\"Original {protocol}\" for protocol in sankey_data['Original_TTM'].unique()]\n",
    "    best_nodes = [f\"Overall Best {protocol}\" for protocol in sankey_data['Overall_Best_TTM'].unique()]\n",
    "    nodes = original_nodes + best_nodes\n",
    "    \n",
    "    # Map each node to a unique index for Sankey\n",
    "    node_map = {node: i for i, node in enumerate(nodes)}\n",
    "    \n",
    "    # Define the sources, targets, values, and labels for the Sankey diagram\n",
    "    sankey_data['source'] = sankey_data['Original_TTM'].map(lambda x: node_map[f\"Original {x}\"])\n",
    "    sankey_data['target'] = sankey_data['Overall_Best_TTM'].map(lambda x: node_map[f\"Overall Best {x}\"])\n",
    "    sources = sankey_data['source'].tolist()\n",
    "    targets = sankey_data['target'].tolist()\n",
    "    values = sankey_data['count'].tolist()\n",
    "    \n",
    "    # Use the group percentage labels for each link\n",
    "    labels = [f\"{percentage}%\" for percentage in sankey_data['percentage']]\n",
    "    \n",
    "    # Create the Sankey diagram\n",
    "    fig = go.Figure(go.Sankey(\n",
    "        node=dict(\n",
    "            pad=15,\n",
    "            thickness=20,\n",
    "            line=dict(color=\"black\", width=0.5),\n",
    "            label=nodes,\n",
    "        ),\n",
    "        link=dict(\n",
    "            source=sources,  # Indices of source nodes\n",
    "            target=targets,  # Indices of target nodes\n",
    "            value=values,    # Flow values between nodes\n",
    "            label=labels     # Group percentage labels on each link\n",
    "        )\n",
    "    ))\n",
    "    \n",
    "    # Add title and display\n",
    "    fig.update_layout(title_text=\"Sankey Diagram of TTM Protocol Changes (Original to Overall Best Prediction)\", font_size=12)\n",
    "    fig.show()\n",
    "\n",
    "# Step 3: Generate the Sankey diagram using the updated DataFrame with 'Overall_Best_TTM'\n",
    "create_sankey_with_overall_best(combined_predictions_df)\n"
   ]
  },
  {
   "cell_type": "code",
   "execution_count": 55,
   "metadata": {},
   "outputs": [
    {
     "data": {
      "text/html": [
       "<div>\n",
       "<style scoped>\n",
       "    .dataframe tbody tr th:only-of-type {\n",
       "        vertical-align: middle;\n",
       "    }\n",
       "\n",
       "    .dataframe tbody tr th {\n",
       "        vertical-align: top;\n",
       "    }\n",
       "\n",
       "    .dataframe thead th {\n",
       "        text-align: right;\n",
       "    }\n",
       "</style>\n",
       "<table border=\"1\" class=\"dataframe\">\n",
       "  <thead>\n",
       "    <tr style=\"text-align: right;\">\n",
       "      <th></th>\n",
       "      <th>33 to No TTM</th>\n",
       "      <th>36 to No TTM</th>\n",
       "    </tr>\n",
       "  </thead>\n",
       "  <tbody>\n",
       "    <tr>\n",
       "      <th>Number of Cases</th>\n",
       "      <td>92</td>\n",
       "      <td>1</td>\n",
       "    </tr>\n",
       "    <tr>\n",
       "      <th>age</th>\n",
       "      <td>68.706522</td>\n",
       "      <td>67.0</td>\n",
       "    </tr>\n",
       "    <tr>\n",
       "      <th>rosc</th>\n",
       "      <td>40.727273</td>\n",
       "      <td>35.0</td>\n",
       "    </tr>\n",
       "    <tr>\n",
       "      <th>sex</th>\n",
       "      <td>Male</td>\n",
       "      <td>Male</td>\n",
       "    </tr>\n",
       "    <tr>\n",
       "      <th>ohca</th>\n",
       "      <td>True</td>\n",
       "      <td>True</td>\n",
       "    </tr>\n",
       "    <tr>\n",
       "      <th>ttm</th>\n",
       "      <td>33.0</td>\n",
       "      <td>36.0</td>\n",
       "    </tr>\n",
       "    <tr>\n",
       "      <th>shockable_rhythm</th>\n",
       "      <td>True</td>\n",
       "      <td>True</td>\n",
       "    </tr>\n",
       "  </tbody>\n",
       "</table>\n",
       "</div>"
      ],
      "text/plain": [
       "                 33 to No TTM 36 to No TTM\n",
       "Number of Cases            92            1\n",
       "age                 68.706522         67.0\n",
       "rosc                40.727273         35.0\n",
       "sex                      Male         Male\n",
       "ohca                     True         True\n",
       "ttm                      33.0         36.0\n",
       "shockable_rhythm         True         True"
      ]
     },
     "execution_count": 55,
     "metadata": {},
     "output_type": "execute_result"
    }
   ],
   "source": [
    "import pandas as pd\n",
    "\n",
    "# List of numerical and categorical columns based on `patient_data`\n",
    "numerical_cols = ['age', 'rosc']\n",
    "categorical_cols = ['sex', 'ohca', 'ttm', 'shockable_rhythm']\n",
    "\n",
    "# Ensure `changed_protocol_original` is defined by merging `changed_protocol_df` with `patient_data`\n",
    "changed_protocol_original = changed_protocol_df.merge(\n",
    "    patient_data[['Patient'] + numerical_cols + categorical_cols],\n",
    "    on='Patient',\n",
    "    suffixes=('_standardized', '_original')\n",
    ")\n",
    "\n",
    "# Dictionary to store results for each transition type\n",
    "results = {}\n",
    "\n",
    "# List of protocol transitions to analyze\n",
    "transitions = [\n",
    "    ('33', '36'),\n",
    "    ('36', '33'),\n",
    "    ('33', 'No TTM'),\n",
    "    ('36', 'No TTM'),\n",
    "    ('No TTM', '33'),\n",
    "    ('No TTM', '36')\n",
    "]\n",
    "\n",
    "# Calculate means/modes for each specific transition type using original values\n",
    "for original, best in transitions:\n",
    "    # Filter for the specific transition where both NN and XGB agree on the best prediction\n",
    "    transition_df = changed_protocol_original[\n",
    "        (changed_protocol_original['Original_TTM'] == original) &\n",
    "        (changed_protocol_original['Best_Prediction_NN'] == best) &\n",
    "        (changed_protocol_original['Best_Prediction_XGB'] == best)\n",
    "    ]\n",
    "    \n",
    "    if not transition_df.empty:\n",
    "        # Calculate mean values for numerical features\n",
    "        feature_means_original = transition_df[numerical_cols].mean()\n",
    "        \n",
    "        # Calculate mode for categorical features\n",
    "        feature_modes_original = transition_df[categorical_cols].mode().iloc[0]\n",
    "        \n",
    "        # Count of cases for this transition\n",
    "        num_cases = len(transition_df)\n",
    "        \n",
    "        # Add the count of cases as the first row in the result\n",
    "        combined_features = pd.concat([pd.Series({'Number of Cases': num_cases}), feature_means_original, feature_modes_original])\n",
    "        \n",
    "        # Store the results in a dictionary with the transition name as the key\n",
    "        results[f'{original} to {best}'] = combined_features\n",
    "\n",
    "# Convert the results dictionary to a DataFrame for easier comparison\n",
    "comparison_df = pd.DataFrame(results)\n",
    "\n",
    "# Display the comparison table with original values, including categorical feature modes\n",
    "comparison_df\n"
   ]
  }
 ],
 "metadata": {
  "kernelspec": {
   "display_name": "env_ttm",
   "language": "python",
   "name": "python3"
  },
  "language_info": {
   "codemirror_mode": {
    "name": "ipython",
    "version": 3
   },
   "file_extension": ".py",
   "mimetype": "text/x-python",
   "name": "python",
   "nbconvert_exporter": "python",
   "pygments_lexer": "ipython3",
   "version": "3.12.0"
  }
 },
 "nbformat": 4,
 "nbformat_minor": 2
}
