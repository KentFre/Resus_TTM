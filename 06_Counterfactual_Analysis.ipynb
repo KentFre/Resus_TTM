{
 "cells": [
  {
   "cell_type": "markdown",
   "metadata": {},
   "source": [
    "# Counterfactual Analysis Approach\n",
    "\n",
    "To gain comprehensive insights, we will evaluate the impact of different TTM settings on the entire dataset. This approach allows us to identify broader patterns and statistically significant trends.\n",
    "\n",
    "### Steps\n",
    "\n",
    "1. **Duplicate Dataset**: \n",
    "   - Create three versions of the dataset:\n",
    "     - One with `ttm_33.0` set to 1 (and others to 0)\n",
    "     - One with `ttm_36.0` set to 1\n",
    "     - One with `ttm_No TTM` set to 1\n",
    "\n",
    "2. **Generate Predictions**:\n",
    "   - Use the best-performing model to predict outcomes for each version of the dataset, resulting in three sets of predictions for each TTM protocol.\n",
    "\n",
    "3. **Compare Predictions**:\n",
    "   - Analyze how predictions change across the three TTM settings:\n",
    "     - Calculate changes in predicted probabilities for each patient.\n",
    "     - Identify patient profiles that consistently show better or worse outcomes under specific TTM protocols.\n",
    "\n",
    "4. **Summarize Results**:\n",
    "   - Group findings by patient characteristics (e.g., age, `rosc` time) to identify which types of patients are most sensitive to changes in TTM settings.\n",
    "\n",
    "### Purpose\n",
    "\n",
    "By applying counterfactual TTM settings to the entire dataset, we aim to uncover patterns that reveal how different TTM protocols may impact patient outcomes, supporting more personalized and informed treatment decisions.\n"
   ]
  }
 ],
 "metadata": {
  "language_info": {
   "name": "python"
  }
 },
 "nbformat": 4,
 "nbformat_minor": 2
}
