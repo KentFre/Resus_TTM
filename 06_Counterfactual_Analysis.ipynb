{
 "cells": [
  {
   "cell_type": "markdown",
   "metadata": {},
   "source": [
    "# Counterfactual Analysis of Target Temperature Management (TTM) Protocols\n",
    "\n",
    "## Introduction\n",
    "This notebook explores the impact of different Target Temperature Management (TTM) protocols on patient outcomes, with the aim of identifying optimal treatments for specific patient subpopulations. By evaluating counterfactual scenarios, we assess how changes in TTM protocols—specifically, TTM at 33°C, TTM at 36°C, and no TTM—affect the model's predictions for each patient. Through this analysis, we aim to:\n",
    "- Determine the best predicted outcome per patient under each TTM protocol.\n",
    "- Identify distinct patient groups that benefit most from TTM 33, TTM 36, or no TTM.\n",
    "- Evaluate if the changes are statistically significant between original and counterfactual groups.\n",
    "- Explore shared characteristics within each group to better understand optimal TTM conditions.\n",
    "\n",
    "## Table of Contents\n",
    "1. [Setup & Imports](#setup-imports)\n",
    "2. [Data Loading and Preparation](#data-loading-preparation)\n",
    "3. [Define Counterfactual Scenarios for TTM Protocols](#define-counterfactual-scenarios)\n",
    "4. [Generate and Compare Predictions for Each Protocol](#generate-and-compare-predictions)\n",
    "5. [Group Patients by Optimal Protocol](#group-patients-by-optimal-protocol)\n",
    "6. [Significance Testing of Prediction Changes](#significance-testing)\n",
    "7. [Analysis of Commonalities Within Each Group](#group-commonalities-analysis)\n",
    "\n",
    "---\n",
    "\n",
    "Each section provides a step-by-step approach to answer our main questions and assess the impact of different TTM protocols on patient outcomes. By the end of this notebook, we will gain insights into which TTM protocol is most beneficial for distinct patient groups and identify key characteristics that define these groups.\n"
   ]
  },
  {
   "cell_type": "markdown",
   "metadata": {},
   "source": [
    "## 1. Setup & Imports <a id=\"setup-imports\"></a>\n",
    "\n",
    "In this section, we import the necessary libraries for data manipulation, model prediction, statistical testing, and visualization. These libraries will enable us to efficiently load, process, and analyze data, as well as interpret model outputs.\n",
    "\n",
    "- **NumPy and Pandas**: Essential for data handling and manipulation.\n",
    "- **TensorFlow**: Used to load and work with the neural network model for generating predictions under different TTM protocols.\n",
    "- **sklearn**: Provides metrics for evaluating model performance.\n",
    "- **scipy.stats**: Useful for conducting statistical tests to evaluate the significance of prediction changes.\n",
    "- **SHAP**: Helps interpret model predictions, which is useful in analyzing the feature contributions for different TTM protocols.\n",
    "- **Matplotlib and Seaborn**: Visualization libraries for creating insightful plots.\n",
    "\n",
    "[Back to Table of Contents](#table-of-contents)"
   ]
  },
  {
   "cell_type": "code",
   "execution_count": 1,
   "metadata": {},
   "outputs": [
    {
     "name": "stdout",
     "output_type": "stream",
     "text": [
      "GPU is not available. Training will use the CPU.\n"
     ]
    }
   ],
   "source": [
    "# Setup & Imports\n",
    "import numpy as np\n",
    "import pandas as pd\n",
    "import tensorflow as tf\n",
    "from tensorflow.keras.models import load_model\n",
    "from sklearn.model_selection import train_test_split\n",
    "from sklearn.metrics import roc_auc_score, accuracy_score\n",
    "from scipy.stats import ttest_rel, wilcoxon\n",
    "import matplotlib.pyplot as plt\n",
    "import seaborn as sns\n",
    "import plotly.graph_objects as go\n",
    "from tensorflow.keras.models import load_model\n",
    "import pickle\n",
    "\n",
    "# Set up visualization settings\n",
    "sns.set_theme(style=\"whitegrid\")\n",
    "plt.rcParams[\"figure.figsize\"] = (10, 6)\n",
    "\n",
    "# Check if GPU is available\n",
    "if tf.config.list_physical_devices('GPU'):\n",
    "    print(\"GPU is available and will be used for training.\")\n",
    "else:\n",
    "    print(\"GPU is not available. Training will use the CPU.\")\n"
   ]
  },
  {
   "cell_type": "markdown",
   "metadata": {},
   "source": [
    "## 2. Data Loading and Preparation <a id=\"data-loading-preparation\"></a>\n",
    "\n",
    "Here, we load the preprocessed datasets required for counterfactual analysis. The data includes:\n",
    "- **machine_learning_patient_data**: Contains patient data already prepared for model predictions.\n",
    "- **ecg_data**: Features specific to ECG measurements.\n",
    "- **patient_data**: Contains target outcome values mapped as 1 for \"Good\" and 0 for \"Poor\".\n",
    "\n",
    "These datasets will be merged and combined to create a single DataFrame for analysis. Additionally, time-series features are reshaped to match the model's input format.\n",
    "\n",
    "[Back to Table of Contents](#table-of-contents)\n"
   ]
  },
  {
   "cell_type": "code",
   "execution_count": 2,
   "metadata": {},
   "outputs": [
    {
     "data": {
      "text/html": [
       "<div>\n",
       "<style scoped>\n",
       "    .dataframe tbody tr th:only-of-type {\n",
       "        vertical-align: middle;\n",
       "    }\n",
       "\n",
       "    .dataframe tbody tr th {\n",
       "        vertical-align: top;\n",
       "    }\n",
       "\n",
       "    .dataframe thead th {\n",
       "        text-align: right;\n",
       "    }\n",
       "</style>\n",
       "<table border=\"1\" class=\"dataframe\">\n",
       "  <thead>\n",
       "    <tr style=\"text-align: right;\">\n",
       "      <th></th>\n",
       "      <th>Patient</th>\n",
       "      <th>age</th>\n",
       "      <th>sex_Female</th>\n",
       "      <th>sex_Male</th>\n",
       "      <th>ohca_True</th>\n",
       "      <th>ohca_False</th>\n",
       "      <th>ohca_Unknown</th>\n",
       "      <th>ttm_33.0</th>\n",
       "      <th>ttm_36.0</th>\n",
       "      <th>ttm_No TTM</th>\n",
       "      <th>...</th>\n",
       "      <th>Segment_286_Mean_HR</th>\n",
       "      <th>Segment_286_HRV_SDNN</th>\n",
       "      <th>Segment_286_LF_HF_Ratio</th>\n",
       "      <th>Segment_287_Mean_HR</th>\n",
       "      <th>Segment_287_HRV_SDNN</th>\n",
       "      <th>Segment_287_LF_HF_Ratio</th>\n",
       "      <th>Segment_288_Mean_HR</th>\n",
       "      <th>Segment_288_HRV_SDNN</th>\n",
       "      <th>Segment_288_LF_HF_Ratio</th>\n",
       "      <th>outcome</th>\n",
       "    </tr>\n",
       "  </thead>\n",
       "  <tbody>\n",
       "    <tr>\n",
       "      <th>0</th>\n",
       "      <td>284</td>\n",
       "      <td>-0.522787</td>\n",
       "      <td>False</td>\n",
       "      <td>True</td>\n",
       "      <td>True</td>\n",
       "      <td>False</td>\n",
       "      <td>False</td>\n",
       "      <td>True</td>\n",
       "      <td>False</td>\n",
       "      <td>False</td>\n",
       "      <td>...</td>\n",
       "      <td>0.113971</td>\n",
       "      <td>0.998257</td>\n",
       "      <td>-0.326269</td>\n",
       "      <td>0.180948</td>\n",
       "      <td>0.865033</td>\n",
       "      <td>-0.265086</td>\n",
       "      <td>0.268891</td>\n",
       "      <td>0.804852</td>\n",
       "      <td>-0.292048</td>\n",
       "      <td>1</td>\n",
       "    </tr>\n",
       "    <tr>\n",
       "      <th>1</th>\n",
       "      <td>286</td>\n",
       "      <td>1.525272</td>\n",
       "      <td>True</td>\n",
       "      <td>False</td>\n",
       "      <td>False</td>\n",
       "      <td>True</td>\n",
       "      <td>False</td>\n",
       "      <td>False</td>\n",
       "      <td>False</td>\n",
       "      <td>True</td>\n",
       "      <td>...</td>\n",
       "      <td>-0.750374</td>\n",
       "      <td>1.160116</td>\n",
       "      <td>-0.298228</td>\n",
       "      <td>-0.712291</td>\n",
       "      <td>1.175686</td>\n",
       "      <td>-0.121390</td>\n",
       "      <td>-0.286107</td>\n",
       "      <td>1.369312</td>\n",
       "      <td>-0.051627</td>\n",
       "      <td>1</td>\n",
       "    </tr>\n",
       "    <tr>\n",
       "      <th>2</th>\n",
       "      <td>296</td>\n",
       "      <td>-0.842797</td>\n",
       "      <td>False</td>\n",
       "      <td>True</td>\n",
       "      <td>True</td>\n",
       "      <td>False</td>\n",
       "      <td>False</td>\n",
       "      <td>False</td>\n",
       "      <td>True</td>\n",
       "      <td>False</td>\n",
       "      <td>...</td>\n",
       "      <td>0.244215</td>\n",
       "      <td>0.112291</td>\n",
       "      <td>-0.348079</td>\n",
       "      <td>0.239714</td>\n",
       "      <td>0.111805</td>\n",
       "      <td>-0.366870</td>\n",
       "      <td>0.233466</td>\n",
       "      <td>0.107830</td>\n",
       "      <td>-0.369220</td>\n",
       "      <td>1</td>\n",
       "    </tr>\n",
       "    <tr>\n",
       "      <th>3</th>\n",
       "      <td>299</td>\n",
       "      <td>-1.034802</td>\n",
       "      <td>False</td>\n",
       "      <td>True</td>\n",
       "      <td>True</td>\n",
       "      <td>False</td>\n",
       "      <td>False</td>\n",
       "      <td>True</td>\n",
       "      <td>False</td>\n",
       "      <td>False</td>\n",
       "      <td>...</td>\n",
       "      <td>-0.264920</td>\n",
       "      <td>0.589350</td>\n",
       "      <td>-0.020928</td>\n",
       "      <td>-0.430215</td>\n",
       "      <td>0.996954</td>\n",
       "      <td>-0.154320</td>\n",
       "      <td>-0.439618</td>\n",
       "      <td>0.779195</td>\n",
       "      <td>-0.173321</td>\n",
       "      <td>1</td>\n",
       "    </tr>\n",
       "    <tr>\n",
       "      <th>4</th>\n",
       "      <td>303</td>\n",
       "      <td>-0.650791</td>\n",
       "      <td>False</td>\n",
       "      <td>True</td>\n",
       "      <td>True</td>\n",
       "      <td>False</td>\n",
       "      <td>False</td>\n",
       "      <td>True</td>\n",
       "      <td>False</td>\n",
       "      <td>False</td>\n",
       "      <td>...</td>\n",
       "      <td>-1.117424</td>\n",
       "      <td>0.956514</td>\n",
       "      <td>-0.506981</td>\n",
       "      <td>-1.170663</td>\n",
       "      <td>0.320325</td>\n",
       "      <td>-0.459674</td>\n",
       "      <td>-1.207170</td>\n",
       "      <td>-0.148743</td>\n",
       "      <td>-0.505755</td>\n",
       "      <td>1</td>\n",
       "    </tr>\n",
       "  </tbody>\n",
       "</table>\n",
       "<p>5 rows × 880 columns</p>\n",
       "</div>"
      ],
      "text/plain": [
       "   Patient       age  sex_Female  sex_Male  ohca_True  ohca_False  \\\n",
       "0      284 -0.522787       False      True       True       False   \n",
       "1      286  1.525272        True     False      False        True   \n",
       "2      296 -0.842797       False      True       True       False   \n",
       "3      299 -1.034802       False      True       True       False   \n",
       "4      303 -0.650791       False      True       True       False   \n",
       "\n",
       "   ohca_Unknown  ttm_33.0  ttm_36.0  ttm_No TTM  ...  Segment_286_Mean_HR  \\\n",
       "0         False      True     False       False  ...             0.113971   \n",
       "1         False     False     False        True  ...            -0.750374   \n",
       "2         False     False      True       False  ...             0.244215   \n",
       "3         False      True     False       False  ...            -0.264920   \n",
       "4         False      True     False       False  ...            -1.117424   \n",
       "\n",
       "   Segment_286_HRV_SDNN  Segment_286_LF_HF_Ratio  Segment_287_Mean_HR  \\\n",
       "0              0.998257                -0.326269             0.180948   \n",
       "1              1.160116                -0.298228            -0.712291   \n",
       "2              0.112291                -0.348079             0.239714   \n",
       "3              0.589350                -0.020928            -0.430215   \n",
       "4              0.956514                -0.506981            -1.170663   \n",
       "\n",
       "   Segment_287_HRV_SDNN  Segment_287_LF_HF_Ratio  Segment_288_Mean_HR  \\\n",
       "0              0.865033                -0.265086             0.268891   \n",
       "1              1.175686                -0.121390            -0.286107   \n",
       "2              0.111805                -0.366870             0.233466   \n",
       "3              0.996954                -0.154320            -0.439618   \n",
       "4              0.320325                -0.459674            -1.207170   \n",
       "\n",
       "   Segment_288_HRV_SDNN  Segment_288_LF_HF_Ratio  outcome  \n",
       "0              0.804852                -0.292048        1  \n",
       "1              1.369312                -0.051627        1  \n",
       "2              0.107830                -0.369220        1  \n",
       "3              0.779195                -0.173321        1  \n",
       "4             -0.148743                -0.505755        1  \n",
       "\n",
       "[5 rows x 880 columns]"
      ]
     },
     "execution_count": 2,
     "metadata": {},
     "output_type": "execute_result"
    }
   ],
   "source": [
    "# Loading the dataset that has been fully prepared for distance-based prediction\n",
    "with open('data/machine_learning_patient_data.pkl', 'rb') as f:\n",
    "    machine_learning_patient_data = pickle.load(f)\n",
    "\n",
    "# Load ECG data\n",
    "ecg_data = pd.read_csv('data/ecg_data.csv')\n",
    "\n",
    "# Loading the dataset that has the target value and original features and values\n",
    "with open('data/patient_data.pkl', 'rb') as f:\n",
    "    patient_data = pickle.load(f)\n",
    "\n",
    "# Map 'Good' to 1 and 'Poor' to 0 for target outcome\n",
    "patient_data['outcome'] = patient_data['outcome'].map({'Good': 1, 'Poor': 0}).astype(int)\n",
    "\n",
    "# Step 1: Merge machine_learning_patient_data and ecg_data on patient identifiers\n",
    "combined_data = pd.merge(\n",
    "    machine_learning_patient_data, ecg_data, \n",
    "    left_on='Patient', right_on='Patient_ID', \n",
    "    how='inner'\n",
    ")\n",
    "\n",
    "# Step 2: Merge the resulting combined_data with patient_data to add the 'outcome' column\n",
    "combined_data = pd.merge(\n",
    "    combined_data, patient_data[['Patient', 'outcome']], \n",
    "    on='Patient', \n",
    "    how='inner'\n",
    ")\n",
    "\n",
    "# Display the first few rows of the combined DataFrame to verify\n",
    "combined_data.head()\n"
   ]
  },
  {
   "cell_type": "code",
   "execution_count": 3,
   "metadata": {},
   "outputs": [
    {
     "data": {
      "text/html": [
       "<div>\n",
       "<style scoped>\n",
       "    .dataframe tbody tr th:only-of-type {\n",
       "        vertical-align: middle;\n",
       "    }\n",
       "\n",
       "    .dataframe tbody tr th {\n",
       "        vertical-align: top;\n",
       "    }\n",
       "\n",
       "    .dataframe thead th {\n",
       "        text-align: right;\n",
       "    }\n",
       "</style>\n",
       "<table border=\"1\" class=\"dataframe\">\n",
       "  <thead>\n",
       "    <tr style=\"text-align: right;\">\n",
       "      <th></th>\n",
       "      <th>Patient</th>\n",
       "      <th>age</th>\n",
       "      <th>sex_Female</th>\n",
       "      <th>sex_Male</th>\n",
       "      <th>ohca_True</th>\n",
       "      <th>ohca_False</th>\n",
       "      <th>ohca_Unknown</th>\n",
       "      <th>ttm_33.0</th>\n",
       "      <th>ttm_36.0</th>\n",
       "      <th>ttm_No TTM</th>\n",
       "      <th>shockable_rhythm_False</th>\n",
       "      <th>shockable_rhythm_True</th>\n",
       "      <th>shockable_rhythm_Unknown</th>\n",
       "      <th>rosc</th>\n",
       "    </tr>\n",
       "  </thead>\n",
       "  <tbody>\n",
       "    <tr>\n",
       "      <th>0</th>\n",
       "      <td>284</td>\n",
       "      <td>-0.522787</td>\n",
       "      <td>False</td>\n",
       "      <td>True</td>\n",
       "      <td>True</td>\n",
       "      <td>False</td>\n",
       "      <td>False</td>\n",
       "      <td>True</td>\n",
       "      <td>False</td>\n",
       "      <td>False</td>\n",
       "      <td>False</td>\n",
       "      <td>True</td>\n",
       "      <td>False</td>\n",
       "      <td>-0.215362</td>\n",
       "    </tr>\n",
       "    <tr>\n",
       "      <th>1</th>\n",
       "      <td>286</td>\n",
       "      <td>1.525272</td>\n",
       "      <td>True</td>\n",
       "      <td>False</td>\n",
       "      <td>False</td>\n",
       "      <td>True</td>\n",
       "      <td>False</td>\n",
       "      <td>False</td>\n",
       "      <td>False</td>\n",
       "      <td>True</td>\n",
       "      <td>True</td>\n",
       "      <td>False</td>\n",
       "      <td>False</td>\n",
       "      <td>-1.023892</td>\n",
       "    </tr>\n",
       "    <tr>\n",
       "      <th>2</th>\n",
       "      <td>296</td>\n",
       "      <td>-0.842797</td>\n",
       "      <td>False</td>\n",
       "      <td>True</td>\n",
       "      <td>True</td>\n",
       "      <td>False</td>\n",
       "      <td>False</td>\n",
       "      <td>False</td>\n",
       "      <td>True</td>\n",
       "      <td>False</td>\n",
       "      <td>False</td>\n",
       "      <td>True</td>\n",
       "      <td>False</td>\n",
       "      <td>-0.215362</td>\n",
       "    </tr>\n",
       "    <tr>\n",
       "      <th>3</th>\n",
       "      <td>299</td>\n",
       "      <td>-1.034802</td>\n",
       "      <td>False</td>\n",
       "      <td>True</td>\n",
       "      <td>True</td>\n",
       "      <td>False</td>\n",
       "      <td>False</td>\n",
       "      <td>True</td>\n",
       "      <td>False</td>\n",
       "      <td>False</td>\n",
       "      <td>False</td>\n",
       "      <td>True</td>\n",
       "      <td>False</td>\n",
       "      <td>-0.215362</td>\n",
       "    </tr>\n",
       "    <tr>\n",
       "      <th>4</th>\n",
       "      <td>303</td>\n",
       "      <td>-0.650791</td>\n",
       "      <td>False</td>\n",
       "      <td>True</td>\n",
       "      <td>True</td>\n",
       "      <td>False</td>\n",
       "      <td>False</td>\n",
       "      <td>True</td>\n",
       "      <td>False</td>\n",
       "      <td>False</td>\n",
       "      <td>False</td>\n",
       "      <td>True</td>\n",
       "      <td>False</td>\n",
       "      <td>0.225655</td>\n",
       "    </tr>\n",
       "    <tr>\n",
       "      <th>...</th>\n",
       "      <td>...</td>\n",
       "      <td>...</td>\n",
       "      <td>...</td>\n",
       "      <td>...</td>\n",
       "      <td>...</td>\n",
       "      <td>...</td>\n",
       "      <td>...</td>\n",
       "      <td>...</td>\n",
       "      <td>...</td>\n",
       "      <td>...</td>\n",
       "      <td>...</td>\n",
       "      <td>...</td>\n",
       "      <td>...</td>\n",
       "      <td>...</td>\n",
       "    </tr>\n",
       "    <tr>\n",
       "      <th>602</th>\n",
       "      <td>1016</td>\n",
       "      <td>1.653275</td>\n",
       "      <td>False</td>\n",
       "      <td>True</td>\n",
       "      <td>True</td>\n",
       "      <td>False</td>\n",
       "      <td>False</td>\n",
       "      <td>True</td>\n",
       "      <td>False</td>\n",
       "      <td>False</td>\n",
       "      <td>True</td>\n",
       "      <td>False</td>\n",
       "      <td>False</td>\n",
       "      <td>-1.023892</td>\n",
       "    </tr>\n",
       "    <tr>\n",
       "      <th>603</th>\n",
       "      <td>1017</td>\n",
       "      <td>-2.250837</td>\n",
       "      <td>False</td>\n",
       "      <td>True</td>\n",
       "      <td>True</td>\n",
       "      <td>False</td>\n",
       "      <td>False</td>\n",
       "      <td>False</td>\n",
       "      <td>False</td>\n",
       "      <td>True</td>\n",
       "      <td>True</td>\n",
       "      <td>False</td>\n",
       "      <td>False</td>\n",
       "      <td>2.283731</td>\n",
       "    </tr>\n",
       "    <tr>\n",
       "      <th>604</th>\n",
       "      <td>1018</td>\n",
       "      <td>0.117231</td>\n",
       "      <td>False</td>\n",
       "      <td>True</td>\n",
       "      <td>True</td>\n",
       "      <td>False</td>\n",
       "      <td>False</td>\n",
       "      <td>False</td>\n",
       "      <td>True</td>\n",
       "      <td>False</td>\n",
       "      <td>False</td>\n",
       "      <td>True</td>\n",
       "      <td>False</td>\n",
       "      <td>0.041898</td>\n",
       "    </tr>\n",
       "    <tr>\n",
       "      <th>605</th>\n",
       "      <td>1019</td>\n",
       "      <td>0.693248</td>\n",
       "      <td>False</td>\n",
       "      <td>True</td>\n",
       "      <td>True</td>\n",
       "      <td>False</td>\n",
       "      <td>False</td>\n",
       "      <td>False</td>\n",
       "      <td>True</td>\n",
       "      <td>False</td>\n",
       "      <td>False</td>\n",
       "      <td>True</td>\n",
       "      <td>False</td>\n",
       "      <td>-0.215362</td>\n",
       "    </tr>\n",
       "    <tr>\n",
       "      <th>606</th>\n",
       "      <td>1020</td>\n",
       "      <td>0.373238</td>\n",
       "      <td>False</td>\n",
       "      <td>True</td>\n",
       "      <td>True</td>\n",
       "      <td>False</td>\n",
       "      <td>False</td>\n",
       "      <td>False</td>\n",
       "      <td>True</td>\n",
       "      <td>False</td>\n",
       "      <td>False</td>\n",
       "      <td>True</td>\n",
       "      <td>False</td>\n",
       "      <td>-0.215362</td>\n",
       "    </tr>\n",
       "  </tbody>\n",
       "</table>\n",
       "<p>607 rows × 14 columns</p>\n",
       "</div>"
      ],
      "text/plain": [
       "     Patient       age  sex_Female  sex_Male  ohca_True  ohca_False  \\\n",
       "0        284 -0.522787       False      True       True       False   \n",
       "1        286  1.525272        True     False      False        True   \n",
       "2        296 -0.842797       False      True       True       False   \n",
       "3        299 -1.034802       False      True       True       False   \n",
       "4        303 -0.650791       False      True       True       False   \n",
       "..       ...       ...         ...       ...        ...         ...   \n",
       "602     1016  1.653275       False      True       True       False   \n",
       "603     1017 -2.250837       False      True       True       False   \n",
       "604     1018  0.117231       False      True       True       False   \n",
       "605     1019  0.693248       False      True       True       False   \n",
       "606     1020  0.373238       False      True       True       False   \n",
       "\n",
       "     ohca_Unknown  ttm_33.0  ttm_36.0  ttm_No TTM  shockable_rhythm_False  \\\n",
       "0           False      True     False       False                   False   \n",
       "1           False     False     False        True                    True   \n",
       "2           False     False      True       False                   False   \n",
       "3           False      True     False       False                   False   \n",
       "4           False      True     False       False                   False   \n",
       "..            ...       ...       ...         ...                     ...   \n",
       "602         False      True     False       False                    True   \n",
       "603         False     False     False        True                    True   \n",
       "604         False     False      True       False                   False   \n",
       "605         False     False      True       False                   False   \n",
       "606         False     False      True       False                   False   \n",
       "\n",
       "     shockable_rhythm_True  shockable_rhythm_Unknown      rosc  \n",
       "0                     True                     False -0.215362  \n",
       "1                    False                     False -1.023892  \n",
       "2                     True                     False -0.215362  \n",
       "3                     True                     False -0.215362  \n",
       "4                     True                     False  0.225655  \n",
       "..                     ...                       ...       ...  \n",
       "602                  False                     False -1.023892  \n",
       "603                  False                     False  2.283731  \n",
       "604                   True                     False  0.041898  \n",
       "605                   True                     False -0.215362  \n",
       "606                   True                     False -0.215362  \n",
       "\n",
       "[607 rows x 14 columns]"
      ]
     },
     "execution_count": 3,
     "metadata": {},
     "output_type": "execute_result"
    }
   ],
   "source": [
    "machine_learning_patient_data"
   ]
  },
  {
   "cell_type": "markdown",
   "metadata": {},
   "source": [
    "## 3. Define Counterfactual Scenarios for TTM Protocols <a id=\"define-counterfactual-scenarios\"></a>\n",
    "\n",
    "In this section, we define counterfactual scenarios to evaluate how each TTM protocol (TTM 33, TTM 36, and No TTM) affects patient outcomes. For each patient, we will create variations with each TTM protocol and then generate predictions based on these alternative treatments.\n",
    "\n",
    "Steps:\n",
    "1. **Set Up Counterfactual Treatments**: Define TTM 33, TTM 36, and No TTM variations for each patient.\n",
    "2. **Generate Predictions for Each Protocol**: Use the trained model to predict outcomes for each TTM scenario.\n",
    "3. **Prepare Data for Comparison**: Organize the predictions to allow easy comparison between the different TTM protocols.\n",
    "\n",
    "[Back to Table of Contents](#table-of-contents)\n"
   ]
  },
  {
   "cell_type": "code",
   "execution_count": 4,
   "metadata": {},
   "outputs": [
    {
     "data": {
      "text/plain": [
       "(607, 288, 3)"
      ]
     },
     "execution_count": 4,
     "metadata": {},
     "output_type": "execute_result"
    }
   ],
   "source": [
    "tabular_cols = [\n",
    "    'age', 'rosc', 'sex_Female', 'sex_Male', 'ohca_True', 'ohca_False', 'ohca_Unknown',\n",
    "    'ttm_33.0', 'ttm_36.0', 'ttm_No TTM', 'shockable_rhythm_False',\n",
    "    'shockable_rhythm_True', 'shockable_rhythm_Unknown'\n",
    "]\n",
    "\n",
    "# Identify time-series columns for the selected features\n",
    "selected_time_series_cols = [col for col in combined_data.columns if \n",
    "                             any(feature in col for feature in [\"Mean_HR\", \"HRV_SDNN\", \"LF_HF_Ratio\"])]\n",
    "\n",
    "# Reshape the time-series data into (samples, time steps, features)\n",
    "X_time_series = combined_data[selected_time_series_cols].values.reshape(\n",
    "    len(combined_data),  # samples (number of patients)\n",
    "    -1,                  # time steps (number of segments per patient)\n",
    "    3                    # features (3 values per time point: Mean_HR, HRV_SDNN, LF_HF_Ratio)\n",
    ")\n",
    "\n",
    "X_time_series.shape"
   ]
  },
  {
   "cell_type": "code",
   "execution_count": 5,
   "metadata": {},
   "outputs": [
    {
     "name": "stderr",
     "output_type": "stream",
     "text": [
      "c:\\Users\\kentf\\OneDrive\\Studium\\M.Sc.Med. Health Informatics\\01 Modules\\5HI024 - Research\\00_Project\\Resus_TTM\\env_ttm\\Lib\\site-packages\\keras\\src\\saving\\saving_lib.py:719: UserWarning: Skipping variable loading for optimizer 'adam', because it has 30 variables whereas the saved optimizer has 2 variables. \n",
      "  saveable.load_own_variables(weights_store.get(inner_path))\n",
      "c:\\Users\\kentf\\OneDrive\\Studium\\M.Sc.Med. Health Informatics\\01 Modules\\5HI024 - Research\\00_Project\\Resus_TTM\\env_ttm\\Lib\\site-packages\\keras\\src\\models\\functional.py:225: UserWarning: The structure of `inputs` doesn't match the expected structure: ['tabular_input', 'time_series_input']. Received: the structure of inputs=('*', '*')\n",
      "  warnings.warn(\n"
     ]
    },
    {
     "name": "stdout",
     "output_type": "stream",
     "text": [
      "\u001b[1m19/19\u001b[0m \u001b[32m━━━━━━━━━━━━━━━━━━━━\u001b[0m\u001b[37m\u001b[0m \u001b[1m4s\u001b[0m 150ms/step\n",
      "\u001b[1m19/19\u001b[0m \u001b[32m━━━━━━━━━━━━━━━━━━━━\u001b[0m\u001b[37m\u001b[0m \u001b[1m2s\u001b[0m 116ms/step\n",
      "\u001b[1m19/19\u001b[0m \u001b[32m━━━━━━━━━━━━━━━━━━━━\u001b[0m\u001b[37m\u001b[0m \u001b[1m2s\u001b[0m 111ms/step\n"
     ]
    }
   ],
   "source": [
    "# Load the model from models/neural_network.keras\n",
    "neural_network = load_model('models/neural_network.keras')\n",
    "\n",
    "# Load the XGBoost model fro models/XGBoost_best_model.pkl\n",
    "with open('models/XGBoost_best_model.pkl', 'rb') as f:\n",
    "    xgboost = pickle.load(f)\n",
    "\n",
    "# Helper function to set TTM protocol and generate predictions\n",
    "def nn_generate_predictions_for_ttm(ttm_value, combined_data, model):\n",
    "    # Make a copy of the data to avoid altering the original DataFrame\n",
    "    data_copy = combined_data.copy()\n",
    "    \n",
    "    # Set TTM protocol columns based on the specified ttm_value\n",
    "    if ttm_value == '33':\n",
    "        data_copy['ttm_33.0'] = 1\n",
    "        data_copy['ttm_36.0'] = 0\n",
    "        data_copy['ttm_No TTM'] = 0\n",
    "    elif ttm_value == '36':\n",
    "        data_copy['ttm_33.0'] = 0\n",
    "        data_copy['ttm_36.0'] = 1\n",
    "        data_copy['ttm_No TTM'] = 0\n",
    "    elif ttm_value == 'No TTM':\n",
    "        data_copy['ttm_33.0'] = 0\n",
    "        data_copy['ttm_36.0'] = 0\n",
    "        data_copy['ttm_No TTM'] = 1\n",
    "    \n",
    "    # Extract tabular and time-series data with proper shape\n",
    "    tabular_input = data_copy[tabular_cols].values.astype('float32')\n",
    "    time_series_input = data_copy[selected_time_series_cols].values.astype('float32').reshape(len(data_copy), 288, 3)\n",
    "    \n",
    "    # Generate predictions\n",
    "    predictions = model.predict([tabular_input, time_series_input])\n",
    "    return predictions\n",
    "\n",
    "# Helper function to set TTM protocol and generate predictions\n",
    "def xgboost_generate_predictions_for_ttm(ttm_value, machine_learning_data, model):\n",
    "    # Make a copy of the data to avoid altering the original DataFrame\n",
    "    data_copy = machine_learning_data.copy()\n",
    "    data_copy = data_copy.drop('Patient', axis=1)\n",
    "    \n",
    "    # Set TTM protocol columns based on the specified ttm_value\n",
    "    if ttm_value == '33':\n",
    "        data_copy['ttm_33.0'] = 1\n",
    "        data_copy['ttm_36.0'] = 0\n",
    "        data_copy['ttm_No TTM'] = 0\n",
    "    elif ttm_value == '36':\n",
    "        data_copy['ttm_33.0'] = 0\n",
    "        data_copy['ttm_36.0'] = 1\n",
    "        data_copy['ttm_No TTM'] = 0\n",
    "    elif ttm_value == 'No TTM':\n",
    "        data_copy['ttm_33.0'] = 0\n",
    "        data_copy['ttm_36.0'] = 0\n",
    "        data_copy['ttm_No TTM'] = 1\n",
    "    \n",
    "    # Generate predictions\n",
    "    predictions = model.predict_proba(data_copy)[:, 1]\n",
    "    return predictions\n",
    "\n",
    "# Function to determine the original TTM protocol based on the columns\n",
    "def get_original_ttm_protocol(row):\n",
    "    if row['ttm_33.0'] == 1:\n",
    "        return '33'\n",
    "    elif row['ttm_36.0'] == 1:\n",
    "        return '36'\n",
    "    elif row['ttm_No TTM'] == 1:\n",
    "        return 'No TTM'\n",
    "    return 'Unknown'\n",
    "\n",
    "# Add original TTM protocol column to the combined_data DataFrame\n",
    "combined_data['Original_TTM'] = combined_data.apply(get_original_ttm_protocol, axis=1)\n",
    "\n",
    "# Generate predictions for each TTM protocol for Neural Network\n",
    "nn_predictions_ttm_33 = nn_generate_predictions_for_ttm('33', combined_data, neural_network)\n",
    "nn_predictions_ttm_36 = nn_generate_predictions_for_ttm('36', combined_data, neural_network)\n",
    "nn_predictions_no_ttm = nn_generate_predictions_for_ttm('No TTM', combined_data, neural_network)\n",
    "\n",
    "# Combine neural network predictions into a DataFrame for easy comparison\n",
    "nn_ttm_predictions_df = pd.DataFrame({\n",
    "    'Patient': combined_data['Patient'],\n",
    "    'Original_TTM': combined_data['Original_TTM'],\n",
    "    'Outcome': combined_data['outcome'],\n",
    "    'Pred_TTM_33': nn_predictions_ttm_33.flatten(),\n",
    "    'Pred_TTM_36': nn_predictions_ttm_36.flatten(),\n",
    "    'Pred_No_TTM': nn_predictions_no_ttm.flatten()\n",
    "})\n",
    "\n",
    "# Generate predictions for each TTM protocol for XGBoost\n",
    "xgboost_predictions_ttm_33 = xgboost_generate_predictions_for_ttm('33', machine_learning_patient_data, xgboost)\n",
    "xgboost_predictions_ttm_36 = xgboost_generate_predictions_for_ttm('36', machine_learning_patient_data, xgboost)\n",
    "xgboost_predictions_no_ttm = xgboost_generate_predictions_for_ttm('No TTM', machine_learning_patient_data, xgboost)\n",
    "\n",
    "# Combine neural network predictions into a DataFrame for easy comparison\n",
    "xgboost_ttm_predictions_df = pd.DataFrame({\n",
    "    'Patient': combined_data['Patient'],\n",
    "    'Original_TTM': combined_data['Original_TTM'],\n",
    "    'Outcome': combined_data['outcome'],\n",
    "    'Pred_TTM_33': xgboost_predictions_ttm_33.flatten(),\n",
    "    'Pred_TTM_36': xgboost_predictions_ttm_36.flatten(),\n",
    "    'Pred_No_TTM': xgboost_predictions_no_ttm.flatten()\n",
    "})"
   ]
  },
  {
   "cell_type": "code",
   "execution_count": 6,
   "metadata": {},
   "outputs": [],
   "source": [
    "# Rename columns with prefixes for NN and XGBoost\n",
    "nn_ttm_predictions_df = nn_ttm_predictions_df.rename(columns={\n",
    "    'Pred_TTM_33': 'NN_Pred_TTM_33',\n",
    "    'Pred_TTM_36': 'NN_Pred_TTM_36',\n",
    "    'Pred_No_TTM': 'NN_Pred_No_TTM'\n",
    "})\n",
    "\n",
    "xgboost_ttm_predictions_df = xgboost_ttm_predictions_df.rename(columns={\n",
    "    'Pred_TTM_33': 'xgb_Pred_TTM_33',\n",
    "    'Pred_TTM_36': 'xgb_Pred_TTM_36',\n",
    "    'Pred_No_TTM': 'xgb_Pred_No_TTM'\n",
    "})\n",
    "\n",
    "# Merge the dataframes to have NN and XGBoost predictions in the same DataFrame\n",
    "combined_predictions_df = nn_ttm_predictions_df.merge(\n",
    "    xgboost_ttm_predictions_df[['Patient', 'xgb_Pred_TTM_33', 'xgb_Pred_TTM_36', 'xgb_Pred_No_TTM']],\n",
    "    on='Patient'\n",
    ")\n"
   ]
  },
  {
   "cell_type": "code",
   "execution_count": 7,
   "metadata": {},
   "outputs": [],
   "source": [
    "# Define the threshold for considering predictions as \"Same\"\n",
    "threshold = 0.025\n",
    "\n",
    "# Updated assess_prediction function to handle model prefix and \"No TTM\" naming\n",
    "def assess_prediction(row, original_protocol, protocol_prediction, protocol_name, model_prefix):\n",
    "    # Determine the correct column name based on the protocol\n",
    "    if protocol_name == \"No TTM\":\n",
    "        original_prediction = row[f'{model_prefix}_Pred_No_TTM']\n",
    "    else:\n",
    "        original_prediction = row[f'{model_prefix}_Pred_TTM_{protocol_name}']\n",
    "    \n",
    "    # If the current protocol is the original one, label it as \"Original TTM\"\n",
    "    if original_protocol == protocol_name:\n",
    "        return \"Original TTM\"\n",
    "    \n",
    "    # Calculate the difference and apply threshold logic\n",
    "    diff = protocol_prediction - original_prediction\n",
    "    if abs(diff) <= threshold:\n",
    "        return \"Same\"\n",
    "    elif diff > 0:\n",
    "        return \"Higher\"\n",
    "    else:\n",
    "        return \"Lower\"\n",
    "\n"
   ]
  },
  {
   "cell_type": "code",
   "execution_count": 8,
   "metadata": {},
   "outputs": [],
   "source": [
    "# Assess predictions for Neural Network\n",
    "combined_predictions_df['NN_TTM_33_Asses'] = combined_predictions_df.apply(\n",
    "    lambda row: assess_prediction(row, row['Original_TTM'], row['NN_Pred_TTM_33'], '33', 'NN'), axis=1\n",
    ")\n",
    "combined_predictions_df['NN_TTM_36_Asses'] = combined_predictions_df.apply(\n",
    "    lambda row: assess_prediction(row, row['Original_TTM'], row['NN_Pred_TTM_36'], '36', 'NN'), axis=1\n",
    ")\n",
    "combined_predictions_df['NN_No_TTM_Asses'] = combined_predictions_df.apply(\n",
    "    lambda row: assess_prediction(row, row['Original_TTM'], row['NN_Pred_No_TTM'], 'No TTM', 'NN'), axis=1\n",
    ")\n",
    "\n",
    "# Assess predictions for XGBoost\n",
    "combined_predictions_df['xgb_TTM_33_Asses'] = combined_predictions_df.apply(\n",
    "    lambda row: assess_prediction(row, row['Original_TTM'], row['xgb_Pred_TTM_33'], '33', 'xgb'), axis=1\n",
    ")\n",
    "combined_predictions_df['xgb_TTM_36_Asses'] = combined_predictions_df.apply(\n",
    "    lambda row: assess_prediction(row, row['Original_TTM'], row['xgb_Pred_TTM_36'], '36', 'xgb'), axis=1\n",
    ")\n",
    "combined_predictions_df['xgb_No_TTM_Asses'] = combined_predictions_df.apply(\n",
    "    lambda row: assess_prediction(row, row['Original_TTM'], row['xgb_Pred_No_TTM'], 'No TTM', 'xgb'), axis=1\n",
    ")\n"
   ]
  },
  {
   "cell_type": "code",
   "execution_count": 9,
   "metadata": {},
   "outputs": [],
   "source": [
    "# Function to determine the best protocol for each model, considering only significant changes\n",
    "def determine_best_prediction(row, model_prefix):\n",
    "    # Extract the predictions for each protocol for the specified model\n",
    "    ttm_predictions = {\n",
    "        '33': row[f'{model_prefix}_Pred_TTM_33'],\n",
    "        '36': row[f'{model_prefix}_Pred_TTM_36'],\n",
    "        'No TTM': row[f'{model_prefix}_Pred_No_TTM']\n",
    "    }\n",
    "    \n",
    "    # Get the baseline prediction value based on the Original_TTM\n",
    "    original_protocol = row['Original_TTM']\n",
    "    baseline_prediction = ttm_predictions[original_protocol]\n",
    "    \n",
    "    # Initialize the best protocol as the original\n",
    "    best_protocol = original_protocol\n",
    "    best_prediction = baseline_prediction\n",
    "    \n",
    "    # Check if any other protocol exceeds the baseline by the threshold\n",
    "    for protocol, prediction in ttm_predictions.items():\n",
    "        if protocol != original_protocol and prediction > baseline_prediction + threshold:\n",
    "            best_protocol = protocol\n",
    "            best_prediction = prediction\n",
    "    \n",
    "    return best_protocol\n",
    "\n",
    "# Apply the function to determine the best TTM protocol for each patient for both NN and XGBoost\n",
    "combined_predictions_df['Best_Prediction_NN'] = combined_predictions_df.apply(\n",
    "    determine_best_prediction, axis=1, model_prefix='NN'\n",
    ")\n",
    "combined_predictions_df['Best_Prediction_XGB'] = combined_predictions_df.apply(\n",
    "    determine_best_prediction, axis=1, model_prefix='xgb'\n",
    ")\n"
   ]
  },
  {
   "cell_type": "code",
   "execution_count": 10,
   "metadata": {},
   "outputs": [
    {
     "data": {
      "text/html": [
       "<style type=\"text/css\">\n",
       "#T_59a33_row0_col9, #T_59a33_row0_col12, #T_59a33_row1_col9, #T_59a33_row1_col12, #T_59a33_row2_col10, #T_59a33_row2_col13, #T_59a33_row3_col9, #T_59a33_row3_col12, #T_59a33_row4_col10, #T_59a33_row4_col13, #T_59a33_row5_col9, #T_59a33_row5_col12, #T_59a33_row6_col9, #T_59a33_row6_col12, #T_59a33_row7_col11, #T_59a33_row7_col14, #T_59a33_row8_col9, #T_59a33_row8_col12, #T_59a33_row9_col9, #T_59a33_row9_col12, #T_59a33_row10_col9, #T_59a33_row10_col12, #T_59a33_row11_col9, #T_59a33_row11_col12, #T_59a33_row12_col10, #T_59a33_row12_col13, #T_59a33_row13_col9, #T_59a33_row13_col12, #T_59a33_row14_col11, #T_59a33_row14_col14, #T_59a33_row15_col9, #T_59a33_row15_col12, #T_59a33_row16_col9, #T_59a33_row16_col12, #T_59a33_row17_col9, #T_59a33_row17_col12, #T_59a33_row18_col9, #T_59a33_row18_col12, #T_59a33_row19_col11, #T_59a33_row19_col14 {\n",
       "  background-color: lightblue;\n",
       "}\n",
       "#T_59a33_row0_col10, #T_59a33_row0_col11, #T_59a33_row0_col13, #T_59a33_row0_col14, #T_59a33_row1_col10, #T_59a33_row1_col11, #T_59a33_row1_col13, #T_59a33_row1_col14, #T_59a33_row2_col9, #T_59a33_row2_col11, #T_59a33_row2_col12, #T_59a33_row2_col14, #T_59a33_row3_col10, #T_59a33_row3_col11, #T_59a33_row3_col13, #T_59a33_row3_col14, #T_59a33_row4_col9, #T_59a33_row4_col11, #T_59a33_row4_col12, #T_59a33_row4_col14, #T_59a33_row5_col10, #T_59a33_row5_col11, #T_59a33_row5_col13, #T_59a33_row5_col14, #T_59a33_row6_col10, #T_59a33_row6_col11, #T_59a33_row6_col13, #T_59a33_row6_col14, #T_59a33_row7_col9, #T_59a33_row7_col10, #T_59a33_row7_col12, #T_59a33_row7_col13, #T_59a33_row8_col10, #T_59a33_row8_col11, #T_59a33_row8_col13, #T_59a33_row8_col14, #T_59a33_row9_col10, #T_59a33_row9_col11, #T_59a33_row9_col13, #T_59a33_row9_col14, #T_59a33_row10_col10, #T_59a33_row10_col11, #T_59a33_row10_col13, #T_59a33_row10_col14, #T_59a33_row11_col10, #T_59a33_row11_col11, #T_59a33_row11_col13, #T_59a33_row11_col14, #T_59a33_row12_col9, #T_59a33_row12_col11, #T_59a33_row12_col12, #T_59a33_row12_col14, #T_59a33_row13_col10, #T_59a33_row13_col11, #T_59a33_row13_col13, #T_59a33_row13_col14, #T_59a33_row14_col9, #T_59a33_row14_col10, #T_59a33_row14_col12, #T_59a33_row14_col13, #T_59a33_row15_col10, #T_59a33_row15_col11, #T_59a33_row15_col13, #T_59a33_row15_col14, #T_59a33_row16_col10, #T_59a33_row16_col11, #T_59a33_row16_col13, #T_59a33_row16_col14, #T_59a33_row17_col10, #T_59a33_row17_col11, #T_59a33_row17_col13, #T_59a33_row17_col14, #T_59a33_row18_col10, #T_59a33_row18_col11, #T_59a33_row18_col13, #T_59a33_row18_col14, #T_59a33_row19_col9, #T_59a33_row19_col10, #T_59a33_row19_col12, #T_59a33_row19_col13 {\n",
       "  background-color: lightyellow;\n",
       "}\n",
       "</style>\n",
       "<table id=\"T_59a33\">\n",
       "  <thead>\n",
       "    <tr>\n",
       "      <th class=\"blank level0\" >&nbsp;</th>\n",
       "      <th id=\"T_59a33_level0_col0\" class=\"col_heading level0 col0\" >Patient</th>\n",
       "      <th id=\"T_59a33_level0_col1\" class=\"col_heading level0 col1\" >Original_TTM</th>\n",
       "      <th id=\"T_59a33_level0_col2\" class=\"col_heading level0 col2\" >Outcome</th>\n",
       "      <th id=\"T_59a33_level0_col3\" class=\"col_heading level0 col3\" >NN_Pred_TTM_33</th>\n",
       "      <th id=\"T_59a33_level0_col4\" class=\"col_heading level0 col4\" >NN_Pred_TTM_36</th>\n",
       "      <th id=\"T_59a33_level0_col5\" class=\"col_heading level0 col5\" >NN_Pred_No_TTM</th>\n",
       "      <th id=\"T_59a33_level0_col6\" class=\"col_heading level0 col6\" >xgb_Pred_TTM_33</th>\n",
       "      <th id=\"T_59a33_level0_col7\" class=\"col_heading level0 col7\" >xgb_Pred_TTM_36</th>\n",
       "      <th id=\"T_59a33_level0_col8\" class=\"col_heading level0 col8\" >xgb_Pred_No_TTM</th>\n",
       "      <th id=\"T_59a33_level0_col9\" class=\"col_heading level0 col9\" >NN_TTM_33_Asses</th>\n",
       "      <th id=\"T_59a33_level0_col10\" class=\"col_heading level0 col10\" >NN_TTM_36_Asses</th>\n",
       "      <th id=\"T_59a33_level0_col11\" class=\"col_heading level0 col11\" >NN_No_TTM_Asses</th>\n",
       "      <th id=\"T_59a33_level0_col12\" class=\"col_heading level0 col12\" >xgb_TTM_33_Asses</th>\n",
       "      <th id=\"T_59a33_level0_col13\" class=\"col_heading level0 col13\" >xgb_TTM_36_Asses</th>\n",
       "      <th id=\"T_59a33_level0_col14\" class=\"col_heading level0 col14\" >xgb_No_TTM_Asses</th>\n",
       "      <th id=\"T_59a33_level0_col15\" class=\"col_heading level0 col15\" >Best_Prediction_NN</th>\n",
       "      <th id=\"T_59a33_level0_col16\" class=\"col_heading level0 col16\" >Best_Prediction_XGB</th>\n",
       "    </tr>\n",
       "  </thead>\n",
       "  <tbody>\n",
       "    <tr>\n",
       "      <th id=\"T_59a33_level0_row0\" class=\"row_heading level0 row0\" >563</th>\n",
       "      <td id=\"T_59a33_row0_col0\" class=\"data row0 col0\" >970</td>\n",
       "      <td id=\"T_59a33_row0_col1\" class=\"data row0 col1\" >33</td>\n",
       "      <td id=\"T_59a33_row0_col2\" class=\"data row0 col2\" >0</td>\n",
       "      <td id=\"T_59a33_row0_col3\" class=\"data row0 col3\" >0.554509</td>\n",
       "      <td id=\"T_59a33_row0_col4\" class=\"data row0 col4\" >0.589955</td>\n",
       "      <td id=\"T_59a33_row0_col5\" class=\"data row0 col5\" >0.597699</td>\n",
       "      <td id=\"T_59a33_row0_col6\" class=\"data row0 col6\" >0.271893</td>\n",
       "      <td id=\"T_59a33_row0_col7\" class=\"data row0 col7\" >0.271893</td>\n",
       "      <td id=\"T_59a33_row0_col8\" class=\"data row0 col8\" >0.317351</td>\n",
       "      <td id=\"T_59a33_row0_col9\" class=\"data row0 col9\" >Original TTM</td>\n",
       "      <td id=\"T_59a33_row0_col10\" class=\"data row0 col10\" >Same</td>\n",
       "      <td id=\"T_59a33_row0_col11\" class=\"data row0 col11\" >Same</td>\n",
       "      <td id=\"T_59a33_row0_col12\" class=\"data row0 col12\" >Original TTM</td>\n",
       "      <td id=\"T_59a33_row0_col13\" class=\"data row0 col13\" >Same</td>\n",
       "      <td id=\"T_59a33_row0_col14\" class=\"data row0 col14\" >Same</td>\n",
       "      <td id=\"T_59a33_row0_col15\" class=\"data row0 col15\" >No TTM</td>\n",
       "      <td id=\"T_59a33_row0_col16\" class=\"data row0 col16\" >No TTM</td>\n",
       "    </tr>\n",
       "    <tr>\n",
       "      <th id=\"T_59a33_level0_row1\" class=\"row_heading level0 row1\" >289</th>\n",
       "      <td id=\"T_59a33_row1_col0\" class=\"data row1 col0\" >655</td>\n",
       "      <td id=\"T_59a33_row1_col1\" class=\"data row1 col1\" >33</td>\n",
       "      <td id=\"T_59a33_row1_col2\" class=\"data row1 col2\" >0</td>\n",
       "      <td id=\"T_59a33_row1_col3\" class=\"data row1 col3\" >0.639392</td>\n",
       "      <td id=\"T_59a33_row1_col4\" class=\"data row1 col4\" >0.633365</td>\n",
       "      <td id=\"T_59a33_row1_col5\" class=\"data row1 col5\" >0.620212</td>\n",
       "      <td id=\"T_59a33_row1_col6\" class=\"data row1 col6\" >0.335131</td>\n",
       "      <td id=\"T_59a33_row1_col7\" class=\"data row1 col7\" >0.335131</td>\n",
       "      <td id=\"T_59a33_row1_col8\" class=\"data row1 col8\" >0.337733</td>\n",
       "      <td id=\"T_59a33_row1_col9\" class=\"data row1 col9\" >Original TTM</td>\n",
       "      <td id=\"T_59a33_row1_col10\" class=\"data row1 col10\" >Same</td>\n",
       "      <td id=\"T_59a33_row1_col11\" class=\"data row1 col11\" >Same</td>\n",
       "      <td id=\"T_59a33_row1_col12\" class=\"data row1 col12\" >Original TTM</td>\n",
       "      <td id=\"T_59a33_row1_col13\" class=\"data row1 col13\" >Same</td>\n",
       "      <td id=\"T_59a33_row1_col14\" class=\"data row1 col14\" >Same</td>\n",
       "      <td id=\"T_59a33_row1_col15\" class=\"data row1 col15\" >33</td>\n",
       "      <td id=\"T_59a33_row1_col16\" class=\"data row1 col16\" >33</td>\n",
       "    </tr>\n",
       "    <tr>\n",
       "      <th id=\"T_59a33_level0_row2\" class=\"row_heading level0 row2\" >76</th>\n",
       "      <td id=\"T_59a33_row2_col0\" class=\"data row2 col0\" >406</td>\n",
       "      <td id=\"T_59a33_row2_col1\" class=\"data row2 col1\" >36</td>\n",
       "      <td id=\"T_59a33_row2_col2\" class=\"data row2 col2\" >0</td>\n",
       "      <td id=\"T_59a33_row2_col3\" class=\"data row2 col3\" >0.587093</td>\n",
       "      <td id=\"T_59a33_row2_col4\" class=\"data row2 col4\" >0.543007</td>\n",
       "      <td id=\"T_59a33_row2_col5\" class=\"data row2 col5\" >0.572179</td>\n",
       "      <td id=\"T_59a33_row2_col6\" class=\"data row2 col6\" >0.319527</td>\n",
       "      <td id=\"T_59a33_row2_col7\" class=\"data row2 col7\" >0.318010</td>\n",
       "      <td id=\"T_59a33_row2_col8\" class=\"data row2 col8\" >0.318010</td>\n",
       "      <td id=\"T_59a33_row2_col9\" class=\"data row2 col9\" >Same</td>\n",
       "      <td id=\"T_59a33_row2_col10\" class=\"data row2 col10\" >Original TTM</td>\n",
       "      <td id=\"T_59a33_row2_col11\" class=\"data row2 col11\" >Same</td>\n",
       "      <td id=\"T_59a33_row2_col12\" class=\"data row2 col12\" >Same</td>\n",
       "      <td id=\"T_59a33_row2_col13\" class=\"data row2 col13\" >Original TTM</td>\n",
       "      <td id=\"T_59a33_row2_col14\" class=\"data row2 col14\" >Same</td>\n",
       "      <td id=\"T_59a33_row2_col15\" class=\"data row2 col15\" >No TTM</td>\n",
       "      <td id=\"T_59a33_row2_col16\" class=\"data row2 col16\" >36</td>\n",
       "    </tr>\n",
       "    <tr>\n",
       "      <th id=\"T_59a33_level0_row3\" class=\"row_heading level0 row3\" >78</th>\n",
       "      <td id=\"T_59a33_row3_col0\" class=\"data row3 col0\" >409</td>\n",
       "      <td id=\"T_59a33_row3_col1\" class=\"data row3 col1\" >33</td>\n",
       "      <td id=\"T_59a33_row3_col2\" class=\"data row3 col2\" >0</td>\n",
       "      <td id=\"T_59a33_row3_col3\" class=\"data row3 col3\" >0.562570</td>\n",
       "      <td id=\"T_59a33_row3_col4\" class=\"data row3 col4\" >0.540563</td>\n",
       "      <td id=\"T_59a33_row3_col5\" class=\"data row3 col5\" >0.551236</td>\n",
       "      <td id=\"T_59a33_row3_col6\" class=\"data row3 col6\" >0.353814</td>\n",
       "      <td id=\"T_59a33_row3_col7\" class=\"data row3 col7\" >0.353814</td>\n",
       "      <td id=\"T_59a33_row3_col8\" class=\"data row3 col8\" >0.418114</td>\n",
       "      <td id=\"T_59a33_row3_col9\" class=\"data row3 col9\" >Original TTM</td>\n",
       "      <td id=\"T_59a33_row3_col10\" class=\"data row3 col10\" >Same</td>\n",
       "      <td id=\"T_59a33_row3_col11\" class=\"data row3 col11\" >Same</td>\n",
       "      <td id=\"T_59a33_row3_col12\" class=\"data row3 col12\" >Original TTM</td>\n",
       "      <td id=\"T_59a33_row3_col13\" class=\"data row3 col13\" >Same</td>\n",
       "      <td id=\"T_59a33_row3_col14\" class=\"data row3 col14\" >Same</td>\n",
       "      <td id=\"T_59a33_row3_col15\" class=\"data row3 col15\" >33</td>\n",
       "      <td id=\"T_59a33_row3_col16\" class=\"data row3 col16\" >No TTM</td>\n",
       "    </tr>\n",
       "    <tr>\n",
       "      <th id=\"T_59a33_level0_row4\" class=\"row_heading level0 row4\" >182</th>\n",
       "      <td id=\"T_59a33_row4_col0\" class=\"data row4 col0\" >529</td>\n",
       "      <td id=\"T_59a33_row4_col1\" class=\"data row4 col1\" >36</td>\n",
       "      <td id=\"T_59a33_row4_col2\" class=\"data row4 col2\" >0</td>\n",
       "      <td id=\"T_59a33_row4_col3\" class=\"data row4 col3\" >0.589845</td>\n",
       "      <td id=\"T_59a33_row4_col4\" class=\"data row4 col4\" >0.595327</td>\n",
       "      <td id=\"T_59a33_row4_col5\" class=\"data row4 col5\" >0.570662</td>\n",
       "      <td id=\"T_59a33_row4_col6\" class=\"data row4 col6\" >0.353444</td>\n",
       "      <td id=\"T_59a33_row4_col7\" class=\"data row4 col7\" >0.353444</td>\n",
       "      <td id=\"T_59a33_row4_col8\" class=\"data row4 col8\" >0.417908</td>\n",
       "      <td id=\"T_59a33_row4_col9\" class=\"data row4 col9\" >Same</td>\n",
       "      <td id=\"T_59a33_row4_col10\" class=\"data row4 col10\" >Original TTM</td>\n",
       "      <td id=\"T_59a33_row4_col11\" class=\"data row4 col11\" >Same</td>\n",
       "      <td id=\"T_59a33_row4_col12\" class=\"data row4 col12\" >Same</td>\n",
       "      <td id=\"T_59a33_row4_col13\" class=\"data row4 col13\" >Original TTM</td>\n",
       "      <td id=\"T_59a33_row4_col14\" class=\"data row4 col14\" >Same</td>\n",
       "      <td id=\"T_59a33_row4_col15\" class=\"data row4 col15\" >36</td>\n",
       "      <td id=\"T_59a33_row4_col16\" class=\"data row4 col16\" >No TTM</td>\n",
       "    </tr>\n",
       "    <tr>\n",
       "      <th id=\"T_59a33_level0_row5\" class=\"row_heading level0 row5\" >495</th>\n",
       "      <td id=\"T_59a33_row5_col0\" class=\"data row5 col0\" >890</td>\n",
       "      <td id=\"T_59a33_row5_col1\" class=\"data row5 col1\" >33</td>\n",
       "      <td id=\"T_59a33_row5_col2\" class=\"data row5 col2\" >0</td>\n",
       "      <td id=\"T_59a33_row5_col3\" class=\"data row5 col3\" >0.647370</td>\n",
       "      <td id=\"T_59a33_row5_col4\" class=\"data row5 col4\" >0.603247</td>\n",
       "      <td id=\"T_59a33_row5_col5\" class=\"data row5 col5\" >0.626079</td>\n",
       "      <td id=\"T_59a33_row5_col6\" class=\"data row5 col6\" >0.341290</td>\n",
       "      <td id=\"T_59a33_row5_col7\" class=\"data row5 col7\" >0.341290</td>\n",
       "      <td id=\"T_59a33_row5_col8\" class=\"data row5 col8\" >0.362664</td>\n",
       "      <td id=\"T_59a33_row5_col9\" class=\"data row5 col9\" >Original TTM</td>\n",
       "      <td id=\"T_59a33_row5_col10\" class=\"data row5 col10\" >Same</td>\n",
       "      <td id=\"T_59a33_row5_col11\" class=\"data row5 col11\" >Same</td>\n",
       "      <td id=\"T_59a33_row5_col12\" class=\"data row5 col12\" >Original TTM</td>\n",
       "      <td id=\"T_59a33_row5_col13\" class=\"data row5 col13\" >Same</td>\n",
       "      <td id=\"T_59a33_row5_col14\" class=\"data row5 col14\" >Same</td>\n",
       "      <td id=\"T_59a33_row5_col15\" class=\"data row5 col15\" >33</td>\n",
       "      <td id=\"T_59a33_row5_col16\" class=\"data row5 col16\" >33</td>\n",
       "    </tr>\n",
       "    <tr>\n",
       "      <th id=\"T_59a33_level0_row6\" class=\"row_heading level0 row6\" >10</th>\n",
       "      <td id=\"T_59a33_row6_col0\" class=\"data row6 col0\" >319</td>\n",
       "      <td id=\"T_59a33_row6_col1\" class=\"data row6 col1\" >33</td>\n",
       "      <td id=\"T_59a33_row6_col2\" class=\"data row6 col2\" >1</td>\n",
       "      <td id=\"T_59a33_row6_col3\" class=\"data row6 col3\" >0.581428</td>\n",
       "      <td id=\"T_59a33_row6_col4\" class=\"data row6 col4\" >0.539669</td>\n",
       "      <td id=\"T_59a33_row6_col5\" class=\"data row6 col5\" >0.558946</td>\n",
       "      <td id=\"T_59a33_row6_col6\" class=\"data row6 col6\" >0.484518</td>\n",
       "      <td id=\"T_59a33_row6_col7\" class=\"data row6 col7\" >0.442586</td>\n",
       "      <td id=\"T_59a33_row6_col8\" class=\"data row6 col8\" >0.442586</td>\n",
       "      <td id=\"T_59a33_row6_col9\" class=\"data row6 col9\" >Original TTM</td>\n",
       "      <td id=\"T_59a33_row6_col10\" class=\"data row6 col10\" >Same</td>\n",
       "      <td id=\"T_59a33_row6_col11\" class=\"data row6 col11\" >Same</td>\n",
       "      <td id=\"T_59a33_row6_col12\" class=\"data row6 col12\" >Original TTM</td>\n",
       "      <td id=\"T_59a33_row6_col13\" class=\"data row6 col13\" >Same</td>\n",
       "      <td id=\"T_59a33_row6_col14\" class=\"data row6 col14\" >Same</td>\n",
       "      <td id=\"T_59a33_row6_col15\" class=\"data row6 col15\" >33</td>\n",
       "      <td id=\"T_59a33_row6_col16\" class=\"data row6 col16\" >33</td>\n",
       "    </tr>\n",
       "    <tr>\n",
       "      <th id=\"T_59a33_level0_row7\" class=\"row_heading level0 row7\" >131</th>\n",
       "      <td id=\"T_59a33_row7_col0\" class=\"data row7 col0\" >465</td>\n",
       "      <td id=\"T_59a33_row7_col1\" class=\"data row7 col1\" >No TTM</td>\n",
       "      <td id=\"T_59a33_row7_col2\" class=\"data row7 col2\" >0</td>\n",
       "      <td id=\"T_59a33_row7_col3\" class=\"data row7 col3\" >0.580255</td>\n",
       "      <td id=\"T_59a33_row7_col4\" class=\"data row7 col4\" >0.554590</td>\n",
       "      <td id=\"T_59a33_row7_col5\" class=\"data row7 col5\" >0.555760</td>\n",
       "      <td id=\"T_59a33_row7_col6\" class=\"data row7 col6\" >0.283959</td>\n",
       "      <td id=\"T_59a33_row7_col7\" class=\"data row7 col7\" >0.286463</td>\n",
       "      <td id=\"T_59a33_row7_col8\" class=\"data row7 col8\" >0.307169</td>\n",
       "      <td id=\"T_59a33_row7_col9\" class=\"data row7 col9\" >Same</td>\n",
       "      <td id=\"T_59a33_row7_col10\" class=\"data row7 col10\" >Same</td>\n",
       "      <td id=\"T_59a33_row7_col11\" class=\"data row7 col11\" >Original TTM</td>\n",
       "      <td id=\"T_59a33_row7_col12\" class=\"data row7 col12\" >Same</td>\n",
       "      <td id=\"T_59a33_row7_col13\" class=\"data row7 col13\" >Same</td>\n",
       "      <td id=\"T_59a33_row7_col14\" class=\"data row7 col14\" >Original TTM</td>\n",
       "      <td id=\"T_59a33_row7_col15\" class=\"data row7 col15\" >No TTM</td>\n",
       "      <td id=\"T_59a33_row7_col16\" class=\"data row7 col16\" >No TTM</td>\n",
       "    </tr>\n",
       "    <tr>\n",
       "      <th id=\"T_59a33_level0_row8\" class=\"row_heading level0 row8\" >445</th>\n",
       "      <td id=\"T_59a33_row8_col0\" class=\"data row8 col0\" >835</td>\n",
       "      <td id=\"T_59a33_row8_col1\" class=\"data row8 col1\" >33</td>\n",
       "      <td id=\"T_59a33_row8_col2\" class=\"data row8 col2\" >1</td>\n",
       "      <td id=\"T_59a33_row8_col3\" class=\"data row8 col3\" >0.547054</td>\n",
       "      <td id=\"T_59a33_row8_col4\" class=\"data row8 col4\" >0.529173</td>\n",
       "      <td id=\"T_59a33_row8_col5\" class=\"data row8 col5\" >0.543913</td>\n",
       "      <td id=\"T_59a33_row8_col6\" class=\"data row8 col6\" >0.603810</td>\n",
       "      <td id=\"T_59a33_row8_col7\" class=\"data row8 col7\" >0.603810</td>\n",
       "      <td id=\"T_59a33_row8_col8\" class=\"data row8 col8\" >0.603810</td>\n",
       "      <td id=\"T_59a33_row8_col9\" class=\"data row8 col9\" >Original TTM</td>\n",
       "      <td id=\"T_59a33_row8_col10\" class=\"data row8 col10\" >Same</td>\n",
       "      <td id=\"T_59a33_row8_col11\" class=\"data row8 col11\" >Same</td>\n",
       "      <td id=\"T_59a33_row8_col12\" class=\"data row8 col12\" >Original TTM</td>\n",
       "      <td id=\"T_59a33_row8_col13\" class=\"data row8 col13\" >Same</td>\n",
       "      <td id=\"T_59a33_row8_col14\" class=\"data row8 col14\" >Same</td>\n",
       "      <td id=\"T_59a33_row8_col15\" class=\"data row8 col15\" >33</td>\n",
       "      <td id=\"T_59a33_row8_col16\" class=\"data row8 col16\" >33</td>\n",
       "    </tr>\n",
       "    <tr>\n",
       "      <th id=\"T_59a33_level0_row9\" class=\"row_heading level0 row9\" >86</th>\n",
       "      <td id=\"T_59a33_row9_col0\" class=\"data row9 col0\" >417</td>\n",
       "      <td id=\"T_59a33_row9_col1\" class=\"data row9 col1\" >33</td>\n",
       "      <td id=\"T_59a33_row9_col2\" class=\"data row9 col2\" >0</td>\n",
       "      <td id=\"T_59a33_row9_col3\" class=\"data row9 col3\" >0.589832</td>\n",
       "      <td id=\"T_59a33_row9_col4\" class=\"data row9 col4\" >0.571773</td>\n",
       "      <td id=\"T_59a33_row9_col5\" class=\"data row9 col5\" >0.557816</td>\n",
       "      <td id=\"T_59a33_row9_col6\" class=\"data row9 col6\" >0.249554</td>\n",
       "      <td id=\"T_59a33_row9_col7\" class=\"data row9 col7\" >0.249554</td>\n",
       "      <td id=\"T_59a33_row9_col8\" class=\"data row9 col8\" >0.273313</td>\n",
       "      <td id=\"T_59a33_row9_col9\" class=\"data row9 col9\" >Original TTM</td>\n",
       "      <td id=\"T_59a33_row9_col10\" class=\"data row9 col10\" >Same</td>\n",
       "      <td id=\"T_59a33_row9_col11\" class=\"data row9 col11\" >Same</td>\n",
       "      <td id=\"T_59a33_row9_col12\" class=\"data row9 col12\" >Original TTM</td>\n",
       "      <td id=\"T_59a33_row9_col13\" class=\"data row9 col13\" >Same</td>\n",
       "      <td id=\"T_59a33_row9_col14\" class=\"data row9 col14\" >Same</td>\n",
       "      <td id=\"T_59a33_row9_col15\" class=\"data row9 col15\" >33</td>\n",
       "      <td id=\"T_59a33_row9_col16\" class=\"data row9 col16\" >33</td>\n",
       "    </tr>\n",
       "    <tr>\n",
       "      <th id=\"T_59a33_level0_row10\" class=\"row_heading level0 row10\" >70</th>\n",
       "      <td id=\"T_59a33_row10_col0\" class=\"data row10 col0\" >399</td>\n",
       "      <td id=\"T_59a33_row10_col1\" class=\"data row10 col1\" >33</td>\n",
       "      <td id=\"T_59a33_row10_col2\" class=\"data row10 col2\" >0</td>\n",
       "      <td id=\"T_59a33_row10_col3\" class=\"data row10 col3\" >0.538663</td>\n",
       "      <td id=\"T_59a33_row10_col4\" class=\"data row10 col4\" >0.556062</td>\n",
       "      <td id=\"T_59a33_row10_col5\" class=\"data row10 col5\" >0.511276</td>\n",
       "      <td id=\"T_59a33_row10_col6\" class=\"data row10 col6\" >0.238944</td>\n",
       "      <td id=\"T_59a33_row10_col7\" class=\"data row10 col7\" >0.238944</td>\n",
       "      <td id=\"T_59a33_row10_col8\" class=\"data row10 col8\" >0.259072</td>\n",
       "      <td id=\"T_59a33_row10_col9\" class=\"data row10 col9\" >Original TTM</td>\n",
       "      <td id=\"T_59a33_row10_col10\" class=\"data row10 col10\" >Same</td>\n",
       "      <td id=\"T_59a33_row10_col11\" class=\"data row10 col11\" >Same</td>\n",
       "      <td id=\"T_59a33_row10_col12\" class=\"data row10 col12\" >Original TTM</td>\n",
       "      <td id=\"T_59a33_row10_col13\" class=\"data row10 col13\" >Same</td>\n",
       "      <td id=\"T_59a33_row10_col14\" class=\"data row10 col14\" >Same</td>\n",
       "      <td id=\"T_59a33_row10_col15\" class=\"data row10 col15\" >33</td>\n",
       "      <td id=\"T_59a33_row10_col16\" class=\"data row10 col16\" >33</td>\n",
       "    </tr>\n",
       "    <tr>\n",
       "      <th id=\"T_59a33_level0_row11\" class=\"row_heading level0 row11\" >546</th>\n",
       "      <td id=\"T_59a33_row11_col0\" class=\"data row11 col0\" >951</td>\n",
       "      <td id=\"T_59a33_row11_col1\" class=\"data row11 col1\" >33</td>\n",
       "      <td id=\"T_59a33_row11_col2\" class=\"data row11 col2\" >1</td>\n",
       "      <td id=\"T_59a33_row11_col3\" class=\"data row11 col3\" >0.556521</td>\n",
       "      <td id=\"T_59a33_row11_col4\" class=\"data row11 col4\" >0.552169</td>\n",
       "      <td id=\"T_59a33_row11_col5\" class=\"data row11 col5\" >0.565098</td>\n",
       "      <td id=\"T_59a33_row11_col6\" class=\"data row11 col6\" >0.603810</td>\n",
       "      <td id=\"T_59a33_row11_col7\" class=\"data row11 col7\" >0.603810</td>\n",
       "      <td id=\"T_59a33_row11_col8\" class=\"data row11 col8\" >0.603810</td>\n",
       "      <td id=\"T_59a33_row11_col9\" class=\"data row11 col9\" >Original TTM</td>\n",
       "      <td id=\"T_59a33_row11_col10\" class=\"data row11 col10\" >Same</td>\n",
       "      <td id=\"T_59a33_row11_col11\" class=\"data row11 col11\" >Same</td>\n",
       "      <td id=\"T_59a33_row11_col12\" class=\"data row11 col12\" >Original TTM</td>\n",
       "      <td id=\"T_59a33_row11_col13\" class=\"data row11 col13\" >Same</td>\n",
       "      <td id=\"T_59a33_row11_col14\" class=\"data row11 col14\" >Same</td>\n",
       "      <td id=\"T_59a33_row11_col15\" class=\"data row11 col15\" >33</td>\n",
       "      <td id=\"T_59a33_row11_col16\" class=\"data row11 col16\" >33</td>\n",
       "    </tr>\n",
       "    <tr>\n",
       "      <th id=\"T_59a33_level0_row12\" class=\"row_heading level0 row12\" >380</th>\n",
       "      <td id=\"T_59a33_row12_col0\" class=\"data row12 col0\" >758</td>\n",
       "      <td id=\"T_59a33_row12_col1\" class=\"data row12 col1\" >36</td>\n",
       "      <td id=\"T_59a33_row12_col2\" class=\"data row12 col2\" >0</td>\n",
       "      <td id=\"T_59a33_row12_col3\" class=\"data row12 col3\" >0.528207</td>\n",
       "      <td id=\"T_59a33_row12_col4\" class=\"data row12 col4\" >0.533792</td>\n",
       "      <td id=\"T_59a33_row12_col5\" class=\"data row12 col5\" >0.513002</td>\n",
       "      <td id=\"T_59a33_row12_col6\" class=\"data row12 col6\" >0.239490</td>\n",
       "      <td id=\"T_59a33_row12_col7\" class=\"data row12 col7\" >0.239490</td>\n",
       "      <td id=\"T_59a33_row12_col8\" class=\"data row12 col8\" >0.260584</td>\n",
       "      <td id=\"T_59a33_row12_col9\" class=\"data row12 col9\" >Same</td>\n",
       "      <td id=\"T_59a33_row12_col10\" class=\"data row12 col10\" >Original TTM</td>\n",
       "      <td id=\"T_59a33_row12_col11\" class=\"data row12 col11\" >Same</td>\n",
       "      <td id=\"T_59a33_row12_col12\" class=\"data row12 col12\" >Same</td>\n",
       "      <td id=\"T_59a33_row12_col13\" class=\"data row12 col13\" >Original TTM</td>\n",
       "      <td id=\"T_59a33_row12_col14\" class=\"data row12 col14\" >Same</td>\n",
       "      <td id=\"T_59a33_row12_col15\" class=\"data row12 col15\" >36</td>\n",
       "      <td id=\"T_59a33_row12_col16\" class=\"data row12 col16\" >36</td>\n",
       "    </tr>\n",
       "    <tr>\n",
       "      <th id=\"T_59a33_level0_row13\" class=\"row_heading level0 row13\" >210</th>\n",
       "      <td id=\"T_59a33_row13_col0\" class=\"data row13 col0\" >561</td>\n",
       "      <td id=\"T_59a33_row13_col1\" class=\"data row13 col1\" >33</td>\n",
       "      <td id=\"T_59a33_row13_col2\" class=\"data row13 col2\" >0</td>\n",
       "      <td id=\"T_59a33_row13_col3\" class=\"data row13 col3\" >0.603578</td>\n",
       "      <td id=\"T_59a33_row13_col4\" class=\"data row13 col4\" >0.604519</td>\n",
       "      <td id=\"T_59a33_row13_col5\" class=\"data row13 col5\" >0.595777</td>\n",
       "      <td id=\"T_59a33_row13_col6\" class=\"data row13 col6\" >0.253731</td>\n",
       "      <td id=\"T_59a33_row13_col7\" class=\"data row13 col7\" >0.256672</td>\n",
       "      <td id=\"T_59a33_row13_col8\" class=\"data row13 col8\" >0.304804</td>\n",
       "      <td id=\"T_59a33_row13_col9\" class=\"data row13 col9\" >Original TTM</td>\n",
       "      <td id=\"T_59a33_row13_col10\" class=\"data row13 col10\" >Same</td>\n",
       "      <td id=\"T_59a33_row13_col11\" class=\"data row13 col11\" >Same</td>\n",
       "      <td id=\"T_59a33_row13_col12\" class=\"data row13 col12\" >Original TTM</td>\n",
       "      <td id=\"T_59a33_row13_col13\" class=\"data row13 col13\" >Same</td>\n",
       "      <td id=\"T_59a33_row13_col14\" class=\"data row13 col14\" >Same</td>\n",
       "      <td id=\"T_59a33_row13_col15\" class=\"data row13 col15\" >33</td>\n",
       "      <td id=\"T_59a33_row13_col16\" class=\"data row13 col16\" >No TTM</td>\n",
       "    </tr>\n",
       "    <tr>\n",
       "      <th id=\"T_59a33_level0_row14\" class=\"row_heading level0 row14\" >55</th>\n",
       "      <td id=\"T_59a33_row14_col0\" class=\"data row14 col0\" >380</td>\n",
       "      <td id=\"T_59a33_row14_col1\" class=\"data row14 col1\" >No TTM</td>\n",
       "      <td id=\"T_59a33_row14_col2\" class=\"data row14 col2\" >0</td>\n",
       "      <td id=\"T_59a33_row14_col3\" class=\"data row14 col3\" >0.554153</td>\n",
       "      <td id=\"T_59a33_row14_col4\" class=\"data row14 col4\" >0.544649</td>\n",
       "      <td id=\"T_59a33_row14_col5\" class=\"data row14 col5\" >0.548486</td>\n",
       "      <td id=\"T_59a33_row14_col6\" class=\"data row14 col6\" >0.331399</td>\n",
       "      <td id=\"T_59a33_row14_col7\" class=\"data row14 col7\" >0.329090</td>\n",
       "      <td id=\"T_59a33_row14_col8\" class=\"data row14 col8\" >0.331359</td>\n",
       "      <td id=\"T_59a33_row14_col9\" class=\"data row14 col9\" >Same</td>\n",
       "      <td id=\"T_59a33_row14_col10\" class=\"data row14 col10\" >Same</td>\n",
       "      <td id=\"T_59a33_row14_col11\" class=\"data row14 col11\" >Original TTM</td>\n",
       "      <td id=\"T_59a33_row14_col12\" class=\"data row14 col12\" >Same</td>\n",
       "      <td id=\"T_59a33_row14_col13\" class=\"data row14 col13\" >Same</td>\n",
       "      <td id=\"T_59a33_row14_col14\" class=\"data row14 col14\" >Original TTM</td>\n",
       "      <td id=\"T_59a33_row14_col15\" class=\"data row14 col15\" >No TTM</td>\n",
       "      <td id=\"T_59a33_row14_col16\" class=\"data row14 col16\" >No TTM</td>\n",
       "    </tr>\n",
       "    <tr>\n",
       "      <th id=\"T_59a33_level0_row15\" class=\"row_heading level0 row15\" >404</th>\n",
       "      <td id=\"T_59a33_row15_col0\" class=\"data row15 col0\" >784</td>\n",
       "      <td id=\"T_59a33_row15_col1\" class=\"data row15 col1\" >33</td>\n",
       "      <td id=\"T_59a33_row15_col2\" class=\"data row15 col2\" >0</td>\n",
       "      <td id=\"T_59a33_row15_col3\" class=\"data row15 col3\" >0.554000</td>\n",
       "      <td id=\"T_59a33_row15_col4\" class=\"data row15 col4\" >0.553898</td>\n",
       "      <td id=\"T_59a33_row15_col5\" class=\"data row15 col5\" >0.573372</td>\n",
       "      <td id=\"T_59a33_row15_col6\" class=\"data row15 col6\" >0.353814</td>\n",
       "      <td id=\"T_59a33_row15_col7\" class=\"data row15 col7\" >0.353814</td>\n",
       "      <td id=\"T_59a33_row15_col8\" class=\"data row15 col8\" >0.426334</td>\n",
       "      <td id=\"T_59a33_row15_col9\" class=\"data row15 col9\" >Original TTM</td>\n",
       "      <td id=\"T_59a33_row15_col10\" class=\"data row15 col10\" >Same</td>\n",
       "      <td id=\"T_59a33_row15_col11\" class=\"data row15 col11\" >Same</td>\n",
       "      <td id=\"T_59a33_row15_col12\" class=\"data row15 col12\" >Original TTM</td>\n",
       "      <td id=\"T_59a33_row15_col13\" class=\"data row15 col13\" >Same</td>\n",
       "      <td id=\"T_59a33_row15_col14\" class=\"data row15 col14\" >Same</td>\n",
       "      <td id=\"T_59a33_row15_col15\" class=\"data row15 col15\" >33</td>\n",
       "      <td id=\"T_59a33_row15_col16\" class=\"data row15 col16\" >No TTM</td>\n",
       "    </tr>\n",
       "    <tr>\n",
       "      <th id=\"T_59a33_level0_row16\" class=\"row_heading level0 row16\" >30</th>\n",
       "      <td id=\"T_59a33_row16_col0\" class=\"data row16 col0\" >354</td>\n",
       "      <td id=\"T_59a33_row16_col1\" class=\"data row16 col1\" >33</td>\n",
       "      <td id=\"T_59a33_row16_col2\" class=\"data row16 col2\" >1</td>\n",
       "      <td id=\"T_59a33_row16_col3\" class=\"data row16 col3\" >0.587661</td>\n",
       "      <td id=\"T_59a33_row16_col4\" class=\"data row16 col4\" >0.549217</td>\n",
       "      <td id=\"T_59a33_row16_col5\" class=\"data row16 col5\" >0.585856</td>\n",
       "      <td id=\"T_59a33_row16_col6\" class=\"data row16 col6\" >0.545848</td>\n",
       "      <td id=\"T_59a33_row16_col7\" class=\"data row16 col7\" >0.505960</td>\n",
       "      <td id=\"T_59a33_row16_col8\" class=\"data row16 col8\" >0.505960</td>\n",
       "      <td id=\"T_59a33_row16_col9\" class=\"data row16 col9\" >Original TTM</td>\n",
       "      <td id=\"T_59a33_row16_col10\" class=\"data row16 col10\" >Same</td>\n",
       "      <td id=\"T_59a33_row16_col11\" class=\"data row16 col11\" >Same</td>\n",
       "      <td id=\"T_59a33_row16_col12\" class=\"data row16 col12\" >Original TTM</td>\n",
       "      <td id=\"T_59a33_row16_col13\" class=\"data row16 col13\" >Same</td>\n",
       "      <td id=\"T_59a33_row16_col14\" class=\"data row16 col14\" >Same</td>\n",
       "      <td id=\"T_59a33_row16_col15\" class=\"data row16 col15\" >33</td>\n",
       "      <td id=\"T_59a33_row16_col16\" class=\"data row16 col16\" >33</td>\n",
       "    </tr>\n",
       "    <tr>\n",
       "      <th id=\"T_59a33_level0_row17\" class=\"row_heading level0 row17\" >280</th>\n",
       "      <td id=\"T_59a33_row17_col0\" class=\"data row17 col0\" >644</td>\n",
       "      <td id=\"T_59a33_row17_col1\" class=\"data row17 col1\" >33</td>\n",
       "      <td id=\"T_59a33_row17_col2\" class=\"data row17 col2\" >1</td>\n",
       "      <td id=\"T_59a33_row17_col3\" class=\"data row17 col3\" >0.571911</td>\n",
       "      <td id=\"T_59a33_row17_col4\" class=\"data row17 col4\" >0.560334</td>\n",
       "      <td id=\"T_59a33_row17_col5\" class=\"data row17 col5\" >0.573680</td>\n",
       "      <td id=\"T_59a33_row17_col6\" class=\"data row17 col6\" >0.603810</td>\n",
       "      <td id=\"T_59a33_row17_col7\" class=\"data row17 col7\" >0.603810</td>\n",
       "      <td id=\"T_59a33_row17_col8\" class=\"data row17 col8\" >0.603810</td>\n",
       "      <td id=\"T_59a33_row17_col9\" class=\"data row17 col9\" >Original TTM</td>\n",
       "      <td id=\"T_59a33_row17_col10\" class=\"data row17 col10\" >Same</td>\n",
       "      <td id=\"T_59a33_row17_col11\" class=\"data row17 col11\" >Same</td>\n",
       "      <td id=\"T_59a33_row17_col12\" class=\"data row17 col12\" >Original TTM</td>\n",
       "      <td id=\"T_59a33_row17_col13\" class=\"data row17 col13\" >Same</td>\n",
       "      <td id=\"T_59a33_row17_col14\" class=\"data row17 col14\" >Same</td>\n",
       "      <td id=\"T_59a33_row17_col15\" class=\"data row17 col15\" >33</td>\n",
       "      <td id=\"T_59a33_row17_col16\" class=\"data row17 col16\" >33</td>\n",
       "    </tr>\n",
       "    <tr>\n",
       "      <th id=\"T_59a33_level0_row18\" class=\"row_heading level0 row18\" >109</th>\n",
       "      <td id=\"T_59a33_row18_col0\" class=\"data row18 col0\" >441</td>\n",
       "      <td id=\"T_59a33_row18_col1\" class=\"data row18 col1\" >33</td>\n",
       "      <td id=\"T_59a33_row18_col2\" class=\"data row18 col2\" >0</td>\n",
       "      <td id=\"T_59a33_row18_col3\" class=\"data row18 col3\" >0.563294</td>\n",
       "      <td id=\"T_59a33_row18_col4\" class=\"data row18 col4\" >0.565979</td>\n",
       "      <td id=\"T_59a33_row18_col5\" class=\"data row18 col5\" >0.541260</td>\n",
       "      <td id=\"T_59a33_row18_col6\" class=\"data row18 col6\" >0.240703</td>\n",
       "      <td id=\"T_59a33_row18_col7\" class=\"data row18 col7\" >0.240703</td>\n",
       "      <td id=\"T_59a33_row18_col8\" class=\"data row18 col8\" >0.277625</td>\n",
       "      <td id=\"T_59a33_row18_col9\" class=\"data row18 col9\" >Original TTM</td>\n",
       "      <td id=\"T_59a33_row18_col10\" class=\"data row18 col10\" >Same</td>\n",
       "      <td id=\"T_59a33_row18_col11\" class=\"data row18 col11\" >Same</td>\n",
       "      <td id=\"T_59a33_row18_col12\" class=\"data row18 col12\" >Original TTM</td>\n",
       "      <td id=\"T_59a33_row18_col13\" class=\"data row18 col13\" >Same</td>\n",
       "      <td id=\"T_59a33_row18_col14\" class=\"data row18 col14\" >Same</td>\n",
       "      <td id=\"T_59a33_row18_col15\" class=\"data row18 col15\" >33</td>\n",
       "      <td id=\"T_59a33_row18_col16\" class=\"data row18 col16\" >No TTM</td>\n",
       "    </tr>\n",
       "    <tr>\n",
       "      <th id=\"T_59a33_level0_row19\" class=\"row_heading level0 row19\" >595</th>\n",
       "      <td id=\"T_59a33_row19_col0\" class=\"data row19 col0\" >1008</td>\n",
       "      <td id=\"T_59a33_row19_col1\" class=\"data row19 col1\" >No TTM</td>\n",
       "      <td id=\"T_59a33_row19_col2\" class=\"data row19 col2\" >0</td>\n",
       "      <td id=\"T_59a33_row19_col3\" class=\"data row19 col3\" >0.539613</td>\n",
       "      <td id=\"T_59a33_row19_col4\" class=\"data row19 col4\" >0.564071</td>\n",
       "      <td id=\"T_59a33_row19_col5\" class=\"data row19 col5\" >0.515183</td>\n",
       "      <td id=\"T_59a33_row19_col6\" class=\"data row19 col6\" >0.246472</td>\n",
       "      <td id=\"T_59a33_row19_col7\" class=\"data row19 col7\" >0.246472</td>\n",
       "      <td id=\"T_59a33_row19_col8\" class=\"data row19 col8\" >0.286133</td>\n",
       "      <td id=\"T_59a33_row19_col9\" class=\"data row19 col9\" >Same</td>\n",
       "      <td id=\"T_59a33_row19_col10\" class=\"data row19 col10\" >Same</td>\n",
       "      <td id=\"T_59a33_row19_col11\" class=\"data row19 col11\" >Original TTM</td>\n",
       "      <td id=\"T_59a33_row19_col12\" class=\"data row19 col12\" >Same</td>\n",
       "      <td id=\"T_59a33_row19_col13\" class=\"data row19 col13\" >Same</td>\n",
       "      <td id=\"T_59a33_row19_col14\" class=\"data row19 col14\" >Original TTM</td>\n",
       "      <td id=\"T_59a33_row19_col15\" class=\"data row19 col15\" >36</td>\n",
       "      <td id=\"T_59a33_row19_col16\" class=\"data row19 col16\" >No TTM</td>\n",
       "    </tr>\n",
       "  </tbody>\n",
       "</table>\n"
      ],
      "text/plain": [
       "<pandas.io.formats.style.Styler at 0x2494cfdd0a0>"
      ]
     },
     "execution_count": 10,
     "metadata": {},
     "output_type": "execute_result"
    }
   ],
   "source": [
    "# Define color mapping function for assessments\n",
    "def color_assessment(val):\n",
    "    if val == \"Lower\":\n",
    "        return \"background-color: lightcoral\"\n",
    "    elif val == \"Higher\":\n",
    "        return \"background-color: lightgreen\"\n",
    "    elif val == \"Same\":\n",
    "        return \"background-color: lightyellow\"\n",
    "    elif val == \"Original TTM\":\n",
    "        return \"background-color: lightblue\"\n",
    "    return \"\"\n",
    "\n",
    "combined_predictions_df.sample(20, random_state=42)\\\n",
    "    .style.map(color_assessment, subset=['NN_TTM_33_Asses', 'NN_TTM_36_Asses', 'NN_No_TTM_Asses', 'xgb_TTM_33_Asses', 'xgb_TTM_36_Asses', 'xgb_No_TTM_Asses'])"
   ]
  },
  {
   "cell_type": "code",
   "execution_count": 11,
   "metadata": {},
   "outputs": [
    {
     "name": "stdout",
     "output_type": "stream",
     "text": [
      "Transition Table for NN\n"
     ]
    },
    {
     "data": {
      "text/html": [
       "<div>\n",
       "<style scoped>\n",
       "    .dataframe tbody tr th:only-of-type {\n",
       "        vertical-align: middle;\n",
       "    }\n",
       "\n",
       "    .dataframe tbody tr th {\n",
       "        vertical-align: top;\n",
       "    }\n",
       "\n",
       "    .dataframe thead th {\n",
       "        text-align: right;\n",
       "    }\n",
       "</style>\n",
       "<table border=\"1\" class=\"dataframe\">\n",
       "  <thead>\n",
       "    <tr style=\"text-align: right;\">\n",
       "      <th>Best_Prediction_NN</th>\n",
       "      <th>33</th>\n",
       "      <th>36</th>\n",
       "      <th>No TTM</th>\n",
       "    </tr>\n",
       "    <tr>\n",
       "      <th>Original_TTM</th>\n",
       "      <th></th>\n",
       "      <th></th>\n",
       "      <th></th>\n",
       "    </tr>\n",
       "  </thead>\n",
       "  <tbody>\n",
       "    <tr>\n",
       "      <th>33</th>\n",
       "      <td>91.7%</td>\n",
       "      <td>1.1%</td>\n",
       "      <td>7.1%</td>\n",
       "    </tr>\n",
       "    <tr>\n",
       "      <th>36</th>\n",
       "      <td>27.9%</td>\n",
       "      <td>55.7%</td>\n",
       "      <td>16.4%</td>\n",
       "    </tr>\n",
       "    <tr>\n",
       "      <th>No TTM</th>\n",
       "      <td>25.5%</td>\n",
       "      <td>10.2%</td>\n",
       "      <td>64.3%</td>\n",
       "    </tr>\n",
       "  </tbody>\n",
       "</table>\n",
       "</div>"
      ],
      "text/plain": [
       "Best_Prediction_NN     33     36 No TTM\n",
       "Original_TTM                           \n",
       "33                  91.7%   1.1%   7.1%\n",
       "36                  27.9%  55.7%  16.4%\n",
       "No TTM              25.5%  10.2%  64.3%"
      ]
     },
     "metadata": {},
     "output_type": "display_data"
    },
    {
     "name": "stdout",
     "output_type": "stream",
     "text": [
      "Transition Table for XGB\n"
     ]
    },
    {
     "data": {
      "text/html": [
       "<div>\n",
       "<style scoped>\n",
       "    .dataframe tbody tr th:only-of-type {\n",
       "        vertical-align: middle;\n",
       "    }\n",
       "\n",
       "    .dataframe tbody tr th {\n",
       "        vertical-align: top;\n",
       "    }\n",
       "\n",
       "    .dataframe thead th {\n",
       "        text-align: right;\n",
       "    }\n",
       "</style>\n",
       "<table border=\"1\" class=\"dataframe\">\n",
       "  <thead>\n",
       "    <tr style=\"text-align: right;\">\n",
       "      <th>Best_Prediction_XGB</th>\n",
       "      <th>33</th>\n",
       "      <th>36</th>\n",
       "      <th>No TTM</th>\n",
       "    </tr>\n",
       "    <tr>\n",
       "      <th>Original_TTM</th>\n",
       "      <th></th>\n",
       "      <th></th>\n",
       "      <th></th>\n",
       "    </tr>\n",
       "  </thead>\n",
       "  <tbody>\n",
       "    <tr>\n",
       "      <th>33</th>\n",
       "      <td>67.0%</td>\n",
       "      <td>0.0%</td>\n",
       "      <td>33.0%</td>\n",
       "    </tr>\n",
       "    <tr>\n",
       "      <th>36</th>\n",
       "      <td>32.8%</td>\n",
       "      <td>47.5%</td>\n",
       "      <td>19.7%</td>\n",
       "    </tr>\n",
       "    <tr>\n",
       "      <th>No TTM</th>\n",
       "      <td>8.2%</td>\n",
       "      <td>0.0%</td>\n",
       "      <td>91.8%</td>\n",
       "    </tr>\n",
       "  </tbody>\n",
       "</table>\n",
       "</div>"
      ],
      "text/plain": [
       "Best_Prediction_XGB     33     36 No TTM\n",
       "Original_TTM                            \n",
       "33                   67.0%   0.0%  33.0%\n",
       "36                   32.8%  47.5%  19.7%\n",
       "No TTM                8.2%   0.0%  91.8%"
      ]
     },
     "metadata": {},
     "output_type": "display_data"
    }
   ],
   "source": [
    "# Function to create a pivot table showing transitions from Original_TTM to Best_Prediction for a given model\n",
    "def create_transition_table(data, model_name):\n",
    "    # Count the transitions from Original_TTM to Best_Prediction for the model\n",
    "    sankey_data = data.groupby(['Original_TTM', f'Best_Prediction_{model_name}']).size().reset_index(name='count')\n",
    "    \n",
    "    # Create a pivot table to show counts of transitions from Original_TTM to Best_Prediction\n",
    "    sankey_matrix = sankey_data.pivot(index='Original_TTM', columns=f'Best_Prediction_{model_name}', values='count').fillna(0)\n",
    "    \n",
    "    # Calculate row-wise percentages to get the percentage of each original protocol going to each best protocol\n",
    "    sankey_percentage_matrix = sankey_matrix.div(sankey_matrix.sum(axis=1), axis=0) * 100\n",
    "    \n",
    "    # Format as percentage with one decimal place\n",
    "    sankey_percentage_matrix = sankey_percentage_matrix.round(1).astype(str) + '%'\n",
    "    \n",
    "    # Display the percentage matrix\n",
    "    print(f\"Transition Table for {model_name}\")\n",
    "    display(sankey_percentage_matrix)\n",
    "\n",
    "# Create and display transition tables for Neural Network and XGBoost\n",
    "create_transition_table(combined_predictions_df, \"NN\")\n",
    "create_transition_table(combined_predictions_df, \"XGB\")\n"
   ]
  },
  {
   "cell_type": "code",
   "execution_count": 12,
   "metadata": {},
   "outputs": [
    {
     "data": {
      "application/vnd.plotly.v1+json": {
       "config": {
        "plotlyServerURL": "https://plot.ly"
       },
       "data": [
        {
         "link": {
          "label": [
           "91.7%",
           "1.1%",
           "7.1%",
           "27.9%",
           "55.7%",
           "16.4%",
           "25.5%",
           "10.2%",
           "64.3%"
          ],
          "source": [
           0,
           0,
           0,
           1,
           1,
           1,
           2,
           2,
           2
          ],
          "target": [
           3,
           4,
           5,
           3,
           4,
           5,
           3,
           4,
           5
          ],
          "value": [
           411,
           5,
           32,
           17,
           34,
           10,
           25,
           10,
           63
          ]
         },
         "node": {
          "label": [
           "Original 33",
           "Original 36",
           "Original No TTM",
           "Best 33",
           "Best 36",
           "Best No TTM"
          ],
          "line": {
           "color": "black",
           "width": 0.5
          },
          "pad": 15,
          "thickness": 20
         },
         "type": "sankey"
        }
       ],
       "layout": {
        "font": {
         "size": 12
        },
        "template": {
         "data": {
          "bar": [
           {
            "error_x": {
             "color": "#2a3f5f"
            },
            "error_y": {
             "color": "#2a3f5f"
            },
            "marker": {
             "line": {
              "color": "#E5ECF6",
              "width": 0.5
             },
             "pattern": {
              "fillmode": "overlay",
              "size": 10,
              "solidity": 0.2
             }
            },
            "type": "bar"
           }
          ],
          "barpolar": [
           {
            "marker": {
             "line": {
              "color": "#E5ECF6",
              "width": 0.5
             },
             "pattern": {
              "fillmode": "overlay",
              "size": 10,
              "solidity": 0.2
             }
            },
            "type": "barpolar"
           }
          ],
          "carpet": [
           {
            "aaxis": {
             "endlinecolor": "#2a3f5f",
             "gridcolor": "white",
             "linecolor": "white",
             "minorgridcolor": "white",
             "startlinecolor": "#2a3f5f"
            },
            "baxis": {
             "endlinecolor": "#2a3f5f",
             "gridcolor": "white",
             "linecolor": "white",
             "minorgridcolor": "white",
             "startlinecolor": "#2a3f5f"
            },
            "type": "carpet"
           }
          ],
          "choropleth": [
           {
            "colorbar": {
             "outlinewidth": 0,
             "ticks": ""
            },
            "type": "choropleth"
           }
          ],
          "contour": [
           {
            "colorbar": {
             "outlinewidth": 0,
             "ticks": ""
            },
            "colorscale": [
             [
              0,
              "#0d0887"
             ],
             [
              0.1111111111111111,
              "#46039f"
             ],
             [
              0.2222222222222222,
              "#7201a8"
             ],
             [
              0.3333333333333333,
              "#9c179e"
             ],
             [
              0.4444444444444444,
              "#bd3786"
             ],
             [
              0.5555555555555556,
              "#d8576b"
             ],
             [
              0.6666666666666666,
              "#ed7953"
             ],
             [
              0.7777777777777778,
              "#fb9f3a"
             ],
             [
              0.8888888888888888,
              "#fdca26"
             ],
             [
              1,
              "#f0f921"
             ]
            ],
            "type": "contour"
           }
          ],
          "contourcarpet": [
           {
            "colorbar": {
             "outlinewidth": 0,
             "ticks": ""
            },
            "type": "contourcarpet"
           }
          ],
          "heatmap": [
           {
            "colorbar": {
             "outlinewidth": 0,
             "ticks": ""
            },
            "colorscale": [
             [
              0,
              "#0d0887"
             ],
             [
              0.1111111111111111,
              "#46039f"
             ],
             [
              0.2222222222222222,
              "#7201a8"
             ],
             [
              0.3333333333333333,
              "#9c179e"
             ],
             [
              0.4444444444444444,
              "#bd3786"
             ],
             [
              0.5555555555555556,
              "#d8576b"
             ],
             [
              0.6666666666666666,
              "#ed7953"
             ],
             [
              0.7777777777777778,
              "#fb9f3a"
             ],
             [
              0.8888888888888888,
              "#fdca26"
             ],
             [
              1,
              "#f0f921"
             ]
            ],
            "type": "heatmap"
           }
          ],
          "heatmapgl": [
           {
            "colorbar": {
             "outlinewidth": 0,
             "ticks": ""
            },
            "colorscale": [
             [
              0,
              "#0d0887"
             ],
             [
              0.1111111111111111,
              "#46039f"
             ],
             [
              0.2222222222222222,
              "#7201a8"
             ],
             [
              0.3333333333333333,
              "#9c179e"
             ],
             [
              0.4444444444444444,
              "#bd3786"
             ],
             [
              0.5555555555555556,
              "#d8576b"
             ],
             [
              0.6666666666666666,
              "#ed7953"
             ],
             [
              0.7777777777777778,
              "#fb9f3a"
             ],
             [
              0.8888888888888888,
              "#fdca26"
             ],
             [
              1,
              "#f0f921"
             ]
            ],
            "type": "heatmapgl"
           }
          ],
          "histogram": [
           {
            "marker": {
             "pattern": {
              "fillmode": "overlay",
              "size": 10,
              "solidity": 0.2
             }
            },
            "type": "histogram"
           }
          ],
          "histogram2d": [
           {
            "colorbar": {
             "outlinewidth": 0,
             "ticks": ""
            },
            "colorscale": [
             [
              0,
              "#0d0887"
             ],
             [
              0.1111111111111111,
              "#46039f"
             ],
             [
              0.2222222222222222,
              "#7201a8"
             ],
             [
              0.3333333333333333,
              "#9c179e"
             ],
             [
              0.4444444444444444,
              "#bd3786"
             ],
             [
              0.5555555555555556,
              "#d8576b"
             ],
             [
              0.6666666666666666,
              "#ed7953"
             ],
             [
              0.7777777777777778,
              "#fb9f3a"
             ],
             [
              0.8888888888888888,
              "#fdca26"
             ],
             [
              1,
              "#f0f921"
             ]
            ],
            "type": "histogram2d"
           }
          ],
          "histogram2dcontour": [
           {
            "colorbar": {
             "outlinewidth": 0,
             "ticks": ""
            },
            "colorscale": [
             [
              0,
              "#0d0887"
             ],
             [
              0.1111111111111111,
              "#46039f"
             ],
             [
              0.2222222222222222,
              "#7201a8"
             ],
             [
              0.3333333333333333,
              "#9c179e"
             ],
             [
              0.4444444444444444,
              "#bd3786"
             ],
             [
              0.5555555555555556,
              "#d8576b"
             ],
             [
              0.6666666666666666,
              "#ed7953"
             ],
             [
              0.7777777777777778,
              "#fb9f3a"
             ],
             [
              0.8888888888888888,
              "#fdca26"
             ],
             [
              1,
              "#f0f921"
             ]
            ],
            "type": "histogram2dcontour"
           }
          ],
          "mesh3d": [
           {
            "colorbar": {
             "outlinewidth": 0,
             "ticks": ""
            },
            "type": "mesh3d"
           }
          ],
          "parcoords": [
           {
            "line": {
             "colorbar": {
              "outlinewidth": 0,
              "ticks": ""
             }
            },
            "type": "parcoords"
           }
          ],
          "pie": [
           {
            "automargin": true,
            "type": "pie"
           }
          ],
          "scatter": [
           {
            "fillpattern": {
             "fillmode": "overlay",
             "size": 10,
             "solidity": 0.2
            },
            "type": "scatter"
           }
          ],
          "scatter3d": [
           {
            "line": {
             "colorbar": {
              "outlinewidth": 0,
              "ticks": ""
             }
            },
            "marker": {
             "colorbar": {
              "outlinewidth": 0,
              "ticks": ""
             }
            },
            "type": "scatter3d"
           }
          ],
          "scattercarpet": [
           {
            "marker": {
             "colorbar": {
              "outlinewidth": 0,
              "ticks": ""
             }
            },
            "type": "scattercarpet"
           }
          ],
          "scattergeo": [
           {
            "marker": {
             "colorbar": {
              "outlinewidth": 0,
              "ticks": ""
             }
            },
            "type": "scattergeo"
           }
          ],
          "scattergl": [
           {
            "marker": {
             "colorbar": {
              "outlinewidth": 0,
              "ticks": ""
             }
            },
            "type": "scattergl"
           }
          ],
          "scattermapbox": [
           {
            "marker": {
             "colorbar": {
              "outlinewidth": 0,
              "ticks": ""
             }
            },
            "type": "scattermapbox"
           }
          ],
          "scatterpolar": [
           {
            "marker": {
             "colorbar": {
              "outlinewidth": 0,
              "ticks": ""
             }
            },
            "type": "scatterpolar"
           }
          ],
          "scatterpolargl": [
           {
            "marker": {
             "colorbar": {
              "outlinewidth": 0,
              "ticks": ""
             }
            },
            "type": "scatterpolargl"
           }
          ],
          "scatterternary": [
           {
            "marker": {
             "colorbar": {
              "outlinewidth": 0,
              "ticks": ""
             }
            },
            "type": "scatterternary"
           }
          ],
          "surface": [
           {
            "colorbar": {
             "outlinewidth": 0,
             "ticks": ""
            },
            "colorscale": [
             [
              0,
              "#0d0887"
             ],
             [
              0.1111111111111111,
              "#46039f"
             ],
             [
              0.2222222222222222,
              "#7201a8"
             ],
             [
              0.3333333333333333,
              "#9c179e"
             ],
             [
              0.4444444444444444,
              "#bd3786"
             ],
             [
              0.5555555555555556,
              "#d8576b"
             ],
             [
              0.6666666666666666,
              "#ed7953"
             ],
             [
              0.7777777777777778,
              "#fb9f3a"
             ],
             [
              0.8888888888888888,
              "#fdca26"
             ],
             [
              1,
              "#f0f921"
             ]
            ],
            "type": "surface"
           }
          ],
          "table": [
           {
            "cells": {
             "fill": {
              "color": "#EBF0F8"
             },
             "line": {
              "color": "white"
             }
            },
            "header": {
             "fill": {
              "color": "#C8D4E3"
             },
             "line": {
              "color": "white"
             }
            },
            "type": "table"
           }
          ]
         },
         "layout": {
          "annotationdefaults": {
           "arrowcolor": "#2a3f5f",
           "arrowhead": 0,
           "arrowwidth": 1
          },
          "autotypenumbers": "strict",
          "coloraxis": {
           "colorbar": {
            "outlinewidth": 0,
            "ticks": ""
           }
          },
          "colorscale": {
           "diverging": [
            [
             0,
             "#8e0152"
            ],
            [
             0.1,
             "#c51b7d"
            ],
            [
             0.2,
             "#de77ae"
            ],
            [
             0.3,
             "#f1b6da"
            ],
            [
             0.4,
             "#fde0ef"
            ],
            [
             0.5,
             "#f7f7f7"
            ],
            [
             0.6,
             "#e6f5d0"
            ],
            [
             0.7,
             "#b8e186"
            ],
            [
             0.8,
             "#7fbc41"
            ],
            [
             0.9,
             "#4d9221"
            ],
            [
             1,
             "#276419"
            ]
           ],
           "sequential": [
            [
             0,
             "#0d0887"
            ],
            [
             0.1111111111111111,
             "#46039f"
            ],
            [
             0.2222222222222222,
             "#7201a8"
            ],
            [
             0.3333333333333333,
             "#9c179e"
            ],
            [
             0.4444444444444444,
             "#bd3786"
            ],
            [
             0.5555555555555556,
             "#d8576b"
            ],
            [
             0.6666666666666666,
             "#ed7953"
            ],
            [
             0.7777777777777778,
             "#fb9f3a"
            ],
            [
             0.8888888888888888,
             "#fdca26"
            ],
            [
             1,
             "#f0f921"
            ]
           ],
           "sequentialminus": [
            [
             0,
             "#0d0887"
            ],
            [
             0.1111111111111111,
             "#46039f"
            ],
            [
             0.2222222222222222,
             "#7201a8"
            ],
            [
             0.3333333333333333,
             "#9c179e"
            ],
            [
             0.4444444444444444,
             "#bd3786"
            ],
            [
             0.5555555555555556,
             "#d8576b"
            ],
            [
             0.6666666666666666,
             "#ed7953"
            ],
            [
             0.7777777777777778,
             "#fb9f3a"
            ],
            [
             0.8888888888888888,
             "#fdca26"
            ],
            [
             1,
             "#f0f921"
            ]
           ]
          },
          "colorway": [
           "#636efa",
           "#EF553B",
           "#00cc96",
           "#ab63fa",
           "#FFA15A",
           "#19d3f3",
           "#FF6692",
           "#B6E880",
           "#FF97FF",
           "#FECB52"
          ],
          "font": {
           "color": "#2a3f5f"
          },
          "geo": {
           "bgcolor": "white",
           "lakecolor": "white",
           "landcolor": "#E5ECF6",
           "showlakes": true,
           "showland": true,
           "subunitcolor": "white"
          },
          "hoverlabel": {
           "align": "left"
          },
          "hovermode": "closest",
          "mapbox": {
           "style": "light"
          },
          "paper_bgcolor": "white",
          "plot_bgcolor": "#E5ECF6",
          "polar": {
           "angularaxis": {
            "gridcolor": "white",
            "linecolor": "white",
            "ticks": ""
           },
           "bgcolor": "#E5ECF6",
           "radialaxis": {
            "gridcolor": "white",
            "linecolor": "white",
            "ticks": ""
           }
          },
          "scene": {
           "xaxis": {
            "backgroundcolor": "#E5ECF6",
            "gridcolor": "white",
            "gridwidth": 2,
            "linecolor": "white",
            "showbackground": true,
            "ticks": "",
            "zerolinecolor": "white"
           },
           "yaxis": {
            "backgroundcolor": "#E5ECF6",
            "gridcolor": "white",
            "gridwidth": 2,
            "linecolor": "white",
            "showbackground": true,
            "ticks": "",
            "zerolinecolor": "white"
           },
           "zaxis": {
            "backgroundcolor": "#E5ECF6",
            "gridcolor": "white",
            "gridwidth": 2,
            "linecolor": "white",
            "showbackground": true,
            "ticks": "",
            "zerolinecolor": "white"
           }
          },
          "shapedefaults": {
           "line": {
            "color": "#2a3f5f"
           }
          },
          "ternary": {
           "aaxis": {
            "gridcolor": "white",
            "linecolor": "white",
            "ticks": ""
           },
           "baxis": {
            "gridcolor": "white",
            "linecolor": "white",
            "ticks": ""
           },
           "bgcolor": "#E5ECF6",
           "caxis": {
            "gridcolor": "white",
            "linecolor": "white",
            "ticks": ""
           }
          },
          "title": {
           "x": 0.05
          },
          "xaxis": {
           "automargin": true,
           "gridcolor": "white",
           "linecolor": "white",
           "ticks": "",
           "title": {
            "standoff": 15
           },
           "zerolinecolor": "white",
           "zerolinewidth": 2
          },
          "yaxis": {
           "automargin": true,
           "gridcolor": "white",
           "linecolor": "white",
           "ticks": "",
           "title": {
            "standoff": 15
           },
           "zerolinecolor": "white",
           "zerolinewidth": 2
          }
         }
        },
        "title": {
         "text": "Sankey Diagram of TTM Protocol Changes (Original to Best Prediction - NN)"
        }
       }
      }
     },
     "metadata": {},
     "output_type": "display_data"
    },
    {
     "data": {
      "application/vnd.plotly.v1+json": {
       "config": {
        "plotlyServerURL": "https://plot.ly"
       },
       "data": [
        {
         "link": {
          "label": [
           "67.0%",
           "33.0%",
           "32.8%",
           "47.5%",
           "19.7%",
           "8.2%",
           "91.8%"
          ],
          "source": [
           0,
           0,
           1,
           1,
           1,
           2,
           2
          ],
          "target": [
           3,
           4,
           3,
           5,
           4,
           3,
           4
          ],
          "value": [
           300,
           148,
           20,
           29,
           12,
           8,
           90
          ]
         },
         "node": {
          "label": [
           "Original 33",
           "Original 36",
           "Original No TTM",
           "Best 33",
           "Best No TTM",
           "Best 36"
          ],
          "line": {
           "color": "black",
           "width": 0.5
          },
          "pad": 15,
          "thickness": 20
         },
         "type": "sankey"
        }
       ],
       "layout": {
        "font": {
         "size": 12
        },
        "template": {
         "data": {
          "bar": [
           {
            "error_x": {
             "color": "#2a3f5f"
            },
            "error_y": {
             "color": "#2a3f5f"
            },
            "marker": {
             "line": {
              "color": "#E5ECF6",
              "width": 0.5
             },
             "pattern": {
              "fillmode": "overlay",
              "size": 10,
              "solidity": 0.2
             }
            },
            "type": "bar"
           }
          ],
          "barpolar": [
           {
            "marker": {
             "line": {
              "color": "#E5ECF6",
              "width": 0.5
             },
             "pattern": {
              "fillmode": "overlay",
              "size": 10,
              "solidity": 0.2
             }
            },
            "type": "barpolar"
           }
          ],
          "carpet": [
           {
            "aaxis": {
             "endlinecolor": "#2a3f5f",
             "gridcolor": "white",
             "linecolor": "white",
             "minorgridcolor": "white",
             "startlinecolor": "#2a3f5f"
            },
            "baxis": {
             "endlinecolor": "#2a3f5f",
             "gridcolor": "white",
             "linecolor": "white",
             "minorgridcolor": "white",
             "startlinecolor": "#2a3f5f"
            },
            "type": "carpet"
           }
          ],
          "choropleth": [
           {
            "colorbar": {
             "outlinewidth": 0,
             "ticks": ""
            },
            "type": "choropleth"
           }
          ],
          "contour": [
           {
            "colorbar": {
             "outlinewidth": 0,
             "ticks": ""
            },
            "colorscale": [
             [
              0,
              "#0d0887"
             ],
             [
              0.1111111111111111,
              "#46039f"
             ],
             [
              0.2222222222222222,
              "#7201a8"
             ],
             [
              0.3333333333333333,
              "#9c179e"
             ],
             [
              0.4444444444444444,
              "#bd3786"
             ],
             [
              0.5555555555555556,
              "#d8576b"
             ],
             [
              0.6666666666666666,
              "#ed7953"
             ],
             [
              0.7777777777777778,
              "#fb9f3a"
             ],
             [
              0.8888888888888888,
              "#fdca26"
             ],
             [
              1,
              "#f0f921"
             ]
            ],
            "type": "contour"
           }
          ],
          "contourcarpet": [
           {
            "colorbar": {
             "outlinewidth": 0,
             "ticks": ""
            },
            "type": "contourcarpet"
           }
          ],
          "heatmap": [
           {
            "colorbar": {
             "outlinewidth": 0,
             "ticks": ""
            },
            "colorscale": [
             [
              0,
              "#0d0887"
             ],
             [
              0.1111111111111111,
              "#46039f"
             ],
             [
              0.2222222222222222,
              "#7201a8"
             ],
             [
              0.3333333333333333,
              "#9c179e"
             ],
             [
              0.4444444444444444,
              "#bd3786"
             ],
             [
              0.5555555555555556,
              "#d8576b"
             ],
             [
              0.6666666666666666,
              "#ed7953"
             ],
             [
              0.7777777777777778,
              "#fb9f3a"
             ],
             [
              0.8888888888888888,
              "#fdca26"
             ],
             [
              1,
              "#f0f921"
             ]
            ],
            "type": "heatmap"
           }
          ],
          "heatmapgl": [
           {
            "colorbar": {
             "outlinewidth": 0,
             "ticks": ""
            },
            "colorscale": [
             [
              0,
              "#0d0887"
             ],
             [
              0.1111111111111111,
              "#46039f"
             ],
             [
              0.2222222222222222,
              "#7201a8"
             ],
             [
              0.3333333333333333,
              "#9c179e"
             ],
             [
              0.4444444444444444,
              "#bd3786"
             ],
             [
              0.5555555555555556,
              "#d8576b"
             ],
             [
              0.6666666666666666,
              "#ed7953"
             ],
             [
              0.7777777777777778,
              "#fb9f3a"
             ],
             [
              0.8888888888888888,
              "#fdca26"
             ],
             [
              1,
              "#f0f921"
             ]
            ],
            "type": "heatmapgl"
           }
          ],
          "histogram": [
           {
            "marker": {
             "pattern": {
              "fillmode": "overlay",
              "size": 10,
              "solidity": 0.2
             }
            },
            "type": "histogram"
           }
          ],
          "histogram2d": [
           {
            "colorbar": {
             "outlinewidth": 0,
             "ticks": ""
            },
            "colorscale": [
             [
              0,
              "#0d0887"
             ],
             [
              0.1111111111111111,
              "#46039f"
             ],
             [
              0.2222222222222222,
              "#7201a8"
             ],
             [
              0.3333333333333333,
              "#9c179e"
             ],
             [
              0.4444444444444444,
              "#bd3786"
             ],
             [
              0.5555555555555556,
              "#d8576b"
             ],
             [
              0.6666666666666666,
              "#ed7953"
             ],
             [
              0.7777777777777778,
              "#fb9f3a"
             ],
             [
              0.8888888888888888,
              "#fdca26"
             ],
             [
              1,
              "#f0f921"
             ]
            ],
            "type": "histogram2d"
           }
          ],
          "histogram2dcontour": [
           {
            "colorbar": {
             "outlinewidth": 0,
             "ticks": ""
            },
            "colorscale": [
             [
              0,
              "#0d0887"
             ],
             [
              0.1111111111111111,
              "#46039f"
             ],
             [
              0.2222222222222222,
              "#7201a8"
             ],
             [
              0.3333333333333333,
              "#9c179e"
             ],
             [
              0.4444444444444444,
              "#bd3786"
             ],
             [
              0.5555555555555556,
              "#d8576b"
             ],
             [
              0.6666666666666666,
              "#ed7953"
             ],
             [
              0.7777777777777778,
              "#fb9f3a"
             ],
             [
              0.8888888888888888,
              "#fdca26"
             ],
             [
              1,
              "#f0f921"
             ]
            ],
            "type": "histogram2dcontour"
           }
          ],
          "mesh3d": [
           {
            "colorbar": {
             "outlinewidth": 0,
             "ticks": ""
            },
            "type": "mesh3d"
           }
          ],
          "parcoords": [
           {
            "line": {
             "colorbar": {
              "outlinewidth": 0,
              "ticks": ""
             }
            },
            "type": "parcoords"
           }
          ],
          "pie": [
           {
            "automargin": true,
            "type": "pie"
           }
          ],
          "scatter": [
           {
            "fillpattern": {
             "fillmode": "overlay",
             "size": 10,
             "solidity": 0.2
            },
            "type": "scatter"
           }
          ],
          "scatter3d": [
           {
            "line": {
             "colorbar": {
              "outlinewidth": 0,
              "ticks": ""
             }
            },
            "marker": {
             "colorbar": {
              "outlinewidth": 0,
              "ticks": ""
             }
            },
            "type": "scatter3d"
           }
          ],
          "scattercarpet": [
           {
            "marker": {
             "colorbar": {
              "outlinewidth": 0,
              "ticks": ""
             }
            },
            "type": "scattercarpet"
           }
          ],
          "scattergeo": [
           {
            "marker": {
             "colorbar": {
              "outlinewidth": 0,
              "ticks": ""
             }
            },
            "type": "scattergeo"
           }
          ],
          "scattergl": [
           {
            "marker": {
             "colorbar": {
              "outlinewidth": 0,
              "ticks": ""
             }
            },
            "type": "scattergl"
           }
          ],
          "scattermapbox": [
           {
            "marker": {
             "colorbar": {
              "outlinewidth": 0,
              "ticks": ""
             }
            },
            "type": "scattermapbox"
           }
          ],
          "scatterpolar": [
           {
            "marker": {
             "colorbar": {
              "outlinewidth": 0,
              "ticks": ""
             }
            },
            "type": "scatterpolar"
           }
          ],
          "scatterpolargl": [
           {
            "marker": {
             "colorbar": {
              "outlinewidth": 0,
              "ticks": ""
             }
            },
            "type": "scatterpolargl"
           }
          ],
          "scatterternary": [
           {
            "marker": {
             "colorbar": {
              "outlinewidth": 0,
              "ticks": ""
             }
            },
            "type": "scatterternary"
           }
          ],
          "surface": [
           {
            "colorbar": {
             "outlinewidth": 0,
             "ticks": ""
            },
            "colorscale": [
             [
              0,
              "#0d0887"
             ],
             [
              0.1111111111111111,
              "#46039f"
             ],
             [
              0.2222222222222222,
              "#7201a8"
             ],
             [
              0.3333333333333333,
              "#9c179e"
             ],
             [
              0.4444444444444444,
              "#bd3786"
             ],
             [
              0.5555555555555556,
              "#d8576b"
             ],
             [
              0.6666666666666666,
              "#ed7953"
             ],
             [
              0.7777777777777778,
              "#fb9f3a"
             ],
             [
              0.8888888888888888,
              "#fdca26"
             ],
             [
              1,
              "#f0f921"
             ]
            ],
            "type": "surface"
           }
          ],
          "table": [
           {
            "cells": {
             "fill": {
              "color": "#EBF0F8"
             },
             "line": {
              "color": "white"
             }
            },
            "header": {
             "fill": {
              "color": "#C8D4E3"
             },
             "line": {
              "color": "white"
             }
            },
            "type": "table"
           }
          ]
         },
         "layout": {
          "annotationdefaults": {
           "arrowcolor": "#2a3f5f",
           "arrowhead": 0,
           "arrowwidth": 1
          },
          "autotypenumbers": "strict",
          "coloraxis": {
           "colorbar": {
            "outlinewidth": 0,
            "ticks": ""
           }
          },
          "colorscale": {
           "diverging": [
            [
             0,
             "#8e0152"
            ],
            [
             0.1,
             "#c51b7d"
            ],
            [
             0.2,
             "#de77ae"
            ],
            [
             0.3,
             "#f1b6da"
            ],
            [
             0.4,
             "#fde0ef"
            ],
            [
             0.5,
             "#f7f7f7"
            ],
            [
             0.6,
             "#e6f5d0"
            ],
            [
             0.7,
             "#b8e186"
            ],
            [
             0.8,
             "#7fbc41"
            ],
            [
             0.9,
             "#4d9221"
            ],
            [
             1,
             "#276419"
            ]
           ],
           "sequential": [
            [
             0,
             "#0d0887"
            ],
            [
             0.1111111111111111,
             "#46039f"
            ],
            [
             0.2222222222222222,
             "#7201a8"
            ],
            [
             0.3333333333333333,
             "#9c179e"
            ],
            [
             0.4444444444444444,
             "#bd3786"
            ],
            [
             0.5555555555555556,
             "#d8576b"
            ],
            [
             0.6666666666666666,
             "#ed7953"
            ],
            [
             0.7777777777777778,
             "#fb9f3a"
            ],
            [
             0.8888888888888888,
             "#fdca26"
            ],
            [
             1,
             "#f0f921"
            ]
           ],
           "sequentialminus": [
            [
             0,
             "#0d0887"
            ],
            [
             0.1111111111111111,
             "#46039f"
            ],
            [
             0.2222222222222222,
             "#7201a8"
            ],
            [
             0.3333333333333333,
             "#9c179e"
            ],
            [
             0.4444444444444444,
             "#bd3786"
            ],
            [
             0.5555555555555556,
             "#d8576b"
            ],
            [
             0.6666666666666666,
             "#ed7953"
            ],
            [
             0.7777777777777778,
             "#fb9f3a"
            ],
            [
             0.8888888888888888,
             "#fdca26"
            ],
            [
             1,
             "#f0f921"
            ]
           ]
          },
          "colorway": [
           "#636efa",
           "#EF553B",
           "#00cc96",
           "#ab63fa",
           "#FFA15A",
           "#19d3f3",
           "#FF6692",
           "#B6E880",
           "#FF97FF",
           "#FECB52"
          ],
          "font": {
           "color": "#2a3f5f"
          },
          "geo": {
           "bgcolor": "white",
           "lakecolor": "white",
           "landcolor": "#E5ECF6",
           "showlakes": true,
           "showland": true,
           "subunitcolor": "white"
          },
          "hoverlabel": {
           "align": "left"
          },
          "hovermode": "closest",
          "mapbox": {
           "style": "light"
          },
          "paper_bgcolor": "white",
          "plot_bgcolor": "#E5ECF6",
          "polar": {
           "angularaxis": {
            "gridcolor": "white",
            "linecolor": "white",
            "ticks": ""
           },
           "bgcolor": "#E5ECF6",
           "radialaxis": {
            "gridcolor": "white",
            "linecolor": "white",
            "ticks": ""
           }
          },
          "scene": {
           "xaxis": {
            "backgroundcolor": "#E5ECF6",
            "gridcolor": "white",
            "gridwidth": 2,
            "linecolor": "white",
            "showbackground": true,
            "ticks": "",
            "zerolinecolor": "white"
           },
           "yaxis": {
            "backgroundcolor": "#E5ECF6",
            "gridcolor": "white",
            "gridwidth": 2,
            "linecolor": "white",
            "showbackground": true,
            "ticks": "",
            "zerolinecolor": "white"
           },
           "zaxis": {
            "backgroundcolor": "#E5ECF6",
            "gridcolor": "white",
            "gridwidth": 2,
            "linecolor": "white",
            "showbackground": true,
            "ticks": "",
            "zerolinecolor": "white"
           }
          },
          "shapedefaults": {
           "line": {
            "color": "#2a3f5f"
           }
          },
          "ternary": {
           "aaxis": {
            "gridcolor": "white",
            "linecolor": "white",
            "ticks": ""
           },
           "baxis": {
            "gridcolor": "white",
            "linecolor": "white",
            "ticks": ""
           },
           "bgcolor": "#E5ECF6",
           "caxis": {
            "gridcolor": "white",
            "linecolor": "white",
            "ticks": ""
           }
          },
          "title": {
           "x": 0.05
          },
          "xaxis": {
           "automargin": true,
           "gridcolor": "white",
           "linecolor": "white",
           "ticks": "",
           "title": {
            "standoff": 15
           },
           "zerolinecolor": "white",
           "zerolinewidth": 2
          },
          "yaxis": {
           "automargin": true,
           "gridcolor": "white",
           "linecolor": "white",
           "ticks": "",
           "title": {
            "standoff": 15
           },
           "zerolinecolor": "white",
           "zerolinewidth": 2
          }
         }
        },
        "title": {
         "text": "Sankey Diagram of TTM Protocol Changes (Original to Best Prediction - XGB)"
        }
       }
      }
     },
     "metadata": {},
     "output_type": "display_data"
    }
   ],
   "source": [
    "import plotly.graph_objects as go\n",
    "\n",
    "# Define a function to create a Sankey diagram for a given DataFrame and model name\n",
    "def create_sankey(data, model_name):\n",
    "    # Count the transitions from Original_TTM to Best_Prediction\n",
    "    sankey_data = data.groupby(['Original_TTM', f'Best_Prediction_{model_name}']).size().reset_index(name='count')\n",
    "    \n",
    "    # Calculate total patients in each Original_TTM group\n",
    "    group_totals = sankey_data.groupby('Original_TTM')['count'].transform('sum')\n",
    "    \n",
    "    # Calculate percentage within each Original_TTM group\n",
    "    sankey_data['percentage'] = (sankey_data['count'] / group_totals * 100).round(1)\n",
    "    \n",
    "    # Define unique nodes for original and best protocols\n",
    "    original_nodes = [f\"Original {protocol}\" for protocol in sankey_data['Original_TTM'].unique()]\n",
    "    best_nodes = [f\"Best {protocol}\" for protocol in sankey_data[f'Best_Prediction_{model_name}'].unique()]\n",
    "    nodes = original_nodes + best_nodes\n",
    "    \n",
    "    # Map each node to a unique index for Sankey\n",
    "    node_map = {node: i for i, node in enumerate(nodes)}\n",
    "    \n",
    "    # Define the sources, targets, values, and labels for the Sankey diagram\n",
    "    sankey_data['source'] = sankey_data['Original_TTM'].map(lambda x: node_map[f\"Original {x}\"])\n",
    "    sankey_data['target'] = sankey_data[f'Best_Prediction_{model_name}'].map(lambda x: node_map[f\"Best {x}\"])\n",
    "    sources = sankey_data['source'].tolist()\n",
    "    targets = sankey_data['target'].tolist()\n",
    "    values = sankey_data['count'].tolist()\n",
    "    \n",
    "    # Use the group percentage labels for each link\n",
    "    labels = [f\"{percentage}%\" for percentage in sankey_data['percentage']]\n",
    "    \n",
    "    # Create the Sankey diagram\n",
    "    fig = go.Figure(go.Sankey(\n",
    "        node=dict(\n",
    "            pad=15,\n",
    "            thickness=20,\n",
    "            line=dict(color=\"black\", width=0.5),\n",
    "            label=nodes,\n",
    "        ),\n",
    "        link=dict(\n",
    "            source=sources,  # Indices of source nodes\n",
    "            target=targets,  # Indices of target nodes\n",
    "            value=values,    # Flow values between nodes\n",
    "            label=labels     # Group percentage labels on each link\n",
    "        )\n",
    "    ))\n",
    "    \n",
    "    # Add title and display\n",
    "    fig.update_layout(title_text=f\"Sankey Diagram of TTM Protocol Changes (Original to Best Prediction - {model_name})\", font_size=12)\n",
    "    fig.show()\n",
    "\n",
    "# Create and display Sankey diagram for Neural Network\n",
    "create_sankey(combined_predictions_df, \"NN\")\n",
    "\n",
    "# Create and display Sankey diagram for XGBoost\n",
    "create_sankey(combined_predictions_df, \"XGB\")\n"
   ]
  },
  {
   "cell_type": "code",
   "execution_count": 13,
   "metadata": {},
   "outputs": [
    {
     "data": {
      "image/png": "[encoded data removed]",
      "text/plain": [
       "<Figure size 1000x600 with 1 Axes>"
      ]
     },
     "metadata": {},
     "output_type": "display_data"
    },
    {
     "data": {
      "image/png": "[encoded data removed]",
      "text/plain": [
       "<Figure size 1000x600 with 1 Axes>"
      ]
     },
     "metadata": {},
     "output_type": "display_data"
    },
    {
     "name": "stdout",
     "output_type": "stream",
     "text": [
      "Neural Network Predictions - Number of data points for TTM 33: 607\n",
      "Neural Network Predictions - Number of data points for TTM 36: 607\n",
      "Neural Network Predictions - Number of data points for No TTM: 607\n",
      "XGBoost Predictions - Number of data points for TTM 33: 607\n",
      "XGBoost Predictions - Number of data points for TTM 36: 607\n",
      "XGBoost Predictions - Number of data points for No TTM: 607\n"
     ]
    }
   ],
   "source": [
    "import matplotlib.pyplot as plt\n",
    "import seaborn as sns\n",
    "\n",
    "# Set up the figure for Neural Network predictions\n",
    "plt.figure(figsize=(10, 6))\n",
    "sns.histplot(combined_predictions_df['NN_Pred_TTM_33'], color=\"blue\", label=\"NN TTM 33\", kde=True)\n",
    "sns.histplot(combined_predictions_df['NN_Pred_TTM_36'], color=\"green\", label=\"NN TTM 36\", kde=True)\n",
    "sns.histplot(combined_predictions_df['NN_Pred_No_TTM'], color=\"red\", label=\"NN No TTM\", kde=True)\n",
    "plt.title(\"Distribution of Predicted Values for Each TTM Protocol - Neural Network\")\n",
    "plt.xlabel(\"Predicted Value\")\n",
    "plt.ylabel(\"Frequency\")\n",
    "plt.legend()\n",
    "plt.show()\n",
    "\n",
    "# Set up the figure for XGBoost predictions\n",
    "plt.figure(figsize=(10, 6))\n",
    "sns.histplot(combined_predictions_df['xgb_Pred_TTM_33'], color=\"blue\", label=\"XGBoost TTM 33\", kde=True)\n",
    "sns.histplot(combined_predictions_df['xgb_Pred_TTM_36'], color=\"green\", label=\"XGBoost TTM 36\", kde=True)\n",
    "sns.histplot(combined_predictions_df['xgb_Pred_No_TTM'], color=\"red\", label=\"XGBoost No TTM\", kde=True)\n",
    "plt.title(\"Distribution of Predicted Values for Each TTM Protocol - XGBoost\")\n",
    "plt.xlabel(\"Predicted Value\")\n",
    "plt.ylabel(\"Frequency\")\n",
    "plt.legend()\n",
    "plt.show()\n",
    "\n",
    "# Calculate the number of data points for each TTM protocol in NN predictions\n",
    "num_points_nn_ttm_33 = combined_predictions_df['NN_Pred_TTM_33'].notnull().sum()\n",
    "num_points_nn_ttm_36 = combined_predictions_df['NN_Pred_TTM_36'].notnull().sum()\n",
    "num_points_nn_no_ttm = combined_predictions_df['NN_Pred_No_TTM'].notnull().sum()\n",
    "\n",
    "# Calculate the number of data points for each TTM protocol in XGBoost predictions\n",
    "num_points_xgb_ttm_33 = combined_predictions_df['xgb_Pred_TTM_33'].notnull().sum()\n",
    "num_points_xgb_ttm_36 = combined_predictions_df['xgb_Pred_TTM_36'].notnull().sum()\n",
    "num_points_xgb_no_ttm = combined_predictions_df['xgb_Pred_No_TTM'].notnull().sum()\n",
    "\n",
    "# Display the counts\n",
    "print(f\"Neural Network Predictions - Number of data points for TTM 33: {num_points_nn_ttm_33}\")\n",
    "print(f\"Neural Network Predictions - Number of data points for TTM 36: {num_points_nn_ttm_36}\")\n",
    "print(f\"Neural Network Predictions - Number of data points for No TTM: {num_points_nn_no_ttm}\")\n",
    "\n",
    "print(f\"XGBoost Predictions - Number of data points for TTM 33: {num_points_xgb_ttm_33}\")\n",
    "print(f\"XGBoost Predictions - Number of data points for TTM 36: {num_points_xgb_ttm_36}\")\n",
    "print(f\"XGBoost Predictions - Number of data points for No TTM: {num_points_xgb_no_ttm}\")\n"
   ]
  },
  {
   "cell_type": "markdown",
   "metadata": {},
   "source": [
    "# Let them vote"
   ]
  },
  {
   "cell_type": "code",
   "execution_count": 14,
   "metadata": {},
   "outputs": [
    {
     "data": {
      "text/html": [
       "<div>\n",
       "<style scoped>\n",
       "    .dataframe tbody tr th:only-of-type {\n",
       "        vertical-align: middle;\n",
       "    }\n",
       "\n",
       "    .dataframe tbody tr th {\n",
       "        vertical-align: top;\n",
       "    }\n",
       "\n",
       "    .dataframe thead th {\n",
       "        text-align: right;\n",
       "    }\n",
       "</style>\n",
       "<table border=\"1\" class=\"dataframe\">\n",
       "  <thead>\n",
       "    <tr style=\"text-align: right;\">\n",
       "      <th></th>\n",
       "      <th>Patient</th>\n",
       "      <th>Original_TTM</th>\n",
       "      <th>Outcome</th>\n",
       "      <th>NN_Pred_TTM_33</th>\n",
       "      <th>NN_Pred_TTM_36</th>\n",
       "      <th>NN_Pred_No_TTM</th>\n",
       "      <th>xgb_Pred_TTM_33</th>\n",
       "      <th>xgb_Pred_TTM_36</th>\n",
       "      <th>xgb_Pred_No_TTM</th>\n",
       "      <th>NN_TTM_33_Asses</th>\n",
       "      <th>NN_TTM_36_Asses</th>\n",
       "      <th>NN_No_TTM_Asses</th>\n",
       "      <th>xgb_TTM_33_Asses</th>\n",
       "      <th>xgb_TTM_36_Asses</th>\n",
       "      <th>xgb_No_TTM_Asses</th>\n",
       "      <th>Best_Prediction_NN</th>\n",
       "      <th>Best_Prediction_XGB</th>\n",
       "    </tr>\n",
       "  </thead>\n",
       "  <tbody>\n",
       "    <tr>\n",
       "      <th>28</th>\n",
       "      <td>352</td>\n",
       "      <td>36</td>\n",
       "      <td>1</td>\n",
       "      <td>0.665704</td>\n",
       "      <td>0.604267</td>\n",
       "      <td>0.623257</td>\n",
       "      <td>0.482250</td>\n",
       "      <td>0.447286</td>\n",
       "      <td>0.447286</td>\n",
       "      <td>Same</td>\n",
       "      <td>Original TTM</td>\n",
       "      <td>Same</td>\n",
       "      <td>Same</td>\n",
       "      <td>Original TTM</td>\n",
       "      <td>Same</td>\n",
       "      <td>33</td>\n",
       "      <td>33</td>\n",
       "    </tr>\n",
       "    <tr>\n",
       "      <th>60</th>\n",
       "      <td>387</td>\n",
       "      <td>36</td>\n",
       "      <td>1</td>\n",
       "      <td>0.644313</td>\n",
       "      <td>0.581860</td>\n",
       "      <td>0.605729</td>\n",
       "      <td>0.437252</td>\n",
       "      <td>0.403010</td>\n",
       "      <td>0.403010</td>\n",
       "      <td>Same</td>\n",
       "      <td>Original TTM</td>\n",
       "      <td>Same</td>\n",
       "      <td>Same</td>\n",
       "      <td>Original TTM</td>\n",
       "      <td>Same</td>\n",
       "      <td>33</td>\n",
       "      <td>33</td>\n",
       "    </tr>\n",
       "    <tr>\n",
       "      <th>67</th>\n",
       "      <td>396</td>\n",
       "      <td>33</td>\n",
       "      <td>0</td>\n",
       "      <td>0.516168</td>\n",
       "      <td>0.551758</td>\n",
       "      <td>0.551976</td>\n",
       "      <td>0.240703</td>\n",
       "      <td>0.240703</td>\n",
       "      <td>0.277403</td>\n",
       "      <td>Original TTM</td>\n",
       "      <td>Same</td>\n",
       "      <td>Same</td>\n",
       "      <td>Original TTM</td>\n",
       "      <td>Same</td>\n",
       "      <td>Same</td>\n",
       "      <td>No TTM</td>\n",
       "      <td>No TTM</td>\n",
       "    </tr>\n",
       "    <tr>\n",
       "      <th>82</th>\n",
       "      <td>413</td>\n",
       "      <td>36</td>\n",
       "      <td>1</td>\n",
       "      <td>0.650568</td>\n",
       "      <td>0.612758</td>\n",
       "      <td>0.635324</td>\n",
       "      <td>0.482250</td>\n",
       "      <td>0.447286</td>\n",
       "      <td>0.447286</td>\n",
       "      <td>Same</td>\n",
       "      <td>Original TTM</td>\n",
       "      <td>Same</td>\n",
       "      <td>Same</td>\n",
       "      <td>Original TTM</td>\n",
       "      <td>Same</td>\n",
       "      <td>33</td>\n",
       "      <td>33</td>\n",
       "    </tr>\n",
       "    <tr>\n",
       "      <th>108</th>\n",
       "      <td>440</td>\n",
       "      <td>33</td>\n",
       "      <td>0</td>\n",
       "      <td>0.519137</td>\n",
       "      <td>0.556121</td>\n",
       "      <td>0.550975</td>\n",
       "      <td>0.348533</td>\n",
       "      <td>0.348533</td>\n",
       "      <td>0.416750</td>\n",
       "      <td>Original TTM</td>\n",
       "      <td>Same</td>\n",
       "      <td>Same</td>\n",
       "      <td>Original TTM</td>\n",
       "      <td>Same</td>\n",
       "      <td>Same</td>\n",
       "      <td>No TTM</td>\n",
       "      <td>No TTM</td>\n",
       "    </tr>\n",
       "    <tr>\n",
       "      <th>124</th>\n",
       "      <td>458</td>\n",
       "      <td>33</td>\n",
       "      <td>0</td>\n",
       "      <td>0.533527</td>\n",
       "      <td>0.551949</td>\n",
       "      <td>0.559507</td>\n",
       "      <td>0.240703</td>\n",
       "      <td>0.240703</td>\n",
       "      <td>0.277403</td>\n",
       "      <td>Original TTM</td>\n",
       "      <td>Same</td>\n",
       "      <td>Same</td>\n",
       "      <td>Original TTM</td>\n",
       "      <td>Same</td>\n",
       "      <td>Same</td>\n",
       "      <td>No TTM</td>\n",
       "      <td>No TTM</td>\n",
       "    </tr>\n",
       "    <tr>\n",
       "      <th>125</th>\n",
       "      <td>459</td>\n",
       "      <td>33</td>\n",
       "      <td>0</td>\n",
       "      <td>0.512148</td>\n",
       "      <td>0.550471</td>\n",
       "      <td>0.551735</td>\n",
       "      <td>0.240155</td>\n",
       "      <td>0.240155</td>\n",
       "      <td>0.275830</td>\n",
       "      <td>Original TTM</td>\n",
       "      <td>Same</td>\n",
       "      <td>Same</td>\n",
       "      <td>Original TTM</td>\n",
       "      <td>Same</td>\n",
       "      <td>Same</td>\n",
       "      <td>No TTM</td>\n",
       "      <td>No TTM</td>\n",
       "    </tr>\n",
       "    <tr>\n",
       "      <th>141</th>\n",
       "      <td>475</td>\n",
       "      <td>36</td>\n",
       "      <td>1</td>\n",
       "      <td>0.618729</td>\n",
       "      <td>0.564327</td>\n",
       "      <td>0.578815</td>\n",
       "      <td>0.437252</td>\n",
       "      <td>0.403010</td>\n",
       "      <td>0.403010</td>\n",
       "      <td>Same</td>\n",
       "      <td>Original TTM</td>\n",
       "      <td>Same</td>\n",
       "      <td>Same</td>\n",
       "      <td>Original TTM</td>\n",
       "      <td>Same</td>\n",
       "      <td>33</td>\n",
       "      <td>33</td>\n",
       "    </tr>\n",
       "    <tr>\n",
       "      <th>162</th>\n",
       "      <td>504</td>\n",
       "      <td>36</td>\n",
       "      <td>1</td>\n",
       "      <td>0.612922</td>\n",
       "      <td>0.566671</td>\n",
       "      <td>0.576526</td>\n",
       "      <td>0.435272</td>\n",
       "      <td>0.401075</td>\n",
       "      <td>0.401075</td>\n",
       "      <td>Same</td>\n",
       "      <td>Original TTM</td>\n",
       "      <td>Same</td>\n",
       "      <td>Same</td>\n",
       "      <td>Original TTM</td>\n",
       "      <td>Same</td>\n",
       "      <td>33</td>\n",
       "      <td>33</td>\n",
       "    </tr>\n",
       "    <tr>\n",
       "      <th>183</th>\n",
       "      <td>530</td>\n",
       "      <td>36</td>\n",
       "      <td>0</td>\n",
       "      <td>0.629098</td>\n",
       "      <td>0.577646</td>\n",
       "      <td>0.598922</td>\n",
       "      <td>0.434997</td>\n",
       "      <td>0.400806</td>\n",
       "      <td>0.400806</td>\n",
       "      <td>Same</td>\n",
       "      <td>Original TTM</td>\n",
       "      <td>Same</td>\n",
       "      <td>Same</td>\n",
       "      <td>Original TTM</td>\n",
       "      <td>Same</td>\n",
       "      <td>33</td>\n",
       "      <td>33</td>\n",
       "    </tr>\n",
       "    <tr>\n",
       "      <th>188</th>\n",
       "      <td>536</td>\n",
       "      <td>33</td>\n",
       "      <td>0</td>\n",
       "      <td>0.510690</td>\n",
       "      <td>0.557884</td>\n",
       "      <td>0.544868</td>\n",
       "      <td>0.240703</td>\n",
       "      <td>0.240703</td>\n",
       "      <td>0.277403</td>\n",
       "      <td>Original TTM</td>\n",
       "      <td>Same</td>\n",
       "      <td>Same</td>\n",
       "      <td>Original TTM</td>\n",
       "      <td>Same</td>\n",
       "      <td>Same</td>\n",
       "      <td>No TTM</td>\n",
       "      <td>No TTM</td>\n",
       "    </tr>\n",
       "    <tr>\n",
       "      <th>198</th>\n",
       "      <td>547</td>\n",
       "      <td>33</td>\n",
       "      <td>0</td>\n",
       "      <td>0.504534</td>\n",
       "      <td>0.546173</td>\n",
       "      <td>0.550240</td>\n",
       "      <td>0.240155</td>\n",
       "      <td>0.240155</td>\n",
       "      <td>0.275830</td>\n",
       "      <td>Original TTM</td>\n",
       "      <td>Same</td>\n",
       "      <td>Same</td>\n",
       "      <td>Original TTM</td>\n",
       "      <td>Same</td>\n",
       "      <td>Same</td>\n",
       "      <td>No TTM</td>\n",
       "      <td>No TTM</td>\n",
       "    </tr>\n",
       "    <tr>\n",
       "      <th>236</th>\n",
       "      <td>591</td>\n",
       "      <td>36</td>\n",
       "      <td>0</td>\n",
       "      <td>0.701422</td>\n",
       "      <td>0.658588</td>\n",
       "      <td>0.668081</td>\n",
       "      <td>0.489402</td>\n",
       "      <td>0.454375</td>\n",
       "      <td>0.454375</td>\n",
       "      <td>Same</td>\n",
       "      <td>Original TTM</td>\n",
       "      <td>Same</td>\n",
       "      <td>Same</td>\n",
       "      <td>Original TTM</td>\n",
       "      <td>Same</td>\n",
       "      <td>33</td>\n",
       "      <td>33</td>\n",
       "    </tr>\n",
       "    <tr>\n",
       "      <th>455</th>\n",
       "      <td>847</td>\n",
       "      <td>No TTM</td>\n",
       "      <td>1</td>\n",
       "      <td>0.633359</td>\n",
       "      <td>0.603584</td>\n",
       "      <td>0.601391</td>\n",
       "      <td>0.500745</td>\n",
       "      <td>0.467475</td>\n",
       "      <td>0.467475</td>\n",
       "      <td>Same</td>\n",
       "      <td>Same</td>\n",
       "      <td>Original TTM</td>\n",
       "      <td>Same</td>\n",
       "      <td>Same</td>\n",
       "      <td>Original TTM</td>\n",
       "      <td>33</td>\n",
       "      <td>33</td>\n",
       "    </tr>\n",
       "    <tr>\n",
       "      <th>481</th>\n",
       "      <td>875</td>\n",
       "      <td>33</td>\n",
       "      <td>0</td>\n",
       "      <td>0.511168</td>\n",
       "      <td>0.545293</td>\n",
       "      <td>0.545042</td>\n",
       "      <td>0.240155</td>\n",
       "      <td>0.240155</td>\n",
       "      <td>0.275830</td>\n",
       "      <td>Original TTM</td>\n",
       "      <td>Same</td>\n",
       "      <td>Same</td>\n",
       "      <td>Original TTM</td>\n",
       "      <td>Same</td>\n",
       "      <td>Same</td>\n",
       "      <td>No TTM</td>\n",
       "      <td>No TTM</td>\n",
       "    </tr>\n",
       "    <tr>\n",
       "      <th>523</th>\n",
       "      <td>921</td>\n",
       "      <td>33</td>\n",
       "      <td>0</td>\n",
       "      <td>0.512148</td>\n",
       "      <td>0.550471</td>\n",
       "      <td>0.551735</td>\n",
       "      <td>0.240155</td>\n",
       "      <td>0.240155</td>\n",
       "      <td>0.275830</td>\n",
       "      <td>Original TTM</td>\n",
       "      <td>Same</td>\n",
       "      <td>Same</td>\n",
       "      <td>Original TTM</td>\n",
       "      <td>Same</td>\n",
       "      <td>Same</td>\n",
       "      <td>No TTM</td>\n",
       "      <td>No TTM</td>\n",
       "    </tr>\n",
       "    <tr>\n",
       "      <th>539</th>\n",
       "      <td>942</td>\n",
       "      <td>36</td>\n",
       "      <td>0</td>\n",
       "      <td>0.647368</td>\n",
       "      <td>0.611580</td>\n",
       "      <td>0.633834</td>\n",
       "      <td>0.437373</td>\n",
       "      <td>0.403129</td>\n",
       "      <td>0.403129</td>\n",
       "      <td>Same</td>\n",
       "      <td>Original TTM</td>\n",
       "      <td>Same</td>\n",
       "      <td>Same</td>\n",
       "      <td>Original TTM</td>\n",
       "      <td>Same</td>\n",
       "      <td>33</td>\n",
       "      <td>33</td>\n",
       "    </tr>\n",
       "    <tr>\n",
       "      <th>561</th>\n",
       "      <td>968</td>\n",
       "      <td>36</td>\n",
       "      <td>1</td>\n",
       "      <td>0.589544</td>\n",
       "      <td>0.556025</td>\n",
       "      <td>0.570211</td>\n",
       "      <td>0.434311</td>\n",
       "      <td>0.400137</td>\n",
       "      <td>0.400137</td>\n",
       "      <td>Same</td>\n",
       "      <td>Original TTM</td>\n",
       "      <td>Same</td>\n",
       "      <td>Same</td>\n",
       "      <td>Original TTM</td>\n",
       "      <td>Same</td>\n",
       "      <td>33</td>\n",
       "      <td>33</td>\n",
       "    </tr>\n",
       "    <tr>\n",
       "      <th>563</th>\n",
       "      <td>970</td>\n",
       "      <td>33</td>\n",
       "      <td>0</td>\n",
       "      <td>0.554509</td>\n",
       "      <td>0.589955</td>\n",
       "      <td>0.597699</td>\n",
       "      <td>0.271893</td>\n",
       "      <td>0.271893</td>\n",
       "      <td>0.317351</td>\n",
       "      <td>Original TTM</td>\n",
       "      <td>Same</td>\n",
       "      <td>Same</td>\n",
       "      <td>Original TTM</td>\n",
       "      <td>Same</td>\n",
       "      <td>Same</td>\n",
       "      <td>No TTM</td>\n",
       "      <td>No TTM</td>\n",
       "    </tr>\n",
       "    <tr>\n",
       "      <th>567</th>\n",
       "      <td>975</td>\n",
       "      <td>33</td>\n",
       "      <td>0</td>\n",
       "      <td>0.504059</td>\n",
       "      <td>0.543905</td>\n",
       "      <td>0.549645</td>\n",
       "      <td>0.240155</td>\n",
       "      <td>0.240155</td>\n",
       "      <td>0.275830</td>\n",
       "      <td>Original TTM</td>\n",
       "      <td>Same</td>\n",
       "      <td>Same</td>\n",
       "      <td>Original TTM</td>\n",
       "      <td>Same</td>\n",
       "      <td>Same</td>\n",
       "      <td>No TTM</td>\n",
       "      <td>No TTM</td>\n",
       "    </tr>\n",
       "    <tr>\n",
       "      <th>581</th>\n",
       "      <td>993</td>\n",
       "      <td>33</td>\n",
       "      <td>0</td>\n",
       "      <td>0.509634</td>\n",
       "      <td>0.549802</td>\n",
       "      <td>0.551291</td>\n",
       "      <td>0.240155</td>\n",
       "      <td>0.240155</td>\n",
       "      <td>0.275830</td>\n",
       "      <td>Original TTM</td>\n",
       "      <td>Same</td>\n",
       "      <td>Same</td>\n",
       "      <td>Original TTM</td>\n",
       "      <td>Same</td>\n",
       "      <td>Same</td>\n",
       "      <td>No TTM</td>\n",
       "      <td>No TTM</td>\n",
       "    </tr>\n",
       "    <tr>\n",
       "      <th>589</th>\n",
       "      <td>1002</td>\n",
       "      <td>36</td>\n",
       "      <td>0</td>\n",
       "      <td>0.665520</td>\n",
       "      <td>0.613057</td>\n",
       "      <td>0.635835</td>\n",
       "      <td>0.434825</td>\n",
       "      <td>0.400638</td>\n",
       "      <td>0.400638</td>\n",
       "      <td>Same</td>\n",
       "      <td>Original TTM</td>\n",
       "      <td>Same</td>\n",
       "      <td>Same</td>\n",
       "      <td>Original TTM</td>\n",
       "      <td>Same</td>\n",
       "      <td>33</td>\n",
       "      <td>33</td>\n",
       "    </tr>\n",
       "    <tr>\n",
       "      <th>594</th>\n",
       "      <td>1007</td>\n",
       "      <td>33</td>\n",
       "      <td>0</td>\n",
       "      <td>0.503774</td>\n",
       "      <td>0.544710</td>\n",
       "      <td>0.549843</td>\n",
       "      <td>0.240155</td>\n",
       "      <td>0.240155</td>\n",
       "      <td>0.275830</td>\n",
       "      <td>Original TTM</td>\n",
       "      <td>Same</td>\n",
       "      <td>Same</td>\n",
       "      <td>Original TTM</td>\n",
       "      <td>Same</td>\n",
       "      <td>Same</td>\n",
       "      <td>No TTM</td>\n",
       "      <td>No TTM</td>\n",
       "    </tr>\n",
       "  </tbody>\n",
       "</table>\n",
       "</div>"
      ],
      "text/plain": [
       "     Patient Original_TTM  Outcome  NN_Pred_TTM_33  NN_Pred_TTM_36  \\\n",
       "28       352           36        1        0.665704        0.604267   \n",
       "60       387           36        1        0.644313        0.581860   \n",
       "67       396           33        0        0.516168        0.551758   \n",
       "82       413           36        1        0.650568        0.612758   \n",
       "108      440           33        0        0.519137        0.556121   \n",
       "124      458           33        0        0.533527        0.551949   \n",
       "125      459           33        0        0.512148        0.550471   \n",
       "141      475           36        1        0.618729        0.564327   \n",
       "162      504           36        1        0.612922        0.566671   \n",
       "183      530           36        0        0.629098        0.577646   \n",
       "188      536           33        0        0.510690        0.557884   \n",
       "198      547           33        0        0.504534        0.546173   \n",
       "236      591           36        0        0.701422        0.658588   \n",
       "455      847       No TTM        1        0.633359        0.603584   \n",
       "481      875           33        0        0.511168        0.545293   \n",
       "523      921           33        0        0.512148        0.550471   \n",
       "539      942           36        0        0.647368        0.611580   \n",
       "561      968           36        1        0.589544        0.556025   \n",
       "563      970           33        0        0.554509        0.589955   \n",
       "567      975           33        0        0.504059        0.543905   \n",
       "581      993           33        0        0.509634        0.549802   \n",
       "589     1002           36        0        0.665520        0.613057   \n",
       "594     1007           33        0        0.503774        0.544710   \n",
       "\n",
       "     NN_Pred_No_TTM  xgb_Pred_TTM_33  xgb_Pred_TTM_36  xgb_Pred_No_TTM  \\\n",
       "28         0.623257         0.482250         0.447286         0.447286   \n",
       "60         0.605729         0.437252         0.403010         0.403010   \n",
       "67         0.551976         0.240703         0.240703         0.277403   \n",
       "82         0.635324         0.482250         0.447286         0.447286   \n",
       "108        0.550975         0.348533         0.348533         0.416750   \n",
       "124        0.559507         0.240703         0.240703         0.277403   \n",
       "125        0.551735         0.240155         0.240155         0.275830   \n",
       "141        0.578815         0.437252         0.403010         0.403010   \n",
       "162        0.576526         0.435272         0.401075         0.401075   \n",
       "183        0.598922         0.434997         0.400806         0.400806   \n",
       "188        0.544868         0.240703         0.240703         0.277403   \n",
       "198        0.550240         0.240155         0.240155         0.275830   \n",
       "236        0.668081         0.489402         0.454375         0.454375   \n",
       "455        0.601391         0.500745         0.467475         0.467475   \n",
       "481        0.545042         0.240155         0.240155         0.275830   \n",
       "523        0.551735         0.240155         0.240155         0.275830   \n",
       "539        0.633834         0.437373         0.403129         0.403129   \n",
       "561        0.570211         0.434311         0.400137         0.400137   \n",
       "563        0.597699         0.271893         0.271893         0.317351   \n",
       "567        0.549645         0.240155         0.240155         0.275830   \n",
       "581        0.551291         0.240155         0.240155         0.275830   \n",
       "589        0.635835         0.434825         0.400638         0.400638   \n",
       "594        0.549843         0.240155         0.240155         0.275830   \n",
       "\n",
       "    NN_TTM_33_Asses NN_TTM_36_Asses NN_No_TTM_Asses xgb_TTM_33_Asses  \\\n",
       "28             Same    Original TTM            Same             Same   \n",
       "60             Same    Original TTM            Same             Same   \n",
       "67     Original TTM            Same            Same     Original TTM   \n",
       "82             Same    Original TTM            Same             Same   \n",
       "108    Original TTM            Same            Same     Original TTM   \n",
       "124    Original TTM            Same            Same     Original TTM   \n",
       "125    Original TTM            Same            Same     Original TTM   \n",
       "141            Same    Original TTM            Same             Same   \n",
       "162            Same    Original TTM            Same             Same   \n",
       "183            Same    Original TTM            Same             Same   \n",
       "188    Original TTM            Same            Same     Original TTM   \n",
       "198    Original TTM            Same            Same     Original TTM   \n",
       "236            Same    Original TTM            Same             Same   \n",
       "455            Same            Same    Original TTM             Same   \n",
       "481    Original TTM            Same            Same     Original TTM   \n",
       "523    Original TTM            Same            Same     Original TTM   \n",
       "539            Same    Original TTM            Same             Same   \n",
       "561            Same    Original TTM            Same             Same   \n",
       "563    Original TTM            Same            Same     Original TTM   \n",
       "567    Original TTM            Same            Same     Original TTM   \n",
       "581    Original TTM            Same            Same     Original TTM   \n",
       "589            Same    Original TTM            Same             Same   \n",
       "594    Original TTM            Same            Same     Original TTM   \n",
       "\n",
       "    xgb_TTM_36_Asses xgb_No_TTM_Asses Best_Prediction_NN Best_Prediction_XGB  \n",
       "28      Original TTM             Same                 33                  33  \n",
       "60      Original TTM             Same                 33                  33  \n",
       "67              Same             Same             No TTM              No TTM  \n",
       "82      Original TTM             Same                 33                  33  \n",
       "108             Same             Same             No TTM              No TTM  \n",
       "124             Same             Same             No TTM              No TTM  \n",
       "125             Same             Same             No TTM              No TTM  \n",
       "141     Original TTM             Same                 33                  33  \n",
       "162     Original TTM             Same                 33                  33  \n",
       "183     Original TTM             Same                 33                  33  \n",
       "188             Same             Same             No TTM              No TTM  \n",
       "198             Same             Same             No TTM              No TTM  \n",
       "236     Original TTM             Same                 33                  33  \n",
       "455             Same     Original TTM                 33                  33  \n",
       "481             Same             Same             No TTM              No TTM  \n",
       "523             Same             Same             No TTM              No TTM  \n",
       "539     Original TTM             Same                 33                  33  \n",
       "561     Original TTM             Same                 33                  33  \n",
       "563             Same             Same             No TTM              No TTM  \n",
       "567             Same             Same             No TTM              No TTM  \n",
       "581             Same             Same             No TTM              No TTM  \n",
       "589     Original TTM             Same                 33                  33  \n",
       "594             Same             Same             No TTM              No TTM  "
      ]
     },
     "execution_count": 14,
     "metadata": {},
     "output_type": "execute_result"
    }
   ],
   "source": [
    "# Filter rows where both NN and XGBoost Best_Prediction match and differ from Original_TTM\n",
    "changed_protocol_df = combined_predictions_df[\n",
    "    (combined_predictions_df['Best_Prediction_NN'] == combined_predictions_df['Best_Prediction_XGB']) &  # NN and XGBoost best predictions are the same\n",
    "    (combined_predictions_df['Best_Prediction_NN'] != combined_predictions_df['Original_TTM'])           # They differ from the original TTM\n",
    "]\n",
    "\n",
    "# Display the filtered DataFrame\n",
    "changed_protocol_df\n"
   ]
  },
  {
   "cell_type": "code",
   "execution_count": 15,
   "metadata": {},
   "outputs": [
    {
     "data": {
      "application/vnd.plotly.v1+json": {
       "config": {
        "plotlyServerURL": "https://plot.ly"
       },
       "data": [
        {
         "link": {
          "label": [
           "97.3%",
           "2.7%",
           "16.4%",
           "83.6%",
           "1.0%",
           "99.0%"
          ],
          "source": [
           0,
           0,
           1,
           1,
           2,
           2
          ],
          "target": [
           3,
           4,
           3,
           5,
           3,
           4
          ],
          "value": [
           436,
           12,
           10,
           51,
           1,
           97
          ]
         },
         "node": {
          "label": [
           "Original 33",
           "Original 36",
           "Original No TTM",
           "Overall Best 33",
           "Overall Best No TTM",
           "Overall Best 36"
          ],
          "line": {
           "color": "black",
           "width": 0.5
          },
          "pad": 15,
          "thickness": 20
         },
         "type": "sankey"
        }
       ],
       "layout": {
        "font": {
         "size": 12
        },
        "template": {
         "data": {
          "bar": [
           {
            "error_x": {
             "color": "#2a3f5f"
            },
            "error_y": {
             "color": "#2a3f5f"
            },
            "marker": {
             "line": {
              "color": "#E5ECF6",
              "width": 0.5
             },
             "pattern": {
              "fillmode": "overlay",
              "size": 10,
              "solidity": 0.2
             }
            },
            "type": "bar"
           }
          ],
          "barpolar": [
           {
            "marker": {
             "line": {
              "color": "#E5ECF6",
              "width": 0.5
             },
             "pattern": {
              "fillmode": "overlay",
              "size": 10,
              "solidity": 0.2
             }
            },
            "type": "barpolar"
           }
          ],
          "carpet": [
           {
            "aaxis": {
             "endlinecolor": "#2a3f5f",
             "gridcolor": "white",
             "linecolor": "white",
             "minorgridcolor": "white",
             "startlinecolor": "#2a3f5f"
            },
            "baxis": {
             "endlinecolor": "#2a3f5f",
             "gridcolor": "white",
             "linecolor": "white",
             "minorgridcolor": "white",
             "startlinecolor": "#2a3f5f"
            },
            "type": "carpet"
           }
          ],
          "choropleth": [
           {
            "colorbar": {
             "outlinewidth": 0,
             "ticks": ""
            },
            "type": "choropleth"
           }
          ],
          "contour": [
           {
            "colorbar": {
             "outlinewidth": 0,
             "ticks": ""
            },
            "colorscale": [
             [
              0,
              "#0d0887"
             ],
             [
              0.1111111111111111,
              "#46039f"
             ],
             [
              0.2222222222222222,
              "#7201a8"
             ],
             [
              0.3333333333333333,
              "#9c179e"
             ],
             [
              0.4444444444444444,
              "#bd3786"
             ],
             [
              0.5555555555555556,
              "#d8576b"
             ],
             [
              0.6666666666666666,
              "#ed7953"
             ],
             [
              0.7777777777777778,
              "#fb9f3a"
             ],
             [
              0.8888888888888888,
              "#fdca26"
             ],
             [
              1,
              "#f0f921"
             ]
            ],
            "type": "contour"
           }
          ],
          "contourcarpet": [
           {
            "colorbar": {
             "outlinewidth": 0,
             "ticks": ""
            },
            "type": "contourcarpet"
           }
          ],
          "heatmap": [
           {
            "colorbar": {
             "outlinewidth": 0,
             "ticks": ""
            },
            "colorscale": [
             [
              0,
              "#0d0887"
             ],
             [
              0.1111111111111111,
              "#46039f"
             ],
             [
              0.2222222222222222,
              "#7201a8"
             ],
             [
              0.3333333333333333,
              "#9c179e"
             ],
             [
              0.4444444444444444,
              "#bd3786"
             ],
             [
              0.5555555555555556,
              "#d8576b"
             ],
             [
              0.6666666666666666,
              "#ed7953"
             ],
             [
              0.7777777777777778,
              "#fb9f3a"
             ],
             [
              0.8888888888888888,
              "#fdca26"
             ],
             [
              1,
              "#f0f921"
             ]
            ],
            "type": "heatmap"
           }
          ],
          "heatmapgl": [
           {
            "colorbar": {
             "outlinewidth": 0,
             "ticks": ""
            },
            "colorscale": [
             [
              0,
              "#0d0887"
             ],
             [
              0.1111111111111111,
              "#46039f"
             ],
             [
              0.2222222222222222,
              "#7201a8"
             ],
             [
              0.3333333333333333,
              "#9c179e"
             ],
             [
              0.4444444444444444,
              "#bd3786"
             ],
             [
              0.5555555555555556,
              "#d8576b"
             ],
             [
              0.6666666666666666,
              "#ed7953"
             ],
             [
              0.7777777777777778,
              "#fb9f3a"
             ],
             [
              0.8888888888888888,
              "#fdca26"
             ],
             [
              1,
              "#f0f921"
             ]
            ],
            "type": "heatmapgl"
           }
          ],
          "histogram": [
           {
            "marker": {
             "pattern": {
              "fillmode": "overlay",
              "size": 10,
              "solidity": 0.2
             }
            },
            "type": "histogram"
           }
          ],
          "histogram2d": [
           {
            "colorbar": {
             "outlinewidth": 0,
             "ticks": ""
            },
            "colorscale": [
             [
              0,
              "#0d0887"
             ],
             [
              0.1111111111111111,
              "#46039f"
             ],
             [
              0.2222222222222222,
              "#7201a8"
             ],
             [
              0.3333333333333333,
              "#9c179e"
             ],
             [
              0.4444444444444444,
              "#bd3786"
             ],
             [
              0.5555555555555556,
              "#d8576b"
             ],
             [
              0.6666666666666666,
              "#ed7953"
             ],
             [
              0.7777777777777778,
              "#fb9f3a"
             ],
             [
              0.8888888888888888,
              "#fdca26"
             ],
             [
              1,
              "#f0f921"
             ]
            ],
            "type": "histogram2d"
           }
          ],
          "histogram2dcontour": [
           {
            "colorbar": {
             "outlinewidth": 0,
             "ticks": ""
            },
            "colorscale": [
             [
              0,
              "#0d0887"
             ],
             [
              0.1111111111111111,
              "#46039f"
             ],
             [
              0.2222222222222222,
              "#7201a8"
             ],
             [
              0.3333333333333333,
              "#9c179e"
             ],
             [
              0.4444444444444444,
              "#bd3786"
             ],
             [
              0.5555555555555556,
              "#d8576b"
             ],
             [
              0.6666666666666666,
              "#ed7953"
             ],
             [
              0.7777777777777778,
              "#fb9f3a"
             ],
             [
              0.8888888888888888,
              "#fdca26"
             ],
             [
              1,
              "#f0f921"
             ]
            ],
            "type": "histogram2dcontour"
           }
          ],
          "mesh3d": [
           {
            "colorbar": {
             "outlinewidth": 0,
             "ticks": ""
            },
            "type": "mesh3d"
           }
          ],
          "parcoords": [
           {
            "line": {
             "colorbar": {
              "outlinewidth": 0,
              "ticks": ""
             }
            },
            "type": "parcoords"
           }
          ],
          "pie": [
           {
            "automargin": true,
            "type": "pie"
           }
          ],
          "scatter": [
           {
            "fillpattern": {
             "fillmode": "overlay",
             "size": 10,
             "solidity": 0.2
            },
            "type": "scatter"
           }
          ],
          "scatter3d": [
           {
            "line": {
             "colorbar": {
              "outlinewidth": 0,
              "ticks": ""
             }
            },
            "marker": {
             "colorbar": {
              "outlinewidth": 0,
              "ticks": ""
             }
            },
            "type": "scatter3d"
           }
          ],
          "scattercarpet": [
           {
            "marker": {
             "colorbar": {
              "outlinewidth": 0,
              "ticks": ""
             }
            },
            "type": "scattercarpet"
           }
          ],
          "scattergeo": [
           {
            "marker": {
             "colorbar": {
              "outlinewidth": 0,
              "ticks": ""
             }
            },
            "type": "scattergeo"
           }
          ],
          "scattergl": [
           {
            "marker": {
             "colorbar": {
              "outlinewidth": 0,
              "ticks": ""
             }
            },
            "type": "scattergl"
           }
          ],
          "scattermapbox": [
           {
            "marker": {
             "colorbar": {
              "outlinewidth": 0,
              "ticks": ""
             }
            },
            "type": "scattermapbox"
           }
          ],
          "scatterpolar": [
           {
            "marker": {
             "colorbar": {
              "outlinewidth": 0,
              "ticks": ""
             }
            },
            "type": "scatterpolar"
           }
          ],
          "scatterpolargl": [
           {
            "marker": {
             "colorbar": {
              "outlinewidth": 0,
              "ticks": ""
             }
            },
            "type": "scatterpolargl"
           }
          ],
          "scatterternary": [
           {
            "marker": {
             "colorbar": {
              "outlinewidth": 0,
              "ticks": ""
             }
            },
            "type": "scatterternary"
           }
          ],
          "surface": [
           {
            "colorbar": {
             "outlinewidth": 0,
             "ticks": ""
            },
            "colorscale": [
             [
              0,
              "#0d0887"
             ],
             [
              0.1111111111111111,
              "#46039f"
             ],
             [
              0.2222222222222222,
              "#7201a8"
             ],
             [
              0.3333333333333333,
              "#9c179e"
             ],
             [
              0.4444444444444444,
              "#bd3786"
             ],
             [
              0.5555555555555556,
              "#d8576b"
             ],
             [
              0.6666666666666666,
              "#ed7953"
             ],
             [
              0.7777777777777778,
              "#fb9f3a"
             ],
             [
              0.8888888888888888,
              "#fdca26"
             ],
             [
              1,
              "#f0f921"
             ]
            ],
            "type": "surface"
           }
          ],
          "table": [
           {
            "cells": {
             "fill": {
              "color": "#EBF0F8"
             },
             "line": {
              "color": "white"
             }
            },
            "header": {
             "fill": {
              "color": "#C8D4E3"
             },
             "line": {
              "color": "white"
             }
            },
            "type": "table"
           }
          ]
         },
         "layout": {
          "annotationdefaults": {
           "arrowcolor": "#2a3f5f",
           "arrowhead": 0,
           "arrowwidth": 1
          },
          "autotypenumbers": "strict",
          "coloraxis": {
           "colorbar": {
            "outlinewidth": 0,
            "ticks": ""
           }
          },
          "colorscale": {
           "diverging": [
            [
             0,
             "#8e0152"
            ],
            [
             0.1,
             "#c51b7d"
            ],
            [
             0.2,
             "#de77ae"
            ],
            [
             0.3,
             "#f1b6da"
            ],
            [
             0.4,
             "#fde0ef"
            ],
            [
             0.5,
             "#f7f7f7"
            ],
            [
             0.6,
             "#e6f5d0"
            ],
            [
             0.7,
             "#b8e186"
            ],
            [
             0.8,
             "#7fbc41"
            ],
            [
             0.9,
             "#4d9221"
            ],
            [
             1,
             "#276419"
            ]
           ],
           "sequential": [
            [
             0,
             "#0d0887"
            ],
            [
             0.1111111111111111,
             "#46039f"
            ],
            [
             0.2222222222222222,
             "#7201a8"
            ],
            [
             0.3333333333333333,
             "#9c179e"
            ],
            [
             0.4444444444444444,
             "#bd3786"
            ],
            [
             0.5555555555555556,
             "#d8576b"
            ],
            [
             0.6666666666666666,
             "#ed7953"
            ],
            [
             0.7777777777777778,
             "#fb9f3a"
            ],
            [
             0.8888888888888888,
             "#fdca26"
            ],
            [
             1,
             "#f0f921"
            ]
           ],
           "sequentialminus": [
            [
             0,
             "#0d0887"
            ],
            [
             0.1111111111111111,
             "#46039f"
            ],
            [
             0.2222222222222222,
             "#7201a8"
            ],
            [
             0.3333333333333333,
             "#9c179e"
            ],
            [
             0.4444444444444444,
             "#bd3786"
            ],
            [
             0.5555555555555556,
             "#d8576b"
            ],
            [
             0.6666666666666666,
             "#ed7953"
            ],
            [
             0.7777777777777778,
             "#fb9f3a"
            ],
            [
             0.8888888888888888,
             "#fdca26"
            ],
            [
             1,
             "#f0f921"
            ]
           ]
          },
          "colorway": [
           "#636efa",
           "#EF553B",
           "#00cc96",
           "#ab63fa",
           "#FFA15A",
           "#19d3f3",
           "#FF6692",
           "#B6E880",
           "#FF97FF",
           "#FECB52"
          ],
          "font": {
           "color": "#2a3f5f"
          },
          "geo": {
           "bgcolor": "white",
           "lakecolor": "white",
           "landcolor": "#E5ECF6",
           "showlakes": true,
           "showland": true,
           "subunitcolor": "white"
          },
          "hoverlabel": {
           "align": "left"
          },
          "hovermode": "closest",
          "mapbox": {
           "style": "light"
          },
          "paper_bgcolor": "white",
          "plot_bgcolor": "#E5ECF6",
          "polar": {
           "angularaxis": {
            "gridcolor": "white",
            "linecolor": "white",
            "ticks": ""
           },
           "bgcolor": "#E5ECF6",
           "radialaxis": {
            "gridcolor": "white",
            "linecolor": "white",
            "ticks": ""
           }
          },
          "scene": {
           "xaxis": {
            "backgroundcolor": "#E5ECF6",
            "gridcolor": "white",
            "gridwidth": 2,
            "linecolor": "white",
            "showbackground": true,
            "ticks": "",
            "zerolinecolor": "white"
           },
           "yaxis": {
            "backgroundcolor": "#E5ECF6",
            "gridcolor": "white",
            "gridwidth": 2,
            "linecolor": "white",
            "showbackground": true,
            "ticks": "",
            "zerolinecolor": "white"
           },
           "zaxis": {
            "backgroundcolor": "#E5ECF6",
            "gridcolor": "white",
            "gridwidth": 2,
            "linecolor": "white",
            "showbackground": true,
            "ticks": "",
            "zerolinecolor": "white"
           }
          },
          "shapedefaults": {
           "line": {
            "color": "#2a3f5f"
           }
          },
          "ternary": {
           "aaxis": {
            "gridcolor": "white",
            "linecolor": "white",
            "ticks": ""
           },
           "baxis": {
            "gridcolor": "white",
            "linecolor": "white",
            "ticks": ""
           },
           "bgcolor": "#E5ECF6",
           "caxis": {
            "gridcolor": "white",
            "linecolor": "white",
            "ticks": ""
           }
          },
          "title": {
           "x": 0.05
          },
          "xaxis": {
           "automargin": true,
           "gridcolor": "white",
           "linecolor": "white",
           "ticks": "",
           "title": {
            "standoff": 15
           },
           "zerolinecolor": "white",
           "zerolinewidth": 2
          },
          "yaxis": {
           "automargin": true,
           "gridcolor": "white",
           "linecolor": "white",
           "ticks": "",
           "title": {
            "standoff": 15
           },
           "zerolinecolor": "white",
           "zerolinewidth": 2
          }
         }
        },
        "title": {
         "text": "Sankey Diagram of TTM Protocol Changes (Original to Overall Best Prediction)"
        }
       }
      }
     },
     "metadata": {},
     "output_type": "display_data"
    }
   ],
   "source": [
    "import pandas as pd\n",
    "import plotly.graph_objects as go\n",
    "\n",
    "# Step 1: Create a new column 'Overall_Best_TTM' in combined_predictions_df\n",
    "combined_predictions_df['Overall_Best_TTM'] = combined_predictions_df.apply(\n",
    "    lambda row: row['Best_Prediction_NN'] if row['Best_Prediction_NN'] == row['Best_Prediction_XGB'] else row['Original_TTM'],\n",
    "    axis=1\n",
    ")\n",
    "\n",
    "# Step 2: Define a function to create the Sankey diagram based on 'Overall_Best_TTM'\n",
    "def create_sankey_with_overall_best(data):\n",
    "    # Count the transitions from Original_TTM to Overall_Best_TTM\n",
    "    sankey_data = data.groupby(['Original_TTM', 'Overall_Best_TTM']).size().reset_index(name='count')\n",
    "    \n",
    "    # Calculate total patients in each Original_TTM group\n",
    "    group_totals = sankey_data.groupby('Original_TTM')['count'].transform('sum')\n",
    "    \n",
    "    # Calculate percentage within each Original_TTM group\n",
    "    sankey_data['percentage'] = (sankey_data['count'] / group_totals * 100).round(1)\n",
    "    \n",
    "    # Define unique nodes for original and best protocols\n",
    "    original_nodes = [f\"Original {protocol}\" for protocol in sankey_data['Original_TTM'].unique()]\n",
    "    best_nodes = [f\"Overall Best {protocol}\" for protocol in sankey_data['Overall_Best_TTM'].unique()]\n",
    "    nodes = original_nodes + best_nodes\n",
    "    \n",
    "    # Map each node to a unique index for Sankey\n",
    "    node_map = {node: i for i, node in enumerate(nodes)}\n",
    "    \n",
    "    # Define the sources, targets, values, and labels for the Sankey diagram\n",
    "    sankey_data['source'] = sankey_data['Original_TTM'].map(lambda x: node_map[f\"Original {x}\"])\n",
    "    sankey_data['target'] = sankey_data['Overall_Best_TTM'].map(lambda x: node_map[f\"Overall Best {x}\"])\n",
    "    sources = sankey_data['source'].tolist()\n",
    "    targets = sankey_data['target'].tolist()\n",
    "    values = sankey_data['count'].tolist()\n",
    "    \n",
    "    # Use the group percentage labels for each link\n",
    "    labels = [f\"{percentage}%\" for percentage in sankey_data['percentage']]\n",
    "    \n",
    "    # Create the Sankey diagram\n",
    "    fig = go.Figure(go.Sankey(\n",
    "        node=dict(\n",
    "            pad=15,\n",
    "            thickness=20,\n",
    "            line=dict(color=\"black\", width=0.5),\n",
    "            label=nodes,\n",
    "        ),\n",
    "        link=dict(\n",
    "            source=sources,  # Indices of source nodes\n",
    "            target=targets,  # Indices of target nodes\n",
    "            value=values,    # Flow values between nodes\n",
    "            label=labels     # Group percentage labels on each link\n",
    "        )\n",
    "    ))\n",
    "    \n",
    "    # Add title and display\n",
    "    fig.update_layout(title_text=\"Sankey Diagram of TTM Protocol Changes (Original to Overall Best Prediction)\", font_size=12)\n",
    "    fig.show()\n",
    "\n",
    "# Step 3: Generate the Sankey diagram using the updated DataFrame with 'Overall_Best_TTM'\n",
    "create_sankey_with_overall_best(combined_predictions_df)\n"
   ]
  },
  {
   "cell_type": "code",
   "execution_count": 16,
   "metadata": {},
   "outputs": [
    {
     "data": {
      "text/html": [
       "<div>\n",
       "<style scoped>\n",
       "    .dataframe tbody tr th:only-of-type {\n",
       "        vertical-align: middle;\n",
       "    }\n",
       "\n",
       "    .dataframe tbody tr th {\n",
       "        vertical-align: top;\n",
       "    }\n",
       "\n",
       "    .dataframe thead th {\n",
       "        text-align: right;\n",
       "    }\n",
       "</style>\n",
       "<table border=\"1\" class=\"dataframe\">\n",
       "  <thead>\n",
       "    <tr style=\"text-align: right;\">\n",
       "      <th></th>\n",
       "      <th>36 to 33</th>\n",
       "      <th>33 to No TTM</th>\n",
       "      <th>No TTM to 33</th>\n",
       "    </tr>\n",
       "  </thead>\n",
       "  <tbody>\n",
       "    <tr>\n",
       "      <th>Number of Cases</th>\n",
       "      <td>10</td>\n",
       "      <td>12</td>\n",
       "      <td>1</td>\n",
       "    </tr>\n",
       "    <tr>\n",
       "      <th>age</th>\n",
       "      <td>58.7</td>\n",
       "      <td>72.833333</td>\n",
       "      <td>37.0</td>\n",
       "    </tr>\n",
       "    <tr>\n",
       "      <th>rosc</th>\n",
       "      <td>NaN</td>\n",
       "      <td>36.0</td>\n",
       "      <td>16.0</td>\n",
       "    </tr>\n",
       "    <tr>\n",
       "      <th>sex</th>\n",
       "      <td>Male</td>\n",
       "      <td>Female</td>\n",
       "      <td>Female</td>\n",
       "    </tr>\n",
       "    <tr>\n",
       "      <th>ohca</th>\n",
       "      <td>Unknown</td>\n",
       "      <td>True</td>\n",
       "      <td>False</td>\n",
       "    </tr>\n",
       "    <tr>\n",
       "      <th>ttm</th>\n",
       "      <td>36.0</td>\n",
       "      <td>33.0</td>\n",
       "      <td>No TTM</td>\n",
       "    </tr>\n",
       "    <tr>\n",
       "      <th>shockable_rhythm</th>\n",
       "      <td>Unknown</td>\n",
       "      <td>True</td>\n",
       "      <td>True</td>\n",
       "    </tr>\n",
       "  </tbody>\n",
       "</table>\n",
       "</div>"
      ],
      "text/plain": [
       "                 36 to 33 33 to No TTM No TTM to 33\n",
       "Number of Cases        10           12            1\n",
       "age                  58.7    72.833333         37.0\n",
       "rosc                  NaN         36.0         16.0\n",
       "sex                  Male       Female       Female\n",
       "ohca              Unknown         True        False\n",
       "ttm                  36.0         33.0       No TTM\n",
       "shockable_rhythm  Unknown         True         True"
      ]
     },
     "execution_count": 16,
     "metadata": {},
     "output_type": "execute_result"
    }
   ],
   "source": [
    "import pandas as pd\n",
    "\n",
    "# List of numerical and categorical columns based on `patient_data`\n",
    "numerical_cols = ['age', 'rosc']\n",
    "categorical_cols = ['sex', 'ohca', 'ttm', 'shockable_rhythm']\n",
    "\n",
    "# Ensure `changed_protocol_original` is defined by merging `changed_protocol_df` with `patient_data`\n",
    "changed_protocol_original = changed_protocol_df.merge(\n",
    "    patient_data[['Patient'] + numerical_cols + categorical_cols],\n",
    "    on='Patient',\n",
    "    suffixes=('_standardized', '_original')\n",
    ")\n",
    "\n",
    "# Dictionary to store results for each transition type\n",
    "results = {}\n",
    "\n",
    "# List of protocol transitions to analyze\n",
    "transitions = [\n",
    "    ('33', '36'),\n",
    "    ('36', '33'),\n",
    "    ('33', 'No TTM'),\n",
    "    ('36', 'No TTM'),\n",
    "    ('No TTM', '33'),\n",
    "    ('No TTM', '36')\n",
    "]\n",
    "\n",
    "# Calculate means/modes for each specific transition type using original values\n",
    "for original, best in transitions:\n",
    "    # Filter for the specific transition where both NN and XGB agree on the best prediction\n",
    "    transition_df = changed_protocol_original[\n",
    "        (changed_protocol_original['Original_TTM'] == original) &\n",
    "        (changed_protocol_original['Best_Prediction_NN'] == best) &\n",
    "        (changed_protocol_original['Best_Prediction_XGB'] == best)\n",
    "    ]\n",
    "    \n",
    "    if not transition_df.empty:\n",
    "        # Calculate mean values for numerical features\n",
    "        feature_means_original = transition_df[numerical_cols].mean()\n",
    "        \n",
    "        # Calculate mode for categorical features\n",
    "        feature_modes_original = transition_df[categorical_cols].mode().iloc[0]\n",
    "        \n",
    "        # Count of cases for this transition\n",
    "        num_cases = len(transition_df)\n",
    "        \n",
    "        # Add the count of cases as the first row in the result\n",
    "        combined_features = pd.concat([pd.Series({'Number of Cases': num_cases}), feature_means_original, feature_modes_original])\n",
    "        \n",
    "        # Store the results in a dictionary with the transition name as the key\n",
    "        results[f'{original} to {best}'] = combined_features\n",
    "\n",
    "# Convert the results dictionary to a DataFrame for easier comparison\n",
    "comparison_df = pd.DataFrame(results)\n",
    "\n",
    "# Display the comparison table with original values, including categorical feature modes\n",
    "comparison_df\n"
   ]
  },
  {
   "cell_type": "code",
   "execution_count": 17,
   "metadata": {},
   "outputs": [
    {
     "data": {
      "text/html": [
       "<div>\n",
       "<style scoped>\n",
       "    .dataframe tbody tr th:only-of-type {\n",
       "        vertical-align: middle;\n",
       "    }\n",
       "\n",
       "    .dataframe tbody tr th {\n",
       "        vertical-align: top;\n",
       "    }\n",
       "\n",
       "    .dataframe thead th {\n",
       "        text-align: right;\n",
       "    }\n",
       "</style>\n",
       "<table border=\"1\" class=\"dataframe\">\n",
       "  <thead>\n",
       "    <tr style=\"text-align: right;\">\n",
       "      <th></th>\n",
       "      <th>Patient</th>\n",
       "      <th>Outcome</th>\n",
       "      <th>NN_Pred_TTM_33</th>\n",
       "      <th>NN_Pred_TTM_36</th>\n",
       "      <th>NN_Pred_No_TTM</th>\n",
       "      <th>xgb_Pred_TTM_33</th>\n",
       "      <th>xgb_Pred_TTM_36</th>\n",
       "      <th>xgb_Pred_No_TTM</th>\n",
       "    </tr>\n",
       "  </thead>\n",
       "  <tbody>\n",
       "    <tr>\n",
       "      <th>count</th>\n",
       "      <td>607.000000</td>\n",
       "      <td>607.000000</td>\n",
       "      <td>607.000000</td>\n",
       "      <td>607.000000</td>\n",
       "      <td>607.000000</td>\n",
       "      <td>607.000000</td>\n",
       "      <td>607.000000</td>\n",
       "      <td>607.000000</td>\n",
       "    </tr>\n",
       "    <tr>\n",
       "      <th>mean</th>\n",
       "      <td>668.588138</td>\n",
       "      <td>0.370675</td>\n",
       "      <td>0.571694</td>\n",
       "      <td>0.561554</td>\n",
       "      <td>0.562158</td>\n",
       "      <td>0.368957</td>\n",
       "      <td>0.364796</td>\n",
       "      <td>0.382331</td>\n",
       "    </tr>\n",
       "    <tr>\n",
       "      <th>std</th>\n",
       "      <td>204.331564</td>\n",
       "      <td>0.483384</td>\n",
       "      <td>0.045890</td>\n",
       "      <td>0.034566</td>\n",
       "      <td>0.038561</td>\n",
       "      <td>0.136601</td>\n",
       "      <td>0.133800</td>\n",
       "      <td>0.123572</td>\n",
       "    </tr>\n",
       "    <tr>\n",
       "      <th>min</th>\n",
       "      <td>284.000000</td>\n",
       "      <td>0.000000</td>\n",
       "      <td>0.501261</td>\n",
       "      <td>0.509638</td>\n",
       "      <td>0.505425</td>\n",
       "      <td>0.238660</td>\n",
       "      <td>0.238660</td>\n",
       "      <td>0.258379</td>\n",
       "    </tr>\n",
       "    <tr>\n",
       "      <th>25%</th>\n",
       "      <td>488.500000</td>\n",
       "      <td>0.000000</td>\n",
       "      <td>0.538577</td>\n",
       "      <td>0.537000</td>\n",
       "      <td>0.538749</td>\n",
       "      <td>0.250766</td>\n",
       "      <td>0.251144</td>\n",
       "      <td>0.278793</td>\n",
       "    </tr>\n",
       "    <tr>\n",
       "      <th>50%</th>\n",
       "      <td>673.000000</td>\n",
       "      <td>0.000000</td>\n",
       "      <td>0.557676</td>\n",
       "      <td>0.551873</td>\n",
       "      <td>0.549715</td>\n",
       "      <td>0.321075</td>\n",
       "      <td>0.318803</td>\n",
       "      <td>0.326089</td>\n",
       "    </tr>\n",
       "    <tr>\n",
       "      <th>75%</th>\n",
       "      <td>846.500000</td>\n",
       "      <td>1.000000</td>\n",
       "      <td>0.596398</td>\n",
       "      <td>0.577664</td>\n",
       "      <td>0.575157</td>\n",
       "      <td>0.482250</td>\n",
       "      <td>0.445435</td>\n",
       "      <td>0.452638</td>\n",
       "    </tr>\n",
       "    <tr>\n",
       "      <th>max</th>\n",
       "      <td>1020.000000</td>\n",
       "      <td>1.000000</td>\n",
       "      <td>0.785387</td>\n",
       "      <td>0.743231</td>\n",
       "      <td>0.751571</td>\n",
       "      <td>0.603810</td>\n",
       "      <td>0.603810</td>\n",
       "      <td>0.603810</td>\n",
       "    </tr>\n",
       "  </tbody>\n",
       "</table>\n",
       "</div>"
      ],
      "text/plain": [
       "           Patient     Outcome  NN_Pred_TTM_33  NN_Pred_TTM_36  \\\n",
       "count   607.000000  607.000000      607.000000      607.000000   \n",
       "mean    668.588138    0.370675        0.571694        0.561554   \n",
       "std     204.331564    0.483384        0.045890        0.034566   \n",
       "min     284.000000    0.000000        0.501261        0.509638   \n",
       "25%     488.500000    0.000000        0.538577        0.537000   \n",
       "50%     673.000000    0.000000        0.557676        0.551873   \n",
       "75%     846.500000    1.000000        0.596398        0.577664   \n",
       "max    1020.000000    1.000000        0.785387        0.743231   \n",
       "\n",
       "       NN_Pred_No_TTM  xgb_Pred_TTM_33  xgb_Pred_TTM_36  xgb_Pred_No_TTM  \n",
       "count      607.000000       607.000000       607.000000       607.000000  \n",
       "mean         0.562158         0.368957         0.364796         0.382331  \n",
       "std          0.038561         0.136601         0.133800         0.123572  \n",
       "min          0.505425         0.238660         0.238660         0.258379  \n",
       "25%          0.538749         0.250766         0.251144         0.278793  \n",
       "50%          0.549715         0.321075         0.318803         0.326089  \n",
       "75%          0.575157         0.482250         0.445435         0.452638  \n",
       "max          0.751571         0.603810         0.603810         0.603810  "
      ]
     },
     "execution_count": 17,
     "metadata": {},
     "output_type": "execute_result"
    }
   ],
   "source": [
    "combined_predictions_df.describe()"
   ]
  }
 ],
 "metadata": {
  "kernelspec": {
   "display_name": "env_ttm",
   "language": "python",
   "name": "python3"
  },
  "language_info": {
   "codemirror_mode": {
    "name": "ipython",
    "version": 3
   },
   "file_extension": ".py",
   "mimetype": "text/x-python",
   "name": "python",
   "nbconvert_exporter": "python",
   "pygments_lexer": "ipython3",
   "version": "3.12.0"
  }
 },
 "nbformat": 4,
 "nbformat_minor": 2
}
